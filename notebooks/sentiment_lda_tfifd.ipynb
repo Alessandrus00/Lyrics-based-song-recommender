{
 "cells": [
  {
   "cell_type": "markdown",
   "metadata": {},
   "source": [
    "### Sentiment analysis using Vader"
   ]
  },
  {
   "cell_type": "code",
   "execution_count": 1,
   "metadata": {},
   "outputs": [
    {
     "data": {
      "text/plain": [
       "True"
      ]
     },
     "execution_count": 1,
     "metadata": {},
     "output_type": "execute_result"
    }
   ],
   "source": [
    "import nltk\n",
    "from nltk.sentiment import SentimentIntensityAnalyzer\n",
    "import pandas as pd\n",
    "from tabulate import tabulate\n",
    "import plotly.io as pio\n",
    "import plotly.graph_objects as go\n",
    "from sklearn.feature_extraction.text import TfidfVectorizer\n",
    "from gensim import corpora\n",
    "from gensim.models import LdaModel\n",
    "import warnings\n",
    "from gensim.models import CoherenceModel\n",
    "import pyLDAvis\n",
    "import pyLDAvis.gensim_models as gensimvis\n",
    "import numpy as np\n",
    "from sklearn.metrics.pairwise import cosine_similarity\n",
    "import os\n",
    "\n",
    "# Set the working directory to the previous directory\n",
    "os.chdir('..')\n",
    "\n",
    "nltk.download('vader_lexicon',quiet=True)"
   ]
  },
  {
   "cell_type": "code",
   "execution_count": 2,
   "metadata": {},
   "outputs": [],
   "source": [
    "df = pd.read_csv('./data/lyrics_proc_train.csv')\n",
    "sia = SentimentIntensityAnalyzer()"
   ]
  },
  {
   "cell_type": "code",
   "execution_count": 3,
   "metadata": {},
   "outputs": [
    {
     "name": "stdout",
     "output_type": "stream",
     "text": [
      "+---+-------------------------+-------------+-------+-------+-------+----------+\n",
      "|   |          title          |   artist    |  neg  |  neu  |  pos  | compound |\n",
      "+---+-------------------------+-------------+-------+-------+-------+----------+\n",
      "| 0 |       Let It Rock       |  Bon Jovi   | 0.054 | 0.574 | 0.372 |  0.9648  |\n",
      "| 1 |        Music Box        |   Eminem    | 0.073 | 0.753 | 0.175 |  0.9856  |\n",
      "| 2 |     Redemption Day      | Johnny Cash | 0.242 | 0.527 | 0.23  | -0.4303  |\n",
      "| 3 | Party (Homecoming Live) |   Beyonce   | 0.129 | 0.511 | 0.36  |  0.9726  |\n",
      "| 4 |    I Came To Believe    | Johnny Cash | 0.144 | 0.591 | 0.265 |  0.8126  |\n",
      "+---+-------------------------+-------------+-------+-------+-------+----------+\n"
     ]
    }
   ],
   "source": [
    "\"\"\"\n",
    "apply sentiment analysis:\n",
    "polarity_scores() returns a dictionary with four key sentiment metrics that\n",
    "provide a comprehensive view of the sentiment:\n",
    "\n",
    "- neg (negative): proportion of text that is perceived as negative\n",
    "    range:  0-1   ->  higher values indicate a stronger presence of negative sentiment\n",
    "\n",
    "- neu (neutral): proportion of text that is perceived as neutral\n",
    "    range:  0-1   ->  higher values indicate a stronger presence of neutral sentiment\n",
    "\n",
    "- pos (positive): proportion of text that is perceived as positive\n",
    "    range:  0-1   ->  higher values indicate a stronger presence of positive sentiment\n",
    "\n",
    "-compound: normalized, weighted composite score that summarizes the overall sentiment of the text\n",
    "    range: -1, 1  ->    Values close to 1 indicate extremely positive sentiment.\n",
    "                        Values close to -1 indicate extremely negative sentiment.\n",
    "                        Values around 0 indicate neutral sentiment.\n",
    "\"\"\"\n",
    "\n",
    "df['sentiment'] = df['lyrics_proc'].apply(lambda x: sia.polarity_scores(x))\n",
    "\n",
    "# separate the sentiment scores into individual columns\n",
    "sentiment_df = df['sentiment'].apply(pd.Series)\n",
    "\n",
    "df = pd.concat([df, sentiment_df], axis=1)\n",
    "\n",
    "# Drop the 'sentiment' column\n",
    "df.drop(columns=['sentiment'], inplace=True)\n",
    "\n",
    "columns_to_display = ['title', 'artist', 'neg', 'neu', 'pos', 'compound']\n",
    "\n",
    "print(tabulate(df[columns_to_display].head(), headers='keys', tablefmt='pretty'))"
   ]
  },
  {
   "cell_type": "code",
   "execution_count": 5,
   "metadata": {},
   "outputs": [
    {
     "data": {
      "image/svg+xml": [
       "<svg class=\"main-svg\" xmlns=\"http://www.w3.org/2000/svg\" xmlns:xlink=\"http://www.w3.org/1999/xlink\" width=\"700\" height=\"500\" style=\"\" viewBox=\"0 0 700 500\"><rect x=\"0\" y=\"0\" width=\"700\" height=\"500\" style=\"fill: rgb(255, 255, 255); fill-opacity: 1;\"/><defs id=\"defs-ea8793\"><g class=\"clips\"><clipPath id=\"clipea8793xyplot\" class=\"plotclip\"><rect width=\"540\" height=\"320\"/></clipPath><clipPath class=\"axesclip\" id=\"clipea8793x\"><rect x=\"80\" y=\"0\" width=\"540\" height=\"500\"/></clipPath><clipPath class=\"axesclip\" id=\"clipea8793y\"><rect x=\"0\" y=\"100\" width=\"700\" height=\"320\"/></clipPath><clipPath class=\"axesclip\" id=\"clipea8793xy\"><rect x=\"80\" y=\"100\" width=\"540\" height=\"320\"/></clipPath></g><g class=\"gradients\"/><g class=\"patterns\"/></defs><g class=\"bglayer\"><rect class=\"bg\" x=\"80\" y=\"100\" width=\"540\" height=\"320\" style=\"fill: rgb(229, 236, 246); fill-opacity: 1; stroke-width: 0;\"/></g><g class=\"layer-below\"><g class=\"imagelayer\"/><g class=\"shapelayer\"/></g><g class=\"cartesianlayer\"><g class=\"subplot xy\"><g class=\"layer-subplot\"><g class=\"shapelayer\"/><g class=\"imagelayer\"/></g><g class=\"minor-gridlayer\"><g class=\"x\"/><g class=\"y\"/></g><g class=\"gridlayer\"><g class=\"x\"/><g class=\"y\"><path class=\"ygrid crisp\" transform=\"translate(0,376.63)\" d=\"M80,0h540\" style=\"stroke: rgb(255, 255, 255); stroke-opacity: 1; stroke-width: 1px;\"/><path class=\"ygrid crisp\" transform=\"translate(0,333.27)\" d=\"M80,0h540\" style=\"stroke: rgb(255, 255, 255); stroke-opacity: 1; stroke-width: 1px;\"/><path class=\"ygrid crisp\" transform=\"translate(0,289.9)\" d=\"M80,0h540\" style=\"stroke: rgb(255, 255, 255); stroke-opacity: 1; stroke-width: 1px;\"/><path class=\"ygrid crisp\" transform=\"translate(0,246.54)\" d=\"M80,0h540\" style=\"stroke: rgb(255, 255, 255); stroke-opacity: 1; stroke-width: 1px;\"/><path class=\"ygrid crisp\" transform=\"translate(0,203.17000000000002)\" d=\"M80,0h540\" style=\"stroke: rgb(255, 255, 255); stroke-opacity: 1; stroke-width: 1px;\"/><path class=\"ygrid crisp\" transform=\"translate(0,159.81)\" d=\"M80,0h540\" style=\"stroke: rgb(255, 255, 255); stroke-opacity: 1; stroke-width: 1px;\"/><path class=\"ygrid crisp\" transform=\"translate(0,116.44)\" d=\"M80,0h540\" style=\"stroke: rgb(255, 255, 255); stroke-opacity: 1; stroke-width: 1px;\"/></g></g><g class=\"zerolinelayer\"><path class=\"yzl zl crisp\" transform=\"translate(0,420)\" d=\"M80,0h540\" style=\"stroke: rgb(255, 255, 255); stroke-opacity: 1; stroke-width: 2px;\"/></g><g class=\"layer-between\"><g class=\"shapelayer\"/><g class=\"imagelayer\"/></g><path class=\"xlines-below\"/><path class=\"ylines-below\"/><g class=\"overlines-below\"/><g class=\"xaxislayer-below\"/><g class=\"yaxislayer-below\"/><g class=\"overaxes-below\"/><g class=\"plot\" transform=\"translate(80,100)\" clip-path=\"url(#clipea8793xyplot)\"><g class=\"barlayer mlayer\"><g class=\"trace bars\" style=\"opacity: 1;\"><g class=\"points\"><g class=\"point\"><path d=\"M0.53,320V16H10.06V320Z\" style=\"vector-effect: none; opacity: 1; stroke-width: 0px; fill: rgb(200, 60, 0); fill-opacity: 0.9;\"/></g><g class=\"point\"><path d=\"M11.12,320V175.33H20.65V320Z\" style=\"vector-effect: none; opacity: 1; stroke-width: 0px; fill: rgb(200, 60, 0); fill-opacity: 0.9;\"/></g><g class=\"point\"><path d=\"M21.71,320V108.02H31.24V320Z\" style=\"vector-effect: none; opacity: 1; stroke-width: 0px; fill: rgb(200, 60, 0); fill-opacity: 0.9;\"/></g><g class=\"point\"><path d=\"M32.29,320V123.59H41.82V320Z\" style=\"vector-effect: none; opacity: 1; stroke-width: 0px; fill: rgb(200, 60, 0); fill-opacity: 0.9;\"/></g><g class=\"point\"><path d=\"M42.88,320V129.08H52.41V320Z\" style=\"vector-effect: none; opacity: 1; stroke-width: 0px; fill: rgb(200, 60, 0); fill-opacity: 0.9;\"/></g><g class=\"point\"><path d=\"M53.47,320V159.76H63V320Z\" style=\"vector-effect: none; opacity: 1; stroke-width: 0px; fill: rgb(200, 60, 0); fill-opacity: 0.9;\"/></g><g class=\"point\"><path d=\"M64.06,320V168H73.59V320Z\" style=\"vector-effect: none; opacity: 1; stroke-width: 0px; fill: rgb(200, 60, 0); fill-opacity: 0.9;\"/></g><g class=\"point\"><path d=\"M74.65,320V192.27H84.18V320Z\" style=\"vector-effect: none; opacity: 1; stroke-width: 0px; fill: rgb(200, 60, 0); fill-opacity: 0.9;\"/></g><g class=\"point\"><path d=\"M85.24,320V200.51H94.76V320Z\" style=\"vector-effect: none; opacity: 1; stroke-width: 0px; fill: rgb(200, 60, 0); fill-opacity: 0.9;\"/></g><g class=\"point\"><path d=\"M95.82,320V216.07H105.35V320Z\" style=\"vector-effect: none; opacity: 1; stroke-width: 0px; fill: rgb(200, 60, 0); fill-opacity: 0.9;\"/></g><g class=\"point\"><path d=\"M106.41,320V233.01H115.94V320Z\" style=\"vector-effect: none; opacity: 1; stroke-width: 0px; fill: rgb(200, 60, 0); fill-opacity: 0.9;\"/></g><g class=\"point\"><path d=\"M117,320V254.07H126.53V320Z\" style=\"vector-effect: none; opacity: 1; stroke-width: 0px; fill: rgb(200, 60, 0); fill-opacity: 0.9;\"/></g><g class=\"point\"><path d=\"M127.59,320V260.48H137.12V320Z\" style=\"vector-effect: none; opacity: 1; stroke-width: 0px; fill: rgb(200, 60, 0); fill-opacity: 0.9;\"/></g><g class=\"point\"><path d=\"M138.18,320V274.67H147.71V320Z\" style=\"vector-effect: none; opacity: 1; stroke-width: 0px; fill: rgb(200, 60, 0); fill-opacity: 0.9;\"/></g><g class=\"point\"><path d=\"M148.76,320V280.63H158.29V320Z\" style=\"vector-effect: none; opacity: 1; stroke-width: 0px; fill: rgb(200, 60, 0); fill-opacity: 0.9;\"/></g><g class=\"point\"><path d=\"M159.35,320V282.92H168.88V320Z\" style=\"vector-effect: none; opacity: 1; stroke-width: 0px; fill: rgb(200, 60, 0); fill-opacity: 0.9;\"/></g><g class=\"point\"><path d=\"M169.94,320V291.61H179.47V320Z\" style=\"vector-effect: none; opacity: 1; stroke-width: 0px; fill: rgb(200, 60, 0); fill-opacity: 0.9;\"/></g><g class=\"point\"><path d=\"M180.53,320V302.6H190.06V320Z\" style=\"vector-effect: none; opacity: 1; stroke-width: 0px; fill: rgb(200, 60, 0); fill-opacity: 0.9;\"/></g><g class=\"point\"><path d=\"M191.12,320V305.81H200.65V320Z\" style=\"vector-effect: none; opacity: 1; stroke-width: 0px; fill: rgb(200, 60, 0); fill-opacity: 0.9;\"/></g><g class=\"point\"><path d=\"M201.71,320V303.52H211.24V320Z\" style=\"vector-effect: none; opacity: 1; stroke-width: 0px; fill: rgb(200, 60, 0); fill-opacity: 0.9;\"/></g><g class=\"point\"><path d=\"M212.29,320V312.67H221.82V320Z\" style=\"vector-effect: none; opacity: 1; stroke-width: 0px; fill: rgb(200, 60, 0); fill-opacity: 0.9;\"/></g><g class=\"point\"><path d=\"M222.88,320V314.51H232.41V320Z\" style=\"vector-effect: none; opacity: 1; stroke-width: 0px; fill: rgb(200, 60, 0); fill-opacity: 0.9;\"/></g><g class=\"point\"><path d=\"M233.47,320V309.01H243V320Z\" style=\"vector-effect: none; opacity: 1; stroke-width: 0px; fill: rgb(200, 60, 0); fill-opacity: 0.9;\"/></g><g class=\"point\"><path d=\"M244.06,320V312.67H253.59V320Z\" style=\"vector-effect: none; opacity: 1; stroke-width: 0px; fill: rgb(200, 60, 0); fill-opacity: 0.9;\"/></g><g class=\"point\"><path d=\"M254.65,320V316.8H264.18V320Z\" style=\"vector-effect: none; opacity: 1; stroke-width: 0px; fill: rgb(200, 60, 0); fill-opacity: 0.9;\"/></g><g class=\"point\"><path d=\"M265.24,320V317.71H274.76V320Z\" style=\"vector-effect: none; opacity: 1; stroke-width: 0px; fill: rgb(200, 60, 0); fill-opacity: 0.9;\"/></g><g class=\"point\"><path d=\"M275.82,320V316.34H285.35V320Z\" style=\"vector-effect: none; opacity: 1; stroke-width: 0px; fill: rgb(200, 60, 0); fill-opacity: 0.9;\"/></g><g class=\"point\"><path d=\"M286.41,320V319.54H295.94V320Z\" style=\"vector-effect: none; opacity: 1; stroke-width: 0px; fill: rgb(200, 60, 0); fill-opacity: 0.9;\"/></g><g class=\"point\"><path d=\"M297,320V317.71H306.53V320Z\" style=\"vector-effect: none; opacity: 1; stroke-width: 0px; fill: rgb(200, 60, 0); fill-opacity: 0.9;\"/></g><g class=\"point\"><path d=\"M307.59,320V318.63H317.12V320Z\" style=\"vector-effect: none; opacity: 1; stroke-width: 0px; fill: rgb(200, 60, 0); fill-opacity: 0.9;\"/></g><g class=\"point\"><path d=\"M0,0Z\" style=\"vector-effect: none; opacity: 1; stroke-width: 0px; fill: rgb(200, 60, 0); fill-opacity: 0.9;\"/></g><g class=\"point\"><path d=\"M328.76,320V319.54H338.29V320Z\" style=\"vector-effect: none; opacity: 1; stroke-width: 0px; fill: rgb(200, 60, 0); fill-opacity: 0.9;\"/></g><g class=\"point\"><path d=\"M0,0Z\" style=\"vector-effect: none; opacity: 1; stroke-width: 0px; fill: rgb(200, 60, 0); fill-opacity: 0.9;\"/></g><g class=\"point\"><path d=\"M349.94,320V319.54H359.47V320Z\" style=\"vector-effect: none; opacity: 1; stroke-width: 0px; fill: rgb(200, 60, 0); fill-opacity: 0.9;\"/></g><g class=\"point\"><path d=\"M360.53,320V319.54H370.06V320Z\" style=\"vector-effect: none; opacity: 1; stroke-width: 0px; fill: rgb(200, 60, 0); fill-opacity: 0.9;\"/></g><g class=\"point\"><path d=\"M0,0Z\" style=\"vector-effect: none; opacity: 1; stroke-width: 0px; fill: rgb(200, 60, 0); fill-opacity: 0.9;\"/></g><g class=\"point\"><path d=\"M0,0Z\" style=\"vector-effect: none; opacity: 1; stroke-width: 0px; fill: rgb(200, 60, 0); fill-opacity: 0.9;\"/></g><g class=\"point\"><path d=\"M392.29,320V319.54H401.82V320Z\" style=\"vector-effect: none; opacity: 1; stroke-width: 0px; fill: rgb(200, 60, 0); fill-opacity: 0.9;\"/></g></g></g><g class=\"trace bars\" style=\"opacity: 1;\"><g class=\"points\"><g class=\"point\"><path d=\"M11.12,320V319.54H20.65V320Z\" style=\"vector-effect: none; opacity: 1; stroke-width: 0px; fill: rgb(128, 128, 128); fill-opacity: 1;\"/></g><g class=\"point\"><path d=\"M0,0Z\" style=\"vector-effect: none; opacity: 1; stroke-width: 0px; fill: rgb(128, 128, 128); fill-opacity: 1;\"/></g><g class=\"point\"><path d=\"M0,0Z\" style=\"vector-effect: none; opacity: 1; stroke-width: 0px; fill: rgb(128, 128, 128); fill-opacity: 1;\"/></g><g class=\"point\"><path d=\"M0,0Z\" style=\"vector-effect: none; opacity: 1; stroke-width: 0px; fill: rgb(128, 128, 128); fill-opacity: 1;\"/></g><g class=\"point\"><path d=\"M0,0Z\" style=\"vector-effect: none; opacity: 1; stroke-width: 0px; fill: rgb(128, 128, 128); fill-opacity: 1;\"/></g><g class=\"point\"><path d=\"M64.06,320V318.63H73.59V320Z\" style=\"vector-effect: none; opacity: 1; stroke-width: 0px; fill: rgb(128, 128, 128); fill-opacity: 1;\"/></g><g class=\"point\"><path d=\"M74.65,320V319.54H84.18V320Z\" style=\"vector-effect: none; opacity: 1; stroke-width: 0px; fill: rgb(128, 128, 128); fill-opacity: 1;\"/></g><g class=\"point\"><path d=\"M85.24,320V319.54H94.76V320Z\" style=\"vector-effect: none; opacity: 1; stroke-width: 0px; fill: rgb(128, 128, 128); fill-opacity: 1;\"/></g><g class=\"point\"><path d=\"M95.82,320V319.54H105.35V320Z\" style=\"vector-effect: none; opacity: 1; stroke-width: 0px; fill: rgb(128, 128, 128); fill-opacity: 1;\"/></g><g class=\"point\"><path d=\"M106.41,320V318.63H115.94V320Z\" style=\"vector-effect: none; opacity: 1; stroke-width: 0px; fill: rgb(128, 128, 128); fill-opacity: 1;\"/></g><g class=\"point\"><path d=\"M117,320V318.17H126.53V320Z\" style=\"vector-effect: none; opacity: 1; stroke-width: 0px; fill: rgb(128, 128, 128); fill-opacity: 1;\"/></g><g class=\"point\"><path d=\"M127.59,320V317.71H137.12V320Z\" style=\"vector-effect: none; opacity: 1; stroke-width: 0px; fill: rgb(128, 128, 128); fill-opacity: 1;\"/></g><g class=\"point\"><path d=\"M138.18,320V317.71H147.71V320Z\" style=\"vector-effect: none; opacity: 1; stroke-width: 0px; fill: rgb(128, 128, 128); fill-opacity: 1;\"/></g><g class=\"point\"><path d=\"M148.76,320V313.13H158.29V320Z\" style=\"vector-effect: none; opacity: 1; stroke-width: 0px; fill: rgb(128, 128, 128); fill-opacity: 1;\"/></g><g class=\"point\"><path d=\"M159.35,320V310.39H168.88V320Z\" style=\"vector-effect: none; opacity: 1; stroke-width: 0px; fill: rgb(128, 128, 128); fill-opacity: 1;\"/></g><g class=\"point\"><path d=\"M169.94,320V306.72H179.47V320Z\" style=\"vector-effect: none; opacity: 1; stroke-width: 0px; fill: rgb(128, 128, 128); fill-opacity: 1;\"/></g><g class=\"point\"><path d=\"M180.53,320V299.86H190.06V320Z\" style=\"vector-effect: none; opacity: 1; stroke-width: 0px; fill: rgb(128, 128, 128); fill-opacity: 1;\"/></g><g class=\"point\"><path d=\"M191.12,320V304.43H200.65V320Z\" style=\"vector-effect: none; opacity: 1; stroke-width: 0px; fill: rgb(128, 128, 128); fill-opacity: 1;\"/></g><g class=\"point\"><path d=\"M201.71,320V293.45H211.24V320Z\" style=\"vector-effect: none; opacity: 1; stroke-width: 0px; fill: rgb(128, 128, 128); fill-opacity: 1;\"/></g><g class=\"point\"><path d=\"M212.29,320V292.07H221.82V320Z\" style=\"vector-effect: none; opacity: 1; stroke-width: 0px; fill: rgb(128, 128, 128); fill-opacity: 1;\"/></g><g class=\"point\"><path d=\"M222.88,320V287.04H232.41V320Z\" style=\"vector-effect: none; opacity: 1; stroke-width: 0px; fill: rgb(128, 128, 128); fill-opacity: 1;\"/></g><g class=\"point\"><path d=\"M233.47,320V281.54H243V320Z\" style=\"vector-effect: none; opacity: 1; stroke-width: 0px; fill: rgb(128, 128, 128); fill-opacity: 1;\"/></g><g class=\"point\"><path d=\"M244.06,320V270.55H253.59V320Z\" style=\"vector-effect: none; opacity: 1; stroke-width: 0px; fill: rgb(128, 128, 128); fill-opacity: 1;\"/></g><g class=\"point\"><path d=\"M254.65,320V264.14H264.18V320Z\" style=\"vector-effect: none; opacity: 1; stroke-width: 0px; fill: rgb(128, 128, 128); fill-opacity: 1;\"/></g><g class=\"point\"><path d=\"M265.24,320V249.04H274.76V320Z\" style=\"vector-effect: none; opacity: 1; stroke-width: 0px; fill: rgb(128, 128, 128); fill-opacity: 1;\"/></g><g class=\"point\"><path d=\"M275.82,320V249.49H285.35V320Z\" style=\"vector-effect: none; opacity: 1; stroke-width: 0px; fill: rgb(128, 128, 128); fill-opacity: 1;\"/></g><g class=\"point\"><path d=\"M286.41,320V235.3H295.94V320Z\" style=\"vector-effect: none; opacity: 1; stroke-width: 0px; fill: rgb(128, 128, 128); fill-opacity: 1;\"/></g><g class=\"point\"><path d=\"M297,320V224.31H306.53V320Z\" style=\"vector-effect: none; opacity: 1; stroke-width: 0px; fill: rgb(128, 128, 128); fill-opacity: 1;\"/></g><g class=\"point\"><path d=\"M307.59,320V210.12H317.12V320Z\" style=\"vector-effect: none; opacity: 1; stroke-width: 0px; fill: rgb(128, 128, 128); fill-opacity: 1;\"/></g><g class=\"point\"><path d=\"M318.18,320V203.25H327.71V320Z\" style=\"vector-effect: none; opacity: 1; stroke-width: 0px; fill: rgb(128, 128, 128); fill-opacity: 1;\"/></g><g class=\"point\"><path d=\"M328.76,320V183.57H338.29V320Z\" style=\"vector-effect: none; opacity: 1; stroke-width: 0px; fill: rgb(128, 128, 128); fill-opacity: 1;\"/></g><g class=\"point\"><path d=\"M339.35,320V208.29H348.88V320Z\" style=\"vector-effect: none; opacity: 1; stroke-width: 0px; fill: rgb(128, 128, 128); fill-opacity: 1;\"/></g><g class=\"point\"><path d=\"M349.94,320V199.59H359.47V320Z\" style=\"vector-effect: none; opacity: 1; stroke-width: 0px; fill: rgb(128, 128, 128); fill-opacity: 1;\"/></g><g class=\"point\"><path d=\"M360.53,320V201.42H370.06V320Z\" style=\"vector-effect: none; opacity: 1; stroke-width: 0px; fill: rgb(128, 128, 128); fill-opacity: 1;\"/></g><g class=\"point\"><path d=\"M371.12,320V205.54H380.65V320Z\" style=\"vector-effect: none; opacity: 1; stroke-width: 0px; fill: rgb(128, 128, 128); fill-opacity: 1;\"/></g><g class=\"point\"><path d=\"M381.71,320V206H391.24V320Z\" style=\"vector-effect: none; opacity: 1; stroke-width: 0px; fill: rgb(128, 128, 128); fill-opacity: 1;\"/></g><g class=\"point\"><path d=\"M392.29,320V211.95H401.82V320Z\" style=\"vector-effect: none; opacity: 1; stroke-width: 0px; fill: rgb(128, 128, 128); fill-opacity: 1;\"/></g><g class=\"point\"><path d=\"M402.88,320V227.06H412.41V320Z\" style=\"vector-effect: none; opacity: 1; stroke-width: 0px; fill: rgb(128, 128, 128); fill-opacity: 1;\"/></g><g class=\"point\"><path d=\"M413.47,320V232.55H423V320Z\" style=\"vector-effect: none; opacity: 1; stroke-width: 0px; fill: rgb(128, 128, 128); fill-opacity: 1;\"/></g><g class=\"point\"><path d=\"M424.06,320V259.57H433.59V320Z\" style=\"vector-effect: none; opacity: 1; stroke-width: 0px; fill: rgb(128, 128, 128); fill-opacity: 1;\"/></g><g class=\"point\"><path d=\"M434.65,320V268.72H444.18V320Z\" style=\"vector-effect: none; opacity: 1; stroke-width: 0px; fill: rgb(128, 128, 128); fill-opacity: 1;\"/></g><g class=\"point\"><path d=\"M445.24,320V267.35H454.76V320Z\" style=\"vector-effect: none; opacity: 1; stroke-width: 0px; fill: rgb(128, 128, 128); fill-opacity: 1;\"/></g><g class=\"point\"><path d=\"M455.82,320V278.34H465.35V320Z\" style=\"vector-effect: none; opacity: 1; stroke-width: 0px; fill: rgb(128, 128, 128); fill-opacity: 1;\"/></g><g class=\"point\"><path d=\"M466.41,320V290.7H475.94V320Z\" style=\"vector-effect: none; opacity: 1; stroke-width: 0px; fill: rgb(128, 128, 128); fill-opacity: 1;\"/></g><g class=\"point\"><path d=\"M477,320V301.23H486.53V320Z\" style=\"vector-effect: none; opacity: 1; stroke-width: 0px; fill: rgb(128, 128, 128); fill-opacity: 1;\"/></g><g class=\"point\"><path d=\"M487.59,320V302.14H497.12V320Z\" style=\"vector-effect: none; opacity: 1; stroke-width: 0px; fill: rgb(128, 128, 128); fill-opacity: 1;\"/></g><g class=\"point\"><path d=\"M498.18,320V306.72H507.71V320Z\" style=\"vector-effect: none; opacity: 1; stroke-width: 0px; fill: rgb(128, 128, 128); fill-opacity: 1;\"/></g><g class=\"point\"><path d=\"M508.76,320V310.84H518.29V320Z\" style=\"vector-effect: none; opacity: 1; stroke-width: 0px; fill: rgb(128, 128, 128); fill-opacity: 1;\"/></g><g class=\"point\"><path d=\"M519.35,320V316.8H528.88V320Z\" style=\"vector-effect: none; opacity: 1; stroke-width: 0px; fill: rgb(128, 128, 128); fill-opacity: 1;\"/></g><g class=\"point\"><path d=\"M529.94,320V309.47H539.47V320Z\" style=\"vector-effect: none; opacity: 1; stroke-width: 0px; fill: rgb(128, 128, 128); fill-opacity: 1;\"/></g></g></g><g class=\"trace bars\" style=\"opacity: 1;\"><g class=\"points\"><g class=\"point\"><path d=\"M0.53,320V280.63H10.06V320Z\" style=\"vector-effect: none; opacity: 1; stroke-width: 0px; fill: rgb(0, 200, 60); fill-opacity: 0.9;\"/></g><g class=\"point\"><path d=\"M11.12,320V300.77H20.65V320Z\" style=\"vector-effect: none; opacity: 1; stroke-width: 0px; fill: rgb(0, 200, 60); fill-opacity: 0.9;\"/></g><g class=\"point\"><path d=\"M21.71,320V274.67H31.24V320Z\" style=\"vector-effect: none; opacity: 1; stroke-width: 0px; fill: rgb(0, 200, 60); fill-opacity: 0.9;\"/></g><g class=\"point\"><path d=\"M32.29,320V254.99H41.82V320Z\" style=\"vector-effect: none; opacity: 1; stroke-width: 0px; fill: rgb(0, 200, 60); fill-opacity: 0.9;\"/></g><g class=\"point\"><path d=\"M42.88,320V238.96H52.41V320Z\" style=\"vector-effect: none; opacity: 1; stroke-width: 0px; fill: rgb(0, 200, 60); fill-opacity: 0.9;\"/></g><g class=\"point\"><path d=\"M53.47,320V220.19H63V320Z\" style=\"vector-effect: none; opacity: 1; stroke-width: 0px; fill: rgb(0, 200, 60); fill-opacity: 0.9;\"/></g><g class=\"point\"><path d=\"M64.06,320V184.94H73.59V320Z\" style=\"vector-effect: none; opacity: 1; stroke-width: 0px; fill: rgb(0, 200, 60); fill-opacity: 0.9;\"/></g><g class=\"point\"><path d=\"M74.65,320V182.65H84.18V320Z\" style=\"vector-effect: none; opacity: 1; stroke-width: 0px; fill: rgb(0, 200, 60); fill-opacity: 0.9;\"/></g><g class=\"point\"><path d=\"M85.24,320V188.6H94.76V320Z\" style=\"vector-effect: none; opacity: 1; stroke-width: 0px; fill: rgb(0, 200, 60); fill-opacity: 0.9;\"/></g><g class=\"point\"><path d=\"M95.82,320V180.36H105.35V320Z\" style=\"vector-effect: none; opacity: 1; stroke-width: 0px; fill: rgb(0, 200, 60); fill-opacity: 0.9;\"/></g><g class=\"point\"><path d=\"M106.41,320V176.7H115.94V320Z\" style=\"vector-effect: none; opacity: 1; stroke-width: 0px; fill: rgb(0, 200, 60); fill-opacity: 0.9;\"/></g><g class=\"point\"><path d=\"M117,320V172.58H126.53V320Z\" style=\"vector-effect: none; opacity: 1; stroke-width: 0px; fill: rgb(0, 200, 60); fill-opacity: 0.9;\"/></g><g class=\"point\"><path d=\"M127.59,320V208.29H137.12V320Z\" style=\"vector-effect: none; opacity: 1; stroke-width: 0px; fill: rgb(0, 200, 60); fill-opacity: 0.9;\"/></g><g class=\"point\"><path d=\"M138.18,320V218.36H147.71V320Z\" style=\"vector-effect: none; opacity: 1; stroke-width: 0px; fill: rgb(0, 200, 60); fill-opacity: 0.9;\"/></g><g class=\"point\"><path d=\"M148.76,320V221.11H158.29V320Z\" style=\"vector-effect: none; opacity: 1; stroke-width: 0px; fill: rgb(0, 200, 60); fill-opacity: 0.9;\"/></g><g class=\"point\"><path d=\"M159.35,320V235.3H168.88V320Z\" style=\"vector-effect: none; opacity: 1; stroke-width: 0px; fill: rgb(0, 200, 60); fill-opacity: 0.9;\"/></g><g class=\"point\"><path d=\"M169.94,320V247.66H179.47V320Z\" style=\"vector-effect: none; opacity: 1; stroke-width: 0px; fill: rgb(0, 200, 60); fill-opacity: 0.9;\"/></g><g class=\"point\"><path d=\"M180.53,320V240.8H190.06V320Z\" style=\"vector-effect: none; opacity: 1; stroke-width: 0px; fill: rgb(0, 200, 60); fill-opacity: 0.9;\"/></g><g class=\"point\"><path d=\"M191.12,320V254.07H200.65V320Z\" style=\"vector-effect: none; opacity: 1; stroke-width: 0px; fill: rgb(0, 200, 60); fill-opacity: 0.9;\"/></g><g class=\"point\"><path d=\"M201.71,320V267.35H211.24V320Z\" style=\"vector-effect: none; opacity: 1; stroke-width: 0px; fill: rgb(0, 200, 60); fill-opacity: 0.9;\"/></g><g class=\"point\"><path d=\"M212.29,320V277.88H221.82V320Z\" style=\"vector-effect: none; opacity: 1; stroke-width: 0px; fill: rgb(0, 200, 60); fill-opacity: 0.9;\"/></g><g class=\"point\"><path d=\"M222.88,320V276.96H232.41V320Z\" style=\"vector-effect: none; opacity: 1; stroke-width: 0px; fill: rgb(0, 200, 60); fill-opacity: 0.9;\"/></g><g class=\"point\"><path d=\"M233.47,320V284.29H243V320Z\" style=\"vector-effect: none; opacity: 1; stroke-width: 0px; fill: rgb(0, 200, 60); fill-opacity: 0.9;\"/></g><g class=\"point\"><path d=\"M244.06,320V287.04H253.59V320Z\" style=\"vector-effect: none; opacity: 1; stroke-width: 0px; fill: rgb(0, 200, 60); fill-opacity: 0.9;\"/></g><g class=\"point\"><path d=\"M254.65,320V294.36H264.18V320Z\" style=\"vector-effect: none; opacity: 1; stroke-width: 0px; fill: rgb(0, 200, 60); fill-opacity: 0.9;\"/></g><g class=\"point\"><path d=\"M265.24,320V297.57H274.76V320Z\" style=\"vector-effect: none; opacity: 1; stroke-width: 0px; fill: rgb(0, 200, 60); fill-opacity: 0.9;\"/></g><g class=\"point\"><path d=\"M275.82,320V293.9H285.35V320Z\" style=\"vector-effect: none; opacity: 1; stroke-width: 0px; fill: rgb(0, 200, 60); fill-opacity: 0.9;\"/></g><g class=\"point\"><path d=\"M286.41,320V304.43H295.94V320Z\" style=\"vector-effect: none; opacity: 1; stroke-width: 0px; fill: rgb(0, 200, 60); fill-opacity: 0.9;\"/></g><g class=\"point\"><path d=\"M297,320V306.72H306.53V320Z\" style=\"vector-effect: none; opacity: 1; stroke-width: 0px; fill: rgb(0, 200, 60); fill-opacity: 0.9;\"/></g><g class=\"point\"><path d=\"M307.59,320V305.35H317.12V320Z\" style=\"vector-effect: none; opacity: 1; stroke-width: 0px; fill: rgb(0, 200, 60); fill-opacity: 0.9;\"/></g><g class=\"point\"><path d=\"M318.18,320V308.1H327.71V320Z\" style=\"vector-effect: none; opacity: 1; stroke-width: 0px; fill: rgb(0, 200, 60); fill-opacity: 0.9;\"/></g><g class=\"point\"><path d=\"M328.76,320V311.3H338.29V320Z\" style=\"vector-effect: none; opacity: 1; stroke-width: 0px; fill: rgb(0, 200, 60); fill-opacity: 0.9;\"/></g><g class=\"point\"><path d=\"M339.35,320V314.96H348.88V320Z\" style=\"vector-effect: none; opacity: 1; stroke-width: 0px; fill: rgb(0, 200, 60); fill-opacity: 0.9;\"/></g><g class=\"point\"><path d=\"M349.94,320V313.13H359.47V320Z\" style=\"vector-effect: none; opacity: 1; stroke-width: 0px; fill: rgb(0, 200, 60); fill-opacity: 0.9;\"/></g><g class=\"point\"><path d=\"M360.53,320V316.34H370.06V320Z\" style=\"vector-effect: none; opacity: 1; stroke-width: 0px; fill: rgb(0, 200, 60); fill-opacity: 0.9;\"/></g><g class=\"point\"><path d=\"M371.12,320V316.8H380.65V320Z\" style=\"vector-effect: none; opacity: 1; stroke-width: 0px; fill: rgb(0, 200, 60); fill-opacity: 0.9;\"/></g><g class=\"point\"><path d=\"M381.71,320V318.17H391.24V320Z\" style=\"vector-effect: none; opacity: 1; stroke-width: 0px; fill: rgb(0, 200, 60); fill-opacity: 0.9;\"/></g><g class=\"point\"><path d=\"M392.29,320V319.54H401.82V320Z\" style=\"vector-effect: none; opacity: 1; stroke-width: 0px; fill: rgb(0, 200, 60); fill-opacity: 0.9;\"/></g><g class=\"point\"><path d=\"M402.88,320V318.63H412.41V320Z\" style=\"vector-effect: none; opacity: 1; stroke-width: 0px; fill: rgb(0, 200, 60); fill-opacity: 0.9;\"/></g><g class=\"point\"><path d=\"M0,0Z\" style=\"vector-effect: none; opacity: 1; stroke-width: 0px; fill: rgb(0, 200, 60); fill-opacity: 0.9;\"/></g><g class=\"point\"><path d=\"M424.06,320V319.54H433.59V320Z\" style=\"vector-effect: none; opacity: 1; stroke-width: 0px; fill: rgb(0, 200, 60); fill-opacity: 0.9;\"/></g><g class=\"point\"><path d=\"M434.65,320V319.54H444.18V320Z\" style=\"vector-effect: none; opacity: 1; stroke-width: 0px; fill: rgb(0, 200, 60); fill-opacity: 0.9;\"/></g><g class=\"point\"><path d=\"M445.24,320V319.54H454.76V320Z\" style=\"vector-effect: none; opacity: 1; stroke-width: 0px; fill: rgb(0, 200, 60); fill-opacity: 0.9;\"/></g><g class=\"point\"><path d=\"M0,0Z\" style=\"vector-effect: none; opacity: 1; stroke-width: 0px; fill: rgb(0, 200, 60); fill-opacity: 0.9;\"/></g><g class=\"point\"><path d=\"M466.41,320V318.63H475.94V320Z\" style=\"vector-effect: none; opacity: 1; stroke-width: 0px; fill: rgb(0, 200, 60); fill-opacity: 0.9;\"/></g></g></g></g></g><g class=\"overplot\"/><path class=\"xlines-above crisp\" d=\"M0,0\" style=\"fill: none;\"/><path class=\"ylines-above crisp\" d=\"M0,0\" style=\"fill: none;\"/><g class=\"overlines-above\"/><g class=\"xaxislayer-above\"><g class=\"xtick\"><text text-anchor=\"middle\" x=\"0\" y=\"433\" transform=\"translate(85.29,0)\" style=\"font-family: 'Open Sans', verdana, arial, sans-serif; font-size: 12px; fill: rgb(42, 63, 95); fill-opacity: 1; white-space: pre; opacity: 1;\">0</text></g><g class=\"xtick\"><text text-anchor=\"middle\" x=\"0\" y=\"433\" style=\"font-family: 'Open Sans', verdana, arial, sans-serif; font-size: 12px; fill: rgb(42, 63, 95); fill-opacity: 1; white-space: pre; opacity: 1;\" transform=\"translate(191.18,0)\">0.2</text></g><g class=\"xtick\"><text text-anchor=\"middle\" x=\"0\" y=\"433\" style=\"font-family: 'Open Sans', verdana, arial, sans-serif; font-size: 12px; fill: rgb(42, 63, 95); fill-opacity: 1; white-space: pre; opacity: 1;\" transform=\"translate(297.06,0)\">0.4</text></g><g class=\"xtick\"><text text-anchor=\"middle\" x=\"0\" y=\"433\" style=\"font-family: 'Open Sans', verdana, arial, sans-serif; font-size: 12px; fill: rgb(42, 63, 95); fill-opacity: 1; white-space: pre; opacity: 1;\" transform=\"translate(402.94,0)\">0.6</text></g><g class=\"xtick\"><text text-anchor=\"middle\" x=\"0\" y=\"433\" style=\"font-family: 'Open Sans', verdana, arial, sans-serif; font-size: 12px; fill: rgb(42, 63, 95); fill-opacity: 1; white-space: pre; opacity: 1;\" transform=\"translate(508.82,0)\">0.8</text></g><g class=\"xtick\"><text text-anchor=\"middle\" x=\"0\" y=\"433\" style=\"font-family: 'Open Sans', verdana, arial, sans-serif; font-size: 12px; fill: rgb(42, 63, 95); fill-opacity: 1; white-space: pre; opacity: 1;\" transform=\"translate(614.71,0)\">1</text></g></g><g class=\"yaxislayer-above\"><g class=\"ytick\"><text text-anchor=\"end\" x=\"79\" y=\"4.199999999999999\" transform=\"translate(0,420)\" style=\"font-family: 'Open Sans', verdana, arial, sans-serif; font-size: 12px; fill: rgb(42, 63, 95); fill-opacity: 1; white-space: pre; opacity: 1;\">0</text></g><g class=\"ytick\"><text text-anchor=\"end\" x=\"79\" y=\"4.199999999999999\" style=\"font-family: 'Open Sans', verdana, arial, sans-serif; font-size: 12px; fill: rgb(42, 63, 95); fill-opacity: 1; white-space: pre; opacity: 1;\" transform=\"translate(0,376.63)\">1</text></g><g class=\"ytick\"><text text-anchor=\"end\" x=\"79\" y=\"4.199999999999999\" style=\"font-family: 'Open Sans', verdana, arial, sans-serif; font-size: 12px; fill: rgb(42, 63, 95); fill-opacity: 1; white-space: pre; opacity: 1;\" transform=\"translate(0,333.27)\">2</text></g><g class=\"ytick\"><text text-anchor=\"end\" x=\"79\" y=\"4.199999999999999\" style=\"font-family: 'Open Sans', verdana, arial, sans-serif; font-size: 12px; fill: rgb(42, 63, 95); fill-opacity: 1; white-space: pre; opacity: 1;\" transform=\"translate(0,289.9)\">3</text></g><g class=\"ytick\"><text text-anchor=\"end\" x=\"79\" y=\"4.199999999999999\" style=\"font-family: 'Open Sans', verdana, arial, sans-serif; font-size: 12px; fill: rgb(42, 63, 95); fill-opacity: 1; white-space: pre; opacity: 1;\" transform=\"translate(0,246.54)\">4</text></g><g class=\"ytick\"><text text-anchor=\"end\" x=\"79\" y=\"4.199999999999999\" style=\"font-family: 'Open Sans', verdana, arial, sans-serif; font-size: 12px; fill: rgb(42, 63, 95); fill-opacity: 1; white-space: pre; opacity: 1;\" transform=\"translate(0,203.17000000000002)\">5</text></g><g class=\"ytick\"><text text-anchor=\"end\" x=\"79\" y=\"4.199999999999999\" style=\"font-family: 'Open Sans', verdana, arial, sans-serif; font-size: 12px; fill: rgb(42, 63, 95); fill-opacity: 1; white-space: pre; opacity: 1;\" transform=\"translate(0,159.81)\">6</text></g><g class=\"ytick\"><text text-anchor=\"end\" x=\"79\" y=\"4.199999999999999\" style=\"font-family: 'Open Sans', verdana, arial, sans-serif; font-size: 12px; fill: rgb(42, 63, 95); fill-opacity: 1; white-space: pre; opacity: 1;\" transform=\"translate(0,116.44)\">7</text></g></g><g class=\"overaxes-above\"/></g></g><g class=\"polarlayer\"/><g class=\"smithlayer\"/><g class=\"ternarylayer\"/><g class=\"geolayer\"/><g class=\"funnelarealayer\"/><g class=\"pielayer\"/><g class=\"iciclelayer\"/><g class=\"treemaplayer\"/><g class=\"sunburstlayer\"/><g class=\"glimages\"/><defs id=\"topdefs-ea8793\"><g class=\"clips\"/><clipPath id=\"legendea8793\"><rect width=\"203\" height=\"67\" x=\"1\" y=\"1\"/></clipPath></defs><g class=\"layer-above\"><g class=\"imagelayer\"/><g class=\"shapelayer\"/></g><g class=\"infolayer\"><g class=\"legend\" pointer-events=\"all\" transform=\"translate(414.8,100)\"><rect class=\"bg\" shape-rendering=\"crispEdges\" width=\"204\" height=\"68\" x=\"0.5\" y=\"0.5\" style=\"stroke: rgb(0, 0, 0); stroke-opacity: 0.7; fill: rgb(255, 255, 255); fill-opacity: 0.7; stroke-width: 1px;\"/><g class=\"scrollbox\" transform=\"\" clip-path=\"url(#legendea8793)\"><g class=\"groups\"><g class=\"traces\" transform=\"translate(1,15.5)\" style=\"opacity: 1;\"><text class=\"legendtext\" text-anchor=\"start\" x=\"40\" y=\"4.680000000000001\" style=\"font-family: 'Open Sans', verdana, arial, sans-serif; font-size: 12px; fill: rgb(42, 63, 95); fill-opacity: 1; white-space: pre;\">Negative Sentiment Score</text><g class=\"layers\" style=\"opacity: 1;\"><g class=\"legendfill\"/><g class=\"legendlines\"/><g class=\"legendsymbols\"><g class=\"legendpoints\"><path class=\"legendundefined\" d=\"M6,6H-6V-6H6Z\" transform=\"translate(20,0)\" style=\"stroke-width: 0px; fill: rgb(200, 60, 0); fill-opacity: 0.9;\"/></g></g></g><rect class=\"legendtoggle\" x=\"0\" y=\"-9.5\" width=\"197.125\" height=\"19\" style=\"fill: rgb(0, 0, 0); fill-opacity: 0;\"/></g><g class=\"traces\" transform=\"translate(1,34.5)\" style=\"opacity: 1;\"><text class=\"legendtext\" text-anchor=\"start\" x=\"40\" y=\"4.680000000000001\" style=\"font-family: 'Open Sans', verdana, arial, sans-serif; font-size: 12px; fill: rgb(42, 63, 95); fill-opacity: 1; white-space: pre;\">Neutral Sentiment Score</text><g class=\"layers\" style=\"opacity: 1;\"><g class=\"legendfill\"/><g class=\"legendlines\"/><g class=\"legendsymbols\"><g class=\"legendpoints\"><path class=\"legendundefined\" d=\"M6,6H-6V-6H6Z\" transform=\"translate(20,0)\" style=\"stroke-width: 0px; fill: rgb(128, 128, 128); fill-opacity: 1;\"/></g></g></g><rect class=\"legendtoggle\" x=\"0\" y=\"-9.5\" width=\"197.125\" height=\"19\" style=\"fill: rgb(0, 0, 0); fill-opacity: 0;\"/></g><g class=\"traces\" transform=\"translate(1,53.5)\" style=\"opacity: 1;\"><text class=\"legendtext\" text-anchor=\"start\" x=\"40\" y=\"4.680000000000001\" style=\"font-family: 'Open Sans', verdana, arial, sans-serif; font-size: 12px; fill: rgb(42, 63, 95); fill-opacity: 1; white-space: pre;\">Positive Sentiment Score</text><g class=\"layers\" style=\"opacity: 1;\"><g class=\"legendfill\"/><g class=\"legendlines\"/><g class=\"legendsymbols\"><g class=\"legendpoints\"><path class=\"legendundefined\" d=\"M6,6H-6V-6H6Z\" transform=\"translate(20,0)\" style=\"stroke-width: 0px; fill: rgb(0, 200, 60); fill-opacity: 0.9;\"/></g></g></g><rect class=\"legendtoggle\" x=\"0\" y=\"-9.5\" width=\"197.125\" height=\"19\" style=\"fill: rgb(0, 0, 0); fill-opacity: 0;\"/></g></g></g><rect class=\"scrollbar\" rx=\"20\" ry=\"3\" width=\"0\" height=\"0\" x=\"0\" y=\"0\" style=\"fill: rgb(128, 139, 164); fill-opacity: 1;\"/></g><g class=\"g-gtitle\"><text class=\"gtitle\" x=\"35\" y=\"50\" text-anchor=\"start\" dy=\"0em\" style=\"font-family: 'Open Sans', verdana, arial, sans-serif; font-size: 17px; fill: rgb(42, 63, 95); opacity: 1; white-space: pre;\">Sentiment Score Distribution</text></g><g class=\"g-xtitle\"><text class=\"xtitle\" x=\"350\" y=\"460.3\" text-anchor=\"middle\" style=\"font-family: 'Open Sans', verdana, arial, sans-serif; font-size: 14px; fill: rgb(42, 63, 95); opacity: 1; white-space: pre;\">Sentiment Score</text></g><g class=\"g-ytitle\"><text class=\"ytitle\" transform=\"rotate(-90,51.959375,260)\" x=\"51.959375\" y=\"260\" text-anchor=\"middle\" style=\"font-family: 'Open Sans', verdana, arial, sans-serif; font-size: 14px; fill: rgb(42, 63, 95); opacity: 1; white-space: pre;\">Density</text></g></g></svg>"
      ]
     },
     "metadata": {},
     "output_type": "display_data"
    }
   ],
   "source": [
    "# Create figure\n",
    "fig = go.Figure()\n",
    "\n",
    "# Add subplot for negative scores\n",
    "fig.add_trace(go.Histogram(x=df['neg'], nbinsx=50,histnorm='probability density', name='Negative Sentiment Score',marker_color='rgba(200, 60, 0, 0.9)'))\n",
    "\n",
    "# Add subplot for neutral scores\n",
    "fig.add_trace(go.Histogram(x=df['neu'], nbinsx=50,histnorm='probability density', name='Neutral Sentiment Score',opacity=1,marker_color='grey'))\n",
    "\n",
    "# Add subplot for positive scores\n",
    "fig.add_trace(go.Histogram(x=df['pos'], nbinsx=50,histnorm='probability density', name='Positive Sentiment Score',marker_color='rgba(0, 200, 60, 0.9)'))\n",
    "\n",
    "# Update layout\n",
    "fig.update_layout(\n",
    "    title='Sentiment Score Distribution',\n",
    "    xaxis_title='Sentiment Score',\n",
    "    yaxis_title='Density',\n",
    "    barmode='overlay',\n",
    "    bargap=0.1,\n",
    "    legend=dict(x=0.62, y=1, bgcolor='rgba(255,255,255,0.7)', bordercolor='rgba(0,0,0,0.7)', borderwidth=1),\n",
    ")\n",
    "\n",
    "# Show plot\n",
    "fig.show('svg')\n",
    "# Save plot\n",
    "pio.write_image(fig, './plots/sentiment_score_dist.pdf')"
   ]
  },
  {
   "cell_type": "code",
   "execution_count": 7,
   "metadata": {},
   "outputs": [
    {
     "data": {
      "image/svg+xml": [
       "<svg class=\"main-svg\" xmlns=\"http://www.w3.org/2000/svg\" xmlns:xlink=\"http://www.w3.org/1999/xlink\" width=\"700\" height=\"500\" style=\"\" viewBox=\"0 0 700 500\"><rect x=\"0\" y=\"0\" width=\"700\" height=\"500\" style=\"fill: rgb(255, 255, 255); fill-opacity: 1;\"/><defs id=\"defs-ff1e24\"><g class=\"clips\"><clipPath id=\"clipff1e24xyplot\" class=\"plotclip\"><rect width=\"540\" height=\"320\"/></clipPath><clipPath class=\"axesclip\" id=\"clipff1e24x\"><rect x=\"80\" y=\"0\" width=\"540\" height=\"500\"/></clipPath><clipPath class=\"axesclip\" id=\"clipff1e24y\"><rect x=\"0\" y=\"100\" width=\"700\" height=\"320\"/></clipPath><clipPath class=\"axesclip\" id=\"clipff1e24xy\"><rect x=\"80\" y=\"100\" width=\"540\" height=\"320\"/></clipPath></g><g class=\"gradients\"/><g class=\"patterns\"/></defs><g class=\"bglayer\"><rect class=\"bg\" x=\"80\" y=\"100\" width=\"540\" height=\"320\" style=\"fill: rgb(229, 236, 246); fill-opacity: 1; stroke-width: 0;\"/></g><g class=\"layer-below\"><g class=\"imagelayer\"/><g class=\"shapelayer\"/></g><g class=\"cartesianlayer\"><g class=\"subplot xy\"><g class=\"layer-subplot\"><g class=\"shapelayer\"/><g class=\"imagelayer\"/></g><g class=\"minor-gridlayer\"><g class=\"x\"/><g class=\"y\"/></g><g class=\"gridlayer\"><g class=\"x\"/><g class=\"y\"><path class=\"ygrid crisp\" transform=\"translate(0,381.14)\" d=\"M80,0h540\" style=\"stroke: rgb(255, 255, 255); stroke-opacity: 1; stroke-width: 1px;\"/><path class=\"ygrid crisp\" transform=\"translate(0,342.28)\" d=\"M80,0h540\" style=\"stroke: rgb(255, 255, 255); stroke-opacity: 1; stroke-width: 1px;\"/><path class=\"ygrid crisp\" transform=\"translate(0,303.41999999999996)\" d=\"M80,0h540\" style=\"stroke: rgb(255, 255, 255); stroke-opacity: 1; stroke-width: 1px;\"/><path class=\"ygrid crisp\" transform=\"translate(0,264.56)\" d=\"M80,0h540\" style=\"stroke: rgb(255, 255, 255); stroke-opacity: 1; stroke-width: 1px;\"/><path class=\"ygrid crisp\" transform=\"translate(0,225.7)\" d=\"M80,0h540\" style=\"stroke: rgb(255, 255, 255); stroke-opacity: 1; stroke-width: 1px;\"/><path class=\"ygrid crisp\" transform=\"translate(0,186.84)\" d=\"M80,0h540\" style=\"stroke: rgb(255, 255, 255); stroke-opacity: 1; stroke-width: 1px;\"/><path class=\"ygrid crisp\" transform=\"translate(0,147.98)\" d=\"M80,0h540\" style=\"stroke: rgb(255, 255, 255); stroke-opacity: 1; stroke-width: 1px;\"/><path class=\"ygrid crisp\" transform=\"translate(0,109.12)\" d=\"M80,0h540\" style=\"stroke: rgb(255, 255, 255); stroke-opacity: 1; stroke-width: 1px;\"/></g></g><g class=\"zerolinelayer\"><path class=\"yzl zl crisp\" transform=\"translate(0,420)\" d=\"M80,0h540\" style=\"stroke: rgb(255, 255, 255); stroke-opacity: 1; stroke-width: 2px;\"/></g><g class=\"layer-between\"><g class=\"shapelayer\"/><g class=\"imagelayer\"/></g><path class=\"xlines-below\"/><path class=\"ylines-below\"/><g class=\"overlines-below\"/><g class=\"xaxislayer-below\"/><g class=\"yaxislayer-below\"/><g class=\"overaxes-below\"/><g class=\"plot\" transform=\"translate(80,100)\" clip-path=\"url(#clipff1e24xyplot)\"><g class=\"barlayer mlayer\"><g class=\"trace bars\" shape-rendering=\"crispEdges\" style=\"opacity: 1;\"><g class=\"points\"><g class=\"point\"><path d=\"M0,320V230.15H5.35V320Z\" style=\"vector-effect: none; opacity: 1; stroke-width: 0px; fill: rgb(100, 100, 255); fill-opacity: 0.9;\"/></g><g class=\"point\"><path d=\"M5.35,320V230.15H10.69V320Z\" style=\"vector-effect: none; opacity: 1; stroke-width: 0px; fill: rgb(100, 100, 255); fill-opacity: 0.9;\"/></g><g class=\"point\"><path d=\"M10.69,320V282.67H16.04V320Z\" style=\"vector-effect: none; opacity: 1; stroke-width: 0px; fill: rgb(100, 100, 255); fill-opacity: 0.9;\"/></g><g class=\"point\"><path d=\"M16.04,320V288.41H21.39V320Z\" style=\"vector-effect: none; opacity: 1; stroke-width: 0px; fill: rgb(100, 100, 255); fill-opacity: 0.9;\"/></g><g class=\"point\"><path d=\"M21.39,320V299.9H26.73V320Z\" style=\"vector-effect: none; opacity: 1; stroke-width: 0px; fill: rgb(100, 100, 255); fill-opacity: 0.9;\"/></g><g class=\"point\"><path d=\"M26.73,320V306.05H32.08V320Z\" style=\"vector-effect: none; opacity: 1; stroke-width: 0px; fill: rgb(100, 100, 255); fill-opacity: 0.9;\"/></g><g class=\"point\"><path d=\"M32.08,320V301.95H37.43V320Z\" style=\"vector-effect: none; opacity: 1; stroke-width: 0px; fill: rgb(100, 100, 255); fill-opacity: 0.9;\"/></g><g class=\"point\"><path d=\"M37.43,320V303.18H42.77V320Z\" style=\"vector-effect: none; opacity: 1; stroke-width: 0px; fill: rgb(100, 100, 255); fill-opacity: 0.9;\"/></g><g class=\"point\"><path d=\"M42.77,320V307.69H48.12V320Z\" style=\"vector-effect: none; opacity: 1; stroke-width: 0px; fill: rgb(100, 100, 255); fill-opacity: 0.9;\"/></g><g class=\"point\"><path d=\"M48.12,320V308.51H53.47V320Z\" style=\"vector-effect: none; opacity: 1; stroke-width: 0px; fill: rgb(100, 100, 255); fill-opacity: 0.9;\"/></g><g class=\"point\"><path d=\"M53.47,320V312.62H58.81V320Z\" style=\"vector-effect: none; opacity: 1; stroke-width: 0px; fill: rgb(100, 100, 255); fill-opacity: 0.9;\"/></g><g class=\"point\"><path d=\"M58.81,320V311.79H64.16V320Z\" style=\"vector-effect: none; opacity: 1; stroke-width: 0px; fill: rgb(100, 100, 255); fill-opacity: 0.9;\"/></g><g class=\"point\"><path d=\"M64.16,320V309.74H69.5V320Z\" style=\"vector-effect: none; opacity: 1; stroke-width: 0px; fill: rgb(100, 100, 255); fill-opacity: 0.9;\"/></g><g class=\"point\"><path d=\"M69.5,320V313.85H74.85V320Z\" style=\"vector-effect: none; opacity: 1; stroke-width: 0px; fill: rgb(100, 100, 255); fill-opacity: 0.9;\"/></g><g class=\"point\"><path d=\"M74.85,320V309.74H80.2V320Z\" style=\"vector-effect: none; opacity: 1; stroke-width: 0px; fill: rgb(100, 100, 255); fill-opacity: 0.9;\"/></g><g class=\"point\"><path d=\"M80.2,320V311.38H85.54V320Z\" style=\"vector-effect: none; opacity: 1; stroke-width: 0px; fill: rgb(100, 100, 255); fill-opacity: 0.9;\"/></g><g class=\"point\"><path d=\"M85.54,320V316.31H90.89V320Z\" style=\"vector-effect: none; opacity: 1; stroke-width: 0px; fill: rgb(100, 100, 255); fill-opacity: 0.9;\"/></g><g class=\"point\"><path d=\"M90.89,320V316.31H96.24V320Z\" style=\"vector-effect: none; opacity: 1; stroke-width: 0px; fill: rgb(100, 100, 255); fill-opacity: 0.9;\"/></g><g class=\"point\"><path d=\"M96.24,320V314.67H101.58V320Z\" style=\"vector-effect: none; opacity: 1; stroke-width: 0px; fill: rgb(100, 100, 255); fill-opacity: 0.9;\"/></g><g class=\"point\"><path d=\"M101.58,320V317.13H106.93V320Z\" style=\"vector-effect: none; opacity: 1; stroke-width: 0px; fill: rgb(100, 100, 255); fill-opacity: 0.9;\"/></g><g class=\"point\"><path d=\"M106.93,320V315.49H112.28V320Z\" style=\"vector-effect: none; opacity: 1; stroke-width: 0px; fill: rgb(100, 100, 255); fill-opacity: 0.9;\"/></g><g class=\"point\"><path d=\"M112.28,320V312.62H117.62V320Z\" style=\"vector-effect: none; opacity: 1; stroke-width: 0px; fill: rgb(100, 100, 255); fill-opacity: 0.9;\"/></g><g class=\"point\"><path d=\"M117.62,320V316.31H122.97V320Z\" style=\"vector-effect: none; opacity: 1; stroke-width: 0px; fill: rgb(100, 100, 255); fill-opacity: 0.9;\"/></g><g class=\"point\"><path d=\"M122.97,320V317.54H128.32V320Z\" style=\"vector-effect: none; opacity: 1; stroke-width: 0px; fill: rgb(100, 100, 255); fill-opacity: 0.9;\"/></g><g class=\"point\"><path d=\"M128.32,320V311.38H133.66V320Z\" style=\"vector-effect: none; opacity: 1; stroke-width: 0px; fill: rgb(100, 100, 255); fill-opacity: 0.9;\"/></g><g class=\"point\"><path d=\"M133.66,320V316.31H139.01V320Z\" style=\"vector-effect: none; opacity: 1; stroke-width: 0px; fill: rgb(100, 100, 255); fill-opacity: 0.9;\"/></g><g class=\"point\"><path d=\"M139.01,320V315.08H144.36V320Z\" style=\"vector-effect: none; opacity: 1; stroke-width: 0px; fill: rgb(100, 100, 255); fill-opacity: 0.9;\"/></g><g class=\"point\"><path d=\"M144.36,320V314.67H149.7V320Z\" style=\"vector-effect: none; opacity: 1; stroke-width: 0px; fill: rgb(100, 100, 255); fill-opacity: 0.9;\"/></g><g class=\"point\"><path d=\"M149.7,320V317.13H155.05V320Z\" style=\"vector-effect: none; opacity: 1; stroke-width: 0px; fill: rgb(100, 100, 255); fill-opacity: 0.9;\"/></g><g class=\"point\"><path d=\"M155.05,320V316.72H160.4V320Z\" style=\"vector-effect: none; opacity: 1; stroke-width: 0px; fill: rgb(100, 100, 255); fill-opacity: 0.9;\"/></g><g class=\"point\"><path d=\"M160.4,320V314.26H165.74V320Z\" style=\"vector-effect: none; opacity: 1; stroke-width: 0px; fill: rgb(100, 100, 255); fill-opacity: 0.9;\"/></g><g class=\"point\"><path d=\"M165.74,320V316.31H171.09V320Z\" style=\"vector-effect: none; opacity: 1; stroke-width: 0px; fill: rgb(100, 100, 255); fill-opacity: 0.9;\"/></g><g class=\"point\"><path d=\"M171.09,320V314.26H176.44V320Z\" style=\"vector-effect: none; opacity: 1; stroke-width: 0px; fill: rgb(100, 100, 255); fill-opacity: 0.9;\"/></g><g class=\"point\"><path d=\"M176.44,320V315.49H181.78V320Z\" style=\"vector-effect: none; opacity: 1; stroke-width: 0px; fill: rgb(100, 100, 255); fill-opacity: 0.9;\"/></g><g class=\"point\"><path d=\"M181.78,320V314.67H187.13V320Z\" style=\"vector-effect: none; opacity: 1; stroke-width: 0px; fill: rgb(100, 100, 255); fill-opacity: 0.9;\"/></g><g class=\"point\"><path d=\"M187.13,320V314.26H192.48V320Z\" style=\"vector-effect: none; opacity: 1; stroke-width: 0px; fill: rgb(100, 100, 255); fill-opacity: 0.9;\"/></g><g class=\"point\"><path d=\"M192.48,320V317.54H197.82V320Z\" style=\"vector-effect: none; opacity: 1; stroke-width: 0px; fill: rgb(100, 100, 255); fill-opacity: 0.9;\"/></g><g class=\"point\"><path d=\"M0,0Z\" style=\"vector-effect: none; opacity: 1; stroke-width: 0px; fill: rgb(100, 100, 255); fill-opacity: 0.9;\"/></g><g class=\"point\"><path d=\"M203.17,320V315.9H208.51V320Z\" style=\"vector-effect: none; opacity: 1; stroke-width: 0px; fill: rgb(100, 100, 255); fill-opacity: 0.9;\"/></g><g class=\"point\"><path d=\"M208.51,320V313.85H213.86V320Z\" style=\"vector-effect: none; opacity: 1; stroke-width: 0px; fill: rgb(100, 100, 255); fill-opacity: 0.9;\"/></g><g class=\"point\"><path d=\"M213.86,320V316.31H219.21V320Z\" style=\"vector-effect: none; opacity: 1; stroke-width: 0px; fill: rgb(100, 100, 255); fill-opacity: 0.9;\"/></g><g class=\"point\"><path d=\"M219.21,320V314.67H224.55V320Z\" style=\"vector-effect: none; opacity: 1; stroke-width: 0px; fill: rgb(100, 100, 255); fill-opacity: 0.9;\"/></g><g class=\"point\"><path d=\"M224.55,320V316.72H229.9V320Z\" style=\"vector-effect: none; opacity: 1; stroke-width: 0px; fill: rgb(100, 100, 255); fill-opacity: 0.9;\"/></g><g class=\"point\"><path d=\"M229.9,320V319.18H235.25V320Z\" style=\"vector-effect: none; opacity: 1; stroke-width: 0px; fill: rgb(100, 100, 255); fill-opacity: 0.9;\"/></g><g class=\"point\"><path d=\"M235.25,320V315.9H240.59V320Z\" style=\"vector-effect: none; opacity: 1; stroke-width: 0px; fill: rgb(100, 100, 255); fill-opacity: 0.9;\"/></g><g class=\"point\"><path d=\"M240.59,320V316.72H245.94V320Z\" style=\"vector-effect: none; opacity: 1; stroke-width: 0px; fill: rgb(100, 100, 255); fill-opacity: 0.9;\"/></g><g class=\"point\"><path d=\"M245.94,320V317.13H251.29V320Z\" style=\"vector-effect: none; opacity: 1; stroke-width: 0px; fill: rgb(100, 100, 255); fill-opacity: 0.9;\"/></g><g class=\"point\"><path d=\"M251.29,320V314.67H256.63V320Z\" style=\"vector-effect: none; opacity: 1; stroke-width: 0px; fill: rgb(100, 100, 255); fill-opacity: 0.9;\"/></g><g class=\"point\"><path d=\"M0,0Z\" style=\"vector-effect: none; opacity: 1; stroke-width: 0px; fill: rgb(100, 100, 255); fill-opacity: 0.9;\"/></g><g class=\"point\"><path d=\"M261.98,320V316.31H267.33V320Z\" style=\"vector-effect: none; opacity: 1; stroke-width: 0px; fill: rgb(100, 100, 255); fill-opacity: 0.9;\"/></g><g class=\"point\"><path d=\"M267.33,320V307.69H272.67V320Z\" style=\"vector-effect: none; opacity: 1; stroke-width: 0px; fill: rgb(100, 100, 255); fill-opacity: 0.9;\"/></g><g class=\"point\"><path d=\"M272.67,320V313.03H278.02V320Z\" style=\"vector-effect: none; opacity: 1; stroke-width: 0px; fill: rgb(100, 100, 255); fill-opacity: 0.9;\"/></g><g class=\"point\"><path d=\"M278.02,320V319.59H283.37V320Z\" style=\"vector-effect: none; opacity: 1; stroke-width: 0px; fill: rgb(100, 100, 255); fill-opacity: 0.9;\"/></g><g class=\"point\"><path d=\"M283.37,320V316.72H288.71V320Z\" style=\"vector-effect: none; opacity: 1; stroke-width: 0px; fill: rgb(100, 100, 255); fill-opacity: 0.9;\"/></g><g class=\"point\"><path d=\"M288.71,320V315.08H294.06V320Z\" style=\"vector-effect: none; opacity: 1; stroke-width: 0px; fill: rgb(100, 100, 255); fill-opacity: 0.9;\"/></g><g class=\"point\"><path d=\"M294.06,320V314.26H299.41V320Z\" style=\"vector-effect: none; opacity: 1; stroke-width: 0px; fill: rgb(100, 100, 255); fill-opacity: 0.9;\"/></g><g class=\"point\"><path d=\"M299.41,320V315.49H304.75V320Z\" style=\"vector-effect: none; opacity: 1; stroke-width: 0px; fill: rgb(100, 100, 255); fill-opacity: 0.9;\"/></g><g class=\"point\"><path d=\"M304.75,320V318.36H310.1V320Z\" style=\"vector-effect: none; opacity: 1; stroke-width: 0px; fill: rgb(100, 100, 255); fill-opacity: 0.9;\"/></g><g class=\"point\"><path d=\"M310.1,320V313.85H315.45V320Z\" style=\"vector-effect: none; opacity: 1; stroke-width: 0px; fill: rgb(100, 100, 255); fill-opacity: 0.9;\"/></g><g class=\"point\"><path d=\"M315.45,320V315.9H320.79V320Z\" style=\"vector-effect: none; opacity: 1; stroke-width: 0px; fill: rgb(100, 100, 255); fill-opacity: 0.9;\"/></g><g class=\"point\"><path d=\"M320.79,320V317.95H326.14V320Z\" style=\"vector-effect: none; opacity: 1; stroke-width: 0px; fill: rgb(100, 100, 255); fill-opacity: 0.9;\"/></g><g class=\"point\"><path d=\"M326.14,320V315.49H331.49V320Z\" style=\"vector-effect: none; opacity: 1; stroke-width: 0px; fill: rgb(100, 100, 255); fill-opacity: 0.9;\"/></g><g class=\"point\"><path d=\"M331.49,320V318.77H336.83V320Z\" style=\"vector-effect: none; opacity: 1; stroke-width: 0px; fill: rgb(100, 100, 255); fill-opacity: 0.9;\"/></g><g class=\"point\"><path d=\"M336.83,320V316.72H342.18V320Z\" style=\"vector-effect: none; opacity: 1; stroke-width: 0px; fill: rgb(100, 100, 255); fill-opacity: 0.9;\"/></g><g class=\"point\"><path d=\"M342.18,320V313.85H347.52V320Z\" style=\"vector-effect: none; opacity: 1; stroke-width: 0px; fill: rgb(100, 100, 255); fill-opacity: 0.9;\"/></g><g class=\"point\"><path d=\"M347.52,320V313.85H352.87V320Z\" style=\"vector-effect: none; opacity: 1; stroke-width: 0px; fill: rgb(100, 100, 255); fill-opacity: 0.9;\"/></g><g class=\"point\"><path d=\"M352.87,320V317.13H358.22V320Z\" style=\"vector-effect: none; opacity: 1; stroke-width: 0px; fill: rgb(100, 100, 255); fill-opacity: 0.9;\"/></g><g class=\"point\"><path d=\"M358.22,320V313.03H363.56V320Z\" style=\"vector-effect: none; opacity: 1; stroke-width: 0px; fill: rgb(100, 100, 255); fill-opacity: 0.9;\"/></g><g class=\"point\"><path d=\"M363.56,320V315.9H368.91V320Z\" style=\"vector-effect: none; opacity: 1; stroke-width: 0px; fill: rgb(100, 100, 255); fill-opacity: 0.9;\"/></g><g class=\"point\"><path d=\"M368.91,320V313.85H374.26V320Z\" style=\"vector-effect: none; opacity: 1; stroke-width: 0px; fill: rgb(100, 100, 255); fill-opacity: 0.9;\"/></g><g class=\"point\"><path d=\"M374.26,320V313.44H379.6V320Z\" style=\"vector-effect: none; opacity: 1; stroke-width: 0px; fill: rgb(100, 100, 255); fill-opacity: 0.9;\"/></g><g class=\"point\"><path d=\"M379.6,320V315.49H384.95V320Z\" style=\"vector-effect: none; opacity: 1; stroke-width: 0px; fill: rgb(100, 100, 255); fill-opacity: 0.9;\"/></g><g class=\"point\"><path d=\"M384.95,320V316.31H390.3V320Z\" style=\"vector-effect: none; opacity: 1; stroke-width: 0px; fill: rgb(100, 100, 255); fill-opacity: 0.9;\"/></g><g class=\"point\"><path d=\"M390.3,320V312.21H395.64V320Z\" style=\"vector-effect: none; opacity: 1; stroke-width: 0px; fill: rgb(100, 100, 255); fill-opacity: 0.9;\"/></g><g class=\"point\"><path d=\"M395.64,320V315.08H400.99V320Z\" style=\"vector-effect: none; opacity: 1; stroke-width: 0px; fill: rgb(100, 100, 255); fill-opacity: 0.9;\"/></g><g class=\"point\"><path d=\"M400.99,320V313.85H406.34V320Z\" style=\"vector-effect: none; opacity: 1; stroke-width: 0px; fill: rgb(100, 100, 255); fill-opacity: 0.9;\"/></g><g class=\"point\"><path d=\"M406.34,320V308.1H411.68V320Z\" style=\"vector-effect: none; opacity: 1; stroke-width: 0px; fill: rgb(100, 100, 255); fill-opacity: 0.9;\"/></g><g class=\"point\"><path d=\"M411.68,320V315.08H417.03V320Z\" style=\"vector-effect: none; opacity: 1; stroke-width: 0px; fill: rgb(100, 100, 255); fill-opacity: 0.9;\"/></g><g class=\"point\"><path d=\"M417.03,320V310.97H422.38V320Z\" style=\"vector-effect: none; opacity: 1; stroke-width: 0px; fill: rgb(100, 100, 255); fill-opacity: 0.9;\"/></g><g class=\"point\"><path d=\"M422.38,320V308.51H427.72V320Z\" style=\"vector-effect: none; opacity: 1; stroke-width: 0px; fill: rgb(100, 100, 255); fill-opacity: 0.9;\"/></g><g class=\"point\"><path d=\"M427.72,320V314.67H433.07V320Z\" style=\"vector-effect: none; opacity: 1; stroke-width: 0px; fill: rgb(100, 100, 255); fill-opacity: 0.9;\"/></g><g class=\"point\"><path d=\"M433.07,320V311.38H438.42V320Z\" style=\"vector-effect: none; opacity: 1; stroke-width: 0px; fill: rgb(100, 100, 255); fill-opacity: 0.9;\"/></g><g class=\"point\"><path d=\"M438.42,320V305.64H443.76V320Z\" style=\"vector-effect: none; opacity: 1; stroke-width: 0px; fill: rgb(100, 100, 255); fill-opacity: 0.9;\"/></g><g class=\"point\"><path d=\"M443.76,320V314.26H449.11V320Z\" style=\"vector-effect: none; opacity: 1; stroke-width: 0px; fill: rgb(100, 100, 255); fill-opacity: 0.9;\"/></g><g class=\"point\"><path d=\"M449.11,320V304.82H454.46V320Z\" style=\"vector-effect: none; opacity: 1; stroke-width: 0px; fill: rgb(100, 100, 255); fill-opacity: 0.9;\"/></g><g class=\"point\"><path d=\"M454.46,320V303.18H459.8V320Z\" style=\"vector-effect: none; opacity: 1; stroke-width: 0px; fill: rgb(100, 100, 255); fill-opacity: 0.9;\"/></g><g class=\"point\"><path d=\"M459.8,320V307.69H465.15V320Z\" style=\"vector-effect: none; opacity: 1; stroke-width: 0px; fill: rgb(100, 100, 255); fill-opacity: 0.9;\"/></g><g class=\"point\"><path d=\"M465.15,320V305.64H470.5V320Z\" style=\"vector-effect: none; opacity: 1; stroke-width: 0px; fill: rgb(100, 100, 255); fill-opacity: 0.9;\"/></g><g class=\"point\"><path d=\"M470.5,320V301.54H475.84V320Z\" style=\"vector-effect: none; opacity: 1; stroke-width: 0px; fill: rgb(100, 100, 255); fill-opacity: 0.9;\"/></g><g class=\"point\"><path d=\"M475.84,320V304.41H481.19V320Z\" style=\"vector-effect: none; opacity: 1; stroke-width: 0px; fill: rgb(100, 100, 255); fill-opacity: 0.9;\"/></g><g class=\"point\"><path d=\"M481.19,320V297.03H486.53V320Z\" style=\"vector-effect: none; opacity: 1; stroke-width: 0px; fill: rgb(100, 100, 255); fill-opacity: 0.9;\"/></g><g class=\"point\"><path d=\"M486.53,320V298.67H491.88V320Z\" style=\"vector-effect: none; opacity: 1; stroke-width: 0px; fill: rgb(100, 100, 255); fill-opacity: 0.9;\"/></g><g class=\"point\"><path d=\"M491.88,320V289.64H497.23V320Z\" style=\"vector-effect: none; opacity: 1; stroke-width: 0px; fill: rgb(100, 100, 255); fill-opacity: 0.9;\"/></g><g class=\"point\"><path d=\"M497.23,320V281.03H502.57V320Z\" style=\"vector-effect: none; opacity: 1; stroke-width: 0px; fill: rgb(100, 100, 255); fill-opacity: 0.9;\"/></g><g class=\"point\"><path d=\"M502.57,320V286.77H507.92V320Z\" style=\"vector-effect: none; opacity: 1; stroke-width: 0px; fill: rgb(100, 100, 255); fill-opacity: 0.9;\"/></g><g class=\"point\"><path d=\"M507.92,320V273.23H513.27V320Z\" style=\"vector-effect: none; opacity: 1; stroke-width: 0px; fill: rgb(100, 100, 255); fill-opacity: 0.9;\"/></g><g class=\"point\"><path d=\"M513.27,320V246.15H518.61V320Z\" style=\"vector-effect: none; opacity: 1; stroke-width: 0px; fill: rgb(100, 100, 255); fill-opacity: 0.9;\"/></g><g class=\"point\"><path d=\"M518.61,320V225.23H523.96V320Z\" style=\"vector-effect: none; opacity: 1; stroke-width: 0px; fill: rgb(100, 100, 255); fill-opacity: 0.9;\"/></g><g class=\"point\"><path d=\"M523.96,320V164.51H529.31V320Z\" style=\"vector-effect: none; opacity: 1; stroke-width: 0px; fill: rgb(100, 100, 255); fill-opacity: 0.9;\"/></g><g class=\"point\"><path d=\"M529.31,320V20.51H534.65V320Z\" style=\"vector-effect: none; opacity: 1; stroke-width: 0px; fill: rgb(100, 100, 255); fill-opacity: 0.9;\"/></g><g class=\"point\"><path d=\"M534.65,320V16H540V320Z\" style=\"vector-effect: none; opacity: 1; stroke-width: 0px; fill: rgb(100, 100, 255); fill-opacity: 0.9;\"/></g></g></g></g></g><g class=\"overplot\"/><path class=\"xlines-above crisp\" d=\"M0,0\" style=\"fill: none;\"/><path class=\"ylines-above crisp\" d=\"M0,0\" style=\"fill: none;\"/><g class=\"overlines-above\"/><g class=\"xaxislayer-above\"><g class=\"xtick\"><text text-anchor=\"middle\" x=\"0\" y=\"433\" transform=\"translate(82.67,0)\" style=\"font-family: 'Open Sans', verdana, arial, sans-serif; font-size: 12px; fill: rgb(42, 63, 95); fill-opacity: 1; white-space: pre; opacity: 1;\">−1</text></g><g class=\"xtick\"><text text-anchor=\"middle\" x=\"0\" y=\"433\" style=\"font-family: 'Open Sans', verdana, arial, sans-serif; font-size: 12px; fill: rgb(42, 63, 95); fill-opacity: 1; white-space: pre; opacity: 1;\" transform=\"translate(216.34,0)\">−0.5</text></g><g class=\"xtick\"><text text-anchor=\"middle\" x=\"0\" y=\"433\" style=\"font-family: 'Open Sans', verdana, arial, sans-serif; font-size: 12px; fill: rgb(42, 63, 95); fill-opacity: 1; white-space: pre; opacity: 1;\" transform=\"translate(350,0)\">0</text></g><g class=\"xtick\"><text text-anchor=\"middle\" x=\"0\" y=\"433\" style=\"font-family: 'Open Sans', verdana, arial, sans-serif; font-size: 12px; fill: rgb(42, 63, 95); fill-opacity: 1; white-space: pre; opacity: 1;\" transform=\"translate(483.66,0)\">0.5</text></g><g class=\"xtick\"><text text-anchor=\"middle\" x=\"0\" y=\"433\" style=\"font-family: 'Open Sans', verdana, arial, sans-serif; font-size: 12px; fill: rgb(42, 63, 95); fill-opacity: 1; white-space: pre; opacity: 1;\" transform=\"translate(617.33,0)\">1</text></g></g><g class=\"yaxislayer-above\"><g class=\"ytick\"><text text-anchor=\"end\" x=\"79\" y=\"4.199999999999999\" transform=\"translate(0,420)\" style=\"font-family: 'Open Sans', verdana, arial, sans-serif; font-size: 12px; fill: rgb(42, 63, 95); fill-opacity: 1; white-space: pre; opacity: 1;\">0</text></g><g class=\"ytick\"><text text-anchor=\"end\" x=\"79\" y=\"4.199999999999999\" style=\"font-family: 'Open Sans', verdana, arial, sans-serif; font-size: 12px; fill: rgb(42, 63, 95); fill-opacity: 1; white-space: pre; opacity: 1;\" transform=\"translate(0,381.14)\">1</text></g><g class=\"ytick\"><text text-anchor=\"end\" x=\"79\" y=\"4.199999999999999\" style=\"font-family: 'Open Sans', verdana, arial, sans-serif; font-size: 12px; fill: rgb(42, 63, 95); fill-opacity: 1; white-space: pre; opacity: 1;\" transform=\"translate(0,342.28)\">2</text></g><g class=\"ytick\"><text text-anchor=\"end\" x=\"79\" y=\"4.199999999999999\" style=\"font-family: 'Open Sans', verdana, arial, sans-serif; font-size: 12px; fill: rgb(42, 63, 95); fill-opacity: 1; white-space: pre; opacity: 1;\" transform=\"translate(0,303.41999999999996)\">3</text></g><g class=\"ytick\"><text text-anchor=\"end\" x=\"79\" y=\"4.199999999999999\" style=\"font-family: 'Open Sans', verdana, arial, sans-serif; font-size: 12px; fill: rgb(42, 63, 95); fill-opacity: 1; white-space: pre; opacity: 1;\" transform=\"translate(0,264.56)\">4</text></g><g class=\"ytick\"><text text-anchor=\"end\" x=\"79\" y=\"4.199999999999999\" style=\"font-family: 'Open Sans', verdana, arial, sans-serif; font-size: 12px; fill: rgb(42, 63, 95); fill-opacity: 1; white-space: pre; opacity: 1;\" transform=\"translate(0,225.7)\">5</text></g><g class=\"ytick\"><text text-anchor=\"end\" x=\"79\" y=\"4.199999999999999\" style=\"font-family: 'Open Sans', verdana, arial, sans-serif; font-size: 12px; fill: rgb(42, 63, 95); fill-opacity: 1; white-space: pre; opacity: 1;\" transform=\"translate(0,186.84)\">6</text></g><g class=\"ytick\"><text text-anchor=\"end\" x=\"79\" y=\"4.199999999999999\" style=\"font-family: 'Open Sans', verdana, arial, sans-serif; font-size: 12px; fill: rgb(42, 63, 95); fill-opacity: 1; white-space: pre; opacity: 1;\" transform=\"translate(0,147.98)\">7</text></g><g class=\"ytick\"><text text-anchor=\"end\" x=\"79\" y=\"4.199999999999999\" style=\"font-family: 'Open Sans', verdana, arial, sans-serif; font-size: 12px; fill: rgb(42, 63, 95); fill-opacity: 1; white-space: pre; opacity: 1;\" transform=\"translate(0,109.12)\">8</text></g></g><g class=\"overaxes-above\"/></g></g><g class=\"polarlayer\"/><g class=\"smithlayer\"/><g class=\"ternarylayer\"/><g class=\"geolayer\"/><g class=\"funnelarealayer\"/><g class=\"pielayer\"/><g class=\"iciclelayer\"/><g class=\"treemaplayer\"/><g class=\"sunburstlayer\"/><g class=\"glimages\"/><defs id=\"topdefs-ff1e24\"><g class=\"clips\"/></defs><g class=\"layer-above\"><g class=\"imagelayer\"/><g class=\"shapelayer\"/></g><g class=\"infolayer\"><g class=\"g-gtitle\"><text class=\"gtitle\" x=\"35\" y=\"50\" text-anchor=\"start\" dy=\"0em\" style=\"font-family: 'Open Sans', verdana, arial, sans-serif; font-size: 17px; fill: rgb(42, 63, 95); opacity: 1; white-space: pre;\">Compound Sentiment Score Distribution</text></g><g class=\"g-xtitle\"><text class=\"xtitle\" x=\"350\" y=\"460.3\" text-anchor=\"middle\" style=\"font-family: 'Open Sans', verdana, arial, sans-serif; font-size: 14px; fill: rgb(42, 63, 95); opacity: 1; white-space: pre;\">Compound Sentiment Score</text></g><g class=\"g-ytitle\"><text class=\"ytitle\" transform=\"rotate(-90,51.959375,260)\" x=\"51.959375\" y=\"260\" text-anchor=\"middle\" style=\"font-family: 'Open Sans', verdana, arial, sans-serif; font-size: 14px; fill: rgb(42, 63, 95); opacity: 1; white-space: pre;\">Density</text></g></g></svg>"
      ]
     },
     "metadata": {},
     "output_type": "display_data"
    }
   ],
   "source": [
    "# Create histogram trace\n",
    "histogram_trace = go.Histogram(x=df['compound'], nbinsx=100, histnorm='probability density', name='Compound Sentiment Score', marker_color='rgba(100, 100, 255, 0.9)')\n",
    "\n",
    "# Create figure\n",
    "fig = go.Figure(histogram_trace)\n",
    "\n",
    "# Update layout\n",
    "fig.update_layout(\n",
    "    title='Compound Sentiment Score Distribution',\n",
    "    xaxis_title='Compound Sentiment Score',\n",
    "    yaxis_title='Density',\n",
    ")\n",
    "\n",
    "# Show plot\n",
    "fig.show('svg')\n",
    "# Save plot\n",
    "pio.write_image(fig, './plots/compound_sentiment_score_dist.pdf')"
   ]
  },
  {
   "cell_type": "markdown",
   "metadata": {},
   "source": [
    "### Topic modeling with LDA"
   ]
  },
  {
   "cell_type": "code",
   "execution_count": 8,
   "metadata": {},
   "outputs": [],
   "source": [
    "# Load the trained LDA model\n",
    "lda_model = LdaModel.load('./models/others/lda_model.gensim')\n",
    "\n",
    "# Load the dictionary\n",
    "dictionary = corpora.Dictionary.load('./models/others/dictionary.gensim')\n",
    "\n",
    "# Load the corpus\n",
    "corpus = corpora.MmCorpus('./models/others/corpus.mm')"
   ]
  },
  {
   "cell_type": "code",
   "execution_count": 9,
   "metadata": {},
   "outputs": [
    {
     "name": "stdout",
     "output_type": "stream",
     "text": [
      "(0, '0.028*\"like\" + 0.021*\"nigga\" + 0.016*\"fuck\"')\n",
      "(1, '0.010*\"christma\" + 0.010*\"come\" + 0.009*\"night\"')\n",
      "(2, '0.037*\"love\" + 0.026*\"know\" + 0.016*\"never\"')\n",
      "(3, '0.047*\"babi\" + 0.028*\"girl\" + 0.025*\"want\"')\n",
      "(4, '0.015*\"like\" + 0.011*\"well\" + 0.010*\"come\"')\n"
     ]
    }
   ],
   "source": [
    "# Print the most relevant keywords for each topic\n",
    "topics = lda_model.print_topics(num_topics=lda_model.num_topics, num_words=3)\n",
    "for topic in topics:\n",
    "    print(topic)"
   ]
  },
  {
   "cell_type": "code",
   "execution_count": null,
   "metadata": {},
   "outputs": [],
   "source": [
    "\"\"\"\n",
    "# Measure coherence within a topic\n",
    "coherencemodel = CoherenceModel(model=lda_model, texts=corpus, dictionary=dictionary, coherence='c_v')\n",
    "# Suppress warnings temporarily\n",
    "with warnings.catch_warnings():\n",
    "    warnings.simplefilter(\"ignore\")\n",
    "    #my_function_that_generates_warnings()\n",
    "    print(coherencemodel.get_coherence())\n",
    "\"\"\""
   ]
  },
  {
   "cell_type": "code",
   "execution_count": 12,
   "metadata": {},
   "outputs": [
    {
     "name": "stdout",
     "output_type": "stream",
     "text": [
      "(4, 0.56509906)\n"
     ]
    },
    {
     "data": {
      "text/plain": [
       "['like', 'well', 'come', 'said', 'call']"
      ]
     },
     "execution_count": 12,
     "metadata": {},
     "output_type": "execute_result"
    }
   ],
   "source": [
    "test_lyric = df['lyrics_proc'][0]\n",
    "\n",
    "# Convert the preprocessed test lyric into a bag-of-words representation\n",
    "test_bow = dictionary.doc2bow(test_lyric.split())\n",
    "\n",
    "# Apply the trained LDA model to the test lyric\n",
    "topic_distribution = lda_model.get_document_topics(test_bow)\n",
    "\n",
    "# Get the topic with the highest score\n",
    "highest_topic = max(topic_distribution, key=lambda x: x[1])\n",
    "print(highest_topic)\n",
    "\n",
    "# Get the main keywords for the highest topic\n",
    "main_keywords = lda_model.show_topic(highest_topic[0], topn=5)\n",
    "\n",
    "# Return the representation through the main keywords\n",
    "representation = [keyword[0] for keyword in main_keywords]\n",
    "representation"
   ]
  },
  {
   "cell_type": "code",
   "execution_count": 13,
   "metadata": {},
   "outputs": [
    {
     "data": {
      "text/plain": [
       "0    [(1, 0.17169867), (2, 0.14107515), (3, 0.11908...\n",
       "1    [(0, 0.32622835), (1, 0.3847771), (2, 0.184396...\n",
       "2    [(1, 0.40363222), (2, 0.39864072), (4, 0.19380...\n",
       "3    [(0, 0.23034556), (1, 0.06798923), (2, 0.21058...\n",
       "4                    [(1, 0.29243812), (2, 0.6971464)]\n",
       "Name: lda, dtype: object"
      ]
     },
     "execution_count": 13,
     "metadata": {},
     "output_type": "execute_result"
    }
   ],
   "source": [
    "# Get topic distributions\n",
    "df['lda'] = [lda_model.get_document_topics(bow) for bow in corpus]\n",
    "df.head()['lda']"
   ]
  },
  {
   "cell_type": "code",
   "execution_count": 14,
   "metadata": {},
   "outputs": [
    {
     "name": "stderr",
     "output_type": "stream",
     "text": [
      "/home/aresta/miniconda3/envs/nlp/lib/python3.12/site-packages/joblib/externals/loky/backend/fork_exec.py:38: DeprecationWarning:\n",
      "\n",
      "This process (pid=3052668) is multi-threaded, use of fork() may lead to deadlocks in the child.\n",
      "\n",
      "/home/aresta/miniconda3/envs/nlp/lib/python3.12/site-packages/joblib/externals/loky/backend/fork_exec.py:38: DeprecationWarning:\n",
      "\n",
      "This process (pid=3052668) is multi-threaded, use of fork() may lead to deadlocks in the child.\n",
      "\n",
      "/home/aresta/miniconda3/envs/nlp/lib/python3.12/site-packages/joblib/externals/loky/backend/fork_exec.py:38: DeprecationWarning:\n",
      "\n",
      "This process (pid=3052668) is multi-threaded, use of fork() may lead to deadlocks in the child.\n",
      "\n",
      "/home/aresta/miniconda3/envs/nlp/lib/python3.12/site-packages/joblib/externals/loky/backend/fork_exec.py:38: DeprecationWarning:\n",
      "\n",
      "This process (pid=3052668) is multi-threaded, use of fork() may lead to deadlocks in the child.\n",
      "\n",
      "/home/aresta/miniconda3/envs/nlp/lib/python3.12/site-packages/joblib/externals/loky/backend/fork_exec.py:38: DeprecationWarning:\n",
      "\n",
      "This process (pid=3052668) is multi-threaded, use of fork() may lead to deadlocks in the child.\n",
      "\n",
      "/home/aresta/miniconda3/envs/nlp/lib/python3.12/site-packages/joblib/externals/loky/backend/fork_exec.py:38: DeprecationWarning:\n",
      "\n",
      "This process (pid=3052668) is multi-threaded, use of fork() may lead to deadlocks in the child.\n",
      "\n",
      "/home/aresta/miniconda3/envs/nlp/lib/python3.12/site-packages/joblib/externals/loky/backend/fork_exec.py:38: DeprecationWarning:\n",
      "\n",
      "This process (pid=3052668) is multi-threaded, use of fork() may lead to deadlocks in the child.\n",
      "\n",
      "/home/aresta/miniconda3/envs/nlp/lib/python3.12/site-packages/joblib/externals/loky/backend/fork_exec.py:38: DeprecationWarning:\n",
      "\n",
      "This process (pid=3052668) is multi-threaded, use of fork() may lead to deadlocks in the child.\n",
      "\n",
      "/home/aresta/miniconda3/envs/nlp/lib/python3.12/site-packages/joblib/externals/loky/backend/fork_exec.py:38: DeprecationWarning:\n",
      "\n",
      "This process (pid=3052668) is multi-threaded, use of fork() may lead to deadlocks in the child.\n",
      "\n",
      "/home/aresta/miniconda3/envs/nlp/lib/python3.12/site-packages/joblib/externals/loky/backend/fork_exec.py:38: DeprecationWarning:\n",
      "\n",
      "This process (pid=3052668) is multi-threaded, use of fork() may lead to deadlocks in the child.\n",
      "\n",
      "/home/aresta/miniconda3/envs/nlp/lib/python3.12/site-packages/joblib/externals/loky/backend/fork_exec.py:38: DeprecationWarning:\n",
      "\n",
      "This process (pid=3052668) is multi-threaded, use of fork() may lead to deadlocks in the child.\n",
      "\n",
      "/home/aresta/miniconda3/envs/nlp/lib/python3.12/site-packages/joblib/externals/loky/backend/fork_exec.py:38: DeprecationWarning:\n",
      "\n",
      "This process (pid=3052668) is multi-threaded, use of fork() may lead to deadlocks in the child.\n",
      "\n",
      "/home/aresta/miniconda3/envs/nlp/lib/python3.12/site-packages/joblib/externals/loky/backend/fork_exec.py:38: DeprecationWarning:\n",
      "\n",
      "This process (pid=3052668) is multi-threaded, use of fork() may lead to deadlocks in the child.\n",
      "\n",
      "/home/aresta/miniconda3/envs/nlp/lib/python3.12/site-packages/joblib/externals/loky/backend/fork_exec.py:38: DeprecationWarning:\n",
      "\n",
      "This process (pid=3052668) is multi-threaded, use of fork() may lead to deadlocks in the child.\n",
      "\n",
      "/home/aresta/miniconda3/envs/nlp/lib/python3.12/site-packages/joblib/externals/loky/backend/fork_exec.py:38: DeprecationWarning:\n",
      "\n",
      "This process (pid=3052668) is multi-threaded, use of fork() may lead to deadlocks in the child.\n",
      "\n",
      "/home/aresta/miniconda3/envs/nlp/lib/python3.12/site-packages/joblib/externals/loky/backend/fork_exec.py:38: DeprecationWarning:\n",
      "\n",
      "This process (pid=3052668) is multi-threaded, use of fork() may lead to deadlocks in the child.\n",
      "\n",
      "/home/aresta/miniconda3/envs/nlp/lib/python3.12/site-packages/joblib/externals/loky/backend/fork_exec.py:38: DeprecationWarning:\n",
      "\n",
      "This process (pid=3052668) is multi-threaded, use of fork() may lead to deadlocks in the child.\n",
      "\n"
     ]
    },
    {
     "data": {
      "text/html": [
       "\n",
       "<link rel=\"stylesheet\" type=\"text/css\" href=\"https://cdn.jsdelivr.net/gh/bmabey/pyLDAvis@3.4.0/pyLDAvis/js/ldavis.v1.0.0.css\">\n",
       "\n",
       "\n",
       "<div id=\"ldavis_el30526681403727523825446742206730\" style=\"background-color:white;\"></div>\n",
       "<script type=\"text/javascript\">\n",
       "\n",
       "var ldavis_el30526681403727523825446742206730_data = {\"mdsDat\": {\"x\": [0.05237552887066714, 0.07927628257010633, 0.12328940441745333, -0.22375747101982557, -0.031183744838401077], \"y\": [0.13201311637542443, -0.08332867082515528, 0.07191505010505954, 0.06717103826289754, -0.18777053391822565], \"topics\": [1, 2, 3, 4, 5], \"cluster\": [1, 1, 1, 1, 1], \"Freq\": [42.45143533181569, 27.198916049966005, 13.02653464185366, 10.567891850604735, 6.755222125759919]}, \"tinfo\": {\"Term\": [\"babi\", \"nigga\", \"girl\", \"love\", \"want\", \"fuck\", \"bitch\", \"come\", \"shit\", \"feel\", \"like\", \"night\", \"well\", \"tonight\", \"need\", \"said\", \"christma\", \"light\", \"heart\", \"make\", \"bodi\", \"good\", \"call\", \"take\", \"give\", \"rock\", \"blue\", \"away\", \"danc\", \"know\", \"goodby\", \"anymor\", \"dreamin\", \"regret\", \"crazier\", \"apolog\", \"horizon\", \"etern\", \"masquerad\", \"undon\", \"endless\", \"rescu\", \"defin\", \"greed\", \"shatter\", \"younger\", \"cope\", \"fairytal\", \"dreamer\", \"easili\", \"puls\", \"selfish\", \"lifelin\", \"sentiment\", \"stake\", \"diana\", \"cruel\", \"yesterday\", \"twilight\", \"disguis\", \"forev\", \"meant\", \"alon\", \"pride\", \"moment\", \"suffer\", \"someon\", \"heart\", \"apart\", \"final\", \"shame\", \"fault\", \"wish\", \"without\", \"away\", \"hurt\", \"promis\", \"felt\", \"love\", \"would\", \"never\", \"share\", \"anyway\", \"could\", \"dream\", \"find\", \"alway\", \"lose\", \"late\", \"life\", \"wrong\", \"tear\", \"lone\", \"everyth\", \"hold\", \"time\", \"ever\", \"hope\", \"noth\", \"live\", \"know\", \"fall\", \"thing\", \"feel\", \"chang\", \"take\", \"need\", \"believ\", \"make\", \"still\", \"think\", \"back\", \"give\", \"tell\", \"like\", \"want\", \"keep\", \"everi\", \"come\", \"right\", \"babi\", \"look\", \"nigga\", \"bitch\", \"fuck\", \"fuckin\", \"dick\", \"cash\", \"shit\", \"hood\", \"wrist\", \"hater\", \"rack\", \"rapper\", \"dogg\", \"poppin\", \"dope\", \"boom\", \"stack\", \"niggaz\", \"motherfuckin\", \"groupi\", \"motherfuck\", \"pop\", \"lotta\", \"countin\", \"swap\", \"finna\", \"buck\", \"clip\", \"beef\", \"lyric\", \"baddest\", \"gettin\", \"snoop\", \"bust\", \"uh-huh\", \"pimp\", \"money\", \"tryna\", \"gang\", \"drip\", \"club\", \"check\", \"damn\", \"rich\", \"like\", \"homi\", \"bout\", \"talkin\", \"amma\", \"'bout\", \"pull\", \"smoke\", \"real\", \"back\", \"talk\", \"know\", \"game\", \"caus\", \"kill\", \"whole\", \"make\", \"straight\", \"show\", \"keep\", \"right\", \"call\", \"tell\", \"look\", \"time\", \"better\", \"still\", \"want\", \"take\", \"never\", \"come\", \"even\", \"give\", \"i\\u00e2\\u0080\\u0099ll\", \"you\\u00e2\\u0080\\u0099r\", \"i\\u00e2\\u0080\\u0099v\", \"maria\", \"there\\u00e2\\u0080\\u0099\", \"electr\", \"i\\u00e2\\u0080\\u0099d\", \"simon\", \"it\\u00e2\\u0080\\u0099\", \"sexual\", \"can\\u00e2\\u0080\\u0099t\", \"whoa-oh\", \"uh-oh\", \"smooch\", \"teasin\", \"countdown\", \"ribbon\", \"friendship\", \"she\\u00e2\\u0080\\u0099\", \"wiggl\", \"sai\", \"ordinari\", \"aaah\", \"blood\\u00e2\\u0080\\u00a6\", \"we\\u00e2\\u0080\\u0099v\", \"you\\u00e2\\u0080\\u0099ll\", \"xscape\", \"crave\", \"fadin\", \"you\\u00e2\\u0080\\u0099v\", \"won\\u00e2\\u0080\\u0099t\", \"\\u00e2\\u0080\\u0098caus\", \"don\\u00e2\\u0080\\u0099t\", \"i\\u00e2\\u0080\\u0099m\", \"rhythm\", \"bodi\", \"babi\", \"tonight\", \"spoil\", \"girl\", \"we\\u00e2\\u0080\\u0099r\", \"danc\", \"boyfriend\", \"thank\", \"freak\", \"rage\", \"lovin\", \"want\", \"hair\", \"come\", \"readi\", \"babe\", \"pretti\", \"night\", \"feel\", \"kiss\", \"make\", \"need\", \"right\", \"light\", \"give\", \"show\", \"take\", \"know\", \"love\", \"like\", \"littl\", \"tell\", \"good\", \"thing\", \"look\", \"time\", \"hand\", \"everi\", \"christma\", \"merri\", \"santa\", \"reindeer\", \"rudolph\", \"valley\", \"weep\", \"april\", \"stream\", \"heavenli\", \"tumbl\", \"hallelujah\", \"transform\", \"noel\", \"weari\", \"prof\", \"willow\", \"poompoom\", \"sleigh\", \"swell\", \"terr\", \"dorrain\", \"henri\", \"clau\", \"mistleto\", \"cowboy\", \"eboni\", \"eden\", \"shepherd\", \"jumpman\", \"sunshin\", \"christ\", \"crown\", \"river\", \"mountain\", \"rainbow\", \"spring\", \"snow\", \"papa\", \"tree\", \"bell\", \"born\", \"train\", \"daddi\", \"town\", \"bright\", \"moon\", \"troubl\", \"holi\", \"heaven\", \"earth\", \"rose\", \"fire\", \"blue\", \"evil\", \"upon\", \"rain\", \"along\", \"land\", \"sing\", \"angel\", \"light\", \"song\", \"follow\", \"night\", \"name\", \"burn\", \"come\", \"star\", \"lord\", \"long\", \"gone\", \"littl\", \"said\", \"hear\", \"look\", \"world\", \"well\", \"around\", \"brainwash\", \"africa\", \"alfr\", \"nite\", \"uncork\", \"migrat\", \"\\u00e2\\u0080\\u009ceh\", \"eheh\", \"rita\", \"bossanova\", \"deja\", \"luci\", \"cloreen\", \"eh\\u00e2\\u0080\\u009d\", \"kati\", \"bonni\", \"he\\u00e2\\u0080\\u0099\", \"clyde\", \"elder\", \"garfield\", \"cindi\", \"factual\", \"sued\", \"app\\u00e3\\u00a9tit\", \"runway\", \"startin\", \"superstit\", \"appetit\", \"continent\", \"mucho\", \"satan\", \"cruisin\", \"shout\", \"jesu\", \"unit\", \"shake\", \"hello\", \"planet\", \"rock\", \"gangsta\", \"bacon\", \"either\", \"goin\", \"somethin\", \"lord\", \"wine\", \"well\", \"save\", \"kick\", \"mama\", \"everybodi\", \"movin\", \"said\", \"peopl\", \"tryin\", \"call\", \"line\", \"good\", \"roll\", \"like\", \"come\", \"alright\", \"keep\", \"sound\", \"blue\", \"comin\", \"move\", \"babi\", \"high\", \"back\", \"take\", \"name\", \"make\"], \"Freq\": [5392.0, 3060.0, 3252.0, 10125.0, 4691.0, 2352.0, 2243.0, 4770.0, 1998.0, 4121.0, 9307.0, 2309.0, 1538.0, 1240.0, 3355.0, 2095.0, 581.0, 1434.0, 3036.0, 4546.0, 850.0, 2084.0, 1998.0, 3901.0, 2795.0, 608.0, 778.0, 2600.0, 799.0, 9739.0, 517.7886001700565, 275.7480562132924, 59.72391719389887, 101.23721506953437, 51.19832337706312, 53.58984167359136, 46.850022824282156, 69.1185563565222, 40.97878591347834, 36.493813551103095, 36.53255640021385, 34.71120908951445, 34.39156141462505, 37.16769441991423, 33.18070819103618, 39.956159393094346, 30.390839660548117, 30.207593752160513, 30.254084504320343, 29.96615189040596, 27.76295197837943, 37.83282389220908, 25.854290734437576, 25.148701472382115, 25.250704416310565, 24.51596216879353, 25.157927944709282, 206.56933692285293, 27.6387988331351, 51.83496830389697, 671.3334222988085, 255.28737783872265, 962.7750761731292, 154.556490233765, 325.10563918497604, 76.31421127984085, 630.2187547018214, 2758.7721815782284, 344.57690633953956, 270.8759720770169, 164.22320614674788, 89.79183532379417, 812.9155888034686, 960.4620670714817, 2290.9479812134964, 555.9279663125052, 462.6157958930039, 221.63811487740668, 8443.827222150905, 3050.3628192268425, 3693.742714135935, 274.53852986810864, 193.4469362308272, 2448.8483783892007, 1329.4431877474988, 1387.0698769399864, 1298.7178580435698, 587.8584483302926, 531.1561199773063, 2026.4635357399022, 696.2032576040671, 517.0520559683234, 429.36718353273204, 1070.5249638447942, 1230.9418159206255, 3558.270642658195, 1216.7582192201025, 655.746828379718, 1117.3578239303083, 1392.9982896413633, 5950.034498371884, 1033.8567124575304, 1731.0639702763297, 2629.1500036053885, 854.5203612762903, 2357.2582961076446, 2084.205443318524, 856.0284419303601, 2334.311274304694, 1285.0911502093631, 1396.7188833602856, 1923.063782246955, 1624.7762892716626, 1677.9544819224545, 3274.9657005443146, 2172.1874831750206, 1432.3067490101578, 1266.5592329528672, 1624.9078302624991, 1388.9549777575737, 1549.5439106267704, 1268.5093041381915, 3059.6212202389875, 2242.7417005793404, 2351.8876879450263, 571.8150280793363, 412.4244632864053, 315.5004956701495, 1991.6163872763839, 220.17103144835332, 196.3026946540195, 193.10276848165742, 179.48766438728552, 160.88646905990123, 136.99470429264056, 137.8940240294707, 133.43130277517238, 130.8003892625511, 129.9476093391902, 125.9423145570234, 117.74932515095301, 109.50513084271245, 260.7297739969809, 99.11669601160743, 91.29462387785661, 90.46633139811654, 80.58695514723817, 81.01760435199085, 73.93533326267621, 70.67555981228128, 69.99479008256124, 69.01053753578243, 70.34670950739618, 349.08694702279377, 120.75730770121382, 153.97017601656648, 207.11290135075575, 137.26060580447734, 1052.5741549517045, 508.5822968850081, 201.4691180520917, 131.03587371252806, 204.0944522553325, 235.84748957202171, 484.2802264591431, 235.2100299789779, 4132.863119371421, 211.76308910906133, 208.08896435995237, 241.08877653639044, 179.93971660888056, 372.6631774938515, 378.89597523366467, 269.94986897616656, 537.6663395529217, 1332.62958008368, 645.0518967428791, 2267.9886821583514, 434.75940422179116, 764.8975128236749, 310.4440521654086, 344.8800281322653, 943.6405401954532, 261.1947107492739, 507.8996559933365, 631.2160297147057, 682.3199062277272, 557.4125834651945, 653.2906142711612, 617.0120820615546, 773.5483986283942, 475.64198594980365, 520.4152174779507, 648.591485802088, 570.792604683159, 578.9833726184194, 586.3183274682514, 463.6041432187584, 459.4306489198017, 104.63248241717088, 196.84959762850502, 76.7582194336031, 74.20772972305282, 71.06609752366765, 65.31652275104881, 61.65752834161656, 77.75704809077281, 275.1572765741693, 102.71800899119526, 244.79072150206576, 43.81862726680499, 43.89582443593049, 38.77699534338943, 37.4193154511658, 36.78445722643013, 35.85541497383325, 34.68878631045307, 33.26979472011083, 32.307223975320476, 32.2335971496915, 32.52130545424812, 30.827155981703253, 40.93792681877352, 26.83890224437485, 24.303901072660523, 23.730229737474236, 49.43484919831797, 20.690273555118548, 30.43695733535403, 64.24663095902442, 64.39759203860082, 282.206431827019, 460.21085213023196, 86.80375426377176, 641.1292947234159, 3323.09295771809, 852.3417970243659, 95.62938149379829, 1939.8450029766814, 56.651501643144606, 528.4931702210146, 71.32684513123071, 320.2179987218479, 199.1299033852424, 101.77518459888914, 139.39519632144433, 1752.7521617937605, 232.4140981497822, 1629.8740087603123, 297.2697867424298, 226.70366007080324, 219.45045712957432, 776.4879118387383, 1117.9902810893586, 385.80468087420417, 1049.1483295583637, 810.2928488749047, 737.960185806628, 457.42528854861973, 676.3298616410171, 445.62041120588907, 771.7912467085616, 1259.985473156449, 1237.7737708662905, 1166.9423461894298, 479.96674735490893, 544.912510905775, 446.0066384844866, 401.37758211876996, 394.0962583746664, 400.4884867924918, 316.51476069764834, 304.01308325109096, 580.617207719639, 198.69520920296063, 117.18241459270985, 79.59519347315221, 54.84540893088782, 51.1949202910024, 50.84380802607218, 45.10479149357617, 43.04325308438526, 39.15760404634486, 37.65575714479741, 37.41926885077922, 36.66059878751351, 36.29562992925073, 37.6249267225934, 33.48791695686689, 32.97441298708543, 31.48996152134599, 30.948950188758197, 31.35795871332424, 29.754567615117352, 29.046649731743415, 44.498401208163386, 28.048218111156707, 28.074311264868726, 37.329118000626096, 27.13815298065694, 26.532378506950714, 25.80756148884764, 25.654619422932946, 247.63082755386472, 80.17459427514531, 66.44699938621159, 158.16402967571446, 131.95066155120094, 59.78358474724232, 52.880969586954265, 101.28755422595668, 57.7716830854181, 261.6042757223919, 126.18609298255717, 273.9058233253897, 195.09007816602272, 292.94070592403386, 343.82134646161177, 184.35559375015413, 228.63787990658057, 252.50518801477315, 69.51333003717397, 275.0239913159618, 181.15345254978226, 134.11732283640262, 342.2227723056487, 398.7139322127797, 91.13500025370061, 128.98038424750365, 303.64553842527704, 213.98593006778916, 144.9575874367343, 318.2811817028683, 174.37746553900962, 456.0456502013207, 301.28703602471785, 186.61470314535228, 504.38052846370994, 315.30000237413407, 223.30558127828658, 564.5492959639927, 220.08261867077962, 186.5450151704512, 286.48644152299903, 249.72789381687573, 271.17606779939507, 268.32892627909297, 237.33363252470883, 267.8311246778939, 241.10703452543234, 235.91679419658422, 203.48431874945118, 83.50051941067395, 80.11133637328031, 66.94457307202714, 60.11247248574618, 54.00530609962602, 46.68016028238036, 44.223358660004145, 44.223354415907195, 41.7821710703098, 41.78177636929338, 41.00960537007053, 41.10864986061062, 36.8886339159406, 36.87902952454101, 35.55316939302393, 34.92740064016631, 33.132349224596325, 33.717629292543606, 29.545202406982558, 29.54489258790515, 28.698740612684972, 28.122330707364803, 27.967338408771205, 27.09140772729596, 26.73459588640246, 24.984202980996933, 23.773079888495403, 22.694005506471616, 22.141882445952216, 21.61390829708269, 25.963165482097516, 79.52367324489518, 318.9153994715325, 159.1680316306824, 83.48642052060349, 269.986275238552, 153.82632632650592, 61.834922256827845, 329.11213099434696, 148.47312800778678, 46.55482361123026, 96.66183753553928, 211.76189962787603, 112.0712792798085, 191.6691223630153, 82.8150977531248, 402.89884618604054, 182.98259332277462, 123.69667569457845, 154.56091160313278, 222.66255707094493, 77.72952369992723, 350.6827028174653, 225.63919690833606, 114.33930771391147, 330.0545581868468, 174.37193175962588, 299.3631503943217, 157.2310427587394, 539.3221171548171, 364.3895062352191, 135.84147318237737, 225.0619148410925, 120.8507455550771, 136.54018735157632, 110.17149416173591, 132.49175175843197, 201.09884370849898, 134.52792517611448, 165.0416580938926, 161.73073620427115, 132.32876145913465, 145.88066382637925], \"Total\": [5392.0, 3060.0, 3252.0, 10125.0, 4691.0, 2352.0, 2243.0, 4770.0, 1998.0, 4121.0, 9307.0, 2309.0, 1538.0, 1240.0, 3355.0, 2095.0, 581.0, 1434.0, 3036.0, 4546.0, 850.0, 2084.0, 1998.0, 3901.0, 2795.0, 608.0, 778.0, 2600.0, 799.0, 9739.0, 518.8523688605337, 276.53062231672095, 60.48713519113889, 102.62033212453362, 51.9427667384654, 54.424291389246704, 47.610679499202064, 70.32114400662505, 41.72602546154194, 37.243096849359624, 37.2844511389577, 35.46108121636317, 35.14112792565981, 37.98230761931403, 33.97642268211056, 40.92524748720672, 31.14026660277598, 30.95549518001397, 31.01100745665753, 30.727522150985582, 28.514053588751057, 38.90843889014018, 26.598768620727665, 25.901570751703026, 26.013839562597234, 25.266851009028453, 25.929387294720286, 213.24460556335424, 28.536608796037097, 53.56903659959171, 693.8570896116927, 264.8698690542354, 1019.3164625518584, 161.08606408361368, 342.0042048770886, 79.13072210298489, 668.6932215435155, 3036.0814215328664, 365.87369960875174, 286.80506633483924, 172.2605288440601, 93.42466046590185, 889.0669907565141, 1058.3734754577872, 2600.6050428815947, 605.7483588637527, 503.4925378213843, 237.36370608168454, 10125.802824401437, 3580.106046602446, 4451.389441644543, 298.3174217610427, 208.41598463784467, 2973.2567069313814, 1566.760464791262, 1640.688294168812, 1541.2779280964342, 670.35291479618, 603.8501232570242, 2521.909022672345, 809.5292197470982, 589.9048329546396, 483.2437710139591, 1302.1072941931125, 1523.0690802407662, 4950.4062618246, 1514.9622619000868, 767.2947350952721, 1405.085045513005, 1809.2458144562493, 9739.405016087332, 1309.4594878695204, 2389.6106369399986, 4121.0430882781575, 1068.712211288575, 3901.386169529836, 3355.2567223616306, 1076.4685920279449, 4546.882966539551, 1947.1334500807886, 2213.7486775922084, 3586.246518609238, 2795.292391832891, 3029.8038664406654, 9307.699490914707, 4691.804853363766, 2438.043565413696, 1952.288218946252, 4770.0389686902745, 3016.21052475536, 5392.131159115287, 2650.5754699090735, 3060.375328743424, 2243.4965724309177, 2352.7131551682123, 572.570699433215, 413.1786308703878, 316.29483585311704, 1998.060752552664, 220.93254250085934, 197.06059781370683, 193.8585317612247, 180.24167996503436, 161.6391468506309, 137.74779347302265, 138.65599793155727, 134.1864228623068, 131.55751190196284, 130.71112297286527, 126.69409404201149, 118.50423083684254, 110.25623395350522, 262.695834204185, 99.91637262790536, 92.04810099961404, 91.21799538303135, 81.33944425480308, 81.77643280084203, 74.6928098740296, 71.43067790948531, 70.74751425339677, 69.7666537918863, 71.12020300945575, 358.729142258715, 122.84672631221372, 157.71708032591187, 214.0504943989493, 140.88085078530278, 1183.1545868694268, 579.6771782003548, 219.61321618278626, 137.67110320491724, 230.00189819310862, 272.96448579729986, 644.3911113068193, 274.1098401478146, 9307.699490914707, 241.62062668136002, 237.0259431625803, 289.86772135141103, 198.80080078337323, 535.5710430235, 549.8149051307809, 348.9301442468903, 958.3850990347244, 3586.246518609238, 1281.7392601677536, 9739.405016087332, 751.9893330632242, 1865.4699938518845, 474.6506400025546, 575.2054098365188, 4546.882966539551, 348.68647137461545, 1470.2599376667638, 2438.043565413696, 3016.21052475536, 1998.1849606082822, 3029.8038664406654, 2650.5754699090735, 4950.4062618246, 1435.4010391520426, 1947.1334500807886, 4691.804853363766, 3901.386169529836, 4451.389441644543, 4770.0389686902745, 1522.6146292156716, 2795.292391832891, 105.3918022951717, 198.29269782656596, 77.52233303381851, 74.96445857728173, 71.85326953182172, 66.09726751839521, 62.423001043291094, 78.81456384467955, 279.3346401909861, 104.35432131378262, 248.8813777414879, 44.576798808044884, 44.6562266801528, 39.5324848485594, 38.187580609090936, 37.5431682122892, 36.622895777750415, 35.46576212050212, 34.03726058981827, 33.064402387525945, 32.99279857928051, 33.297893605976846, 31.583292158112048, 42.08059263309862, 27.636297659758274, 25.06592432475472, 24.48804916372637, 51.15341845815247, 21.45053468982963, 31.58746923165032, 66.874486295089, 67.55060856277096, 311.67883276475214, 520.1747277768029, 96.4030445346174, 850.7343142716136, 5392.131159115287, 1240.102812408341, 109.9784763281691, 3252.171272195513, 61.4936031477408, 799.1822681324688, 80.22592652919789, 486.5464071358406, 282.59329439474516, 126.73248487095894, 190.1114025639625, 4691.804853363766, 363.66297843802636, 4770.0389686902745, 524.3779774204878, 385.6157349154712, 377.5441757151066, 2309.752829473794, 4121.0430882781575, 886.7164334601915, 4546.882966539551, 3355.2567223616306, 3016.21052475536, 1434.0548200569099, 2795.292391832891, 1470.2599376667638, 3901.386169529836, 9739.405016087332, 10125.802824401437, 9307.699490914707, 1800.1053884006628, 3029.8038664406654, 2084.414019028609, 2389.6106369399986, 2650.5754699090735, 4950.4062618246, 1265.2119179878118, 1952.288218946252, 581.371744596247, 199.44925646339746, 118.09749488859133, 80.34715201704024, 55.5972331527553, 51.95201627951565, 51.59887944202589, 45.86414534166164, 43.801035456730524, 39.92107934279566, 38.41275623772378, 38.17624114247043, 37.41530153630821, 37.05008565983363, 38.4375626569348, 34.24216286183371, 33.73110458903463, 32.24530812486345, 31.700981596864978, 32.12505993184188, 30.506962597812855, 29.798819183730068, 45.666285185183426, 28.802918841027157, 28.832889705437978, 38.369971716352005, 27.89493735335368, 27.296288858578905, 26.559832366906882, 26.41367733148178, 261.6021956003964, 83.71428590828958, 69.6083437132385, 174.51134963165433, 145.12523226256354, 63.65192831120953, 56.59675905685725, 113.9070223251413, 62.32341629362793, 322.1781274556592, 149.5504987180599, 356.70681919116083, 244.42602877141232, 409.5219039762345, 505.45567465832016, 252.79446485305849, 331.9951639469731, 386.0734084746231, 81.38325787868798, 445.0389738015946, 267.9529580384335, 186.88323193396397, 621.1453623945613, 778.1517709475097, 115.29306336189428, 189.2191526781799, 621.6922918675457, 390.5827566806701, 225.39615001477068, 708.9130567252939, 314.612133138031, 1434.0548200569099, 750.1571344876376, 359.6052771932916, 2309.752829473794, 1026.321716125485, 530.745014590476, 4770.0389686902745, 696.8999173589667, 441.7366219493315, 1556.1357928521147, 1223.3606361445588, 1800.1053884006628, 2095.4659249035644, 1224.9275901498925, 2650.5754699090735, 1653.7096291550545, 1538.5985166757703, 1742.1297548648245, 84.26658176127097, 80.88928389272124, 67.7096105427581, 60.87765769903447, 54.78838785039752, 47.44519826118175, 44.991702762406696, 44.99169851830975, 42.54728530122296, 42.54762585901125, 41.77934052442272, 41.91904098917409, 37.653481640411464, 37.64737521396082, 36.32232537851292, 35.74398408698303, 33.90738741587403, 34.553251356694794, 30.30967190448717, 30.309431011055768, 29.46470272675106, 28.886903421158674, 28.735930443182124, 27.85837141678939, 27.503937240886277, 25.780650905940973, 24.543384071943308, 23.482514296275333, 22.914056990719743, 22.381474057724493, 26.917393980892705, 84.98395008171721, 368.38545832754005, 198.70616312496213, 100.3033060468137, 399.72959248780467, 224.6143208919849, 75.41596130431745, 608.028346039518, 227.4344118050355, 55.035692496118195, 150.97133785550338, 480.94308098055535, 198.83863884955787, 441.7366219493315, 130.83568839446463, 1538.5985166757703, 468.8434145946197, 257.9375598278274, 373.450652585915, 702.3987116772332, 127.34698755865367, 2095.4659249035644, 928.6633845786123, 265.52919429092276, 1998.1849606082822, 622.7748724873346, 2084.414019028609, 584.5244199971961, 9307.699490914707, 4770.0389686902745, 542.8814846802701, 2438.043565413696, 460.49147220290166, 778.1517709475097, 322.35878387780014, 742.2587711374986, 5392.131159115287, 872.3345609530654, 3586.246518609238, 3901.386169529836, 1026.321716125485, 4546.882966539551], \"Category\": [\"Default\", \"Default\", \"Default\", \"Default\", \"Default\", \"Default\", \"Default\", \"Default\", \"Default\", \"Default\", \"Default\", \"Default\", \"Default\", \"Default\", \"Default\", \"Default\", \"Default\", \"Default\", \"Default\", \"Default\", \"Default\", \"Default\", \"Default\", \"Default\", \"Default\", \"Default\", \"Default\", \"Default\", \"Default\", \"Default\", \"Topic1\", \"Topic1\", \"Topic1\", \"Topic1\", \"Topic1\", \"Topic1\", \"Topic1\", \"Topic1\", \"Topic1\", \"Topic1\", \"Topic1\", \"Topic1\", \"Topic1\", \"Topic1\", \"Topic1\", \"Topic1\", \"Topic1\", \"Topic1\", \"Topic1\", \"Topic1\", \"Topic1\", \"Topic1\", \"Topic1\", \"Topic1\", \"Topic1\", \"Topic1\", \"Topic1\", \"Topic1\", \"Topic1\", \"Topic1\", \"Topic1\", \"Topic1\", \"Topic1\", \"Topic1\", \"Topic1\", \"Topic1\", \"Topic1\", \"Topic1\", \"Topic1\", \"Topic1\", \"Topic1\", \"Topic1\", \"Topic1\", \"Topic1\", \"Topic1\", \"Topic1\", \"Topic1\", \"Topic1\", \"Topic1\", \"Topic1\", \"Topic1\", \"Topic1\", \"Topic1\", \"Topic1\", \"Topic1\", \"Topic1\", \"Topic1\", \"Topic1\", \"Topic1\", \"Topic1\", \"Topic1\", \"Topic1\", \"Topic1\", \"Topic1\", \"Topic1\", \"Topic1\", \"Topic1\", \"Topic1\", \"Topic1\", \"Topic1\", \"Topic1\", \"Topic1\", \"Topic1\", \"Topic1\", \"Topic1\", \"Topic1\", \"Topic1\", \"Topic1\", \"Topic1\", \"Topic1\", \"Topic1\", \"Topic1\", \"Topic1\", \"Topic1\", \"Topic1\", \"Topic1\", \"Topic1\", \"Topic1\", \"Topic1\", \"Topic1\", \"Topic1\", \"Topic1\", \"Topic2\", \"Topic2\", \"Topic2\", \"Topic2\", \"Topic2\", \"Topic2\", \"Topic2\", \"Topic2\", \"Topic2\", \"Topic2\", \"Topic2\", \"Topic2\", \"Topic2\", \"Topic2\", \"Topic2\", \"Topic2\", \"Topic2\", \"Topic2\", \"Topic2\", \"Topic2\", \"Topic2\", \"Topic2\", \"Topic2\", \"Topic2\", \"Topic2\", \"Topic2\", \"Topic2\", \"Topic2\", \"Topic2\", \"Topic2\", \"Topic2\", \"Topic2\", \"Topic2\", \"Topic2\", \"Topic2\", \"Topic2\", \"Topic2\", \"Topic2\", \"Topic2\", \"Topic2\", \"Topic2\", \"Topic2\", \"Topic2\", \"Topic2\", \"Topic2\", \"Topic2\", \"Topic2\", \"Topic2\", \"Topic2\", \"Topic2\", \"Topic2\", \"Topic2\", \"Topic2\", \"Topic2\", \"Topic2\", \"Topic2\", \"Topic2\", \"Topic2\", \"Topic2\", \"Topic2\", \"Topic2\", \"Topic2\", \"Topic2\", \"Topic2\", \"Topic2\", \"Topic2\", \"Topic2\", \"Topic2\", \"Topic2\", \"Topic2\", \"Topic2\", \"Topic2\", \"Topic2\", \"Topic2\", \"Topic2\", \"Topic2\", \"Topic2\", \"Topic3\", \"Topic3\", \"Topic3\", \"Topic3\", \"Topic3\", \"Topic3\", \"Topic3\", \"Topic3\", \"Topic3\", \"Topic3\", \"Topic3\", \"Topic3\", \"Topic3\", \"Topic3\", \"Topic3\", \"Topic3\", \"Topic3\", \"Topic3\", \"Topic3\", \"Topic3\", \"Topic3\", \"Topic3\", \"Topic3\", \"Topic3\", \"Topic3\", \"Topic3\", \"Topic3\", \"Topic3\", \"Topic3\", \"Topic3\", \"Topic3\", \"Topic3\", \"Topic3\", \"Topic3\", \"Topic3\", \"Topic3\", \"Topic3\", \"Topic3\", \"Topic3\", \"Topic3\", \"Topic3\", \"Topic3\", \"Topic3\", \"Topic3\", \"Topic3\", \"Topic3\", \"Topic3\", \"Topic3\", \"Topic3\", \"Topic3\", \"Topic3\", \"Topic3\", \"Topic3\", \"Topic3\", \"Topic3\", \"Topic3\", \"Topic3\", \"Topic3\", \"Topic3\", \"Topic3\", \"Topic3\", \"Topic3\", \"Topic3\", \"Topic3\", \"Topic3\", \"Topic3\", \"Topic3\", \"Topic3\", \"Topic3\", \"Topic3\", \"Topic3\", \"Topic3\", \"Topic3\", \"Topic3\", \"Topic4\", \"Topic4\", \"Topic4\", \"Topic4\", \"Topic4\", \"Topic4\", \"Topic4\", \"Topic4\", \"Topic4\", \"Topic4\", \"Topic4\", \"Topic4\", \"Topic4\", \"Topic4\", \"Topic4\", \"Topic4\", \"Topic4\", \"Topic4\", \"Topic4\", \"Topic4\", \"Topic4\", \"Topic4\", \"Topic4\", \"Topic4\", \"Topic4\", \"Topic4\", \"Topic4\", \"Topic4\", \"Topic4\", \"Topic4\", \"Topic4\", \"Topic4\", \"Topic4\", \"Topic4\", \"Topic4\", \"Topic4\", \"Topic4\", \"Topic4\", \"Topic4\", \"Topic4\", \"Topic4\", \"Topic4\", \"Topic4\", \"Topic4\", \"Topic4\", \"Topic4\", \"Topic4\", \"Topic4\", \"Topic4\", \"Topic4\", \"Topic4\", \"Topic4\", \"Topic4\", \"Topic4\", \"Topic4\", \"Topic4\", \"Topic4\", \"Topic4\", \"Topic4\", \"Topic4\", \"Topic4\", \"Topic4\", \"Topic4\", \"Topic4\", \"Topic4\", \"Topic4\", \"Topic4\", \"Topic4\", \"Topic4\", \"Topic4\", \"Topic4\", \"Topic4\", \"Topic4\", \"Topic4\", \"Topic4\", \"Topic4\", \"Topic4\", \"Topic4\", \"Topic4\", \"Topic5\", \"Topic5\", \"Topic5\", \"Topic5\", \"Topic5\", \"Topic5\", \"Topic5\", \"Topic5\", \"Topic5\", \"Topic5\", \"Topic5\", \"Topic5\", \"Topic5\", \"Topic5\", \"Topic5\", \"Topic5\", \"Topic5\", \"Topic5\", \"Topic5\", \"Topic5\", \"Topic5\", \"Topic5\", \"Topic5\", \"Topic5\", \"Topic5\", \"Topic5\", \"Topic5\", \"Topic5\", \"Topic5\", \"Topic5\", \"Topic5\", \"Topic5\", \"Topic5\", \"Topic5\", \"Topic5\", \"Topic5\", \"Topic5\", \"Topic5\", \"Topic5\", \"Topic5\", \"Topic5\", \"Topic5\", \"Topic5\", \"Topic5\", \"Topic5\", \"Topic5\", \"Topic5\", \"Topic5\", \"Topic5\", \"Topic5\", \"Topic5\", \"Topic5\", \"Topic5\", \"Topic5\", \"Topic5\", \"Topic5\", \"Topic5\", \"Topic5\", \"Topic5\", \"Topic5\", \"Topic5\", \"Topic5\", \"Topic5\", \"Topic5\", \"Topic5\", \"Topic5\", \"Topic5\", \"Topic5\", \"Topic5\", \"Topic5\", \"Topic5\", \"Topic5\", \"Topic5\"], \"logprob\": [30.0, 29.0, 28.0, 27.0, 26.0, 25.0, 24.0, 23.0, 22.0, 21.0, 20.0, 19.0, 18.0, 17.0, 16.0, 15.0, 14.0, 13.0, 12.0, 11.0, 10.0, 9.0, 8.0, 7.0, 6.0, 5.0, 4.0, 3.0, 2.0, 1.0, -6.0924, -6.7224, -8.2522, -7.7245, -8.4062, -8.3606, -8.495, -8.1061, -8.6289, -8.7448, -8.7437, -8.7949, -8.8041, -8.7265, -8.84, -8.6541, -8.9278, -8.9338, -8.9323, -8.9419, -9.0182, -8.7087, -9.0894, -9.1171, -9.1131, -9.1426, -9.1167, -7.0113, -9.0227, -8.3939, -5.8327, -6.7995, -5.4721, -7.3014, -6.5578, -8.0071, -5.8959, -4.4194, -6.4996, -6.7403, -7.2407, -7.8444, -5.6413, -5.4745, -4.6052, -6.0213, -6.205, -6.9409, -3.3007, -4.3189, -4.1275, -6.7268, -7.0769, -4.5385, -5.1494, -5.107, -5.1728, -5.9654, -6.0669, -4.7279, -5.7963, -6.0938, -6.2796, -5.366, -5.2264, -4.1649, -5.238, -5.8561, -5.3232, -5.1027, -3.6508, -5.4009, -4.8854, -4.4675, -5.5914, -4.5767, -4.6998, -5.5896, -4.5864, -5.1833, -5.1, -4.7802, -4.9488, -4.9166, -4.2479, -4.6584, -5.0749, -5.1979, -4.9487, -5.1056, -4.9962, -5.1963, -3.8707, -4.1813, -4.1338, -5.5479, -5.8747, -6.1426, -4.3, -6.5023, -6.6171, -6.6335, -6.7066, -6.816, -6.9768, -6.9703, -7.0031, -7.0231, -7.0296, -7.0609, -7.1282, -7.2008, -6.3333, -7.3004, -7.3826, -7.3918, -7.5074, -7.5021, -7.5935, -7.6386, -7.6483, -7.6625, -7.6433, -6.0414, -7.103, -6.86, -6.5635, -6.9749, -4.9377, -5.6651, -6.5911, -7.0213, -6.5782, -6.4336, -5.7141, -6.4363, -3.57, -6.5413, -6.5588, -6.4116, -6.7041, -5.9761, -5.9595, -6.2985, -5.6095, -4.7018, -5.4274, -4.1701, -5.8219, -5.257, -6.1587, -6.0535, -5.047, -6.3315, -5.6665, -5.4491, -5.3712, -5.5734, -5.4147, -5.4718, -5.2457, -5.7321, -5.6421, -5.4219, -5.5497, -5.5355, -5.5229, -5.7577, -5.7667, -6.5101, -5.8781, -6.8199, -6.8537, -6.8969, -6.9813, -7.039, -6.807, -5.5432, -6.5286, -5.6601, -7.3805, -7.3787, -7.5027, -7.5384, -7.5555, -7.5811, -7.6141, -7.6559, -7.6853, -7.6875, -7.6787, -7.7322, -7.4485, -7.8707, -7.9699, -7.9938, -7.2599, -8.1309, -7.7449, -6.9978, -6.9955, -5.5179, -5.0289, -6.6969, -4.6973, -3.0519, -4.4126, -6.6001, -3.5902, -7.1236, -4.8905, -6.8933, -5.3915, -5.8666, -6.5378, -6.2232, -3.6916, -5.712, -3.7643, -5.4659, -5.7369, -5.7694, -4.5058, -4.1413, -5.2052, -4.2048, -4.4632, -4.5567, -5.0349, -4.6439, -5.0611, -4.5118, -4.0217, -4.0395, -4.0984, -4.9868, -4.8599, -5.0602, -5.1656, -5.184, -5.1679, -5.4032, -5.4435, -4.5873, -5.6596, -6.1876, -6.5744, -6.9469, -7.0157, -7.0226, -7.1424, -7.1892, -7.2838, -7.3229, -7.3292, -7.3497, -7.3597, -7.3237, -7.4402, -7.4556, -7.5017, -7.519, -7.5059, -7.5584, -7.5825, -7.1559, -7.6175, -7.6165, -7.3316, -7.6504, -7.673, -7.7007, -7.7067, -5.4394, -6.5672, -6.755, -5.8877, -6.069, -6.8606, -6.9833, -6.3334, -6.8949, -5.3845, -6.1136, -5.3386, -5.6779, -5.2714, -5.1113, -5.7345, -5.5192, -5.4199, -6.7099, -5.3345, -5.752, -6.0527, -5.1159, -4.9631, -6.439, -6.0917, -5.2355, -5.5855, -5.9749, -5.1884, -5.7902, -4.8288, -5.2433, -5.7223, -4.728, -5.1979, -5.5428, -4.6154, -5.5574, -5.7227, -5.2937, -5.431, -5.3486, -5.3592, -5.4819, -5.361, -5.4661, -5.4879, -5.6358, -6.079, -6.1205, -6.3, -6.4077, -6.5148, -6.6606, -6.7146, -6.7146, -6.7714, -6.7714, -6.7901, -6.7877, -6.896, -6.8962, -6.9328, -6.9506, -7.0034, -6.9859, -7.118, -7.118, -7.147, -7.1673, -7.1728, -7.2047, -7.2179, -7.2856, -7.3353, -7.3818, -7.4064, -7.4305, -7.2472, -6.1278, -4.7389, -5.4339, -6.0792, -4.9055, -5.4681, -6.3794, -4.7075, -5.5035, -6.6632, -5.9327, -5.1484, -5.7847, -5.2481, -6.0873, -4.5052, -5.2945, -5.686, -5.4633, -5.0982, -6.1506, -4.644, -5.0849, -5.7647, -4.7046, -5.3427, -4.8022, -5.4462, -4.2136, -4.6057, -5.5924, -5.0875, -5.7093, -5.5873, -5.8018, -5.6174, -5.2001, -5.6021, -5.3977, -5.4179, -5.6186, -5.5211], \"loglift\": [30.0, 29.0, 28.0, 27.0, 26.0, 25.0, 24.0, 23.0, 22.0, 21.0, 20.0, 19.0, 18.0, 17.0, 16.0, 15.0, 14.0, 13.0, 12.0, 11.0, 10.0, 9.0, 8.0, 7.0, 6.0, 5.0, 4.0, 3.0, 2.0, 1.0, 0.8548, 0.854, 0.8441, 0.8432, 0.8424, 0.8414, 0.8407, 0.8396, 0.8387, 0.8365, 0.8364, 0.8354, 0.8352, 0.8351, 0.8331, 0.8328, 0.8324, 0.8324, 0.8321, 0.8317, 0.8301, 0.8288, 0.8284, 0.8273, 0.827, 0.8266, 0.8266, 0.825, 0.8248, 0.8239, 0.8238, 0.82, 0.7997, 0.8154, 0.8061, 0.8206, 0.7976, 0.761, 0.7968, 0.7997, 0.809, 0.8171, 0.7673, 0.7597, 0.73, 0.771, 0.7721, 0.7883, 0.6752, 0.6967, 0.6702, 0.7737, 0.7823, 0.6628, 0.6926, 0.6889, 0.6856, 0.7255, 0.7285, 0.6381, 0.706, 0.725, 0.7386, 0.661, 0.6439, 0.5266, 0.6376, 0.6997, 0.6277, 0.5954, 0.364, 0.6205, 0.5344, 0.4074, 0.6331, 0.353, 0.3807, 0.6277, 0.1901, 0.4413, 0.3962, 0.2336, 0.3142, 0.2659, -0.1877, 0.0867, 0.3249, 0.4241, -0.2201, 0.0814, -0.3902, 0.1199, 1.3017, 1.3017, 1.3016, 1.3007, 1.3002, 1.2995, 1.2988, 1.2985, 1.2981, 1.2981, 1.2978, 1.2973, 1.2965, 1.2965, 1.2963, 1.2962, 1.2961, 1.296, 1.2956, 1.2952, 1.2945, 1.294, 1.2938, 1.2937, 1.2927, 1.2927, 1.2918, 1.2914, 1.2913, 1.2911, 1.2911, 1.2747, 1.2848, 1.2779, 1.269, 1.276, 1.185, 1.1711, 1.2158, 1.2526, 1.1825, 1.1558, 1.0164, 1.1489, 0.4901, 1.1701, 1.1718, 1.1177, 1.2023, 0.9393, 0.9297, 1.0454, 0.724, 0.312, 0.6154, -0.1553, 0.7541, 0.4105, 0.8774, 0.7905, -0.2705, 1.0131, 0.2391, -0.0493, -0.1843, 0.0253, -0.2322, -0.1557, -0.5542, 0.1975, -0.0175, -0.6768, -0.6201, -0.7377, -0.7943, 0.1128, -0.5037, 2.031, 2.0309, 2.0283, 2.028, 2.0272, 2.0263, 2.0258, 2.0247, 2.0231, 2.0224, 2.0216, 2.021, 2.021, 2.0189, 2.0179, 2.0178, 2.017, 2.016, 2.0154, 2.015, 2.0149, 2.0146, 2.0139, 2.0107, 2.0089, 2.0073, 2.0067, 2.004, 2.0021, 2.0011, 1.9981, 1.9904, 1.9388, 1.9157, 1.9333, 1.7553, 1.5541, 1.6632, 1.8984, 1.5215, 1.9562, 1.6246, 1.9206, 1.6199, 1.6881, 1.8189, 1.7279, 1.0536, 1.5905, 0.9643, 1.4706, 1.507, 1.4956, 0.9481, 0.7336, 1.206, 0.5717, 0.6173, 0.6303, 0.8955, 0.6192, 0.8445, 0.4178, -0.0069, -0.0636, -0.0383, 0.7163, 0.3226, 0.4963, 0.2542, 0.1322, -0.4764, 0.6526, 0.1785, 2.2461, 2.2436, 2.2396, 2.2379, 2.2337, 2.2327, 2.2326, 2.2307, 2.2299, 2.228, 2.2274, 2.2273, 2.227, 2.2268, 2.226, 2.2251, 2.2247, 2.2236, 2.2233, 2.2232, 2.2224, 2.2218, 2.2214, 2.2208, 2.2207, 2.2198, 2.2198, 2.219, 2.2186, 2.2182, 2.1925, 2.2041, 2.2009, 2.149, 2.1522, 2.1847, 2.1794, 2.1299, 2.1715, 2.0391, 2.0775, 1.9832, 2.0219, 1.9123, 1.862, 1.9316, 1.8744, 1.8228, 2.0897, 1.766, 1.8559, 1.9156, 1.6512, 1.5787, 2.0122, 1.8641, 1.5308, 1.6456, 1.8059, 1.4466, 1.6572, 1.1017, 1.3351, 1.5914, 0.7258, 1.0671, 1.3816, 0.1133, 1.0947, 1.3853, 0.5551, 0.6584, 0.3545, 0.192, 0.6062, -0.0448, 0.3218, 0.3722, 0.1001, 2.6857, 2.6852, 2.6835, 2.6822, 2.6805, 2.6786, 2.6776, 2.6776, 2.6767, 2.6767, 2.6763, 2.6753, 2.6743, 2.6742, 2.6735, 2.6717, 2.6717, 2.6704, 2.6693, 2.6693, 2.6685, 2.668, 2.6677, 2.6669, 2.6665, 2.6635, 2.663, 2.6607, 2.6606, 2.66, 2.6588, 2.6284, 2.5507, 2.473, 2.5113, 2.3024, 2.3163, 2.4963, 2.081, 2.2684, 2.5275, 2.249, 1.8746, 2.1215, 1.8599, 2.2375, 1.3549, 1.754, 1.96, 1.8127, 1.546, 2.2012, 0.9072, 1.28, 1.8523, 0.8941, 1.4219, 0.7543, 1.3818, -0.1534, 0.123, 1.3095, 0.3123, 1.3571, 0.9546, 1.6212, 0.9717, -0.594, 0.8255, -0.3838, -0.4883, 0.6464, -0.7446]}, \"token.table\": {\"Topic\": [1, 2, 3, 5, 3, 5, 5, 1, 2, 3, 4, 5, 1, 3, 4, 5, 1, 2, 3, 4, 5, 1, 2, 3, 4, 5, 1, 2, 3, 1, 2, 3, 4, 1, 1, 2, 3, 4, 1, 2, 3, 1, 5, 5, 4, 1, 2, 3, 4, 5, 1, 2, 3, 4, 5, 1, 2, 3, 4, 5, 1, 2, 3, 5, 1, 2, 3, 4, 5, 2, 5, 2, 2, 1, 2, 3, 4, 5, 2, 3, 4, 5, 1, 2, 3, 4, 5, 2, 3, 5, 1, 2, 3, 4, 5, 1, 2, 3, 5, 5, 2, 1, 2, 3, 4, 5, 1, 2, 3, 2, 3, 5, 1, 2, 3, 4, 2, 1, 2, 3, 4, 5, 2, 3, 1, 2, 3, 4, 5, 1, 3, 5, 2, 1, 2, 3, 5, 1, 2, 3, 4, 5, 1, 2, 3, 5, 2, 4, 4, 5, 4, 2, 5, 2, 3, 5, 5, 1, 2, 3, 4, 5, 1, 2, 3, 4, 5, 5, 1, 1, 2, 3, 4, 5, 3, 2, 4, 3, 5, 1, 1, 4, 1, 2, 5, 1, 2, 4, 5, 1, 2, 3, 5, 1, 2, 3, 4, 5, 1, 5, 1, 2, 1, 4, 5, 2, 2, 3, 5, 2, 4, 1, 2, 3, 4, 5, 1, 1, 1, 2, 4, 1, 2, 3, 4, 1, 4, 4, 5, 5, 1, 2, 3, 5, 5, 3, 1, 1, 4, 1, 2, 3, 4, 5, 1, 2, 3, 4, 5, 1, 2, 3, 4, 5, 1, 2, 3, 4, 5, 1, 2, 3, 4, 5, 1, 2, 4, 5, 5, 3, 1, 1, 2, 3, 4, 5, 1, 2, 1, 2, 3, 4, 5, 1, 2, 3, 4, 1, 2, 3, 5, 1, 2, 3, 4, 5, 2, 1, 2, 3, 4, 5, 1, 2, 3, 4, 1, 2, 3, 4, 2, 3, 3, 2, 2, 1, 2, 3, 4, 5, 2, 4, 5, 2, 3, 5, 5, 1, 2, 4, 5, 1, 2, 3, 4, 5, 1, 2, 3, 4, 5, 1, 2, 3, 5, 1, 2, 3, 4, 5, 1, 2, 3, 4, 5, 1, 1, 2, 1, 2, 3, 4, 5, 4, 1, 2, 3, 4, 5, 2, 1, 2, 3, 4, 5, 1, 2, 3, 4, 1, 3, 4, 5, 4, 1, 2, 3, 5, 2, 4, 5, 1, 2, 3, 4, 5, 1, 2, 3, 4, 5, 2, 3, 4, 2, 5, 2, 1, 2, 4, 5, 1, 1, 2, 3, 5, 2, 3, 3, 3, 2, 3, 3, 2, 4, 5, 4, 5, 1, 2, 3, 4, 5, 1, 2, 3, 5, 1, 2, 3, 4, 5, 1, 2, 3, 4, 5, 1, 2, 3, 4, 5, 1, 2, 3, 4, 5, 1, 2, 3, 5, 1, 2, 3, 4, 5, 1, 1, 2, 3, 4, 5, 1, 2, 3, 4, 5, 1, 2, 3, 4, 5, 1, 2, 3, 4, 5, 1, 2, 3, 4, 5, 1, 3, 4, 1, 2, 3, 4, 5, 1, 2, 3, 4, 5, 1, 2, 4, 5, 1, 2, 3, 4, 5, 2, 1, 2, 3, 4, 5, 1, 2, 3, 5, 5, 2, 1, 2, 3, 4, 5, 1, 2, 3, 4, 5, 3, 1, 1, 2, 5, 4, 5, 4, 1, 2, 3, 4, 1, 2, 3, 4, 5, 1, 2, 3, 4, 5, 2, 5, 2, 1, 3, 4, 5, 1, 2, 3, 4, 5, 1, 2, 5, 5, 1, 2, 3, 4, 5, 1, 2, 3, 4, 5, 1, 2, 3, 4, 5, 2, 2, 1, 2, 3, 4, 5, 5, 4, 1, 2, 3, 4, 5, 3, 3, 4, 1, 2, 3, 4, 5, 2, 3, 2, 3, 5, 4, 2, 2, 1, 2, 3, 4, 5, 1, 4, 5, 4, 1, 2, 3, 4, 1, 2, 3, 4, 5, 1, 2, 1, 3, 4, 5, 1, 2, 3, 4, 5, 3, 4, 2, 1, 2, 3, 5, 1, 2, 3, 5, 1, 4, 4, 1, 2, 3, 5, 3, 1, 2, 3, 4, 5, 1, 2, 3, 4, 5, 5, 1, 3, 4, 1, 2, 3, 4, 5, 1, 2, 3, 4, 5, 1, 2, 3, 4, 5, 4, 5, 3, 1, 2, 3, 4, 5, 4, 5, 1, 2, 3, 4, 5, 1, 3, 1, 2, 3, 1, 2, 3, 4, 5, 1, 3, 5, 1, 3, 4, 1, 4, 3, 2, 3, 5, 1, 2, 4, 5, 1, 2, 3, 4, 5, 3, 1, 2, 3, 4, 5, 4, 1, 2, 3, 4, 5, 3, 2, 5, 1, 2, 4, 1, 2, 3, 4, 5, 1, 2, 3, 5, 1, 2, 3, 4, 5, 1, 2, 3, 4, 5, 1, 2, 3, 5, 4, 5, 2, 1, 1, 2, 3, 4, 5, 5, 1, 2, 3, 4, 5, 1, 2, 3, 4, 5, 4, 5, 1, 5, 1, 2, 3, 4, 5, 2, 4, 1, 2, 3, 4, 5, 1, 2, 3, 4, 5, 1, 2, 3, 5, 1, 2, 3, 4, 3, 1, 2, 3, 4, 5, 4, 1, 2, 3, 4, 5, 3, 1, 2, 3, 4, 5, 1, 2, 3, 4, 5, 1, 2, 3, 4, 5, 1, 2, 3, 4, 5, 1, 2, 3, 4, 5, 1, 2, 4, 5, 4, 2, 3, 4, 1, 2, 4, 5, 1, 2, 3, 5, 1, 2, 3, 4, 1, 2, 4, 3, 5, 1, 2, 5, 1, 2, 4, 5, 4, 1, 2, 3, 5, 4, 4, 1, 2, 3, 4, 5, 2, 3, 3, 3, 1, 2, 3, 4, 5, 3, 4, 1, 2, 3, 4, 5, 1, 2, 3, 4, 5, 1, 2, 3, 4, 5, 1, 3, 1, 2, 3, 4, 5, 1, 2, 3, 4, 5, 2, 1, 2, 3, 4, 5, 3, 1, 2, 3, 4, 1, 3, 3, 5, 1, 3, 1, 3, 5], \"Freq\": [0.0970926279106511, 0.6964528886667858, 0.14377177594461799, 0.06348364132619495, 0.9815316226316124, 0.9890061594079551, 0.9895197958300176, 0.9447507573743387, 0.0019620991845780656, 0.015696793476624525, 0.028450438176381956, 0.010791545515179362, 0.3174743325942037, 0.10753162878190771, 0.5478992514125773, 0.025602768757597073, 0.6557600692712261, 0.02947236266387533, 0.06262877066073508, 0.0018420226664922082, 0.2505150826429403, 0.8428071124098552, 0.11548858045339047, 0.016220306243453716, 0.022708428740835205, 0.0025952489989525948, 0.015090482473805537, 0.9054289484283322, 0.0754524123690277, 0.2701739413295533, 0.012714067827273096, 0.15892584784091368, 0.5530619504863796, 0.9980811444596063, 0.9260326185410761, 0.05277906116037222, 0.01439428940737424, 0.009596192938249494, 0.94294834629799, 0.04646412141178501, 0.010932734449831769, 0.9922040071002094, 0.9794521876921899, 0.96918802596364, 0.9811585861848237, 0.481020427818261, 0.23649214350969394, 0.13661439358084262, 0.11652404158365988, 0.028700502853118197, 0.8809488416055145, 0.0015381036082156515, 0.07229086958613562, 0.04306690103003824, 0.0023071554123234774, 0.3449029382298267, 0.01815278622262246, 0.5886689246478998, 0.015559531047962108, 0.03371231727058457, 0.28745591571520973, 0.05897482657899141, 0.6162683922075108, 0.03727654132823042, 0.5362152294945267, 0.37169781638908167, 0.02314397506398633, 0.02314397506398633, 0.04600910705491259, 0.14536021329365956, 0.8539912531002499, 0.9842491590004768, 0.9894340562875552, 0.7951927314362168, 0.03622957538085567, 0.03901646579476765, 0.10683079919995904, 0.022295123311295798, 0.046806931839102395, 0.05349363638754559, 0.8425247731038431, 0.05349363638754559, 0.5677855719551784, 0.3316146407983619, 0.08081365195926467, 0.0013933388268838735, 0.018810074162932292, 0.9997786613819607, 0.9743208789258192, 0.023763923876239493, 0.2454534027050154, 0.055259143017359486, 0.011565867143168264, 0.5127534433471264, 0.17605819984600582, 0.0728782170413374, 0.15280916476409456, 0.7534667277983431, 0.019982736930689287, 0.979185753743272, 0.9957622191701353, 0.14858140396692854, 0.04485476346171427, 0.03924791802899999, 0.768137824281857, 0.9871291088996152, 0.0970357914965616, 0.8775410709254265, 0.02531368473823346, 0.0997183871362138, 0.8850006858338975, 0.9968364474302969, 0.18592179234351366, 0.07120409068474991, 0.011867348447458318, 0.7278640381107768, 0.9907245439661724, 0.3975543701768128, 0.05464017410013067, 0.07348161344500331, 0.42016409739065996, 0.05464017410013067, 0.9764319735171945, 0.019021402081503786, 0.4153769627749243, 0.2787529738140155, 0.07056403825453533, 0.06956312991049937, 0.16514987676593376, 0.004017978400291146, 0.9844047080713307, 0.012053935200873438, 0.9990678448722635, 0.4567213639500907, 0.41008432326504624, 0.08201686465300924, 0.05092550419631293, 0.8000282872870925, 0.1038633215074471, 0.0009357055991661901, 0.035556812768315224, 0.059885158346636165, 0.010990440720657572, 0.8645813366917291, 0.1172313676870141, 0.007326960480438381, 0.0358361773913541, 0.9556313971027759, 0.9993605733341836, 0.9842284943085764, 0.9721236988008496, 0.9939706870760621, 0.9826448548197435, 0.8869492017353807, 0.0739124334779484, 0.0347823216366816, 0.9839884429113904, 0.3406680764384157, 0.12285014941102253, 0.34171628590438, 0.11844766965397223, 0.07630964912220511, 0.09616614018419764, 0.4467072318233697, 0.0031021335543289564, 0.11477894151017139, 0.3412346909761852, 0.9601093341484689, 0.9633828888711463, 0.8236759356468575, 0.0861008736323379, 0.05818535600935335, 0.024552202246721354, 0.007735625365405358, 0.9855321690162685, 0.9866474221679955, 0.9642957329632805, 0.9579027458367394, 0.019549035629321213, 0.9818498936875604, 0.04309828161346473, 0.948162195496224, 0.9641569897446236, 0.058834638719336974, 0.9413542195093916, 0.02441871827344386, 0.21976846446099474, 0.7154684454119051, 0.041511821064854564, 0.20794824392945027, 0.7510966422526413, 0.03414075646602915, 0.004655557699913065, 0.03253325434854413, 0.04879988152281619, 0.6606753190781269, 0.09759976304563238, 0.158912434702504, 0.9675272823321484, 0.9813462703182894, 0.9894386914723524, 0.9971474060313698, 0.970710009005395, 0.01866750017318067, 0.01866750017318067, 0.9945712852876362, 0.0802107726669697, 0.9047775156834181, 0.01604215453339394, 0.9911583986144095, 0.9731929249006546, 0.8482470868174871, 0.008935635226068337, 0.015956491475122028, 0.11361021930286885, 0.012765193180097624, 0.967398432376937, 0.9919464661435933, 0.036318442168344685, 0.9515431848106308, 0.014527376867337875, 0.22018790324955997, 0.1007639557243749, 0.0037319983601620333, 0.675491703189328, 0.9763234357976943, 0.9679175707757564, 0.989145452698205, 0.977958188933317, 0.9828042403944073, 0.11260415547400739, 0.231832084799427, 0.0198713215542366, 0.6425060635869834, 0.9897830664263533, 0.9833992000033914, 0.9923707837914105, 0.9812127060034663, 0.014220474000050236, 0.6015967418307608, 0.3047389609273723, 0.04860061014789989, 0.038749135117920185, 0.006567650019986472, 0.8033203404510034, 0.10693335674039652, 0.04818601877807991, 0.03498436979778405, 0.007260906939162727, 0.648982044610126, 0.13317705729963122, 0.15571471315033805, 0.05122194511524278, 0.01126882792535341, 0.18080898767132011, 0.2804674848129926, 0.1964696086507258, 0.02562647069357293, 0.3174834980370424, 0.8225128641673691, 0.11212593666520625, 0.05836692593531284, 0.0015359717351398116, 0.006143886940559246, 0.0520412922082446, 0.1127561331178633, 0.7892929318250431, 0.0433677435068705, 0.9692973868390113, 0.9789965753141229, 0.9691332613334878, 0.7896387857575565, 0.030546954961607604, 0.06567595316745635, 0.10233229912138547, 0.012218781984643042, 0.963343078274801, 0.03211143594249337, 0.6379452831924748, 0.08274604091617874, 0.27129053883955373, 0.00024265701148439513, 0.007522367356016249, 0.9352735667330818, 0.021064719971465806, 0.021064719971465806, 0.021064719971465806, 0.9448926529199204, 0.04184026507394482, 0.003486688756162068, 0.010460066268486204, 0.8453769097576619, 0.07131153456499383, 0.009752004726836763, 0.07131153456499383, 0.001828500886281893, 0.9905054210088504, 0.1545531944888277, 0.10786525032032768, 0.09176595922774146, 0.5505957553664487, 0.09337588833700007, 0.1807537434025525, 0.21412366526148527, 0.08620563146890965, 0.5200146156350357, 0.9670579288532105, 0.02594194145954961, 0.004323656909924935, 0.0014412189699749783, 0.2937083138429324, 0.7041922223463079, 0.9868672744457148, 0.9996968796784063, 0.9990032681836846, 0.35771784009785096, 0.5784656522028444, 0.03856437681352296, 0.02526631584334263, 0.0013298060970180331, 0.915245464247041, 0.040981140190166014, 0.040981140190166014, 0.33855914498113426, 0.008793744025484006, 0.6507370578858165, 0.9897909330286372, 0.011150474073040893, 0.972878862872818, 0.005575237036520447, 0.00836285555478067, 0.24629699144327405, 0.13990653071996217, 0.5965245485642343, 0.000614973761406427, 0.016911778438676747, 0.5813345340000289, 0.1642046468344697, 0.24183516614401204, 0.0028619546289232194, 0.009301352544000463, 0.04990195503191016, 0.38466090337097414, 0.1247548875797754, 0.4408006027818731, 0.6490318361904336, 0.09236851069208943, 0.053132329159166485, 0.2043551121506403, 0.0024522613458076836, 0.44041154570041313, 0.15831787590537727, 0.21396900804181293, 0.04365735365875555, 0.14344559059305395, 0.9983572034904541, 0.9741377583173877, 0.9976760139148843, 0.021998389922342123, 0.14573933323551658, 0.6379533077479216, 0.12924054079376, 0.06324537102673361, 0.9691891839722826, 0.462373134241718, 0.13989751241159673, 0.25055091205918734, 0.11065339964759063, 0.036357545598494065, 0.995571349099651, 0.5494202313768164, 0.12898721628162998, 0.06449360814081499, 0.193480824422445, 0.0636772333542224, 0.9087371571896209, 0.002305603515885229, 0.05072327734947503, 0.038536515908367396, 0.23818138688962662, 0.13481965295639242, 0.6179234093834652, 0.008987976863759494, 0.9769274939966802, 0.2715766285860926, 0.026712455270763207, 0.013356227635381603, 0.6856196852829223, 0.021897993146253403, 0.9635116984351497, 0.9732392412088574, 0.2063428506183932, 0.3450511002007575, 0.11119586949991189, 0.18226951804624733, 0.1547571379637949, 0.8082364851142563, 0.10767732214357273, 0.07747514642037549, 0.003939414224764856, 0.002626276149843237, 0.03686261865397277, 0.09830031641059404, 0.8601277685926979, 0.877408534659491, 0.12002286559021338, 0.9957790622861469, 0.8549517805808311, 0.11208209318590164, 0.024762322913164315, 0.007819680919946625, 0.9871734765051547, 0.9178728953437539, 0.029715309561488434, 0.04952551593581406, 0.001650850531193802, 0.014319742074470709, 0.9844822676198612, 0.9932236349387025, 0.9962824215295761, 0.11342342649394489, 0.8843182404612653, 0.993262160549391, 0.08052090457777063, 0.11574880033054527, 0.8001764892415956, 0.9843385180226788, 0.9911259707313894, 0.5873561983528433, 0.2588140790227962, 0.05619259718878459, 0.004921979315805949, 0.09228711217136155, 0.09692268166252108, 0.39156763391658517, 0.031015258132006746, 0.48073650104610455, 0.16011776577313994, 0.6531119393378076, 0.058990755811156814, 0.12219513703739626, 0.006320438122623944, 0.4860629438411659, 0.006766537501269131, 0.4353139125816474, 0.015788587502961304, 0.05526005626036457, 0.6109202759482661, 0.23286843459675086, 0.12937135255375046, 0.013758540668414733, 0.013039810932005007, 0.07985939422133174, 0.106479192295109, 0.017746532049184832, 0.6433117867829501, 0.15084552241807106, 0.879357276828747, 0.041401001733933476, 0.07120972298236558, 0.006624160277429356, 0.8033596699111476, 0.07851195194590682, 0.04282470106140372, 0.06423705159210558, 0.011102700275178743, 0.9774888593804654, 0.3075196246559801, 0.05369390271771081, 0.31867679924667325, 0.31797947583475494, 0.0013946468238366443, 0.35185923258445806, 0.4440409796249054, 0.125380068527042, 0.02084295912103355, 0.05790904621771692, 0.36449768612752836, 0.2392517851674085, 0.07225725055391531, 0.044960067011325086, 0.2793947021418059, 0.3871995520324855, 0.12721477391024272, 0.26665105448435156, 0.15054674117762348, 0.06832933271161509, 0.7699340735623877, 0.11717589633541006, 0.012159762827259534, 0.06190424712059399, 0.038690154450371245, 0.8877507083016447, 0.07242721396400364, 0.037248281467201876, 0.5777130788517473, 0.06554697891310148, 0.16322482984242914, 0.1837885879328139, 0.009639261604867864, 0.4787639568865143, 0.23277963861227685, 0.14864696533749933, 0.10111011855444116, 0.03885948586234119, 0.09507928008019567, 0.047539640040097836, 0.4233291755951569, 0.4346481375094659, 0.8771499116682153, 0.07160407442189513, 0.04773604961459675, 0.0014917515504561485, 0.002983503100912297, 0.9886135510865299, 0.8339091868993753, 0.025281945978948374, 0.12226191063257065, 0.015109913026480865, 0.0034565160518093482, 0.1420219915053013, 0.09994140142965648, 0.7311502525643289, 0.02630036879727802, 0.9780758107178206, 0.9890111715236735, 0.5133186882477235, 0.2076147565149319, 0.2307074995594953, 0.01627488557426373, 0.03210990937625006, 0.0455214092739844, 0.26241753581473365, 0.11514238816360761, 0.16334152739488522, 0.41504814338044604, 0.9871344555061722, 0.9826001769037145, 0.9627369126980072, 0.02642807211327863, 0.007550877746651037, 0.9977475149751691, 0.9906165791798156, 0.9711132073841044, 0.9502807139953157, 0.020467584609129875, 0.017543643950682752, 0.011695762633788501, 0.035498319886609314, 0.8899935914428478, 0.03803391416422427, 0.001690396185076634, 0.034653121794071, 0.24096736545469005, 0.051205565159121634, 0.018072552409101755, 0.6897690836140502, 0.0030120920681836255, 0.9935444952550451, 0.003806683889866073, 0.9957450393687904, 0.04134360308305779, 0.02756240205537186, 0.9095592678272714, 0.020671801541528895, 0.3300735666949975, 0.27348952669014076, 0.21421100858981468, 0.002694478095469367, 0.17783555430097822, 0.023557683283385526, 0.36121781034524475, 0.6124997653680236, 0.9829558117244367, 0.2289730367268847, 0.2465113969868163, 0.08866615464743195, 0.3069213045488029, 0.12861464190616503, 0.621114916814221, 0.12785906876837852, 0.2414122277444909, 0.0005960795746777553, 0.00894119362016633, 0.8298532510863105, 0.13007174671872598, 0.01145709686123493, 0.02426208747085044, 0.0042683302032051704, 0.9998773585906608, 0.9945214964654838, 0.38272493433913973, 0.046325303138334786, 0.3359666844425027, 0.2182051661843059, 0.016451976815483382, 0.9855832544778018, 0.9716576725496742, 0.7949696735916626, 0.07544027341156333, 0.11031360734709732, 0.0071170069256191815, 0.012098911773552608, 0.9910536801666224, 0.06418133404553061, 0.930629343660194, 0.4113438801868292, 0.1701369975641859, 0.04953355625286425, 0.12598752351271994, 0.24336051550320262, 0.9724529574908867, 0.02129459031001942, 0.13259792525415326, 0.03977937757624598, 0.8221071365757502, 0.9613801759920778, 0.9908286039234232, 0.9952688816831344, 0.09005568669043983, 0.13243483336829387, 0.5800645701531272, 0.11124526002936685, 0.08475829335570807, 0.9622185561598015, 0.01862358495793164, 0.01862358495793164, 0.9637241704957187, 0.9195766872800225, 0.025819647806998473, 0.011916760526306986, 0.04369478859645895, 0.23098682632074397, 0.6893228911461572, 0.020006732988410894, 0.027281908620560312, 0.03273829034467237, 0.9819719217700477, 0.99311102756435, 0.10257827748928627, 0.8048449464544, 0.07101573056950587, 0.02367191018983529, 0.4214303497522216, 0.016085127853138228, 0.04664687077410086, 0.4889878867354021, 0.027344717350334988, 0.04713132939715952, 0.9426265879431903, 0.9960458412266829, 0.10107213171063513, 0.31275150189705964, 0.5663853418501629, 0.019070213530308515, 0.3224173667883835, 0.5613609816574444, 0.11373298699007704, 0.0031302656969745975, 0.9842104182379054, 0.009744657606315895, 0.9956793488216407, 0.9869975420785984, 0.06223869825859554, 0.9024611247496354, 0.03111934912929777, 0.9829916295660912, 0.0620189336903509, 0.8573205539548506, 0.0036481725700206412, 0.06566710626037155, 0.010944517710061923, 0.4605116216523578, 0.22611153777315193, 0.2446778810507128, 0.041111188686027623, 0.027517973072099137, 0.9871370100971582, 0.08022400852179624, 0.011460572645970892, 0.9053852390317004, 0.008223300825641164, 0.21873980196205495, 0.20393786047590087, 0.02960388297230819, 0.5410931943271886, 0.07869645548807123, 0.42769812765256104, 0.08382883301990197, 0.13857419335942978, 0.26859442416580837, 0.04815841371568419, 0.05886028343028068, 0.16587898057624553, 0.7170252708779646, 0.010701869714596487, 0.9892578619674404, 0.9816776326795444, 0.9699086278814799, 0.5015590983892368, 0.14841567992298063, 0.05440317527723406, 0.12789518398507657, 0.16750451335358907, 0.9907068740990089, 0.9659181724076292, 0.5438916108493983, 0.04479107383465633, 0.006398724833522333, 0.014930357944885444, 0.39032221484486235, 0.9766518802590564, 0.025701365269975168, 0.9651924294342749, 0.009582736847026235, 0.9870218952437023, 0.09256257403842032, 0.14009470665274426, 0.08255580927751001, 0.007505073570682728, 0.6754566213614456, 0.9520463050967526, 0.0058051603969314185, 0.03483096238158851, 0.9218368755555941, 0.006704268185858867, 0.0703948159515181, 0.9712617572707362, 0.9789218411030175, 0.9695257323343892, 0.9969666825471042, 0.0005004852824031647, 0.0025024264120158237, 0.019001835826473197, 0.02714547975210457, 0.08958008318194507, 0.8659408040921358, 0.33735531200498436, 0.3455171340696211, 0.3033477200689981, 0.008841973903356446, 0.004761062871038086, 0.989664805526491, 0.36534804591751696, 0.007053051079488745, 0.09168966403335368, 0.44857404865548417, 0.08745783338566043, 0.9778877005835586, 0.07164757878388091, 0.7737938508659138, 0.002865903151355236, 0.022927225210841888, 0.13183154496234087, 0.9865304482984251, 0.9849672321953433, 0.016280450118931294, 0.01755817998903624, 0.08779089994518119, 0.88668808944633, 0.942136064346216, 0.01644999477429901, 0.0314045354782072, 0.001495454070390819, 0.008972724422344914, 0.040233628867540346, 0.3671318634163056, 0.030175221650655257, 0.5632708041455647, 0.3519262669951327, 0.0893146207904314, 0.12797318799823007, 0.4012492665361172, 0.029327188916261057, 0.2931650381150084, 0.20847291599289486, 0.10640805087137342, 0.1302955724955593, 0.2627627378660446, 0.009092688254891446, 0.05455612952934867, 0.8728980724695787, 0.06364881778424011, 0.9364493812579632, 0.05300656875045075, 0.9945595833262568, 0.961026915686259, 0.4677859644975111, 0.12196873307450441, 0.05309227204419604, 0.3156837797222467, 0.04161286187247798, 0.9697195036390226, 0.6599444942752557, 0.2670592506016599, 0.012325811566230457, 0.058034029457668404, 0.0025678774096313454, 0.12045204918454322, 0.7485234485039471, 0.028679059329653145, 0.0975088017208207, 0.00573581186593063, 0.981711951592518, 0.9743898863954575, 0.9604360731232756, 0.025274633503244097, 0.034403380978299265, 0.015290391545910784, 0.003822597886477696, 0.9480042758464685, 0.9778602628573753, 0.9958268186128769, 0.9649787444995008, 0.604144244527336, 0.14635823658256633, 0.19787838641285677, 0.01025276613538118, 0.04152370284829378, 0.2644843694306686, 0.5032224728105641, 0.1349728492964769, 0.014043417845876208, 0.08348031719493079, 0.0034498494531844917, 0.8314137182174626, 0.11384503195508823, 0.05174774179776738, 0.8764125518526722, 0.025427830324545615, 0.0016951886883030411, 0.0949305665449703, 0.9689013917575019, 0.5538312293367262, 0.2155255022389048, 0.1798796305056709, 0.017492881498716622, 0.033335491157931676, 0.9833820690543214, 0.13359465622742214, 0.10070981777144132, 0.6576967691196167, 0.03494014085947964, 0.07193558412245808, 0.988124833603517, 0.724385794589792, 0.06193477619831844, 0.1678097652400385, 0.03013043166404681, 0.015902172267135816, 0.6310562775894922, 0.19785443778396392, 0.13370984836541855, 0.0022586123034699077, 0.03478262947343658, 0.7187288904827394, 0.15635080416909508, 0.08080144918299487, 0.021816391279408615, 0.02222039852532359, 0.23062603933989462, 0.00725746277643025, 0.6870398095020637, 0.04918946992913836, 0.024997927341037528, 0.18201398186337606, 0.06528762392925445, 0.01384888992438731, 0.6805740191413192, 0.05935238539023133, 0.05727704234434389, 0.09818921544744666, 0.797787375510504, 0.04091217310310277, 0.9889002221215509, 0.13346654020117493, 0.05276584147488311, 0.8132147333187868, 0.2797395459757466, 0.018131266868798387, 0.6553157882579989, 0.04662325766262442, 0.09791766991735576, 0.3766064227590606, 0.09038554146217455, 0.4293313219453291, 0.10523098423398078, 0.8780749340179708, 0.015525882919767656, 0.9892547091604319, 0.9811957755782245, 0.9670615364905043, 0.028030769173637806, 0.9853049232114263, 0.9856103112113783, 0.9666220869229085, 0.15951617778712554, 0.8274901722707138, 0.2589589864792292, 0.01585463182525893, 0.6817491684861341, 0.04227901820069049, 0.9816750850555338, 0.46293485511077803, 0.13832629878770486, 0.37363020304290695, 0.025150236143219065, 0.9886162746363457, 0.9883935572147693, 0.48095717757405104, 0.046145891361834626, 0.057194907603400666, 0.15338634311821087, 0.26192667913830076, 0.06504741623921179, 0.926925681408768, 0.9769760165564869, 0.9870605601239184, 0.30250063199067123, 0.5997857358435723, 0.015646584413310582, 0.022600621930337506, 0.05737080951547213, 0.9678082072964517, 0.9783255070374334, 0.022929523563594623, 0.11464761781797311, 0.11464761781797311, 0.11464761781797311, 0.6343834852594512, 0.914441778237894, 0.02362026733455815, 0.03711756295430566, 0.01687161952468439, 0.008998197079831675, 0.9070522100761861, 0.01984176709541657, 0.022676305251904654, 0.04913199471246008, 0.0009448460521626938, 0.029906771786998715, 0.9570166971839589, 0.6875451288149892, 0.04414317889489377, 0.08223934698226784, 0.14573296046122464, 0.03991027132962998, 0.851930071427487, 0.06005408700226548, 0.01983181477749232, 0.04217752156903296, 0.025976884145166, 0.9946179103003154, 0.859758959926653, 0.06917600826996058, 0.009882286895708654, 0.037058575858907455, 0.024705717239271636, 0.9800699042841965, 0.9707162319681799, 0.009378900791963091, 0.004689450395981546, 0.018757801583926183, 0.9773917680645438, 0.95747516385414, 0.9934808601590736, 0.005043050051568901, 0.031658123437062514, 0.9497437031118754, 0.04441114689902859, 0.9474378005126101, 0.9779580966818769], \"Term\": [\"'bout\", \"'bout\", \"'bout\", \"'bout\", \"aaah\", \"africa\", \"alfr\", \"alon\", \"alon\", \"alon\", \"alon\", \"alon\", \"along\", \"along\", \"along\", \"along\", \"alright\", \"alright\", \"alright\", \"alright\", \"alright\", \"alway\", \"alway\", \"alway\", \"alway\", \"alway\", \"amma\", \"amma\", \"amma\", \"angel\", \"angel\", \"angel\", \"angel\", \"anymor\", \"anyway\", \"anyway\", \"anyway\", \"anyway\", \"apart\", \"apart\", \"apart\", \"apolog\", \"appetit\", \"app\\u00e3\\u00a9tit\", \"april\", \"around\", \"around\", \"around\", \"around\", \"around\", \"away\", \"away\", \"away\", \"away\", \"away\", \"babe\", \"babe\", \"babe\", \"babe\", \"babe\", \"babi\", \"babi\", \"babi\", \"babi\", \"back\", \"back\", \"back\", \"back\", \"back\", \"bacon\", \"bacon\", \"baddest\", \"beef\", \"believ\", \"believ\", \"believ\", \"believ\", \"believ\", \"bell\", \"bell\", \"bell\", \"bell\", \"better\", \"better\", \"better\", \"better\", \"better\", \"bitch\", \"blood\\u00e2\\u0080\\u00a6\", \"blood\\u00e2\\u0080\\u00a6\", \"blue\", \"blue\", \"blue\", \"blue\", \"blue\", \"bodi\", \"bodi\", \"bodi\", \"bodi\", \"bonni\", \"boom\", \"born\", \"born\", \"born\", \"born\", \"bossanova\", \"bout\", \"bout\", \"bout\", \"boyfriend\", \"boyfriend\", \"brainwash\", \"bright\", \"bright\", \"bright\", \"bright\", \"buck\", \"burn\", \"burn\", \"burn\", \"burn\", \"burn\", \"bust\", \"bust\", \"call\", \"call\", \"call\", \"call\", \"call\", \"can\\u00e2\\u0080\\u0099t\", \"can\\u00e2\\u0080\\u0099t\", \"can\\u00e2\\u0080\\u0099t\", \"cash\", \"caus\", \"caus\", \"caus\", \"caus\", \"chang\", \"chang\", \"chang\", \"chang\", \"chang\", \"check\", \"check\", \"check\", \"check\", \"christ\", \"christ\", \"christma\", \"cindi\", \"clau\", \"clip\", \"cloreen\", \"club\", \"club\", \"club\", \"clyde\", \"come\", \"come\", \"come\", \"come\", \"come\", \"comin\", \"comin\", \"comin\", \"comin\", \"comin\", \"continent\", \"cope\", \"could\", \"could\", \"could\", \"could\", \"could\", \"countdown\", \"countin\", \"cowboy\", \"crave\", \"crave\", \"crazier\", \"crown\", \"crown\", \"cruel\", \"cruisin\", \"cruisin\", \"daddi\", \"daddi\", \"daddi\", \"daddi\", \"damn\", \"damn\", \"damn\", \"damn\", \"danc\", \"danc\", \"danc\", \"danc\", \"danc\", \"defin\", \"deja\", \"diana\", \"dick\", \"disguis\", \"disguis\", \"disguis\", \"dogg\", \"don\\u00e2\\u0080\\u0099t\", \"don\\u00e2\\u0080\\u0099t\", \"don\\u00e2\\u0080\\u0099t\", \"dope\", \"dorrain\", \"dream\", \"dream\", \"dream\", \"dream\", \"dream\", \"dreamer\", \"dreamin\", \"drip\", \"drip\", \"drip\", \"earth\", \"earth\", \"earth\", \"earth\", \"easili\", \"eboni\", \"eden\", \"eheh\", \"eh\\u00e2\\u0080\\u009d\", \"either\", \"either\", \"either\", \"either\", \"elder\", \"electr\", \"endless\", \"etern\", \"etern\", \"even\", \"even\", \"even\", \"even\", \"even\", \"ever\", \"ever\", \"ever\", \"ever\", \"ever\", \"everi\", \"everi\", \"everi\", \"everi\", \"everi\", \"everybodi\", \"everybodi\", \"everybodi\", \"everybodi\", \"everybodi\", \"everyth\", \"everyth\", \"everyth\", \"everyth\", \"everyth\", \"evil\", \"evil\", \"evil\", \"evil\", \"factual\", \"fadin\", \"fairytal\", \"fall\", \"fall\", \"fall\", \"fall\", \"fall\", \"fault\", \"fault\", \"feel\", \"feel\", \"feel\", \"feel\", \"feel\", \"felt\", \"felt\", \"felt\", \"felt\", \"final\", \"final\", \"final\", \"final\", \"find\", \"find\", \"find\", \"find\", \"find\", \"finna\", \"fire\", \"fire\", \"fire\", \"fire\", \"fire\", \"follow\", \"follow\", \"follow\", \"follow\", \"forev\", \"forev\", \"forev\", \"forev\", \"freak\", \"freak\", \"friendship\", \"fuck\", \"fuckin\", \"game\", \"game\", \"game\", \"game\", \"game\", \"gang\", \"gang\", \"gang\", \"gangsta\", \"gangsta\", \"gangsta\", \"garfield\", \"gettin\", \"gettin\", \"gettin\", \"gettin\", \"girl\", \"girl\", \"girl\", \"girl\", \"girl\", \"give\", \"give\", \"give\", \"give\", \"give\", \"goin\", \"goin\", \"goin\", \"goin\", \"gone\", \"gone\", \"gone\", \"gone\", \"gone\", \"good\", \"good\", \"good\", \"good\", \"good\", \"goodby\", \"greed\", \"groupi\", \"hair\", \"hair\", \"hair\", \"hair\", \"hair\", \"hallelujah\", \"hand\", \"hand\", \"hand\", \"hand\", \"hand\", \"hater\", \"hear\", \"hear\", \"hear\", \"hear\", \"hear\", \"heart\", \"heart\", \"heart\", \"heart\", \"heaven\", \"heaven\", \"heaven\", \"heaven\", \"heavenli\", \"hello\", \"hello\", \"hello\", \"hello\", \"henri\", \"henri\", \"he\\u00e2\\u0080\\u0099\", \"high\", \"high\", \"high\", \"high\", \"high\", \"hold\", \"hold\", \"hold\", \"hold\", \"hold\", \"holi\", \"holi\", \"holi\", \"homi\", \"homi\", \"hood\", \"hope\", \"hope\", \"hope\", \"hope\", \"horizon\", \"hurt\", \"hurt\", \"hurt\", \"hurt\", \"it\\u00e2\\u0080\\u0099\", \"it\\u00e2\\u0080\\u0099\", \"i\\u00e2\\u0080\\u0099d\", \"i\\u00e2\\u0080\\u0099ll\", \"i\\u00e2\\u0080\\u0099m\", \"i\\u00e2\\u0080\\u0099m\", \"i\\u00e2\\u0080\\u0099v\", \"jesu\", \"jesu\", \"jesu\", \"jumpman\", \"kati\", \"keep\", \"keep\", \"keep\", \"keep\", \"keep\", \"kick\", \"kick\", \"kick\", \"kick\", \"kill\", \"kill\", \"kill\", \"kill\", \"kill\", \"kiss\", \"kiss\", \"kiss\", \"kiss\", \"kiss\", \"know\", \"know\", \"know\", \"know\", \"know\", \"land\", \"land\", \"land\", \"land\", \"land\", \"late\", \"late\", \"late\", \"late\", \"life\", \"life\", \"life\", \"life\", \"life\", \"lifelin\", \"light\", \"light\", \"light\", \"light\", \"light\", \"like\", \"like\", \"like\", \"like\", \"like\", \"line\", \"line\", \"line\", \"line\", \"line\", \"littl\", \"littl\", \"littl\", \"littl\", \"littl\", \"live\", \"live\", \"live\", \"live\", \"live\", \"lone\", \"lone\", \"lone\", \"long\", \"long\", \"long\", \"long\", \"long\", \"look\", \"look\", \"look\", \"look\", \"look\", \"lord\", \"lord\", \"lord\", \"lord\", \"lose\", \"lose\", \"lose\", \"lose\", \"lose\", \"lotta\", \"love\", \"love\", \"love\", \"love\", \"love\", \"lovin\", \"lovin\", \"lovin\", \"lovin\", \"luci\", \"lyric\", \"make\", \"make\", \"make\", \"make\", \"make\", \"mama\", \"mama\", \"mama\", \"mama\", \"mama\", \"maria\", \"masquerad\", \"meant\", \"meant\", \"meant\", \"merri\", \"migrat\", \"mistleto\", \"moment\", \"moment\", \"moment\", \"moment\", \"money\", \"money\", \"money\", \"money\", \"money\", \"moon\", \"moon\", \"moon\", \"moon\", \"moon\", \"motherfuck\", \"motherfuck\", \"motherfuckin\", \"mountain\", \"mountain\", \"mountain\", \"mountain\", \"move\", \"move\", \"move\", \"move\", \"move\", \"movin\", \"movin\", \"movin\", \"mucho\", \"name\", \"name\", \"name\", \"name\", \"name\", \"need\", \"need\", \"need\", \"need\", \"need\", \"never\", \"never\", \"never\", \"never\", \"never\", \"nigga\", \"niggaz\", \"night\", \"night\", \"night\", \"night\", \"night\", \"nite\", \"noel\", \"noth\", \"noth\", \"noth\", \"noth\", \"noth\", \"ordinari\", \"papa\", \"papa\", \"peopl\", \"peopl\", \"peopl\", \"peopl\", \"peopl\", \"pimp\", \"pimp\", \"planet\", \"planet\", \"planet\", \"poompoom\", \"pop\", \"poppin\", \"pretti\", \"pretti\", \"pretti\", \"pretti\", \"pretti\", \"pride\", \"pride\", \"pride\", \"prof\", \"promis\", \"promis\", \"promis\", \"promis\", \"pull\", \"pull\", \"pull\", \"pull\", \"pull\", \"puls\", \"rack\", \"rage\", \"rage\", \"rage\", \"rage\", \"rain\", \"rain\", \"rain\", \"rain\", \"rain\", \"rainbow\", \"rainbow\", \"rapper\", \"readi\", \"readi\", \"readi\", \"readi\", \"real\", \"real\", \"real\", \"real\", \"regret\", \"regret\", \"reindeer\", \"rescu\", \"rhythm\", \"rhythm\", \"rhythm\", \"ribbon\", \"rich\", \"rich\", \"rich\", \"rich\", \"rich\", \"right\", \"right\", \"right\", \"right\", \"right\", \"rita\", \"river\", \"river\", \"river\", \"rock\", \"rock\", \"rock\", \"rock\", \"rock\", \"roll\", \"roll\", \"roll\", \"roll\", \"roll\", \"rose\", \"rose\", \"rose\", \"rose\", \"rose\", \"rudolph\", \"runway\", \"sai\", \"said\", \"said\", \"said\", \"said\", \"said\", \"santa\", \"satan\", \"save\", \"save\", \"save\", \"save\", \"save\", \"selfish\", \"selfish\", \"sentiment\", \"sexual\", \"sexual\", \"shake\", \"shake\", \"shake\", \"shake\", \"shake\", \"shame\", \"shame\", \"shame\", \"share\", \"share\", \"share\", \"shatter\", \"shepherd\", \"she\\u00e2\\u0080\\u0099\", \"shit\", \"shit\", \"shit\", \"shout\", \"shout\", \"shout\", \"shout\", \"show\", \"show\", \"show\", \"show\", \"show\", \"simon\", \"sing\", \"sing\", \"sing\", \"sing\", \"sing\", \"sleigh\", \"smoke\", \"smoke\", \"smoke\", \"smoke\", \"smoke\", \"smooch\", \"snoop\", \"snoop\", \"snow\", \"snow\", \"snow\", \"someon\", \"someon\", \"someon\", \"someon\", \"someon\", \"somethin\", \"somethin\", \"somethin\", \"somethin\", \"song\", \"song\", \"song\", \"song\", \"song\", \"sound\", \"sound\", \"sound\", \"sound\", \"sound\", \"spoil\", \"spoil\", \"spoil\", \"spoil\", \"spring\", \"spring\", \"stack\", \"stake\", \"star\", \"star\", \"star\", \"star\", \"star\", \"startin\", \"still\", \"still\", \"still\", \"still\", \"still\", \"straight\", \"straight\", \"straight\", \"straight\", \"straight\", \"stream\", \"sued\", \"suffer\", \"suffer\", \"sunshin\", \"sunshin\", \"sunshin\", \"sunshin\", \"superstit\", \"swap\", \"swell\", \"take\", \"take\", \"take\", \"take\", \"take\", \"talk\", \"talk\", \"talk\", \"talk\", \"talk\", \"talkin\", \"talkin\", \"talkin\", \"talkin\", \"tear\", \"tear\", \"tear\", \"tear\", \"teasin\", \"tell\", \"tell\", \"tell\", \"tell\", \"tell\", \"terr\", \"thank\", \"thank\", \"thank\", \"thank\", \"thank\", \"there\\u00e2\\u0080\\u0099\", \"thing\", \"thing\", \"thing\", \"thing\", \"thing\", \"think\", \"think\", \"think\", \"think\", \"think\", \"time\", \"time\", \"time\", \"time\", \"time\", \"tonight\", \"tonight\", \"tonight\", \"tonight\", \"tonight\", \"town\", \"town\", \"town\", \"town\", \"town\", \"train\", \"train\", \"train\", \"train\", \"transform\", \"tree\", \"tree\", \"tree\", \"troubl\", \"troubl\", \"troubl\", \"troubl\", \"tryin\", \"tryin\", \"tryin\", \"tryin\", \"tryna\", \"tryna\", \"tryna\", \"tumbl\", \"twilight\", \"uh-huh\", \"uh-huh\", \"uh-oh\", \"uncork\", \"undon\", \"unit\", \"unit\", \"upon\", \"upon\", \"upon\", \"upon\", \"valley\", \"want\", \"want\", \"want\", \"want\", \"weari\", \"weep\", \"well\", \"well\", \"well\", \"well\", \"well\", \"we\\u00e2\\u0080\\u0099r\", \"we\\u00e2\\u0080\\u0099r\", \"we\\u00e2\\u0080\\u0099v\", \"whoa-oh\", \"whole\", \"whole\", \"whole\", \"whole\", \"whole\", \"wiggl\", \"willow\", \"wine\", \"wine\", \"wine\", \"wine\", \"wine\", \"wish\", \"wish\", \"wish\", \"wish\", \"wish\", \"without\", \"without\", \"without\", \"without\", \"without\", \"won\\u00e2\\u0080\\u0099t\", \"won\\u00e2\\u0080\\u0099t\", \"world\", \"world\", \"world\", \"world\", \"world\", \"would\", \"would\", \"would\", \"would\", \"would\", \"wrist\", \"wrong\", \"wrong\", \"wrong\", \"wrong\", \"wrong\", \"xscape\", \"yesterday\", \"yesterday\", \"yesterday\", \"yesterday\", \"younger\", \"you\\u00e2\\u0080\\u0099ll\", \"you\\u00e2\\u0080\\u0099r\", \"you\\u00e2\\u0080\\u0099r\", \"you\\u00e2\\u0080\\u0099v\", \"you\\u00e2\\u0080\\u0099v\", \"\\u00e2\\u0080\\u0098caus\", \"\\u00e2\\u0080\\u0098caus\", \"\\u00e2\\u0080\\u009ceh\"]}, \"R\": 30, \"lambda.step\": 0.01, \"plot.opts\": {\"xlab\": \"PC1\", \"ylab\": \"PC2\"}, \"topic.order\": [3, 1, 4, 2, 5]};\n",
       "\n",
       "function LDAvis_load_lib(url, callback){\n",
       "  var s = document.createElement('script');\n",
       "  s.src = url;\n",
       "  s.async = true;\n",
       "  s.onreadystatechange = s.onload = callback;\n",
       "  s.onerror = function(){console.warn(\"failed to load library \" + url);};\n",
       "  document.getElementsByTagName(\"head\")[0].appendChild(s);\n",
       "}\n",
       "\n",
       "if(typeof(LDAvis) !== \"undefined\"){\n",
       "   // already loaded: just create the visualization\n",
       "   !function(LDAvis){\n",
       "       new LDAvis(\"#\" + \"ldavis_el30526681403727523825446742206730\", ldavis_el30526681403727523825446742206730_data);\n",
       "   }(LDAvis);\n",
       "}else if(typeof define === \"function\" && define.amd){\n",
       "   // require.js is available: use it to load d3/LDAvis\n",
       "   require.config({paths: {d3: \"https://d3js.org/d3.v5\"}});\n",
       "   require([\"d3\"], function(d3){\n",
       "      window.d3 = d3;\n",
       "      LDAvis_load_lib(\"https://cdn.jsdelivr.net/gh/bmabey/pyLDAvis@3.4.0/pyLDAvis/js/ldavis.v3.0.0.js\", function(){\n",
       "        new LDAvis(\"#\" + \"ldavis_el30526681403727523825446742206730\", ldavis_el30526681403727523825446742206730_data);\n",
       "      });\n",
       "    });\n",
       "}else{\n",
       "    // require.js not available: dynamically load d3 & LDAvis\n",
       "    LDAvis_load_lib(\"https://d3js.org/d3.v5.js\", function(){\n",
       "         LDAvis_load_lib(\"https://cdn.jsdelivr.net/gh/bmabey/pyLDAvis@3.4.0/pyLDAvis/js/ldavis.v3.0.0.js\", function(){\n",
       "                 new LDAvis(\"#\" + \"ldavis_el30526681403727523825446742206730\", ldavis_el30526681403727523825446742206730_data);\n",
       "            })\n",
       "         });\n",
       "}\n",
       "</script>"
      ],
      "text/plain": [
       "<IPython.core.display.HTML object>"
      ]
     },
     "execution_count": 14,
     "metadata": {},
     "output_type": "execute_result"
    }
   ],
   "source": [
    "#with warnings.catch_warnings():\n",
    "#warnings.simplefilter(\"ignore\")\n",
    "pyLDAvis.enable_notebook()\n",
    "\n",
    "# Convert the corpus to a gensim-specific format\n",
    "gensim_corpus = gensimvis.prepare(lda_model, corpus, dictionary)\n",
    "\n",
    "# Display the visualization\n",
    "pyLDAvis.display(gensim_corpus)"
   ]
  },
  {
   "cell_type": "markdown",
   "metadata": {},
   "source": [
    "### TF-IDF"
   ]
  },
  {
   "cell_type": "code",
   "execution_count": 15,
   "metadata": {},
   "outputs": [
    {
     "name": "stdout",
     "output_type": "stream",
     "text": [
      "Corpus:  4736 \n",
      "\n",
      "Number of features: 18330 \n",
      "\n",
      "Last 10 features:  ['¾ã' 'ãªtre' 'ä¹' 'äººã' 'ä¼' 'ä½' 'æ²' 'è²' 'êµ' 'ï¼'] \n",
      "\n",
      "Dimensions of the TF-IDF matrix:  (4736, 18330) \n",
      "\n"
     ]
    }
   ],
   "source": [
    "\n",
    "# Initialize TfidfVectorizer\n",
    "vectorizer = TfidfVectorizer()\n",
    "\n",
    "# the corpus is the whole list of lyrics processed\n",
    "corpus = df['lyrics_proc'].values\n",
    "\n",
    "print(\"Corpus: \", len(corpus), \"\\n\")\n",
    "\n",
    "tfidf_matrix = vectorizer.fit_transform(corpus)\n",
    "feature_names = vectorizer.get_feature_names_out()\n",
    "\n",
    "# Convert TF-IDF matrix to a list of lists\n",
    "tfidf_list = tfidf_matrix.toarray().tolist()\n",
    "\n",
    "# Add TF-IDF vector list as a column named 'tf-idf'\n",
    "df['tf-idf'] = tfidf_list\n",
    "\n",
    "print(\"Number of features: %d\" % len(feature_names), \"\\n\")\n",
    "print(\"Last 10 features: \", feature_names[-10:], \"\\n\")\n",
    "print (\"Dimensions of the TF-IDF matrix: \", tfidf_matrix.shape, \"\\n\")"
   ]
  },
  {
   "cell_type": "markdown",
   "metadata": {},
   "source": [
    "### Combine the three features into a single fixed-size vector"
   ]
  },
  {
   "cell_type": "code",
   "execution_count": 16,
   "metadata": {},
   "outputs": [
    {
     "data": {
      "text/html": [
       "<div>\n",
       "<style scoped>\n",
       "    .dataframe tbody tr th:only-of-type {\n",
       "        vertical-align: middle;\n",
       "    }\n",
       "\n",
       "    .dataframe tbody tr th {\n",
       "        vertical-align: top;\n",
       "    }\n",
       "\n",
       "    .dataframe thead th {\n",
       "        text-align: right;\n",
       "    }\n",
       "</style>\n",
       "<table border=\"1\" class=\"dataframe\">\n",
       "  <thead>\n",
       "    <tr style=\"text-align: right;\">\n",
       "      <th></th>\n",
       "      <th>id</th>\n",
       "      <th>artist</th>\n",
       "      <th>title</th>\n",
       "      <th>lyrics</th>\n",
       "      <th>lyrics_proc</th>\n",
       "      <th>neg</th>\n",
       "      <th>neu</th>\n",
       "      <th>pos</th>\n",
       "      <th>compound</th>\n",
       "      <th>lda</th>\n",
       "      <th>tf-idf</th>\n",
       "      <th>feature_vector</th>\n",
       "    </tr>\n",
       "  </thead>\n",
       "  <tbody>\n",
       "    <tr>\n",
       "      <th>0</th>\n",
       "      <td>7828</td>\n",
       "      <td>Bon Jovi</td>\n",
       "      <td>Let It Rock</td>\n",
       "      <td>\\n\\r\\nThe weekend comes to this town \\r\\nSeven...</td>\n",
       "      <td>weekend come town seven soon make break rule w...</td>\n",
       "      <td>0.054</td>\n",
       "      <td>0.574</td>\n",
       "      <td>0.372</td>\n",
       "      <td>0.9648</td>\n",
       "      <td>[(1, 0.17169867), (2, 0.14107515), (3, 0.11908...</td>\n",
       "      <td>[0.0, 0.0, 0.0, 0.0, 0.0, 0.0, 0.0, 0.0, 0.0, ...</td>\n",
       "      <td>[0.054, 0.574, 0.372, 0.9648, 0.0, 0.171698674...</td>\n",
       "    </tr>\n",
       "    <tr>\n",
       "      <th>1</th>\n",
       "      <td>2706</td>\n",
       "      <td>Eminem</td>\n",
       "      <td>Music Box</td>\n",
       "      <td>\\n\\r\\nYeah, girl.\\nCan you hear that?\\nIt's pl...</td>\n",
       "      <td>girl hear play song sleepi take afraid dark he...</td>\n",
       "      <td>0.073</td>\n",
       "      <td>0.753</td>\n",
       "      <td>0.175</td>\n",
       "      <td>0.9856</td>\n",
       "      <td>[(0, 0.32622835), (1, 0.3847771), (2, 0.184396...</td>\n",
       "      <td>[0.0, 0.0, 0.0, 0.0, 0.0, 0.0, 0.0, 0.0, 0.0, ...</td>\n",
       "      <td>[0.073, 0.753, 0.175, 0.9856, 0.32622835040092...</td>\n",
       "    </tr>\n",
       "    <tr>\n",
       "      <th>2</th>\n",
       "      <td>4658</td>\n",
       "      <td>Johnny Cash</td>\n",
       "      <td>Redemption Day</td>\n",
       "      <td>\\n\\r\\nI've wept for those who suffer long\\r\\nB...</td>\n",
       "      <td>wept suffer long weep gone room grief question...</td>\n",
       "      <td>0.242</td>\n",
       "      <td>0.527</td>\n",
       "      <td>0.230</td>\n",
       "      <td>-0.4303</td>\n",
       "      <td>[(1, 0.40363222), (2, 0.39864072), (4, 0.19380...</td>\n",
       "      <td>[0.0, 0.0, 0.0, 0.0, 0.0, 0.0, 0.0, 0.0, 0.0, ...</td>\n",
       "      <td>[0.242, 0.527, 0.23, -0.4303, 0.0, 0.403632223...</td>\n",
       "    </tr>\n",
       "    <tr>\n",
       "      <th>3</th>\n",
       "      <td>14321</td>\n",
       "      <td>Beyonce</td>\n",
       "      <td>Party (Homecoming Live)</td>\n",
       "      <td>\\n\\r\\nI may be young, but I'm ready\\nTo give y...</td>\n",
       "      <td>young readi give love told girl slow love give...</td>\n",
       "      <td>0.129</td>\n",
       "      <td>0.511</td>\n",
       "      <td>0.360</td>\n",
       "      <td>0.9726</td>\n",
       "      <td>[(0, 0.23034556), (1, 0.06798923), (2, 0.21058...</td>\n",
       "      <td>[0.0, 0.0, 0.0, 0.0, 0.0, 0.0, 0.0, 0.0, 0.0, ...</td>\n",
       "      <td>[0.129, 0.511, 0.36, 0.9726, 0.230345562100410...</td>\n",
       "    </tr>\n",
       "    <tr>\n",
       "      <th>4</th>\n",
       "      <td>4352</td>\n",
       "      <td>Johnny Cash</td>\n",
       "      <td>I Came To Believe</td>\n",
       "      <td>\\n\\r\\nI couldn't manage the problems I laid on...</td>\n",
       "      <td>could manag problem laid made wors laid somebo...</td>\n",
       "      <td>0.144</td>\n",
       "      <td>0.591</td>\n",
       "      <td>0.265</td>\n",
       "      <td>0.8126</td>\n",
       "      <td>[(1, 0.29243812), (2, 0.6971464)]</td>\n",
       "      <td>[0.0, 0.0, 0.0, 0.0, 0.0, 0.0, 0.0, 0.0, 0.0, ...</td>\n",
       "      <td>[0.144, 0.591, 0.265, 0.8126, 0.0, 0.292438119...</td>\n",
       "    </tr>\n",
       "  </tbody>\n",
       "</table>\n",
       "</div>"
      ],
      "text/plain": [
       "      id       artist                    title  \\\n",
       "0   7828     Bon Jovi              Let It Rock   \n",
       "1   2706       Eminem                Music Box   \n",
       "2   4658  Johnny Cash           Redemption Day   \n",
       "3  14321      Beyonce  Party (Homecoming Live)   \n",
       "4   4352  Johnny Cash        I Came To Believe   \n",
       "\n",
       "                                              lyrics  \\\n",
       "0  \\n\\r\\nThe weekend comes to this town \\r\\nSeven...   \n",
       "1  \\n\\r\\nYeah, girl.\\nCan you hear that?\\nIt's pl...   \n",
       "2  \\n\\r\\nI've wept for those who suffer long\\r\\nB...   \n",
       "3  \\n\\r\\nI may be young, but I'm ready\\nTo give y...   \n",
       "4  \\n\\r\\nI couldn't manage the problems I laid on...   \n",
       "\n",
       "                                         lyrics_proc    neg    neu    pos  \\\n",
       "0  weekend come town seven soon make break rule w...  0.054  0.574  0.372   \n",
       "1  girl hear play song sleepi take afraid dark he...  0.073  0.753  0.175   \n",
       "2  wept suffer long weep gone room grief question...  0.242  0.527  0.230   \n",
       "3  young readi give love told girl slow love give...  0.129  0.511  0.360   \n",
       "4  could manag problem laid made wors laid somebo...  0.144  0.591  0.265   \n",
       "\n",
       "   compound                                                lda  \\\n",
       "0    0.9648  [(1, 0.17169867), (2, 0.14107515), (3, 0.11908...   \n",
       "1    0.9856  [(0, 0.32622835), (1, 0.3847771), (2, 0.184396...   \n",
       "2   -0.4303  [(1, 0.40363222), (2, 0.39864072), (4, 0.19380...   \n",
       "3    0.9726  [(0, 0.23034556), (1, 0.06798923), (2, 0.21058...   \n",
       "4    0.8126                  [(1, 0.29243812), (2, 0.6971464)]   \n",
       "\n",
       "                                              tf-idf  \\\n",
       "0  [0.0, 0.0, 0.0, 0.0, 0.0, 0.0, 0.0, 0.0, 0.0, ...   \n",
       "1  [0.0, 0.0, 0.0, 0.0, 0.0, 0.0, 0.0, 0.0, 0.0, ...   \n",
       "2  [0.0, 0.0, 0.0, 0.0, 0.0, 0.0, 0.0, 0.0, 0.0, ...   \n",
       "3  [0.0, 0.0, 0.0, 0.0, 0.0, 0.0, 0.0, 0.0, 0.0, ...   \n",
       "4  [0.0, 0.0, 0.0, 0.0, 0.0, 0.0, 0.0, 0.0, 0.0, ...   \n",
       "\n",
       "                                      feature_vector  \n",
       "0  [0.054, 0.574, 0.372, 0.9648, 0.0, 0.171698674...  \n",
       "1  [0.073, 0.753, 0.175, 0.9856, 0.32622835040092...  \n",
       "2  [0.242, 0.527, 0.23, -0.4303, 0.0, 0.403632223...  \n",
       "3  [0.129, 0.511, 0.36, 0.9726, 0.230345562100410...  \n",
       "4  [0.144, 0.591, 0.265, 0.8126, 0.0, 0.292438119...  "
      ]
     },
     "execution_count": 16,
     "metadata": {},
     "output_type": "execute_result"
    }
   ],
   "source": [
    "# Convert LDA topic distributions to a fixed-size vector\n",
    "def lda_to_vec(lda_dist, num_topics):\n",
    "    vec = np.zeros(num_topics)\n",
    "    for topic, prob in lda_dist:\n",
    "        vec[topic] = prob\n",
    "    return vec\n",
    "\n",
    "# Combine features\n",
    "features = []\n",
    "for i in range(len(df)):\n",
    "    sentiment_scores = df[['neg', 'neu', 'pos', 'compound']].iloc[i].values\n",
    "    lda_vector = lda_to_vec(df['lda'].iloc[i], lda_model.num_topics)\n",
    "    tfidf_vector = tfidf_matrix[i].toarray()[0]\n",
    "    \n",
    "    combined_vector = np.concatenate([sentiment_scores, lda_vector, tfidf_vector])\n",
    "    features.append(combined_vector.tolist())\n",
    "\n",
    "# Convert to numpy array\n",
    "df['feature_vector'] = features\n",
    "df.head()"
   ]
  },
  {
   "cell_type": "markdown",
   "metadata": {},
   "source": [
    "### Here we directly apply cosine similarity and retrieve the most similar songs"
   ]
  },
  {
   "cell_type": "code",
   "execution_count": 17,
   "metadata": {},
   "outputs": [
    {
     "data": {
      "text/html": [
       "<div>\n",
       "<style scoped>\n",
       "    .dataframe tbody tr th:only-of-type {\n",
       "        vertical-align: middle;\n",
       "    }\n",
       "\n",
       "    .dataframe tbody tr th {\n",
       "        vertical-align: top;\n",
       "    }\n",
       "\n",
       "    .dataframe thead th {\n",
       "        text-align: right;\n",
       "    }\n",
       "</style>\n",
       "<table border=\"1\" class=\"dataframe\">\n",
       "  <thead>\n",
       "    <tr style=\"text-align: right;\">\n",
       "      <th></th>\n",
       "      <th>id</th>\n",
       "      <th>similarity</th>\n",
       "    </tr>\n",
       "  </thead>\n",
       "  <tbody>\n",
       "    <tr>\n",
       "      <th>0</th>\n",
       "      <td>7828</td>\n",
       "      <td>1.000000</td>\n",
       "    </tr>\n",
       "    <tr>\n",
       "      <th>1</th>\n",
       "      <td>17871</td>\n",
       "      <td>0.807574</td>\n",
       "    </tr>\n",
       "    <tr>\n",
       "      <th>2</th>\n",
       "      <td>23723</td>\n",
       "      <td>0.746321</td>\n",
       "    </tr>\n",
       "    <tr>\n",
       "      <th>3</th>\n",
       "      <td>24752</td>\n",
       "      <td>0.722830</td>\n",
       "    </tr>\n",
       "    <tr>\n",
       "      <th>4</th>\n",
       "      <td>6933</td>\n",
       "      <td>0.719819</td>\n",
       "    </tr>\n",
       "    <tr>\n",
       "      <th>5</th>\n",
       "      <td>17590</td>\n",
       "      <td>0.719181</td>\n",
       "    </tr>\n",
       "    <tr>\n",
       "      <th>6</th>\n",
       "      <td>617</td>\n",
       "      <td>0.718872</td>\n",
       "    </tr>\n",
       "    <tr>\n",
       "      <th>7</th>\n",
       "      <td>993</td>\n",
       "      <td>0.718871</td>\n",
       "    </tr>\n",
       "    <tr>\n",
       "      <th>8</th>\n",
       "      <td>18288</td>\n",
       "      <td>0.705612</td>\n",
       "    </tr>\n",
       "    <tr>\n",
       "      <th>9</th>\n",
       "      <td>16549</td>\n",
       "      <td>0.698643</td>\n",
       "    </tr>\n",
       "    <tr>\n",
       "      <th>10</th>\n",
       "      <td>18078</td>\n",
       "      <td>0.682805</td>\n",
       "    </tr>\n",
       "  </tbody>\n",
       "</table>\n",
       "</div>"
      ],
      "text/plain": [
       "       id  similarity\n",
       "0    7828    1.000000\n",
       "1   17871    0.807574\n",
       "2   23723    0.746321\n",
       "3   24752    0.722830\n",
       "4    6933    0.719819\n",
       "5   17590    0.719181\n",
       "6     617    0.718872\n",
       "7     993    0.718871\n",
       "8   18288    0.705612\n",
       "9   16549    0.698643\n",
       "10  18078    0.682805"
      ]
     },
     "execution_count": 17,
     "metadata": {},
     "output_type": "execute_result"
    }
   ],
   "source": [
    "def top_n_similar_embeddings(df, target_index, n=10):\n",
    "    \n",
    "    # Extract the target embedding and its cluster\n",
    "    target_embedding = df.at[target_index, 'feature_vector']\n",
    "    \n",
    "    # Get all the embeddings    \n",
    "    all_embeddings = np.stack(df['feature_vector'].values)\n",
    "\n",
    "    # Calculate cosine similarities\n",
    "    similarities = cosine_similarity([target_embedding], all_embeddings)[0]\n",
    "\n",
    "    # Get the top n similar embeddings\n",
    "    top_n_indices = np.argsort(similarities)[-n-1:][::-1]\n",
    "    top_n_similar_ids = df.iloc[top_n_indices]['id'].values\n",
    "    top_n_similarities = similarities[top_n_indices]\n",
    "\n",
    "    return pd.DataFrame({\n",
    "        'id': top_n_similar_ids, \n",
    "        'similarity': top_n_similarities\n",
    "    })\n",
    "\n",
    "# Show top 10 similar song to the first song (the first row is the song itself)\n",
    "top_n_similar_embeddings(df,target_index=0,n=10)"
   ]
  }
 ],
 "metadata": {
  "kernelspec": {
   "display_name": "Python 3",
   "language": "python",
   "name": "python3"
  },
  "language_info": {
   "codemirror_mode": {
    "name": "ipython",
    "version": 3
   },
   "file_extension": ".py",
   "mimetype": "text/x-python",
   "name": "python",
   "nbconvert_exporter": "python",
   "pygments_lexer": "ipython3",
   "version": "3.12.3"
  }
 },
 "nbformat": 4,
 "nbformat_minor": 2
}
