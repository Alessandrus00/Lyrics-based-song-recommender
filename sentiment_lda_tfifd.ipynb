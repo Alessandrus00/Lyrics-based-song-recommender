{
 "cells": [
  {
   "cell_type": "markdown",
   "metadata": {},
   "source": [
    "### Sentiment analysis using Vader"
   ]
  },
  {
   "cell_type": "code",
   "execution_count": 201,
   "metadata": {},
   "outputs": [
    {
     "data": {
      "text/plain": [
       "True"
      ]
     },
     "execution_count": 201,
     "metadata": {},
     "output_type": "execute_result"
    }
   ],
   "source": [
    "import nltk\n",
    "from nltk.sentiment import SentimentIntensityAnalyzer\n",
    "import pandas as pd\n",
    "import matplotlib.pyplot as plt\n",
    "import seaborn as sns\n",
    "from tabulate import tabulate\n",
    "import plotly.io as pio\n",
    "import plotly.graph_objects as go\n",
    "from sklearn.feature_extraction.text import TfidfVectorizer\n",
    "from gensim import corpora\n",
    "from gensim.models import LdaModel\n",
    "import warnings\n",
    "from gensim.models import CoherenceModel\n",
    "import pyLDAvis\n",
    "import pyLDAvis.gensim_models as gensimvis\n",
    "import numpy as np\n",
    "from sklearn.metrics.pairwise import cosine_similarity\n",
    "import os\n",
    "\n",
    "nltk.download('vader_lexicon',quiet=True)"
   ]
  },
  {
   "cell_type": "code",
   "execution_count": 169,
   "metadata": {},
   "outputs": [],
   "source": [
    "df = pd.read_csv('./data/song_lyrics_sampled_proc.csv')\n",
    "sia = SentimentIntensityAnalyzer()"
   ]
  },
  {
   "cell_type": "code",
   "execution_count": 170,
   "metadata": {},
   "outputs": [
    {
     "name": "stdout",
     "output_type": "stream",
     "text": [
      "+---+------------------------------+---------------------+------+-------+-------+-------+----------+\n",
      "|   |            title             |       artist        | year |  neg  |  neu  |  pos  | compound |\n",
      "+---+------------------------------+---------------------+------+-------+-------+-------+----------+\n",
      "| 0 |          Toothpick           |    Biting Elbows    | 2012 | 0.191 | 0.64  | 0.169 |  0.0258  |\n",
      "| 1 |         6 Feet Under         |    Ana Johnsson     | 2004 | 0.145 | 0.855 |  0.0  | -0.9325  |\n",
      "| 2 | The Poetaster Act 4. Scene 2 |     Ben Jonson      | 1601 | 0.107 | 0.726 | 0.167 |  0.9042  |\n",
      "| 3 |           Hes Gone           | Phil Lesh & Friends | 2015 | 0.074 | 0.727 | 0.198 |  0.9393  |\n",
      "| 4 |        Ill Never Say         |     Helen Ward      | 2015 | 0.421 | 0.485 | 0.093 | -0.9558  |\n",
      "+---+------------------------------+---------------------+------+-------+-------+-------+----------+\n"
     ]
    }
   ],
   "source": [
    "\"\"\"\n",
    "apply sentiment analysis:\n",
    "polarity_scores() returns a dictionary with four key sentiment metrics that\n",
    "provide a comprehensive view of the sentiment:\n",
    "\n",
    "- neg (negative): proportion of text that is perceived as negative\n",
    "    range:  0-1   ->  higher values indicate a stronger presence of negative sentiment\n",
    "\n",
    "- neu (neutral): proportion of text that is perceived as neutral\n",
    "    range:  0-1   ->  higher values indicate a stronger presence of neutral sentiment\n",
    "\n",
    "- pos (positive): proportion of text that is perceived as positive\n",
    "    range:  0-1   ->  higher values indicate a stronger presence of positive sentiment\n",
    "\n",
    "-compound: normalized, weighted composite score that summarizes the overall sentiment of the text\n",
    "    range: -1, 1  ->    Values close to 1 indicate extremely positive sentiment.\n",
    "                        Values close to -1 indicate extremely negative sentiment.\n",
    "                        Values around 0 indicate neutral sentiment.\n",
    "\"\"\"\n",
    "\n",
    "df['sentiment'] = df['lyrics_proc'].apply(lambda x: sia.polarity_scores(x))\n",
    "\n",
    "# separate the sentiment scores into individual columns\n",
    "sentiment_df = df['sentiment'].apply(pd.Series)\n",
    "\n",
    "df = pd.concat([df, sentiment_df], axis=1)\n",
    "\n",
    "# Drop the 'sentiment' column\n",
    "df.drop(columns=['sentiment'], inplace=True)\n",
    "\n",
    "columns_to_display = ['title', 'artist', 'year', 'neg', 'neu', 'pos', 'compound']\n",
    "\n",
    "print(tabulate(df[columns_to_display].head(), headers='keys', tablefmt='pretty'))"
   ]
  },
  {
   "cell_type": "code",
   "execution_count": 171,
   "metadata": {},
   "outputs": [
    {
     "data": {
      "image/svg+xml": [
       "<svg class=\"main-svg\" xmlns=\"http://www.w3.org/2000/svg\" xmlns:xlink=\"http://www.w3.org/1999/xlink\" width=\"700\" height=\"500\" style=\"\" viewBox=\"0 0 700 500\"><rect x=\"0\" y=\"0\" width=\"700\" height=\"500\" style=\"fill: rgb(255, 255, 255); fill-opacity: 1;\"/><defs id=\"defs-0c907a\"><g class=\"clips\"><clipPath id=\"clip0c907axyplot\" class=\"plotclip\"><rect width=\"540\" height=\"320\"/></clipPath><clipPath class=\"axesclip\" id=\"clip0c907ax\"><rect x=\"80\" y=\"0\" width=\"540\" height=\"500\"/></clipPath><clipPath class=\"axesclip\" id=\"clip0c907ay\"><rect x=\"0\" y=\"100\" width=\"700\" height=\"320\"/></clipPath><clipPath class=\"axesclip\" id=\"clip0c907axy\"><rect x=\"80\" y=\"100\" width=\"540\" height=\"320\"/></clipPath></g><g class=\"gradients\"/><g class=\"patterns\"/></defs><g class=\"bglayer\"><rect class=\"bg\" x=\"80\" y=\"100\" width=\"540\" height=\"320\" style=\"fill: rgb(229, 236, 246); fill-opacity: 1; stroke-width: 0;\"/></g><g class=\"layer-below\"><g class=\"imagelayer\"/><g class=\"shapelayer\"/></g><g class=\"cartesianlayer\"><g class=\"subplot xy\"><g class=\"layer-subplot\"><g class=\"shapelayer\"/><g class=\"imagelayer\"/></g><g class=\"minor-gridlayer\"><g class=\"x\"/><g class=\"y\"/></g><g class=\"gridlayer\"><g class=\"x\"/><g class=\"y\"><path class=\"ygrid crisp\" transform=\"translate(0,381.94)\" d=\"M80,0h540\" style=\"stroke: rgb(255, 255, 255); stroke-opacity: 1; stroke-width: 1px;\"/><path class=\"ygrid crisp\" transform=\"translate(0,343.87)\" d=\"M80,0h540\" style=\"stroke: rgb(255, 255, 255); stroke-opacity: 1; stroke-width: 1px;\"/><path class=\"ygrid crisp\" transform=\"translate(0,305.81)\" d=\"M80,0h540\" style=\"stroke: rgb(255, 255, 255); stroke-opacity: 1; stroke-width: 1px;\"/><path class=\"ygrid crisp\" transform=\"translate(0,267.75)\" d=\"M80,0h540\" style=\"stroke: rgb(255, 255, 255); stroke-opacity: 1; stroke-width: 1px;\"/><path class=\"ygrid crisp\" transform=\"translate(0,229.68)\" d=\"M80,0h540\" style=\"stroke: rgb(255, 255, 255); stroke-opacity: 1; stroke-width: 1px;\"/><path class=\"ygrid crisp\" transform=\"translate(0,191.62)\" d=\"M80,0h540\" style=\"stroke: rgb(255, 255, 255); stroke-opacity: 1; stroke-width: 1px;\"/><path class=\"ygrid crisp\" transform=\"translate(0,153.56)\" d=\"M80,0h540\" style=\"stroke: rgb(255, 255, 255); stroke-opacity: 1; stroke-width: 1px;\"/><path class=\"ygrid crisp\" transform=\"translate(0,115.49)\" d=\"M80,0h540\" style=\"stroke: rgb(255, 255, 255); stroke-opacity: 1; stroke-width: 1px;\"/></g></g><g class=\"zerolinelayer\"><path class=\"yzl zl crisp\" transform=\"translate(0,420)\" d=\"M80,0h540\" style=\"stroke: rgb(255, 255, 255); stroke-opacity: 1; stroke-width: 2px;\"/></g><g class=\"layer-between\"><g class=\"shapelayer\"/><g class=\"imagelayer\"/></g><path class=\"xlines-below\"/><path class=\"ylines-below\"/><g class=\"overlines-below\"/><g class=\"xaxislayer-below\"/><g class=\"yaxislayer-below\"/><g class=\"overaxes-below\"/><g class=\"plot\" transform=\"translate(80,100)\" clip-path=\"url(#clip0c907axyplot)\"><g class=\"barlayer mlayer\"><g class=\"trace bars\" style=\"opacity: 1;\"><g class=\"points\"><g class=\"point\"><path d=\"M0.53,320V99.53H10.06V320Z\" style=\"vector-effect: none; opacity: 1; stroke-width: 0px; fill: rgb(200, 60, 0); fill-opacity: 0.9;\"/></g><g class=\"point\"><path d=\"M11.12,320V181.11H20.65V320Z\" style=\"vector-effect: none; opacity: 1; stroke-width: 0px; fill: rgb(200, 60, 0); fill-opacity: 0.9;\"/></g><g class=\"point\"><path d=\"M21.71,320V119.92H31.24V320Z\" style=\"vector-effect: none; opacity: 1; stroke-width: 0px; fill: rgb(200, 60, 0); fill-opacity: 0.9;\"/></g><g class=\"point\"><path d=\"M32.29,320V100.5H41.82V320Z\" style=\"vector-effect: none; opacity: 1; stroke-width: 0px; fill: rgb(200, 60, 0); fill-opacity: 0.9;\"/></g><g class=\"point\"><path d=\"M42.88,320V56.79H52.41V320Z\" style=\"vector-effect: none; opacity: 1; stroke-width: 0px; fill: rgb(200, 60, 0); fill-opacity: 0.9;\"/></g><g class=\"point\"><path d=\"M53.47,320V41.25H63V320Z\" style=\"vector-effect: none; opacity: 1; stroke-width: 0px; fill: rgb(200, 60, 0); fill-opacity: 0.9;\"/></g><g class=\"point\"><path d=\"M64.06,320V21.83H73.59V320Z\" style=\"vector-effect: none; opacity: 1; stroke-width: 0px; fill: rgb(200, 60, 0); fill-opacity: 0.9;\"/></g><g class=\"point\"><path d=\"M74.65,320V44.17H84.18V320Z\" style=\"vector-effect: none; opacity: 1; stroke-width: 0px; fill: rgb(200, 60, 0); fill-opacity: 0.9;\"/></g><g class=\"point\"><path d=\"M85.24,320V48.05H94.76V320Z\" style=\"vector-effect: none; opacity: 1; stroke-width: 0px; fill: rgb(200, 60, 0); fill-opacity: 0.9;\"/></g><g class=\"point\"><path d=\"M95.82,320V70.39H105.35V320Z\" style=\"vector-effect: none; opacity: 1; stroke-width: 0px; fill: rgb(200, 60, 0); fill-opacity: 0.9;\"/></g><g class=\"point\"><path d=\"M106.41,320V76.22H115.94V320Z\" style=\"vector-effect: none; opacity: 1; stroke-width: 0px; fill: rgb(200, 60, 0); fill-opacity: 0.9;\"/></g><g class=\"point\"><path d=\"M117,320V141.29H126.53V320Z\" style=\"vector-effect: none; opacity: 1; stroke-width: 0px; fill: rgb(200, 60, 0); fill-opacity: 0.9;\"/></g><g class=\"point\"><path d=\"M127.59,320V156.83H137.12V320Z\" style=\"vector-effect: none; opacity: 1; stroke-width: 0px; fill: rgb(200, 60, 0); fill-opacity: 0.9;\"/></g><g class=\"point\"><path d=\"M138.18,320V185.97H147.71V320Z\" style=\"vector-effect: none; opacity: 1; stroke-width: 0px; fill: rgb(200, 60, 0); fill-opacity: 0.9;\"/></g><g class=\"point\"><path d=\"M148.76,320V212.19H158.29V320Z\" style=\"vector-effect: none; opacity: 1; stroke-width: 0px; fill: rgb(200, 60, 0); fill-opacity: 0.9;\"/></g><g class=\"point\"><path d=\"M159.35,320V224.82H168.88V320Z\" style=\"vector-effect: none; opacity: 1; stroke-width: 0px; fill: rgb(200, 60, 0); fill-opacity: 0.9;\"/></g><g class=\"point\"><path d=\"M169.94,320V229.67H179.47V320Z\" style=\"vector-effect: none; opacity: 1; stroke-width: 0px; fill: rgb(200, 60, 0); fill-opacity: 0.9;\"/></g><g class=\"point\"><path d=\"M180.53,320V240.36H190.06V320Z\" style=\"vector-effect: none; opacity: 1; stroke-width: 0px; fill: rgb(200, 60, 0); fill-opacity: 0.9;\"/></g><g class=\"point\"><path d=\"M191.12,320V264.64H200.65V320Z\" style=\"vector-effect: none; opacity: 1; stroke-width: 0px; fill: rgb(200, 60, 0); fill-opacity: 0.9;\"/></g><g class=\"point\"><path d=\"M201.71,320V256.87H211.24V320Z\" style=\"vector-effect: none; opacity: 1; stroke-width: 0px; fill: rgb(200, 60, 0); fill-opacity: 0.9;\"/></g><g class=\"point\"><path d=\"M212.29,320V285.04H221.82V320Z\" style=\"vector-effect: none; opacity: 1; stroke-width: 0px; fill: rgb(200, 60, 0); fill-opacity: 0.9;\"/></g><g class=\"point\"><path d=\"M222.88,320V287.95H232.41V320Z\" style=\"vector-effect: none; opacity: 1; stroke-width: 0px; fill: rgb(200, 60, 0); fill-opacity: 0.9;\"/></g><g class=\"point\"><path d=\"M233.47,320V299.6H243V320Z\" style=\"vector-effect: none; opacity: 1; stroke-width: 0px; fill: rgb(200, 60, 0); fill-opacity: 0.9;\"/></g><g class=\"point\"><path d=\"M244.06,320V296.69H253.59V320Z\" style=\"vector-effect: none; opacity: 1; stroke-width: 0px; fill: rgb(200, 60, 0); fill-opacity: 0.9;\"/></g><g class=\"point\"><path d=\"M254.65,320V305.43H264.18V320Z\" style=\"vector-effect: none; opacity: 1; stroke-width: 0px; fill: rgb(200, 60, 0); fill-opacity: 0.9;\"/></g><g class=\"point\"><path d=\"M265.24,320V306.4H274.76V320Z\" style=\"vector-effect: none; opacity: 1; stroke-width: 0px; fill: rgb(200, 60, 0); fill-opacity: 0.9;\"/></g><g class=\"point\"><path d=\"M275.82,320V309.32H285.35V320Z\" style=\"vector-effect: none; opacity: 1; stroke-width: 0px; fill: rgb(200, 60, 0); fill-opacity: 0.9;\"/></g><g class=\"point\"><path d=\"M286.41,320V313.2H295.94V320Z\" style=\"vector-effect: none; opacity: 1; stroke-width: 0px; fill: rgb(200, 60, 0); fill-opacity: 0.9;\"/></g><g class=\"point\"><path d=\"M297,320V312.23H306.53V320Z\" style=\"vector-effect: none; opacity: 1; stroke-width: 0px; fill: rgb(200, 60, 0); fill-opacity: 0.9;\"/></g><g class=\"point\"><path d=\"M307.59,320V316.12H317.12V320Z\" style=\"vector-effect: none; opacity: 1; stroke-width: 0px; fill: rgb(200, 60, 0); fill-opacity: 0.9;\"/></g><g class=\"point\"><path d=\"M318.18,320V316.12H327.71V320Z\" style=\"vector-effect: none; opacity: 1; stroke-width: 0px; fill: rgb(200, 60, 0); fill-opacity: 0.9;\"/></g><g class=\"point\"><path d=\"M328.76,320V318.06H338.29V320Z\" style=\"vector-effect: none; opacity: 1; stroke-width: 0px; fill: rgb(200, 60, 0); fill-opacity: 0.9;\"/></g><g class=\"point\"><path d=\"M339.35,320V319.03H348.88V320Z\" style=\"vector-effect: none; opacity: 1; stroke-width: 0px; fill: rgb(200, 60, 0); fill-opacity: 0.9;\"/></g><g class=\"point\"><path d=\"M0,0Z\" style=\"vector-effect: none; opacity: 1; stroke-width: 0px; fill: rgb(200, 60, 0); fill-opacity: 0.9;\"/></g><g class=\"point\"><path d=\"M360.53,320V318.06H370.06V320Z\" style=\"vector-effect: none; opacity: 1; stroke-width: 0px; fill: rgb(200, 60, 0); fill-opacity: 0.9;\"/></g><g class=\"point\"><path d=\"M371.12,320V319.03H380.65V320Z\" style=\"vector-effect: none; opacity: 1; stroke-width: 0px; fill: rgb(200, 60, 0); fill-opacity: 0.9;\"/></g><g class=\"point\"><path d=\"M381.71,320V319.03H391.24V320Z\" style=\"vector-effect: none; opacity: 1; stroke-width: 0px; fill: rgb(200, 60, 0); fill-opacity: 0.9;\"/></g></g></g><g class=\"trace bars\" style=\"opacity: 1;\"><g class=\"points\"><g class=\"point\"><path d=\"M42.88,320V319.03H52.41V320Z\" style=\"vector-effect: none; opacity: 1; stroke-width: 0px; fill: rgb(128, 128, 128); fill-opacity: 1;\"/></g><g class=\"point\"><path d=\"M0,0Z\" style=\"vector-effect: none; opacity: 1; stroke-width: 0px; fill: rgb(128, 128, 128); fill-opacity: 1;\"/></g><g class=\"point\"><path d=\"M0,0Z\" style=\"vector-effect: none; opacity: 1; stroke-width: 0px; fill: rgb(128, 128, 128); fill-opacity: 1;\"/></g><g class=\"point\"><path d=\"M74.65,320V318.06H84.18V320Z\" style=\"vector-effect: none; opacity: 1; stroke-width: 0px; fill: rgb(128, 128, 128); fill-opacity: 1;\"/></g><g class=\"point\"><path d=\"M0,0Z\" style=\"vector-effect: none; opacity: 1; stroke-width: 0px; fill: rgb(128, 128, 128); fill-opacity: 1;\"/></g><g class=\"point\"><path d=\"M95.82,320V318.06H105.35V320Z\" style=\"vector-effect: none; opacity: 1; stroke-width: 0px; fill: rgb(128, 128, 128); fill-opacity: 1;\"/></g><g class=\"point\"><path d=\"M106.41,320V316.12H115.94V320Z\" style=\"vector-effect: none; opacity: 1; stroke-width: 0px; fill: rgb(128, 128, 128); fill-opacity: 1;\"/></g><g class=\"point\"><path d=\"M117,320V316.12H126.53V320Z\" style=\"vector-effect: none; opacity: 1; stroke-width: 0px; fill: rgb(128, 128, 128); fill-opacity: 1;\"/></g><g class=\"point\"><path d=\"M127.59,320V309.32H137.12V320Z\" style=\"vector-effect: none; opacity: 1; stroke-width: 0px; fill: rgb(128, 128, 128); fill-opacity: 1;\"/></g><g class=\"point\"><path d=\"M138.18,320V311.26H147.71V320Z\" style=\"vector-effect: none; opacity: 1; stroke-width: 0px; fill: rgb(128, 128, 128); fill-opacity: 1;\"/></g><g class=\"point\"><path d=\"M148.76,320V309.32H158.29V320Z\" style=\"vector-effect: none; opacity: 1; stroke-width: 0px; fill: rgb(128, 128, 128); fill-opacity: 1;\"/></g><g class=\"point\"><path d=\"M159.35,320V299.6H168.88V320Z\" style=\"vector-effect: none; opacity: 1; stroke-width: 0px; fill: rgb(128, 128, 128); fill-opacity: 1;\"/></g><g class=\"point\"><path d=\"M169.94,320V299.6H179.47V320Z\" style=\"vector-effect: none; opacity: 1; stroke-width: 0px; fill: rgb(128, 128, 128); fill-opacity: 1;\"/></g><g class=\"point\"><path d=\"M180.53,320V283.09H190.06V320Z\" style=\"vector-effect: none; opacity: 1; stroke-width: 0px; fill: rgb(128, 128, 128); fill-opacity: 1;\"/></g><g class=\"point\"><path d=\"M191.12,320V288.92H200.65V320Z\" style=\"vector-effect: none; opacity: 1; stroke-width: 0px; fill: rgb(128, 128, 128); fill-opacity: 1;\"/></g><g class=\"point\"><path d=\"M201.71,320V273.38H211.24V320Z\" style=\"vector-effect: none; opacity: 1; stroke-width: 0px; fill: rgb(128, 128, 128); fill-opacity: 1;\"/></g><g class=\"point\"><path d=\"M212.29,320V252.01H221.82V320Z\" style=\"vector-effect: none; opacity: 1; stroke-width: 0px; fill: rgb(128, 128, 128); fill-opacity: 1;\"/></g><g class=\"point\"><path d=\"M222.88,320V246.19H232.41V320Z\" style=\"vector-effect: none; opacity: 1; stroke-width: 0px; fill: rgb(128, 128, 128); fill-opacity: 1;\"/></g><g class=\"point\"><path d=\"M233.47,320V227.73H243V320Z\" style=\"vector-effect: none; opacity: 1; stroke-width: 0px; fill: rgb(128, 128, 128); fill-opacity: 1;\"/></g><g class=\"point\"><path d=\"M244.06,320V228.7H253.59V320Z\" style=\"vector-effect: none; opacity: 1; stroke-width: 0px; fill: rgb(128, 128, 128); fill-opacity: 1;\"/></g><g class=\"point\"><path d=\"M254.65,320V213.16H264.18V320Z\" style=\"vector-effect: none; opacity: 1; stroke-width: 0px; fill: rgb(128, 128, 128); fill-opacity: 1;\"/></g><g class=\"point\"><path d=\"M265.24,320V177.23H274.76V320Z\" style=\"vector-effect: none; opacity: 1; stroke-width: 0px; fill: rgb(128, 128, 128); fill-opacity: 1;\"/></g><g class=\"point\"><path d=\"M275.82,320V143.23H285.35V320Z\" style=\"vector-effect: none; opacity: 1; stroke-width: 0px; fill: rgb(128, 128, 128); fill-opacity: 1;\"/></g><g class=\"point\"><path d=\"M286.41,320V152.95H295.94V320Z\" style=\"vector-effect: none; opacity: 1; stroke-width: 0px; fill: rgb(128, 128, 128); fill-opacity: 1;\"/></g><g class=\"point\"><path d=\"M297,320V104.38H306.53V320Z\" style=\"vector-effect: none; opacity: 1; stroke-width: 0px; fill: rgb(128, 128, 128); fill-opacity: 1;\"/></g><g class=\"point\"><path d=\"M307.59,320V98.56H317.12V320Z\" style=\"vector-effect: none; opacity: 1; stroke-width: 0px; fill: rgb(128, 128, 128); fill-opacity: 1;\"/></g><g class=\"point\"><path d=\"M318.18,320V77.19H327.71V320Z\" style=\"vector-effect: none; opacity: 1; stroke-width: 0px; fill: rgb(128, 128, 128); fill-opacity: 1;\"/></g><g class=\"point\"><path d=\"M328.76,320V57.76H338.29V320Z\" style=\"vector-effect: none; opacity: 1; stroke-width: 0px; fill: rgb(128, 128, 128); fill-opacity: 1;\"/></g><g class=\"point\"><path d=\"M339.35,320V62.62H348.88V320Z\" style=\"vector-effect: none; opacity: 1; stroke-width: 0px; fill: rgb(128, 128, 128); fill-opacity: 1;\"/></g><g class=\"point\"><path d=\"M349.94,320V73.3H359.47V320Z\" style=\"vector-effect: none; opacity: 1; stroke-width: 0px; fill: rgb(128, 128, 128); fill-opacity: 1;\"/></g><g class=\"point\"><path d=\"M360.53,320V122.84H370.06V320Z\" style=\"vector-effect: none; opacity: 1; stroke-width: 0px; fill: rgb(128, 128, 128); fill-opacity: 1;\"/></g><g class=\"point\"><path d=\"M371.12,320V125.75H380.65V320Z\" style=\"vector-effect: none; opacity: 1; stroke-width: 0px; fill: rgb(128, 128, 128); fill-opacity: 1;\"/></g><g class=\"point\"><path d=\"M381.71,320V146.15H391.24V320Z\" style=\"vector-effect: none; opacity: 1; stroke-width: 0px; fill: rgb(128, 128, 128); fill-opacity: 1;\"/></g><g class=\"point\"><path d=\"M392.29,320V177.23H401.82V320Z\" style=\"vector-effect: none; opacity: 1; stroke-width: 0px; fill: rgb(128, 128, 128); fill-opacity: 1;\"/></g><g class=\"point\"><path d=\"M402.88,320V195.68H412.41V320Z\" style=\"vector-effect: none; opacity: 1; stroke-width: 0px; fill: rgb(128, 128, 128); fill-opacity: 1;\"/></g><g class=\"point\"><path d=\"M413.47,320V244.24H423V320Z\" style=\"vector-effect: none; opacity: 1; stroke-width: 0px; fill: rgb(128, 128, 128); fill-opacity: 1;\"/></g><g class=\"point\"><path d=\"M424.06,320V239.39H433.59V320Z\" style=\"vector-effect: none; opacity: 1; stroke-width: 0px; fill: rgb(128, 128, 128); fill-opacity: 1;\"/></g><g class=\"point\"><path d=\"M434.65,320V256.87H444.18V320Z\" style=\"vector-effect: none; opacity: 1; stroke-width: 0px; fill: rgb(128, 128, 128); fill-opacity: 1;\"/></g><g class=\"point\"><path d=\"M445.24,320V262.7H454.76V320Z\" style=\"vector-effect: none; opacity: 1; stroke-width: 0px; fill: rgb(128, 128, 128); fill-opacity: 1;\"/></g><g class=\"point\"><path d=\"M455.82,320V281.15H465.35V320Z\" style=\"vector-effect: none; opacity: 1; stroke-width: 0px; fill: rgb(128, 128, 128); fill-opacity: 1;\"/></g><g class=\"point\"><path d=\"M466.41,320V290.86H475.94V320Z\" style=\"vector-effect: none; opacity: 1; stroke-width: 0px; fill: rgb(128, 128, 128); fill-opacity: 1;\"/></g><g class=\"point\"><path d=\"M477,320V302.52H486.53V320Z\" style=\"vector-effect: none; opacity: 1; stroke-width: 0px; fill: rgb(128, 128, 128); fill-opacity: 1;\"/></g><g class=\"point\"><path d=\"M487.59,320V306.4H497.12V320Z\" style=\"vector-effect: none; opacity: 1; stroke-width: 0px; fill: rgb(128, 128, 128); fill-opacity: 1;\"/></g><g class=\"point\"><path d=\"M498.18,320V309.32H507.71V320Z\" style=\"vector-effect: none; opacity: 1; stroke-width: 0px; fill: rgb(128, 128, 128); fill-opacity: 1;\"/></g><g class=\"point\"><path d=\"M508.76,320V315.14H518.29V320Z\" style=\"vector-effect: none; opacity: 1; stroke-width: 0px; fill: rgb(128, 128, 128); fill-opacity: 1;\"/></g><g class=\"point\"><path d=\"M519.35,320V317.09H528.88V320Z\" style=\"vector-effect: none; opacity: 1; stroke-width: 0px; fill: rgb(128, 128, 128); fill-opacity: 1;\"/></g><g class=\"point\"><path d=\"M529.94,320V303.49H539.47V320Z\" style=\"vector-effect: none; opacity: 1; stroke-width: 0px; fill: rgb(128, 128, 128); fill-opacity: 1;\"/></g></g></g><g class=\"trace bars\" style=\"opacity: 1;\"><g class=\"points\"><g class=\"point\"><path d=\"M0.53,320V244.24H10.06V320Z\" style=\"vector-effect: none; opacity: 1; stroke-width: 0px; fill: rgb(0, 200, 60); fill-opacity: 0.9;\"/></g><g class=\"point\"><path d=\"M11.12,320V293.78H20.65V320Z\" style=\"vector-effect: none; opacity: 1; stroke-width: 0px; fill: rgb(0, 200, 60); fill-opacity: 0.9;\"/></g><g class=\"point\"><path d=\"M21.71,320V252.98H31.24V320Z\" style=\"vector-effect: none; opacity: 1; stroke-width: 0px; fill: rgb(0, 200, 60); fill-opacity: 0.9;\"/></g><g class=\"point\"><path d=\"M32.29,320V211.22H41.82V320Z\" style=\"vector-effect: none; opacity: 1; stroke-width: 0px; fill: rgb(0, 200, 60); fill-opacity: 0.9;\"/></g><g class=\"point\"><path d=\"M42.88,320V147.12H52.41V320Z\" style=\"vector-effect: none; opacity: 1; stroke-width: 0px; fill: rgb(0, 200, 60); fill-opacity: 0.9;\"/></g><g class=\"point\"><path d=\"M53.47,320V110.21H63V320Z\" style=\"vector-effect: none; opacity: 1; stroke-width: 0px; fill: rgb(0, 200, 60); fill-opacity: 0.9;\"/></g><g class=\"point\"><path d=\"M64.06,320V71.36H73.59V320Z\" style=\"vector-effect: none; opacity: 1; stroke-width: 0px; fill: rgb(0, 200, 60); fill-opacity: 0.9;\"/></g><g class=\"point\"><path d=\"M74.65,320V58.73H84.18V320Z\" style=\"vector-effect: none; opacity: 1; stroke-width: 0px; fill: rgb(0, 200, 60); fill-opacity: 0.9;\"/></g><g class=\"point\"><path d=\"M85.24,320V23.77H94.76V320Z\" style=\"vector-effect: none; opacity: 1; stroke-width: 0px; fill: rgb(0, 200, 60); fill-opacity: 0.9;\"/></g><g class=\"point\"><path d=\"M95.82,320V43.19H105.35V320Z\" style=\"vector-effect: none; opacity: 1; stroke-width: 0px; fill: rgb(0, 200, 60); fill-opacity: 0.9;\"/></g><g class=\"point\"><path d=\"M106.41,320V16H115.94V320Z\" style=\"vector-effect: none; opacity: 1; stroke-width: 0px; fill: rgb(0, 200, 60); fill-opacity: 0.9;\"/></g><g class=\"point\"><path d=\"M117,320V57.76H126.53V320Z\" style=\"vector-effect: none; opacity: 1; stroke-width: 0px; fill: rgb(0, 200, 60); fill-opacity: 0.9;\"/></g><g class=\"point\"><path d=\"M127.59,320V65.53H137.12V320Z\" style=\"vector-effect: none; opacity: 1; stroke-width: 0px; fill: rgb(0, 200, 60); fill-opacity: 0.9;\"/></g><g class=\"point\"><path d=\"M138.18,320V137.41H147.71V320Z\" style=\"vector-effect: none; opacity: 1; stroke-width: 0px; fill: rgb(0, 200, 60); fill-opacity: 0.9;\"/></g><g class=\"point\"><path d=\"M148.76,320V161.69H158.29V320Z\" style=\"vector-effect: none; opacity: 1; stroke-width: 0px; fill: rgb(0, 200, 60); fill-opacity: 0.9;\"/></g><g class=\"point\"><path d=\"M159.35,320V184.03H168.88V320Z\" style=\"vector-effect: none; opacity: 1; stroke-width: 0px; fill: rgb(0, 200, 60); fill-opacity: 0.9;\"/></g><g class=\"point\"><path d=\"M169.94,320V205.39H179.47V320Z\" style=\"vector-effect: none; opacity: 1; stroke-width: 0px; fill: rgb(0, 200, 60); fill-opacity: 0.9;\"/></g><g class=\"point\"><path d=\"M180.53,320V210.25H190.06V320Z\" style=\"vector-effect: none; opacity: 1; stroke-width: 0px; fill: rgb(0, 200, 60); fill-opacity: 0.9;\"/></g><g class=\"point\"><path d=\"M191.12,320V218.02H200.65V320Z\" style=\"vector-effect: none; opacity: 1; stroke-width: 0px; fill: rgb(0, 200, 60); fill-opacity: 0.9;\"/></g><g class=\"point\"><path d=\"M201.71,320V241.33H211.24V320Z\" style=\"vector-effect: none; opacity: 1; stroke-width: 0px; fill: rgb(0, 200, 60); fill-opacity: 0.9;\"/></g><g class=\"point\"><path d=\"M212.29,320V253.96H221.82V320Z\" style=\"vector-effect: none; opacity: 1; stroke-width: 0px; fill: rgb(0, 200, 60); fill-opacity: 0.9;\"/></g><g class=\"point\"><path d=\"M222.88,320V263.67H232.41V320Z\" style=\"vector-effect: none; opacity: 1; stroke-width: 0px; fill: rgb(0, 200, 60); fill-opacity: 0.9;\"/></g><g class=\"point\"><path d=\"M233.47,320V276.29H243V320Z\" style=\"vector-effect: none; opacity: 1; stroke-width: 0px; fill: rgb(0, 200, 60); fill-opacity: 0.9;\"/></g><g class=\"point\"><path d=\"M244.06,320V290.86H253.59V320Z\" style=\"vector-effect: none; opacity: 1; stroke-width: 0px; fill: rgb(0, 200, 60); fill-opacity: 0.9;\"/></g><g class=\"point\"><path d=\"M254.65,320V296.69H264.18V320Z\" style=\"vector-effect: none; opacity: 1; stroke-width: 0px; fill: rgb(0, 200, 60); fill-opacity: 0.9;\"/></g><g class=\"point\"><path d=\"M265.24,320V298.63H274.76V320Z\" style=\"vector-effect: none; opacity: 1; stroke-width: 0px; fill: rgb(0, 200, 60); fill-opacity: 0.9;\"/></g><g class=\"point\"><path d=\"M275.82,320V294.75H285.35V320Z\" style=\"vector-effect: none; opacity: 1; stroke-width: 0px; fill: rgb(0, 200, 60); fill-opacity: 0.9;\"/></g><g class=\"point\"><path d=\"M286.41,320V309.32H295.94V320Z\" style=\"vector-effect: none; opacity: 1; stroke-width: 0px; fill: rgb(0, 200, 60); fill-opacity: 0.9;\"/></g><g class=\"point\"><path d=\"M297,320V302.52H306.53V320Z\" style=\"vector-effect: none; opacity: 1; stroke-width: 0px; fill: rgb(0, 200, 60); fill-opacity: 0.9;\"/></g><g class=\"point\"><path d=\"M307.59,320V302.52H317.12V320Z\" style=\"vector-effect: none; opacity: 1; stroke-width: 0px; fill: rgb(0, 200, 60); fill-opacity: 0.9;\"/></g><g class=\"point\"><path d=\"M318.18,320V312.23H327.71V320Z\" style=\"vector-effect: none; opacity: 1; stroke-width: 0px; fill: rgb(0, 200, 60); fill-opacity: 0.9;\"/></g><g class=\"point\"><path d=\"M328.76,320V306.4H338.29V320Z\" style=\"vector-effect: none; opacity: 1; stroke-width: 0px; fill: rgb(0, 200, 60); fill-opacity: 0.9;\"/></g><g class=\"point\"><path d=\"M339.35,320V318.06H348.88V320Z\" style=\"vector-effect: none; opacity: 1; stroke-width: 0px; fill: rgb(0, 200, 60); fill-opacity: 0.9;\"/></g><g class=\"point\"><path d=\"M349.94,320V313.2H359.47V320Z\" style=\"vector-effect: none; opacity: 1; stroke-width: 0px; fill: rgb(0, 200, 60); fill-opacity: 0.9;\"/></g><g class=\"point\"><path d=\"M360.53,320V316.12H370.06V320Z\" style=\"vector-effect: none; opacity: 1; stroke-width: 0px; fill: rgb(0, 200, 60); fill-opacity: 0.9;\"/></g><g class=\"point\"><path d=\"M371.12,320V312.23H380.65V320Z\" style=\"vector-effect: none; opacity: 1; stroke-width: 0px; fill: rgb(0, 200, 60); fill-opacity: 0.9;\"/></g><g class=\"point\"><path d=\"M381.71,320V319.03H391.24V320Z\" style=\"vector-effect: none; opacity: 1; stroke-width: 0px; fill: rgb(0, 200, 60); fill-opacity: 0.9;\"/></g><g class=\"point\"><path d=\"M392.29,320V318.06H401.82V320Z\" style=\"vector-effect: none; opacity: 1; stroke-width: 0px; fill: rgb(0, 200, 60); fill-opacity: 0.9;\"/></g><g class=\"point\"><path d=\"M402.88,320V319.03H412.41V320Z\" style=\"vector-effect: none; opacity: 1; stroke-width: 0px; fill: rgb(0, 200, 60); fill-opacity: 0.9;\"/></g><g class=\"point\"><path d=\"M413.47,320V318.06H423V320Z\" style=\"vector-effect: none; opacity: 1; stroke-width: 0px; fill: rgb(0, 200, 60); fill-opacity: 0.9;\"/></g><g class=\"point\"><path d=\"M0,0Z\" style=\"vector-effect: none; opacity: 1; stroke-width: 0px; fill: rgb(0, 200, 60); fill-opacity: 0.9;\"/></g><g class=\"point\"><path d=\"M434.65,320V319.03H444.18V320Z\" style=\"vector-effect: none; opacity: 1; stroke-width: 0px; fill: rgb(0, 200, 60); fill-opacity: 0.9;\"/></g><g class=\"point\"><path d=\"M0,0Z\" style=\"vector-effect: none; opacity: 1; stroke-width: 0px; fill: rgb(0, 200, 60); fill-opacity: 0.9;\"/></g><g class=\"point\"><path d=\"M0,0Z\" style=\"vector-effect: none; opacity: 1; stroke-width: 0px; fill: rgb(0, 200, 60); fill-opacity: 0.9;\"/></g><g class=\"point\"><path d=\"M0,0Z\" style=\"vector-effect: none; opacity: 1; stroke-width: 0px; fill: rgb(0, 200, 60); fill-opacity: 0.9;\"/></g><g class=\"point\"><path d=\"M477,320V319.03H486.53V320Z\" style=\"vector-effect: none; opacity: 1; stroke-width: 0px; fill: rgb(0, 200, 60); fill-opacity: 0.9;\"/></g></g></g></g></g><g class=\"overplot\"/><path class=\"xlines-above crisp\" d=\"M0,0\" style=\"fill: none;\"/><path class=\"ylines-above crisp\" d=\"M0,0\" style=\"fill: none;\"/><g class=\"overlines-above\"/><g class=\"xaxislayer-above\"><g class=\"xtick\"><text text-anchor=\"middle\" x=\"0\" y=\"433\" transform=\"translate(85.29,0)\" style=\"font-family: 'Open Sans', verdana, arial, sans-serif; font-size: 12px; fill: rgb(42, 63, 95); fill-opacity: 1; white-space: pre; opacity: 1;\">0</text></g><g class=\"xtick\"><text text-anchor=\"middle\" x=\"0\" y=\"433\" style=\"font-family: 'Open Sans', verdana, arial, sans-serif; font-size: 12px; fill: rgb(42, 63, 95); fill-opacity: 1; white-space: pre; opacity: 1;\" transform=\"translate(191.18,0)\">0.2</text></g><g class=\"xtick\"><text text-anchor=\"middle\" x=\"0\" y=\"433\" style=\"font-family: 'Open Sans', verdana, arial, sans-serif; font-size: 12px; fill: rgb(42, 63, 95); fill-opacity: 1; white-space: pre; opacity: 1;\" transform=\"translate(297.06,0)\">0.4</text></g><g class=\"xtick\"><text text-anchor=\"middle\" x=\"0\" y=\"433\" style=\"font-family: 'Open Sans', verdana, arial, sans-serif; font-size: 12px; fill: rgb(42, 63, 95); fill-opacity: 1; white-space: pre; opacity: 1;\" transform=\"translate(402.94,0)\">0.6</text></g><g class=\"xtick\"><text text-anchor=\"middle\" x=\"0\" y=\"433\" style=\"font-family: 'Open Sans', verdana, arial, sans-serif; font-size: 12px; fill: rgb(42, 63, 95); fill-opacity: 1; white-space: pre; opacity: 1;\" transform=\"translate(508.82,0)\">0.8</text></g><g class=\"xtick\"><text text-anchor=\"middle\" x=\"0\" y=\"433\" style=\"font-family: 'Open Sans', verdana, arial, sans-serif; font-size: 12px; fill: rgb(42, 63, 95); fill-opacity: 1; white-space: pre; opacity: 1;\" transform=\"translate(614.71,0)\">1</text></g></g><g class=\"yaxislayer-above\"><g class=\"ytick\"><text text-anchor=\"end\" x=\"79\" y=\"4.199999999999999\" transform=\"translate(0,420)\" style=\"font-family: 'Open Sans', verdana, arial, sans-serif; font-size: 12px; fill: rgb(42, 63, 95); fill-opacity: 1; white-space: pre; opacity: 1;\">0</text></g><g class=\"ytick\"><text text-anchor=\"end\" x=\"79\" y=\"4.199999999999999\" style=\"font-family: 'Open Sans', verdana, arial, sans-serif; font-size: 12px; fill: rgb(42, 63, 95); fill-opacity: 1; white-space: pre; opacity: 1;\" transform=\"translate(0,381.94)\">0.5</text></g><g class=\"ytick\"><text text-anchor=\"end\" x=\"79\" y=\"4.199999999999999\" style=\"font-family: 'Open Sans', verdana, arial, sans-serif; font-size: 12px; fill: rgb(42, 63, 95); fill-opacity: 1; white-space: pre; opacity: 1;\" transform=\"translate(0,343.87)\">1</text></g><g class=\"ytick\"><text text-anchor=\"end\" x=\"79\" y=\"4.199999999999999\" style=\"font-family: 'Open Sans', verdana, arial, sans-serif; font-size: 12px; fill: rgb(42, 63, 95); fill-opacity: 1; white-space: pre; opacity: 1;\" transform=\"translate(0,305.81)\">1.5</text></g><g class=\"ytick\"><text text-anchor=\"end\" x=\"79\" y=\"4.199999999999999\" style=\"font-family: 'Open Sans', verdana, arial, sans-serif; font-size: 12px; fill: rgb(42, 63, 95); fill-opacity: 1; white-space: pre; opacity: 1;\" transform=\"translate(0,267.75)\">2</text></g><g class=\"ytick\"><text text-anchor=\"end\" x=\"79\" y=\"4.199999999999999\" style=\"font-family: 'Open Sans', verdana, arial, sans-serif; font-size: 12px; fill: rgb(42, 63, 95); fill-opacity: 1; white-space: pre; opacity: 1;\" transform=\"translate(0,229.68)\">2.5</text></g><g class=\"ytick\"><text text-anchor=\"end\" x=\"79\" y=\"4.199999999999999\" style=\"font-family: 'Open Sans', verdana, arial, sans-serif; font-size: 12px; fill: rgb(42, 63, 95); fill-opacity: 1; white-space: pre; opacity: 1;\" transform=\"translate(0,191.62)\">3</text></g><g class=\"ytick\"><text text-anchor=\"end\" x=\"79\" y=\"4.199999999999999\" style=\"font-family: 'Open Sans', verdana, arial, sans-serif; font-size: 12px; fill: rgb(42, 63, 95); fill-opacity: 1; white-space: pre; opacity: 1;\" transform=\"translate(0,153.56)\">3.5</text></g><g class=\"ytick\"><text text-anchor=\"end\" x=\"79\" y=\"4.199999999999999\" style=\"font-family: 'Open Sans', verdana, arial, sans-serif; font-size: 12px; fill: rgb(42, 63, 95); fill-opacity: 1; white-space: pre; opacity: 1;\" transform=\"translate(0,115.49)\">4</text></g></g><g class=\"overaxes-above\"/></g></g><g class=\"polarlayer\"/><g class=\"smithlayer\"/><g class=\"ternarylayer\"/><g class=\"geolayer\"/><g class=\"funnelarealayer\"/><g class=\"pielayer\"/><g class=\"iciclelayer\"/><g class=\"treemaplayer\"/><g class=\"sunburstlayer\"/><g class=\"glimages\"/><defs id=\"topdefs-0c907a\"><g class=\"clips\"/><clipPath id=\"legend0c907a\"><rect width=\"203\" height=\"67\" x=\"1\" y=\"1\"/></clipPath></defs><g class=\"layer-above\"><g class=\"imagelayer\"/><g class=\"shapelayer\"/></g><g class=\"infolayer\"><g class=\"legend\" pointer-events=\"all\" transform=\"translate(414.8,100)\"><rect class=\"bg\" shape-rendering=\"crispEdges\" width=\"204\" height=\"68\" x=\"0.5\" y=\"0.5\" style=\"stroke: rgb(0, 0, 0); stroke-opacity: 0.7; fill: rgb(255, 255, 255); fill-opacity: 0.7; stroke-width: 1px;\"/><g class=\"scrollbox\" transform=\"\" clip-path=\"url(#legend0c907a)\"><g class=\"groups\"><g class=\"traces\" transform=\"translate(1,15.5)\" style=\"opacity: 1;\"><text class=\"legendtext\" text-anchor=\"start\" x=\"40\" y=\"4.680000000000001\" style=\"font-family: 'Open Sans', verdana, arial, sans-serif; font-size: 12px; fill: rgb(42, 63, 95); fill-opacity: 1; white-space: pre;\">Negative Sentiment Score</text><g class=\"layers\" style=\"opacity: 1;\"><g class=\"legendfill\"/><g class=\"legendlines\"/><g class=\"legendsymbols\"><g class=\"legendpoints\"><path class=\"legendundefined\" d=\"M6,6H-6V-6H6Z\" transform=\"translate(20,0)\" style=\"stroke-width: 0px; fill: rgb(200, 60, 0); fill-opacity: 0.9;\"/></g></g></g><rect class=\"legendtoggle\" x=\"0\" y=\"-9.5\" width=\"197.125\" height=\"19\" style=\"fill: rgb(0, 0, 0); fill-opacity: 0;\"/></g><g class=\"traces\" transform=\"translate(1,34.5)\" style=\"opacity: 1;\"><text class=\"legendtext\" text-anchor=\"start\" x=\"40\" y=\"4.680000000000001\" style=\"font-family: 'Open Sans', verdana, arial, sans-serif; font-size: 12px; fill: rgb(42, 63, 95); fill-opacity: 1; white-space: pre;\">Neutral Sentiment Score</text><g class=\"layers\" style=\"opacity: 1;\"><g class=\"legendfill\"/><g class=\"legendlines\"/><g class=\"legendsymbols\"><g class=\"legendpoints\"><path class=\"legendundefined\" d=\"M6,6H-6V-6H6Z\" transform=\"translate(20,0)\" style=\"stroke-width: 0px; fill: rgb(128, 128, 128); fill-opacity: 1;\"/></g></g></g><rect class=\"legendtoggle\" x=\"0\" y=\"-9.5\" width=\"197.125\" height=\"19\" style=\"fill: rgb(0, 0, 0); fill-opacity: 0;\"/></g><g class=\"traces\" transform=\"translate(1,53.5)\" style=\"opacity: 1;\"><text class=\"legendtext\" text-anchor=\"start\" x=\"40\" y=\"4.680000000000001\" style=\"font-family: 'Open Sans', verdana, arial, sans-serif; font-size: 12px; fill: rgb(42, 63, 95); fill-opacity: 1; white-space: pre;\">Positive Sentiment Score</text><g class=\"layers\" style=\"opacity: 1;\"><g class=\"legendfill\"/><g class=\"legendlines\"/><g class=\"legendsymbols\"><g class=\"legendpoints\"><path class=\"legendundefined\" d=\"M6,6H-6V-6H6Z\" transform=\"translate(20,0)\" style=\"stroke-width: 0px; fill: rgb(0, 200, 60); fill-opacity: 0.9;\"/></g></g></g><rect class=\"legendtoggle\" x=\"0\" y=\"-9.5\" width=\"197.125\" height=\"19\" style=\"fill: rgb(0, 0, 0); fill-opacity: 0;\"/></g></g></g><rect class=\"scrollbar\" rx=\"20\" ry=\"3\" width=\"0\" height=\"0\" x=\"0\" y=\"0\" style=\"fill: rgb(128, 139, 164); fill-opacity: 1;\"/></g><g class=\"g-gtitle\"><text class=\"gtitle\" x=\"35\" y=\"50\" text-anchor=\"start\" dy=\"0em\" style=\"font-family: 'Open Sans', verdana, arial, sans-serif; font-size: 17px; fill: rgb(42, 63, 95); opacity: 1; white-space: pre;\">Sentiment Score Distribution</text></g><g class=\"g-xtitle\"><text class=\"xtitle\" x=\"350\" y=\"460.3\" text-anchor=\"middle\" style=\"font-family: 'Open Sans', verdana, arial, sans-serif; font-size: 14px; fill: rgb(42, 63, 95); opacity: 1; white-space: pre;\">Sentiment Score</text></g><g class=\"g-ytitle\"><text class=\"ytitle\" transform=\"rotate(-90,40.50625,260)\" x=\"40.50625\" y=\"260\" text-anchor=\"middle\" style=\"font-family: 'Open Sans', verdana, arial, sans-serif; font-size: 14px; fill: rgb(42, 63, 95); opacity: 1; white-space: pre;\">Density</text></g></g></svg>"
      ]
     },
     "metadata": {},
     "output_type": "display_data"
    }
   ],
   "source": [
    "# Create figure\n",
    "fig = go.Figure()\n",
    "\n",
    "# Add subplot for negative scores\n",
    "fig.add_trace(go.Histogram(x=df['neg'], nbinsx=50,histnorm='probability density', name='Negative Sentiment Score',marker_color='rgba(200, 60, 0, 0.9)'))\n",
    "\n",
    "# Add subplot for neutral scores\n",
    "fig.add_trace(go.Histogram(x=df['neu'], nbinsx=50,histnorm='probability density', name='Neutral Sentiment Score',opacity=1,marker_color='grey'))\n",
    "\n",
    "# Add subplot for positive scores\n",
    "fig.add_trace(go.Histogram(x=df['pos'], nbinsx=50,histnorm='probability density', name='Positive Sentiment Score',marker_color='rgba(0, 200, 60, 0.9)'))\n",
    "\n",
    "# Update layout\n",
    "fig.update_layout(\n",
    "    title='Sentiment Score Distribution',\n",
    "    xaxis_title='Sentiment Score',\n",
    "    yaxis_title='Density',\n",
    "    barmode='overlay',\n",
    "    bargap=0.1,\n",
    "    legend=dict(x=0.62, y=1, bgcolor='rgba(255,255,255,0.7)', bordercolor='rgba(0,0,0,0.7)', borderwidth=1),\n",
    ")\n",
    "\n",
    "# Show plot\n",
    "fig.show('svg')\n",
    "# Save plot\n",
    "pio.write_image(fig, './plots/sentiment_score_dist.pdf')"
   ]
  },
  {
   "cell_type": "code",
   "execution_count": 172,
   "metadata": {},
   "outputs": [
    {
     "data": {
      "image/svg+xml": [
       "<svg class=\"main-svg\" xmlns=\"http://www.w3.org/2000/svg\" xmlns:xlink=\"http://www.w3.org/1999/xlink\" width=\"700\" height=\"500\" style=\"\" viewBox=\"0 0 700 500\"><rect x=\"0\" y=\"0\" width=\"700\" height=\"500\" style=\"fill: rgb(255, 255, 255); fill-opacity: 1;\"/><defs id=\"defs-3ef1f7\"><g class=\"clips\"><clipPath id=\"clip3ef1f7xyplot\" class=\"plotclip\"><rect width=\"540\" height=\"320\"/></clipPath><clipPath class=\"axesclip\" id=\"clip3ef1f7x\"><rect x=\"80\" y=\"0\" width=\"540\" height=\"500\"/></clipPath><clipPath class=\"axesclip\" id=\"clip3ef1f7y\"><rect x=\"0\" y=\"100\" width=\"700\" height=\"320\"/></clipPath><clipPath class=\"axesclip\" id=\"clip3ef1f7xy\"><rect x=\"80\" y=\"100\" width=\"540\" height=\"320\"/></clipPath></g><g class=\"gradients\"/><g class=\"patterns\"/></defs><g class=\"bglayer\"><rect class=\"bg\" x=\"80\" y=\"100\" width=\"540\" height=\"320\" style=\"fill: rgb(229, 236, 246); fill-opacity: 1; stroke-width: 0;\"/></g><g class=\"layer-below\"><g class=\"imagelayer\"/><g class=\"shapelayer\"/></g><g class=\"cartesianlayer\"><g class=\"subplot xy\"><g class=\"layer-subplot\"><g class=\"shapelayer\"/><g class=\"imagelayer\"/></g><g class=\"minor-gridlayer\"><g class=\"x\"/><g class=\"y\"/></g><g class=\"gridlayer\"><g class=\"x\"/><g class=\"y\"><path class=\"ygrid crisp\" transform=\"translate(0,354.32)\" d=\"M80,0h540\" style=\"stroke: rgb(255, 255, 255); stroke-opacity: 1; stroke-width: 1px;\"/><path class=\"ygrid crisp\" transform=\"translate(0,288.65)\" d=\"M80,0h540\" style=\"stroke: rgb(255, 255, 255); stroke-opacity: 1; stroke-width: 1px;\"/><path class=\"ygrid crisp\" transform=\"translate(0,222.97)\" d=\"M80,0h540\" style=\"stroke: rgb(255, 255, 255); stroke-opacity: 1; stroke-width: 1px;\"/><path class=\"ygrid crisp\" transform=\"translate(0,157.29)\" d=\"M80,0h540\" style=\"stroke: rgb(255, 255, 255); stroke-opacity: 1; stroke-width: 1px;\"/></g></g><g class=\"zerolinelayer\"><path class=\"yzl zl crisp\" transform=\"translate(0,420)\" d=\"M80,0h540\" style=\"stroke: rgb(255, 255, 255); stroke-opacity: 1; stroke-width: 2px;\"/></g><g class=\"layer-between\"><g class=\"shapelayer\"/><g class=\"imagelayer\"/></g><path class=\"xlines-below\"/><path class=\"ylines-below\"/><g class=\"overlines-below\"/><g class=\"xaxislayer-below\"/><g class=\"yaxislayer-below\"/><g class=\"overaxes-below\"/><g class=\"plot\" transform=\"translate(80,100)\" clip-path=\"url(#clip3ef1f7xyplot)\"><g class=\"barlayer mlayer\"><g class=\"trace bars\" shape-rendering=\"crispEdges\" style=\"opacity: 1;\"><g class=\"points\"><g class=\"point\"><path d=\"M0,320V134.99H13.17V320Z\" style=\"vector-effect: none; opacity: 1; stroke-width: 0px; fill: rgb(100, 100, 255); fill-opacity: 0.9;\"/></g><g class=\"point\"><path d=\"M13.17,320V225.48H26.34V320Z\" style=\"vector-effect: none; opacity: 1; stroke-width: 0px; fill: rgb(100, 100, 255); fill-opacity: 0.9;\"/></g><g class=\"point\"><path d=\"M26.34,320V274.75H39.51V320Z\" style=\"vector-effect: none; opacity: 1; stroke-width: 0px; fill: rgb(100, 100, 255); fill-opacity: 0.9;\"/></g><g class=\"point\"><path d=\"M39.51,320V290.84H52.68V320Z\" style=\"vector-effect: none; opacity: 1; stroke-width: 0px; fill: rgb(100, 100, 255); fill-opacity: 0.9;\"/></g><g class=\"point\"><path d=\"M52.68,320V298.21H65.85V320Z\" style=\"vector-effect: none; opacity: 1; stroke-width: 0px; fill: rgb(100, 100, 255); fill-opacity: 0.9;\"/></g><g class=\"point\"><path d=\"M65.85,320V302.91H79.02V320Z\" style=\"vector-effect: none; opacity: 1; stroke-width: 0px; fill: rgb(100, 100, 255); fill-opacity: 0.9;\"/></g><g class=\"point\"><path d=\"M79.02,320V304.92H92.2V320Z\" style=\"vector-effect: none; opacity: 1; stroke-width: 0px; fill: rgb(100, 100, 255); fill-opacity: 0.9;\"/></g><g class=\"point\"><path d=\"M92.2,320V306.93H105.37V320Z\" style=\"vector-effect: none; opacity: 1; stroke-width: 0px; fill: rgb(100, 100, 255); fill-opacity: 0.9;\"/></g><g class=\"point\"><path d=\"M105.37,320V307.6H118.54V320Z\" style=\"vector-effect: none; opacity: 1; stroke-width: 0px; fill: rgb(100, 100, 255); fill-opacity: 0.9;\"/></g><g class=\"point\"><path d=\"M118.54,320V304.25H131.71V320Z\" style=\"vector-effect: none; opacity: 1; stroke-width: 0px; fill: rgb(100, 100, 255); fill-opacity: 0.9;\"/></g><g class=\"point\"><path d=\"M131.71,320V312.29H144.88V320Z\" style=\"vector-effect: none; opacity: 1; stroke-width: 0px; fill: rgb(100, 100, 255); fill-opacity: 0.9;\"/></g><g class=\"point\"><path d=\"M144.88,320V314.64H158.05V320Z\" style=\"vector-effect: none; opacity: 1; stroke-width: 0px; fill: rgb(100, 100, 255); fill-opacity: 0.9;\"/></g><g class=\"point\"><path d=\"M158.05,320V313.97H171.22V320Z\" style=\"vector-effect: none; opacity: 1; stroke-width: 0px; fill: rgb(100, 100, 255); fill-opacity: 0.9;\"/></g><g class=\"point\"><path d=\"M171.22,320V314.3H184.39V320Z\" style=\"vector-effect: none; opacity: 1; stroke-width: 0px; fill: rgb(100, 100, 255); fill-opacity: 0.9;\"/></g><g class=\"point\"><path d=\"M184.39,320V312.29H197.56V320Z\" style=\"vector-effect: none; opacity: 1; stroke-width: 0px; fill: rgb(100, 100, 255); fill-opacity: 0.9;\"/></g><g class=\"point\"><path d=\"M197.56,320V313.63H210.73V320Z\" style=\"vector-effect: none; opacity: 1; stroke-width: 0px; fill: rgb(100, 100, 255); fill-opacity: 0.9;\"/></g><g class=\"point\"><path d=\"M210.73,320V314.64H223.9V320Z\" style=\"vector-effect: none; opacity: 1; stroke-width: 0px; fill: rgb(100, 100, 255); fill-opacity: 0.9;\"/></g><g class=\"point\"><path d=\"M223.9,320V314.3H237.07V320Z\" style=\"vector-effect: none; opacity: 1; stroke-width: 0px; fill: rgb(100, 100, 255); fill-opacity: 0.9;\"/></g><g class=\"point\"><path d=\"M237.07,320V311.62H250.24V320Z\" style=\"vector-effect: none; opacity: 1; stroke-width: 0px; fill: rgb(100, 100, 255); fill-opacity: 0.9;\"/></g><g class=\"point\"><path d=\"M250.24,320V311.96H263.41V320Z\" style=\"vector-effect: none; opacity: 1; stroke-width: 0px; fill: rgb(100, 100, 255); fill-opacity: 0.9;\"/></g><g class=\"point\"><path d=\"M263.41,320V308.6H276.59V320Z\" style=\"vector-effect: none; opacity: 1; stroke-width: 0px; fill: rgb(100, 100, 255); fill-opacity: 0.9;\"/></g><g class=\"point\"><path d=\"M276.59,320V313.63H289.76V320Z\" style=\"vector-effect: none; opacity: 1; stroke-width: 0px; fill: rgb(100, 100, 255); fill-opacity: 0.9;\"/></g><g class=\"point\"><path d=\"M289.76,320V314.64H302.93V320Z\" style=\"vector-effect: none; opacity: 1; stroke-width: 0px; fill: rgb(100, 100, 255); fill-opacity: 0.9;\"/></g><g class=\"point\"><path d=\"M302.93,320V313.97H316.1V320Z\" style=\"vector-effect: none; opacity: 1; stroke-width: 0px; fill: rgb(100, 100, 255); fill-opacity: 0.9;\"/></g><g class=\"point\"><path d=\"M316.1,320V310.95H329.27V320Z\" style=\"vector-effect: none; opacity: 1; stroke-width: 0px; fill: rgb(100, 100, 255); fill-opacity: 0.9;\"/></g><g class=\"point\"><path d=\"M329.27,320V309.94H342.44V320Z\" style=\"vector-effect: none; opacity: 1; stroke-width: 0px; fill: rgb(100, 100, 255); fill-opacity: 0.9;\"/></g><g class=\"point\"><path d=\"M342.44,320V311.29H355.61V320Z\" style=\"vector-effect: none; opacity: 1; stroke-width: 0px; fill: rgb(100, 100, 255); fill-opacity: 0.9;\"/></g><g class=\"point\"><path d=\"M355.61,320V309.94H368.78V320Z\" style=\"vector-effect: none; opacity: 1; stroke-width: 0px; fill: rgb(100, 100, 255); fill-opacity: 0.9;\"/></g><g class=\"point\"><path d=\"M368.78,320V310.62H381.95V320Z\" style=\"vector-effect: none; opacity: 1; stroke-width: 0px; fill: rgb(100, 100, 255); fill-opacity: 0.9;\"/></g><g class=\"point\"><path d=\"M381.95,320V313.63H395.12V320Z\" style=\"vector-effect: none; opacity: 1; stroke-width: 0px; fill: rgb(100, 100, 255); fill-opacity: 0.9;\"/></g><g class=\"point\"><path d=\"M395.12,320V308.6H408.29V320Z\" style=\"vector-effect: none; opacity: 1; stroke-width: 0px; fill: rgb(100, 100, 255); fill-opacity: 0.9;\"/></g><g class=\"point\"><path d=\"M408.29,320V306.93H421.46V320Z\" style=\"vector-effect: none; opacity: 1; stroke-width: 0px; fill: rgb(100, 100, 255); fill-opacity: 0.9;\"/></g><g class=\"point\"><path d=\"M421.46,320V304.92H434.63V320Z\" style=\"vector-effect: none; opacity: 1; stroke-width: 0px; fill: rgb(100, 100, 255); fill-opacity: 0.9;\"/></g><g class=\"point\"><path d=\"M434.63,320V305.59H447.8V320Z\" style=\"vector-effect: none; opacity: 1; stroke-width: 0px; fill: rgb(100, 100, 255); fill-opacity: 0.9;\"/></g><g class=\"point\"><path d=\"M447.8,320V300.56H460.98V320Z\" style=\"vector-effect: none; opacity: 1; stroke-width: 0px; fill: rgb(100, 100, 255); fill-opacity: 0.9;\"/></g><g class=\"point\"><path d=\"M460.98,320V297.21H474.15V320Z\" style=\"vector-effect: none; opacity: 1; stroke-width: 0px; fill: rgb(100, 100, 255); fill-opacity: 0.9;\"/></g><g class=\"point\"><path d=\"M474.15,320V289.83H487.32V320Z\" style=\"vector-effect: none; opacity: 1; stroke-width: 0px; fill: rgb(100, 100, 255); fill-opacity: 0.9;\"/></g><g class=\"point\"><path d=\"M487.32,320V274.75H500.49V320Z\" style=\"vector-effect: none; opacity: 1; stroke-width: 0px; fill: rgb(100, 100, 255); fill-opacity: 0.9;\"/></g><g class=\"point\"><path d=\"M500.49,320V251.29H513.66V320Z\" style=\"vector-effect: none; opacity: 1; stroke-width: 0px; fill: rgb(100, 100, 255); fill-opacity: 0.9;\"/></g><g class=\"point\"><path d=\"M513.66,320V149.06H526.83V320Z\" style=\"vector-effect: none; opacity: 1; stroke-width: 0px; fill: rgb(100, 100, 255); fill-opacity: 0.9;\"/></g><g class=\"point\"><path d=\"M526.83,320V16H540V320Z\" style=\"vector-effect: none; opacity: 1; stroke-width: 0px; fill: rgb(100, 100, 255); fill-opacity: 0.9;\"/></g></g></g></g></g><g class=\"overplot\"/><path class=\"xlines-above crisp\" d=\"M0,0\" style=\"fill: none;\"/><path class=\"ylines-above crisp\" d=\"M0,0\" style=\"fill: none;\"/><g class=\"overlines-above\"/><g class=\"xaxislayer-above\"><g class=\"xtick\"><text text-anchor=\"middle\" x=\"0\" y=\"433\" transform=\"translate(86.59,0)\" style=\"font-family: 'Open Sans', verdana, arial, sans-serif; font-size: 12px; fill: rgb(42, 63, 95); fill-opacity: 1; white-space: pre; opacity: 1;\">−1</text></g><g class=\"xtick\"><text text-anchor=\"middle\" x=\"0\" y=\"433\" style=\"font-family: 'Open Sans', verdana, arial, sans-serif; font-size: 12px; fill: rgb(42, 63, 95); fill-opacity: 1; white-space: pre; opacity: 1;\" transform=\"translate(218.29,0)\">−0.5</text></g><g class=\"xtick\"><text text-anchor=\"middle\" x=\"0\" y=\"433\" style=\"font-family: 'Open Sans', verdana, arial, sans-serif; font-size: 12px; fill: rgb(42, 63, 95); fill-opacity: 1; white-space: pre; opacity: 1;\" transform=\"translate(350,0)\">0</text></g><g class=\"xtick\"><text text-anchor=\"middle\" x=\"0\" y=\"433\" style=\"font-family: 'Open Sans', verdana, arial, sans-serif; font-size: 12px; fill: rgb(42, 63, 95); fill-opacity: 1; white-space: pre; opacity: 1;\" transform=\"translate(481.71,0)\">0.5</text></g><g class=\"xtick\"><text text-anchor=\"middle\" x=\"0\" y=\"433\" style=\"font-family: 'Open Sans', verdana, arial, sans-serif; font-size: 12px; fill: rgb(42, 63, 95); fill-opacity: 1; white-space: pre; opacity: 1;\" transform=\"translate(613.41,0)\">1</text></g></g><g class=\"yaxislayer-above\"><g class=\"ytick\"><text text-anchor=\"end\" x=\"79\" y=\"4.199999999999999\" transform=\"translate(0,420)\" style=\"font-family: 'Open Sans', verdana, arial, sans-serif; font-size: 12px; fill: rgb(42, 63, 95); fill-opacity: 1; white-space: pre; opacity: 1;\">0</text></g><g class=\"ytick\"><text text-anchor=\"end\" x=\"79\" y=\"4.199999999999999\" style=\"font-family: 'Open Sans', verdana, arial, sans-serif; font-size: 12px; fill: rgb(42, 63, 95); fill-opacity: 1; white-space: pre; opacity: 1;\" transform=\"translate(0,354.32)\">1</text></g><g class=\"ytick\"><text text-anchor=\"end\" x=\"79\" y=\"4.199999999999999\" style=\"font-family: 'Open Sans', verdana, arial, sans-serif; font-size: 12px; fill: rgb(42, 63, 95); fill-opacity: 1; white-space: pre; opacity: 1;\" transform=\"translate(0,288.65)\">2</text></g><g class=\"ytick\"><text text-anchor=\"end\" x=\"79\" y=\"4.199999999999999\" style=\"font-family: 'Open Sans', verdana, arial, sans-serif; font-size: 12px; fill: rgb(42, 63, 95); fill-opacity: 1; white-space: pre; opacity: 1;\" transform=\"translate(0,222.97)\">3</text></g><g class=\"ytick\"><text text-anchor=\"end\" x=\"79\" y=\"4.199999999999999\" style=\"font-family: 'Open Sans', verdana, arial, sans-serif; font-size: 12px; fill: rgb(42, 63, 95); fill-opacity: 1; white-space: pre; opacity: 1;\" transform=\"translate(0,157.29)\">4</text></g></g><g class=\"overaxes-above\"/></g></g><g class=\"polarlayer\"/><g class=\"smithlayer\"/><g class=\"ternarylayer\"/><g class=\"geolayer\"/><g class=\"funnelarealayer\"/><g class=\"pielayer\"/><g class=\"iciclelayer\"/><g class=\"treemaplayer\"/><g class=\"sunburstlayer\"/><g class=\"glimages\"/><defs id=\"topdefs-3ef1f7\"><g class=\"clips\"/></defs><g class=\"layer-above\"><g class=\"imagelayer\"/><g class=\"shapelayer\"/></g><g class=\"infolayer\"><g class=\"g-gtitle\"><text class=\"gtitle\" x=\"35\" y=\"50\" text-anchor=\"start\" dy=\"0em\" style=\"font-family: 'Open Sans', verdana, arial, sans-serif; font-size: 17px; fill: rgb(42, 63, 95); opacity: 1; white-space: pre;\">Compound Sentiment Score Distribution</text></g><g class=\"g-xtitle\"><text class=\"xtitle\" x=\"350\" y=\"460.3\" text-anchor=\"middle\" style=\"font-family: 'Open Sans', verdana, arial, sans-serif; font-size: 14px; fill: rgb(42, 63, 95); opacity: 1; white-space: pre;\">Compound Sentiment Score</text></g><g class=\"g-ytitle\"><text class=\"ytitle\" transform=\"rotate(-90,51.959375,260)\" x=\"51.959375\" y=\"260\" text-anchor=\"middle\" style=\"font-family: 'Open Sans', verdana, arial, sans-serif; font-size: 14px; fill: rgb(42, 63, 95); opacity: 1; white-space: pre;\">Density</text></g></g></svg>"
      ]
     },
     "metadata": {},
     "output_type": "display_data"
    }
   ],
   "source": [
    "# Create histogram trace\n",
    "histogram_trace = go.Histogram(x=df['compound'], nbinsx=100, histnorm='probability density', name='Compound Sentiment Score', marker_color='rgba(100, 100, 255, 0.9)')\n",
    "\n",
    "# Create figure\n",
    "fig = go.Figure(histogram_trace)\n",
    "\n",
    "# Update layout\n",
    "fig.update_layout(\n",
    "    title='Compound Sentiment Score Distribution',\n",
    "    xaxis_title='Compound Sentiment Score',\n",
    "    yaxis_title='Density',\n",
    ")\n",
    "\n",
    "# Show plot\n",
    "fig.show('svg')\n",
    "# Save plot\n",
    "pio.write_image(fig, './plots/compound_sentiment_score_dist.pdf')"
   ]
  },
  {
   "cell_type": "code",
   "execution_count": 173,
   "metadata": {},
   "outputs": [
    {
     "data": {
      "image/svg+xml": [
       "<svg class=\"main-svg\" xmlns=\"http://www.w3.org/2000/svg\" xmlns:xlink=\"http://www.w3.org/1999/xlink\" width=\"700\" height=\"500\" style=\"\" viewBox=\"0 0 700 500\"><rect x=\"0\" y=\"0\" width=\"700\" height=\"500\" style=\"fill: rgb(255, 255, 255); fill-opacity: 1;\"/><defs id=\"defs-549620\"><g class=\"clips\"><clipPath id=\"clip549620xyplot\" class=\"plotclip\"><rect width=\"540\" height=\"317\"/></clipPath><clipPath class=\"axesclip\" id=\"clip549620x\"><rect x=\"80\" y=\"0\" width=\"540\" height=\"500\"/></clipPath><clipPath class=\"axesclip\" id=\"clip549620y\"><rect x=\"0\" y=\"100\" width=\"700\" height=\"317\"/></clipPath><clipPath class=\"axesclip\" id=\"clip549620xy\"><rect x=\"80\" y=\"100\" width=\"540\" height=\"317\"/></clipPath></g><g class=\"gradients\"/><g class=\"patterns\"/></defs><g class=\"bglayer\"><rect class=\"bg\" x=\"80\" y=\"100\" width=\"540\" height=\"317\" style=\"fill: rgb(229, 236, 246); fill-opacity: 1; stroke-width: 0;\"/></g><g class=\"layer-below\"><g class=\"imagelayer\"/><g class=\"shapelayer\"/></g><g class=\"cartesianlayer\"><g class=\"subplot xy\"><g class=\"layer-subplot\"><g class=\"shapelayer\"/><g class=\"imagelayer\"/></g><g class=\"minor-gridlayer\"><g class=\"x\"/><g class=\"y\"/></g><g class=\"gridlayer\"><g class=\"x\"/><g class=\"y\"><path class=\"ygrid crisp\" transform=\"translate(0,403.64)\" d=\"M80,0h540\" style=\"stroke: rgb(255, 255, 255); stroke-opacity: 1; stroke-width: 1px;\"/><path class=\"ygrid crisp\" transform=\"translate(0,317.03999999999996)\" d=\"M80,0h540\" style=\"stroke: rgb(255, 255, 255); stroke-opacity: 1; stroke-width: 1px;\"/><path class=\"ygrid crisp\" transform=\"translate(0,273.74)\" d=\"M80,0h540\" style=\"stroke: rgb(255, 255, 255); stroke-opacity: 1; stroke-width: 1px;\"/><path class=\"ygrid crisp\" transform=\"translate(0,230.44)\" d=\"M80,0h540\" style=\"stroke: rgb(255, 255, 255); stroke-opacity: 1; stroke-width: 1px;\"/><path class=\"ygrid crisp\" transform=\"translate(0,187.13)\" d=\"M80,0h540\" style=\"stroke: rgb(255, 255, 255); stroke-opacity: 1; stroke-width: 1px;\"/><path class=\"ygrid crisp\" transform=\"translate(0,143.82999999999998)\" d=\"M80,0h540\" style=\"stroke: rgb(255, 255, 255); stroke-opacity: 1; stroke-width: 1px;\"/></g></g><g class=\"zerolinelayer\"><path class=\"yzl zl crisp\" transform=\"translate(0,360.34)\" d=\"M80,0h540\" style=\"stroke: rgb(255, 255, 255); stroke-opacity: 1; stroke-width: 2px;\"/></g><g class=\"layer-between\"><g class=\"shapelayer\"/><g class=\"imagelayer\"/></g><path class=\"xlines-below\"/><path class=\"ylines-below\"/><g class=\"overlines-below\"/><g class=\"xaxislayer-below\"/><g class=\"yaxislayer-below\"/><g class=\"overaxes-below\"/><g class=\"plot\" transform=\"translate(80,100)\" clip-path=\"url(#clip549620xyplot)\"><g class=\"barlayer mlayer\"><g class=\"trace bars\" style=\"opacity: 1;\"><g class=\"points\"><g class=\"point\"><path d=\"M9,260.34V15.85H81V260.34Z\" style=\"vector-effect: none; opacity: 1; stroke-width: 0.5px; fill: rgb(100, 100, 255); fill-opacity: 0.9; stroke: rgb(229, 236, 246); stroke-opacity: 1;\"/></g><g class=\"point\"><path d=\"M99,260.34V63.36H171V260.34Z\" style=\"vector-effect: none; opacity: 1; stroke-width: 0.5px; fill: rgb(100, 100, 255); fill-opacity: 0.9; stroke: rgb(229, 236, 246); stroke-opacity: 1;\"/></g><g class=\"point\"><path d=\"M189,260.34V151.02H261V260.34Z\" style=\"vector-effect: none; opacity: 1; stroke-width: 0.5px; fill: rgb(100, 100, 255); fill-opacity: 0.9; stroke: rgb(229, 236, 246); stroke-opacity: 1;\"/></g><g class=\"point\"><path d=\"M279,260.34V301.15H351V260.34Z\" style=\"vector-effect: none; opacity: 1; stroke-width: 0.5px; fill: rgb(100, 100, 255); fill-opacity: 0.9; stroke: rgb(229, 236, 246); stroke-opacity: 1;\"/></g><g class=\"point\"><path d=\"M369,260.34V49.43H441V260.34Z\" style=\"vector-effect: none; opacity: 1; stroke-width: 0.5px; fill: rgb(100, 100, 255); fill-opacity: 0.9; stroke: rgb(229, 236, 246); stroke-opacity: 1;\"/></g><g class=\"point\"><path d=\"M459,260.34V193.89H531V260.34Z\" style=\"vector-effect: none; opacity: 1; stroke-width: 0.5px; fill: rgb(100, 100, 255); fill-opacity: 0.9; stroke: rgb(229, 236, 246); stroke-opacity: 1;\"/></g></g></g></g></g><g class=\"overplot\"/><path class=\"xlines-above crisp\" d=\"M0,0\" style=\"fill: none;\"/><path class=\"ylines-above crisp\" d=\"M0,0\" style=\"fill: none;\"/><g class=\"overlines-above\"/><g class=\"xaxislayer-above\"><g class=\"xtick\"><text text-anchor=\"start\" x=\"0\" y=\"430\" transform=\"translate(125,0) rotate(45,0,424)\" style=\"font-family: 'Open Sans', verdana, arial, sans-serif; font-size: 12px; fill: rgb(42, 63, 95); fill-opacity: 1; white-space: pre; opacity: 1;\">country</text></g><g class=\"xtick\"><text text-anchor=\"start\" x=\"0\" y=\"430\" transform=\"translate(215,0) rotate(45,0,424)\" style=\"font-family: 'Open Sans', verdana, arial, sans-serif; font-size: 12px; fill: rgb(42, 63, 95); fill-opacity: 1; white-space: pre; opacity: 1;\">misc</text></g><g class=\"xtick\"><text text-anchor=\"start\" x=\"0\" y=\"430\" transform=\"translate(305,0) rotate(45,0,424)\" style=\"font-family: 'Open Sans', verdana, arial, sans-serif; font-size: 12px; fill: rgb(42, 63, 95); fill-opacity: 1; white-space: pre; opacity: 1;\">pop</text></g><g class=\"xtick\"><text text-anchor=\"start\" x=\"0\" y=\"430\" transform=\"translate(395,0) rotate(45,0,424)\" style=\"font-family: 'Open Sans', verdana, arial, sans-serif; font-size: 12px; fill: rgb(42, 63, 95); fill-opacity: 1; white-space: pre; opacity: 1;\">rap</text></g><g class=\"xtick\"><text text-anchor=\"start\" x=\"0\" y=\"430\" transform=\"translate(485,0) rotate(45,0,424)\" style=\"font-family: 'Open Sans', verdana, arial, sans-serif; font-size: 12px; fill: rgb(42, 63, 95); fill-opacity: 1; white-space: pre; opacity: 1;\">rb</text></g><g class=\"xtick\"><text text-anchor=\"start\" x=\"0\" y=\"430\" transform=\"translate(575,0) rotate(45,0,424)\" style=\"font-family: 'Open Sans', verdana, arial, sans-serif; font-size: 12px; fill: rgb(42, 63, 95); fill-opacity: 1; white-space: pre; opacity: 1;\">rock</text></g></g><g class=\"yaxislayer-above\"><g class=\"ytick\"><text text-anchor=\"end\" x=\"79\" y=\"4.199999999999999\" transform=\"translate(0,403.64)\" style=\"font-family: 'Open Sans', verdana, arial, sans-serif; font-size: 12px; fill: rgb(42, 63, 95); fill-opacity: 1; white-space: pre; opacity: 1;\">−0.1</text></g><g class=\"ytick\"><text text-anchor=\"end\" x=\"79\" y=\"4.199999999999999\" style=\"font-family: 'Open Sans', verdana, arial, sans-serif; font-size: 12px; fill: rgb(42, 63, 95); fill-opacity: 1; white-space: pre; opacity: 1;\" transform=\"translate(0,360.34)\">0</text></g><g class=\"ytick\"><text text-anchor=\"end\" x=\"79\" y=\"4.199999999999999\" style=\"font-family: 'Open Sans', verdana, arial, sans-serif; font-size: 12px; fill: rgb(42, 63, 95); fill-opacity: 1; white-space: pre; opacity: 1;\" transform=\"translate(0,317.03999999999996)\">0.1</text></g><g class=\"ytick\"><text text-anchor=\"end\" x=\"79\" y=\"4.199999999999999\" style=\"font-family: 'Open Sans', verdana, arial, sans-serif; font-size: 12px; fill: rgb(42, 63, 95); fill-opacity: 1; white-space: pre; opacity: 1;\" transform=\"translate(0,273.74)\">0.2</text></g><g class=\"ytick\"><text text-anchor=\"end\" x=\"79\" y=\"4.199999999999999\" style=\"font-family: 'Open Sans', verdana, arial, sans-serif; font-size: 12px; fill: rgb(42, 63, 95); fill-opacity: 1; white-space: pre; opacity: 1;\" transform=\"translate(0,230.44)\">0.3</text></g><g class=\"ytick\"><text text-anchor=\"end\" x=\"79\" y=\"4.199999999999999\" style=\"font-family: 'Open Sans', verdana, arial, sans-serif; font-size: 12px; fill: rgb(42, 63, 95); fill-opacity: 1; white-space: pre; opacity: 1;\" transform=\"translate(0,187.13)\">0.4</text></g><g class=\"ytick\"><text text-anchor=\"end\" x=\"79\" y=\"4.199999999999999\" style=\"font-family: 'Open Sans', verdana, arial, sans-serif; font-size: 12px; fill: rgb(42, 63, 95); fill-opacity: 1; white-space: pre; opacity: 1;\" transform=\"translate(0,143.82999999999998)\">0.5</text></g><g class=\"ytick\"><text text-anchor=\"end\" x=\"79\" y=\"4.199999999999999\" style=\"font-family: 'Open Sans', verdana, arial, sans-serif; font-size: 12px; fill: rgb(42, 63, 95); fill-opacity: 1; white-space: pre; opacity: 1;\" transform=\"translate(0,100.53)\">0.6</text></g></g><g class=\"overaxes-above\"/></g></g><g class=\"polarlayer\"/><g class=\"smithlayer\"/><g class=\"ternarylayer\"/><g class=\"geolayer\"/><g class=\"funnelarealayer\"/><g class=\"pielayer\"/><g class=\"iciclelayer\"/><g class=\"treemaplayer\"/><g class=\"sunburstlayer\"/><g class=\"glimages\"/><defs id=\"topdefs-549620\"><g class=\"clips\"/></defs><g class=\"layer-above\"><g class=\"imagelayer\"/><g class=\"shapelayer\"/></g><g class=\"infolayer\"><g class=\"g-gtitle\"><text class=\"gtitle\" x=\"35\" y=\"50\" text-anchor=\"start\" dy=\"0em\" style=\"font-family: 'Open Sans', verdana, arial, sans-serif; font-size: 17px; fill: rgb(42, 63, 95); opacity: 1; white-space: pre;\">Average Compound Sentiment Score by Tag</text></g><g class=\"g-xtitle\"><text class=\"xtitle\" x=\"350\" y=\"487.1134765625\" text-anchor=\"middle\" style=\"font-family: 'Open Sans', verdana, arial, sans-serif; font-size: 14px; fill: rgb(42, 63, 95); opacity: 1; white-space: pre;\">Tag</text></g><g class=\"g-ytitle\"><text class=\"ytitle\" transform=\"rotate(-90,30.459375,258.5)\" x=\"30.459375\" y=\"258.5\" text-anchor=\"middle\" style=\"font-family: 'Open Sans', verdana, arial, sans-serif; font-size: 14px; fill: rgb(42, 63, 95); opacity: 1; white-space: pre;\">Average Compound Sentiment Score</text></g></g></svg>"
      ]
     },
     "metadata": {},
     "output_type": "display_data"
    }
   ],
   "source": [
    "# Group by tag and calculate average compound sentiment score\n",
    "average_compound_by_tag = df.groupby('tag')['compound'].mean()\n",
    "\n",
    "# Create bar plot trace\n",
    "barplot_trace = go.Bar(\n",
    "    x=average_compound_by_tag.index,\n",
    "    y=average_compound_by_tag.values,\n",
    "    marker_color='rgba(100, 100, 255, 0.9)',\n",
    "    name='Average Compound Sentiment Score'\n",
    ")\n",
    "\n",
    "# Create figure\n",
    "fig = go.Figure(barplot_trace)\n",
    "\n",
    "# Update layout\n",
    "fig.update_layout(\n",
    "    title='Average Compound Sentiment Score by Tag',\n",
    "    xaxis_title='Tag',\n",
    "    yaxis_title='Average Compound Sentiment Score',\n",
    "    xaxis=dict(tickangle=45),\n",
    ")\n",
    "\n",
    "# Show plot\n",
    "fig.show('svg')\n",
    "# Save plot\n",
    "pio.write_image(fig, './plots/avg_compound_sentiment_score_tag_dist.pdf')"
   ]
  },
  {
   "cell_type": "markdown",
   "metadata": {},
   "source": [
    "### Topic modeling with LDA"
   ]
  },
  {
   "cell_type": "code",
   "execution_count": 174,
   "metadata": {},
   "outputs": [],
   "source": [
    "# lyrics corpus\n",
    "lyrics_corpus = df['lyrics_proc'].apply(lambda x: x.split())\n",
    "\n",
    "# Create the dictionary\n",
    "dictionary = corpora.Dictionary(lyrics_corpus)\n",
    "\n",
    "# Create the corpus\n",
    "corpus = [dictionary.doc2bow(text) for text in lyrics_corpus]"
   ]
  },
  {
   "cell_type": "code",
   "execution_count": 175,
   "metadata": {},
   "outputs": [],
   "source": [
    "\n",
    "# Set parameters\n",
    "num_topics = 5\n",
    "passes = 15\n",
    "\n",
    "# Train the LDA model\n",
    "lda_model = LdaModel(\n",
    "    corpus=corpus,\n",
    "    id2word=dictionary,\n",
    "    alpha='auto',\n",
    "    eta='auto',\n",
    "    num_topics=num_topics,\n",
    "    passes=passes\n",
    ")\n",
    "\n",
    "# Save the trained model\n",
    "lda_model.save('./models/lda_model.gensim')\n",
    "\n",
    "# Load the trained LDA model\n",
    "lda_model = LdaModel.load('./models/lda_model.gensim')"
   ]
  },
  {
   "cell_type": "code",
   "execution_count": 176,
   "metadata": {},
   "outputs": [
    {
     "name": "stdout",
     "output_type": "stream",
     "text": [
      "(0, '0.017*\"like\" + 0.014*\"know\" + 0.013*\"got\"')\n",
      "(1, '0.007*\"god\" + 0.007*\"law\" + 0.005*\"christ\"')\n",
      "(2, '0.008*\"one\" + 0.007*\"said\" + 0.006*\"would\"')\n",
      "(3, '0.011*\"solness\" + 0.007*\"hilda\" + 0.007*\"thou\"')\n",
      "(4, '0.010*\"get\" + 0.009*\"like\" + 0.006*\"got\"')\n"
     ]
    }
   ],
   "source": [
    "# Print the most relevant keywords for each topic\n",
    "topics = lda_model.print_topics(num_topics=num_topics, num_words=3)\n",
    "for topic in topics:\n",
    "    print(topic)"
   ]
  },
  {
   "cell_type": "code",
   "execution_count": 177,
   "metadata": {},
   "outputs": [
    {
     "name": "stdout",
     "output_type": "stream",
     "text": [
      "0.3895629363900513\n"
     ]
    }
   ],
   "source": [
    "# Measure coherence within a topic\n",
    "coherencemodel = CoherenceModel(model=lda_model, texts=lyrics_corpus, dictionary=dictionary, coherence='c_v')\n",
    "# Suppress warnings temporarily\n",
    "with warnings.catch_warnings():\n",
    "    warnings.simplefilter(\"ignore\")\n",
    "    #my_function_that_generates_warnings()\n",
    "    print(coherencemodel.get_coherence())"
   ]
  },
  {
   "cell_type": "code",
   "execution_count": 178,
   "metadata": {},
   "outputs": [
    {
     "name": "stdout",
     "output_type": "stream",
     "text": [
      "(0, 0.73949367)\n"
     ]
    },
    {
     "data": {
      "text/plain": [
       "['like', 'know', 'got', 'get', 'love']"
      ]
     },
     "execution_count": 178,
     "metadata": {},
     "output_type": "execute_result"
    }
   ],
   "source": [
    "test_lyric = df['lyrics_proc'][0]\n",
    "\n",
    "# Convert the preprocessed test lyric into a bag-of-words representation\n",
    "test_bow = dictionary.doc2bow(test_lyric.split())\n",
    "\n",
    "# Apply the trained LDA model to the test lyric\n",
    "topic_distribution = lda_model.get_document_topics(test_bow)\n",
    "\n",
    "# Get the topic with the highest score\n",
    "highest_topic = max(topic_distribution, key=lambda x: x[1])\n",
    "print(highest_topic)\n",
    "\n",
    "# Get the main keywords for the highest topic\n",
    "main_keywords = lda_model.show_topic(highest_topic[0], topn=5)\n",
    "\n",
    "# Return the representation through the main keywords\n",
    "representation = [keyword[0] for keyword in main_keywords]\n",
    "representation"
   ]
  },
  {
   "cell_type": "code",
   "execution_count": 179,
   "metadata": {},
   "outputs": [
    {
     "data": {
      "text/plain": [
       "0                    [(0, 0.7395098), (2, 0.25371164)]\n",
       "1                                     [(0, 0.9980365)]\n",
       "2    [(0, 0.051236264), (2, 0.42722824), (3, 0.5211...\n",
       "3                   [(0, 0.92060024), (4, 0.07807402)]\n",
       "4                                     [(0, 0.9944659)]\n",
       "Name: lda, dtype: object"
      ]
     },
     "execution_count": 179,
     "metadata": {},
     "output_type": "execute_result"
    }
   ],
   "source": [
    "# Get topic distributions\n",
    "df['lda'] = [lda_model.get_document_topics(bow) for bow in corpus]\n",
    "df.head()['lda']"
   ]
  },
  {
   "cell_type": "code",
   "execution_count": 180,
   "metadata": {},
   "outputs": [],
   "source": [
    "with warnings.catch_warnings():\n",
    "    warnings.simplefilter(\"ignore\")\n",
    "    pyLDAvis.enable_notebook()\n",
    "\n",
    "    # Convert the corpus to a gensim-specific format\n",
    "    gensim_corpus = gensimvis.prepare(lda_model, corpus, dictionary)\n",
    "\n",
    "    # Display the visualization\n",
    "    pyLDAvis.display(gensim_corpus)"
   ]
  },
  {
   "cell_type": "markdown",
   "metadata": {},
   "source": [
    "### TF-IDF"
   ]
  },
  {
   "cell_type": "code",
   "execution_count": 181,
   "metadata": {},
   "outputs": [
    {
     "name": "stdout",
     "output_type": "stream",
     "text": [
      "Corpus:  3919 \n",
      "\n",
      "Number of features: 40130 \n",
      "\n",
      "Last 10 features:  ['родной' 'свободно' 'так' 'тебя' 'тобою' 'туда' 'улетай' 'ґtill' 'ḳôrî'\n",
      " 'どういたしまして'] \n",
      "\n",
      "Dimensions of the TF-IDF matrix:  (3919, 40130) \n",
      "\n"
     ]
    }
   ],
   "source": [
    "\n",
    "# Initialize TfidfVectorizer\n",
    "vectorizer = TfidfVectorizer()\n",
    "\n",
    "# the corpus is the whole list of lyrics processed\n",
    "corpus = df['lyrics_proc'].values\n",
    "\n",
    "print(\"Corpus: \", len(corpus), \"\\n\")\n",
    "\n",
    "tfidf_matrix = vectorizer.fit_transform(corpus)\n",
    "feature_names = vectorizer.get_feature_names_out()\n",
    "\n",
    "# Convert TF-IDF matrix to a list of lists\n",
    "tfidf_list = tfidf_matrix.toarray().tolist()\n",
    "\n",
    "# Add TF-IDF vector list as a column named 'tf-idf'\n",
    "df['tf-idf'] = tfidf_list\n",
    "\n",
    "print(\"Number of features: %d\" % len(feature_names), \"\\n\")\n",
    "print(\"Last 10 features: \", feature_names[-10:], \"\\n\")\n",
    "print (\"Dimensions of the TF-IDF matrix: \", tfidf_matrix.shape, \"\\n\")"
   ]
  },
  {
   "cell_type": "markdown",
   "metadata": {},
   "source": [
    "### Combine the three features into a single fixed-size vector"
   ]
  },
  {
   "cell_type": "code",
   "execution_count": 182,
   "metadata": {},
   "outputs": [
    {
     "data": {
      "text/html": [
       "<div>\n",
       "<style scoped>\n",
       "    .dataframe tbody tr th:only-of-type {\n",
       "        vertical-align: middle;\n",
       "    }\n",
       "\n",
       "    .dataframe tbody tr th {\n",
       "        vertical-align: top;\n",
       "    }\n",
       "\n",
       "    .dataframe thead th {\n",
       "        text-align: right;\n",
       "    }\n",
       "</style>\n",
       "<table border=\"1\" class=\"dataframe\">\n",
       "  <thead>\n",
       "    <tr style=\"text-align: right;\">\n",
       "      <th></th>\n",
       "      <th>title</th>\n",
       "      <th>tag</th>\n",
       "      <th>artist</th>\n",
       "      <th>year</th>\n",
       "      <th>lyrics</th>\n",
       "      <th>id</th>\n",
       "      <th>lyrics_proc</th>\n",
       "      <th>neg</th>\n",
       "      <th>neu</th>\n",
       "      <th>pos</th>\n",
       "      <th>compound</th>\n",
       "      <th>lda</th>\n",
       "      <th>feature_vector</th>\n",
       "    </tr>\n",
       "  </thead>\n",
       "  <tbody>\n",
       "    <tr>\n",
       "      <th>0</th>\n",
       "      <td>Toothpick</td>\n",
       "      <td>pop</td>\n",
       "      <td>Biting Elbows</td>\n",
       "      <td>2012</td>\n",
       "      <td>Some folks got the patience of the angels\\nNot...</td>\n",
       "      <td>1166787</td>\n",
       "      <td>folk got patience angel heart well yearns veng...</td>\n",
       "      <td>0.191</td>\n",
       "      <td>0.640</td>\n",
       "      <td>0.169</td>\n",
       "      <td>0.0258</td>\n",
       "      <td>[(0, 0.7395098), (2, 0.25371164)]</td>\n",
       "      <td>[0.191, 0.64, 0.169, 0.0258, 0.739509820938110...</td>\n",
       "    </tr>\n",
       "    <tr>\n",
       "      <th>1</th>\n",
       "      <td>6 Feet Under</td>\n",
       "      <td>pop</td>\n",
       "      <td>Ana Johnsson</td>\n",
       "      <td>2004</td>\n",
       "      <td>You just left me 6 feet under ground I'm burni...</td>\n",
       "      <td>803057</td>\n",
       "      <td>left foot ground burning sight light foot buri...</td>\n",
       "      <td>0.145</td>\n",
       "      <td>0.855</td>\n",
       "      <td>0.000</td>\n",
       "      <td>-0.9325</td>\n",
       "      <td>[(0, 0.9980365)]</td>\n",
       "      <td>[0.145, 0.855, 0.0, -0.9325, 0.998036503791809...</td>\n",
       "    </tr>\n",
       "    <tr>\n",
       "      <th>2</th>\n",
       "      <td>The Poetaster Act 4. Scene 2</td>\n",
       "      <td>misc</td>\n",
       "      <td>Ben Jonson</td>\n",
       "      <td>1601</td>\n",
       "      <td>A Room in Lupus's House.\\n\\nEnter Lupus, HISTR...</td>\n",
       "      <td>674438</td>\n",
       "      <td>room house enter lupus histrio lictors tuc sta...</td>\n",
       "      <td>0.107</td>\n",
       "      <td>0.726</td>\n",
       "      <td>0.167</td>\n",
       "      <td>0.9042</td>\n",
       "      <td>[(0, 0.051236264), (2, 0.42722824), (3, 0.5211...</td>\n",
       "      <td>[0.107, 0.726, 0.167, 0.9042, 0.05123626440763...</td>\n",
       "    </tr>\n",
       "    <tr>\n",
       "      <th>3</th>\n",
       "      <td>Hes Gone</td>\n",
       "      <td>pop</td>\n",
       "      <td>Phil Lesh &amp; Friends</td>\n",
       "      <td>2015</td>\n",
       "      <td>Rat in a drain ditch, caught on a limb, you kn...</td>\n",
       "      <td>961823</td>\n",
       "      <td>rat drain ditch caught limb know better know l...</td>\n",
       "      <td>0.074</td>\n",
       "      <td>0.727</td>\n",
       "      <td>0.198</td>\n",
       "      <td>0.9393</td>\n",
       "      <td>[(0, 0.92060024), (4, 0.07807402)]</td>\n",
       "      <td>[0.074, 0.727, 0.198, 0.9393, 0.92060023546218...</td>\n",
       "    </tr>\n",
       "    <tr>\n",
       "      <th>4</th>\n",
       "      <td>Ill Never Say</td>\n",
       "      <td>pop</td>\n",
       "      <td>Helen Ward</td>\n",
       "      <td>2015</td>\n",
       "      <td>I'll never say \"never again\" again\\nCause here...</td>\n",
       "      <td>1163619</td>\n",
       "      <td>never say never cause love head heel love neve...</td>\n",
       "      <td>0.421</td>\n",
       "      <td>0.485</td>\n",
       "      <td>0.093</td>\n",
       "      <td>-0.9558</td>\n",
       "      <td>[(0, 0.9944659)]</td>\n",
       "      <td>[0.421, 0.485, 0.093, -0.9558, 0.9944658875465...</td>\n",
       "    </tr>\n",
       "  </tbody>\n",
       "</table>\n",
       "</div>"
      ],
      "text/plain": [
       "                          title   tag               artist  year  \\\n",
       "0                     Toothpick   pop        Biting Elbows  2012   \n",
       "1                  6 Feet Under   pop         Ana Johnsson  2004   \n",
       "2  The Poetaster Act 4. Scene 2  misc           Ben Jonson  1601   \n",
       "3                      Hes Gone   pop  Phil Lesh & Friends  2015   \n",
       "4                 Ill Never Say   pop           Helen Ward  2015   \n",
       "\n",
       "                                              lyrics       id  \\\n",
       "0  Some folks got the patience of the angels\\nNot...  1166787   \n",
       "1  You just left me 6 feet under ground I'm burni...   803057   \n",
       "2  A Room in Lupus's House.\\n\\nEnter Lupus, HISTR...   674438   \n",
       "3  Rat in a drain ditch, caught on a limb, you kn...   961823   \n",
       "4  I'll never say \"never again\" again\\nCause here...  1163619   \n",
       "\n",
       "                                         lyrics_proc    neg    neu    pos  \\\n",
       "0  folk got patience angel heart well yearns veng...  0.191  0.640  0.169   \n",
       "1  left foot ground burning sight light foot buri...  0.145  0.855  0.000   \n",
       "2  room house enter lupus histrio lictors tuc sta...  0.107  0.726  0.167   \n",
       "3  rat drain ditch caught limb know better know l...  0.074  0.727  0.198   \n",
       "4  never say never cause love head heel love neve...  0.421  0.485  0.093   \n",
       "\n",
       "   compound                                                lda  \\\n",
       "0    0.0258                  [(0, 0.7395098), (2, 0.25371164)]   \n",
       "1   -0.9325                                   [(0, 0.9980365)]   \n",
       "2    0.9042  [(0, 0.051236264), (2, 0.42722824), (3, 0.5211...   \n",
       "3    0.9393                 [(0, 0.92060024), (4, 0.07807402)]   \n",
       "4   -0.9558                                   [(0, 0.9944659)]   \n",
       "\n",
       "                                      feature_vector  \n",
       "0  [0.191, 0.64, 0.169, 0.0258, 0.739509820938110...  \n",
       "1  [0.145, 0.855, 0.0, -0.9325, 0.998036503791809...  \n",
       "2  [0.107, 0.726, 0.167, 0.9042, 0.05123626440763...  \n",
       "3  [0.074, 0.727, 0.198, 0.9393, 0.92060023546218...  \n",
       "4  [0.421, 0.485, 0.093, -0.9558, 0.9944658875465...  "
      ]
     },
     "execution_count": 182,
     "metadata": {},
     "output_type": "execute_result"
    }
   ],
   "source": [
    "# Convert LDA topic distributions to a fixed-size vector\n",
    "def lda_to_vec(lda_dist, num_topics):\n",
    "    vec = np.zeros(num_topics)\n",
    "    for topic, prob in lda_dist:\n",
    "        vec[topic] = prob\n",
    "    return vec\n",
    "\n",
    "# Combine features\n",
    "features = []\n",
    "for i in range(len(df)):\n",
    "    sentiment_scores = df[['neg', 'neu', 'pos', 'compound']].iloc[i].values\n",
    "    lda_vector = lda_to_vec(df['lda'].iloc[i], num_topics)\n",
    "    tfidf_vector = tfidf_matrix[i].toarray()[0]\n",
    "    \n",
    "    combined_vector = np.concatenate([sentiment_scores, lda_vector, tfidf_vector])\n",
    "    features.append(combined_vector)\n",
    "\n",
    "# Convert to numpy array\n",
    "features = np.array(features)\n",
    "df['feature_vector'] = list(features)\n",
    "df.head()"
   ]
  },
  {
   "cell_type": "markdown",
   "metadata": {},
   "source": [
    "### Here we directly apply cosine similarity and retrieve the most similar songs"
   ]
  },
  {
   "cell_type": "code",
   "execution_count": 183,
   "metadata": {},
   "outputs": [
    {
     "data": {
      "text/html": [
       "<div>\n",
       "<style scoped>\n",
       "    .dataframe tbody tr th:only-of-type {\n",
       "        vertical-align: middle;\n",
       "    }\n",
       "\n",
       "    .dataframe tbody tr th {\n",
       "        vertical-align: top;\n",
       "    }\n",
       "\n",
       "    .dataframe thead th {\n",
       "        text-align: right;\n",
       "    }\n",
       "</style>\n",
       "<table border=\"1\" class=\"dataframe\">\n",
       "  <thead>\n",
       "    <tr style=\"text-align: right;\">\n",
       "      <th></th>\n",
       "      <th>id</th>\n",
       "      <th>similarity</th>\n",
       "    </tr>\n",
       "  </thead>\n",
       "  <tbody>\n",
       "    <tr>\n",
       "      <th>0</th>\n",
       "      <td>1166787</td>\n",
       "      <td>1.000000</td>\n",
       "    </tr>\n",
       "    <tr>\n",
       "      <th>1</th>\n",
       "      <td>1189435</td>\n",
       "      <td>0.602291</td>\n",
       "    </tr>\n",
       "    <tr>\n",
       "      <th>2</th>\n",
       "      <td>194699</td>\n",
       "      <td>0.588715</td>\n",
       "    </tr>\n",
       "    <tr>\n",
       "      <th>3</th>\n",
       "      <td>114671</td>\n",
       "      <td>0.588699</td>\n",
       "    </tr>\n",
       "    <tr>\n",
       "      <th>4</th>\n",
       "      <td>1129566</td>\n",
       "      <td>0.587068</td>\n",
       "    </tr>\n",
       "    <tr>\n",
       "      <th>5</th>\n",
       "      <td>621753</td>\n",
       "      <td>0.586521</td>\n",
       "    </tr>\n",
       "    <tr>\n",
       "      <th>6</th>\n",
       "      <td>961078</td>\n",
       "      <td>0.583111</td>\n",
       "    </tr>\n",
       "    <tr>\n",
       "      <th>7</th>\n",
       "      <td>1208914</td>\n",
       "      <td>0.574934</td>\n",
       "    </tr>\n",
       "    <tr>\n",
       "      <th>8</th>\n",
       "      <td>839802</td>\n",
       "      <td>0.574906</td>\n",
       "    </tr>\n",
       "    <tr>\n",
       "      <th>9</th>\n",
       "      <td>920899</td>\n",
       "      <td>0.574821</td>\n",
       "    </tr>\n",
       "    <tr>\n",
       "      <th>10</th>\n",
       "      <td>1220153</td>\n",
       "      <td>0.573765</td>\n",
       "    </tr>\n",
       "  </tbody>\n",
       "</table>\n",
       "</div>"
      ],
      "text/plain": [
       "         id  similarity\n",
       "0   1166787    1.000000\n",
       "1   1189435    0.602291\n",
       "2    194699    0.588715\n",
       "3    114671    0.588699\n",
       "4   1129566    0.587068\n",
       "5    621753    0.586521\n",
       "6    961078    0.583111\n",
       "7   1208914    0.574934\n",
       "8    839802    0.574906\n",
       "9    920899    0.574821\n",
       "10  1220153    0.573765"
      ]
     },
     "execution_count": 183,
     "metadata": {},
     "output_type": "execute_result"
    }
   ],
   "source": [
    "def top_n_similar_embeddings(df, target_index, n=10):\n",
    "    \n",
    "    # Extract the target embedding and its cluster\n",
    "    target_embedding = df.at[target_index, 'feature_vector']\n",
    "    \n",
    "    # Get all the embeddings    \n",
    "    all_embeddings = np.stack(df['feature_vector'].values)\n",
    "\n",
    "    # Calculate cosine similarities\n",
    "    similarities = cosine_similarity([target_embedding], all_embeddings)[0]\n",
    "\n",
    "    # Get the top n similar embeddings\n",
    "    top_n_indices = np.argsort(similarities)[-n-1:][::-1]\n",
    "    top_n_similar_ids = df.iloc[top_n_indices]['id'].values\n",
    "    top_n_similarities = similarities[top_n_indices]\n",
    "\n",
    "    return pd.DataFrame({\n",
    "        'id': top_n_similar_ids, \n",
    "        'similarity': top_n_similarities\n",
    "    })\n",
    "\n",
    "# Show top 10 similar song to the first song (the first row is the song itself)\n",
    "top_n_similar_embeddings(df,target_index=0,n=10)"
   ]
  },
  {
   "cell_type": "code",
   "execution_count": 200,
   "metadata": {},
   "outputs": [],
   "source": [
    "# Save this dataframe with the USE embeddings\n",
    "directory = \"./data/simple_features\"\n",
    "file_path = \"./data/simple_features/song_lyrics_simple_features.csv\"\n",
    "\n",
    "# Create the directory if it doesn't exist\n",
    "if not os.path.exists(directory):\n",
    "    os.makedirs(directory)\n",
    "\n",
    "df.to_csv(file_path, header='true', index=False)"
   ]
  }
 ],
 "metadata": {
  "kernelspec": {
   "display_name": "Python 3",
   "language": "python",
   "name": "python3"
  },
  "language_info": {
   "codemirror_mode": {
    "name": "ipython",
    "version": 3
   },
   "file_extension": ".py",
   "mimetype": "text/x-python",
   "name": "python",
   "nbconvert_exporter": "python",
   "pygments_lexer": "ipython3",
   "version": "3.12.3"
  }
 },
 "nbformat": 4,
 "nbformat_minor": 2
}
