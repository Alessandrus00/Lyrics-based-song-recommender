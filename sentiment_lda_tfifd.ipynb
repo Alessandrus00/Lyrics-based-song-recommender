{
 "cells": [
  {
   "cell_type": "markdown",
   "metadata": {},
   "source": [
    "### Sentiment analysis using Vader"
   ]
  },
  {
   "cell_type": "code",
   "execution_count": 1,
   "metadata": {},
   "outputs": [
    {
     "data": {
      "text/plain": [
       "True"
      ]
     },
     "execution_count": 1,
     "metadata": {},
     "output_type": "execute_result"
    }
   ],
   "source": [
    "import nltk\n",
    "from nltk.sentiment import SentimentIntensityAnalyzer\n",
    "import pandas as pd\n",
    "import matplotlib.pyplot as plt\n",
    "import seaborn as sns\n",
    "from tabulate import tabulate\n",
    "import plotly.io as pio\n",
    "import plotly.graph_objects as go\n",
    "from sklearn.feature_extraction.text import TfidfVectorizer\n",
    "from gensim import corpora\n",
    "from gensim.models import LdaModel\n",
    "import warnings\n",
    "from gensim.models import CoherenceModel\n",
    "import pyLDAvis\n",
    "import pyLDAvis.gensim_models as gensimvis\n",
    "import numpy as np\n",
    "from sklearn.metrics.pairwise import cosine_similarity\n",
    "import os\n",
    "\n",
    "nltk.download('vader_lexicon',quiet=True)"
   ]
  },
  {
   "cell_type": "code",
   "execution_count": 2,
   "metadata": {},
   "outputs": [],
   "source": [
    "df = pd.read_csv('./data/song_lyrics_sampled_proc.csv')\n",
    "sia = SentimentIntensityAnalyzer()"
   ]
  },
  {
   "cell_type": "code",
   "execution_count": 3,
   "metadata": {},
   "outputs": [
    {
     "name": "stdout",
     "output_type": "stream",
     "text": [
      "+---+------------------------------+---------------------+------+-------+-------+-------+----------+\n",
      "|   |            title             |       artist        | year |  neg  |  neu  |  pos  | compound |\n",
      "+---+------------------------------+---------------------+------+-------+-------+-------+----------+\n",
      "| 0 |          Toothpick           |    Biting Elbows    | 2012 | 0.191 | 0.64  | 0.169 |  0.0258  |\n",
      "| 1 |         6 Feet Under         |    Ana Johnsson     | 2004 | 0.145 | 0.855 |  0.0  | -0.9325  |\n",
      "| 2 | The Poetaster Act 4. Scene 2 |     Ben Jonson      | 1601 | 0.107 | 0.726 | 0.167 |  0.9042  |\n",
      "| 3 |           Hes Gone           | Phil Lesh & Friends | 2015 | 0.074 | 0.727 | 0.198 |  0.9393  |\n",
      "| 4 |        Ill Never Say         |     Helen Ward      | 2015 | 0.421 | 0.485 | 0.093 | -0.9558  |\n",
      "+---+------------------------------+---------------------+------+-------+-------+-------+----------+\n"
     ]
    }
   ],
   "source": [
    "\"\"\"\n",
    "apply sentiment analysis:\n",
    "polarity_scores() returns a dictionary with four key sentiment metrics that\n",
    "provide a comprehensive view of the sentiment:\n",
    "\n",
    "- neg (negative): proportion of text that is perceived as negative\n",
    "    range:  0-1   ->  higher values indicate a stronger presence of negative sentiment\n",
    "\n",
    "- neu (neutral): proportion of text that is perceived as neutral\n",
    "    range:  0-1   ->  higher values indicate a stronger presence of neutral sentiment\n",
    "\n",
    "- pos (positive): proportion of text that is perceived as positive\n",
    "    range:  0-1   ->  higher values indicate a stronger presence of positive sentiment\n",
    "\n",
    "-compound: normalized, weighted composite score that summarizes the overall sentiment of the text\n",
    "    range: -1, 1  ->    Values close to 1 indicate extremely positive sentiment.\n",
    "                        Values close to -1 indicate extremely negative sentiment.\n",
    "                        Values around 0 indicate neutral sentiment.\n",
    "\"\"\"\n",
    "\n",
    "df['sentiment'] = df['lyrics_proc'].apply(lambda x: sia.polarity_scores(x))\n",
    "\n",
    "# separate the sentiment scores into individual columns\n",
    "sentiment_df = df['sentiment'].apply(pd.Series)\n",
    "\n",
    "df = pd.concat([df, sentiment_df], axis=1)\n",
    "\n",
    "# Drop the 'sentiment' column\n",
    "df.drop(columns=['sentiment'], inplace=True)\n",
    "\n",
    "columns_to_display = ['title', 'artist', 'year', 'neg', 'neu', 'pos', 'compound']\n",
    "\n",
    "print(tabulate(df[columns_to_display].head(), headers='keys', tablefmt='pretty'))"
   ]
  },
  {
   "cell_type": "code",
   "execution_count": 4,
   "metadata": {},
   "outputs": [
    {
     "name": "stderr",
     "output_type": "stream",
     "text": [
      "/home/aresta/miniconda3/envs/nlp/lib/python3.12/site-packages/kaleido/scopes/base.py:188: DeprecationWarning:\n",
      "\n",
      "setDaemon() is deprecated, set the daemon attribute instead\n",
      "\n"
     ]
    },
    {
     "data": {
      "image/svg+xml": [
       "<svg class=\"main-svg\" xmlns=\"http://www.w3.org/2000/svg\" xmlns:xlink=\"http://www.w3.org/1999/xlink\" width=\"700\" height=\"500\" style=\"\" viewBox=\"0 0 700 500\"><rect x=\"0\" y=\"0\" width=\"700\" height=\"500\" style=\"fill: rgb(255, 255, 255); fill-opacity: 1;\"/><defs id=\"defs-050268\"><g class=\"clips\"><clipPath id=\"clip050268xyplot\" class=\"plotclip\"><rect width=\"540\" height=\"320\"/></clipPath><clipPath class=\"axesclip\" id=\"clip050268x\"><rect x=\"80\" y=\"0\" width=\"540\" height=\"500\"/></clipPath><clipPath class=\"axesclip\" id=\"clip050268y\"><rect x=\"0\" y=\"100\" width=\"700\" height=\"320\"/></clipPath><clipPath class=\"axesclip\" id=\"clip050268xy\"><rect x=\"80\" y=\"100\" width=\"540\" height=\"320\"/></clipPath></g><g class=\"gradients\"/><g class=\"patterns\"/></defs><g class=\"bglayer\"><rect class=\"bg\" x=\"80\" y=\"100\" width=\"540\" height=\"320\" style=\"fill: rgb(229, 236, 246); fill-opacity: 1; stroke-width: 0;\"/></g><g class=\"layer-below\"><g class=\"imagelayer\"/><g class=\"shapelayer\"/></g><g class=\"cartesianlayer\"><g class=\"subplot xy\"><g class=\"layer-subplot\"><g class=\"shapelayer\"/><g class=\"imagelayer\"/></g><g class=\"minor-gridlayer\"><g class=\"x\"/><g class=\"y\"/></g><g class=\"gridlayer\"><g class=\"x\"/><g class=\"y\"><path class=\"ygrid crisp\" transform=\"translate(0,381.94)\" d=\"M80,0h540\" style=\"stroke: rgb(255, 255, 255); stroke-opacity: 1; stroke-width: 1px;\"/><path class=\"ygrid crisp\" transform=\"translate(0,343.87)\" d=\"M80,0h540\" style=\"stroke: rgb(255, 255, 255); stroke-opacity: 1; stroke-width: 1px;\"/><path class=\"ygrid crisp\" transform=\"translate(0,305.81)\" d=\"M80,0h540\" style=\"stroke: rgb(255, 255, 255); stroke-opacity: 1; stroke-width: 1px;\"/><path class=\"ygrid crisp\" transform=\"translate(0,267.75)\" d=\"M80,0h540\" style=\"stroke: rgb(255, 255, 255); stroke-opacity: 1; stroke-width: 1px;\"/><path class=\"ygrid crisp\" transform=\"translate(0,229.68)\" d=\"M80,0h540\" style=\"stroke: rgb(255, 255, 255); stroke-opacity: 1; stroke-width: 1px;\"/><path class=\"ygrid crisp\" transform=\"translate(0,191.62)\" d=\"M80,0h540\" style=\"stroke: rgb(255, 255, 255); stroke-opacity: 1; stroke-width: 1px;\"/><path class=\"ygrid crisp\" transform=\"translate(0,153.56)\" d=\"M80,0h540\" style=\"stroke: rgb(255, 255, 255); stroke-opacity: 1; stroke-width: 1px;\"/><path class=\"ygrid crisp\" transform=\"translate(0,115.49)\" d=\"M80,0h540\" style=\"stroke: rgb(255, 255, 255); stroke-opacity: 1; stroke-width: 1px;\"/></g></g><g class=\"zerolinelayer\"><path class=\"yzl zl crisp\" transform=\"translate(0,420)\" d=\"M80,0h540\" style=\"stroke: rgb(255, 255, 255); stroke-opacity: 1; stroke-width: 2px;\"/></g><g class=\"layer-between\"><g class=\"shapelayer\"/><g class=\"imagelayer\"/></g><path class=\"xlines-below\"/><path class=\"ylines-below\"/><g class=\"overlines-below\"/><g class=\"xaxislayer-below\"/><g class=\"yaxislayer-below\"/><g class=\"overaxes-below\"/><g class=\"plot\" transform=\"translate(80,100)\" clip-path=\"url(#clip050268xyplot)\"><g class=\"barlayer mlayer\"><g class=\"trace bars\" style=\"opacity: 1;\"><g class=\"points\"><g class=\"point\"><path d=\"M0.53,320V99.53H10.06V320Z\" style=\"vector-effect: none; opacity: 1; stroke-width: 0px; fill: rgb(200, 60, 0); fill-opacity: 0.9;\"/></g><g class=\"point\"><path d=\"M11.12,320V181.11H20.65V320Z\" style=\"vector-effect: none; opacity: 1; stroke-width: 0px; fill: rgb(200, 60, 0); fill-opacity: 0.9;\"/></g><g class=\"point\"><path d=\"M21.71,320V119.92H31.24V320Z\" style=\"vector-effect: none; opacity: 1; stroke-width: 0px; fill: rgb(200, 60, 0); fill-opacity: 0.9;\"/></g><g class=\"point\"><path d=\"M32.29,320V100.5H41.82V320Z\" style=\"vector-effect: none; opacity: 1; stroke-width: 0px; fill: rgb(200, 60, 0); fill-opacity: 0.9;\"/></g><g class=\"point\"><path d=\"M42.88,320V56.79H52.41V320Z\" style=\"vector-effect: none; opacity: 1; stroke-width: 0px; fill: rgb(200, 60, 0); fill-opacity: 0.9;\"/></g><g class=\"point\"><path d=\"M53.47,320V41.25H63V320Z\" style=\"vector-effect: none; opacity: 1; stroke-width: 0px; fill: rgb(200, 60, 0); fill-opacity: 0.9;\"/></g><g class=\"point\"><path d=\"M64.06,320V21.83H73.59V320Z\" style=\"vector-effect: none; opacity: 1; stroke-width: 0px; fill: rgb(200, 60, 0); fill-opacity: 0.9;\"/></g><g class=\"point\"><path d=\"M74.65,320V44.17H84.18V320Z\" style=\"vector-effect: none; opacity: 1; stroke-width: 0px; fill: rgb(200, 60, 0); fill-opacity: 0.9;\"/></g><g class=\"point\"><path d=\"M85.24,320V48.05H94.76V320Z\" style=\"vector-effect: none; opacity: 1; stroke-width: 0px; fill: rgb(200, 60, 0); fill-opacity: 0.9;\"/></g><g class=\"point\"><path d=\"M95.82,320V70.39H105.35V320Z\" style=\"vector-effect: none; opacity: 1; stroke-width: 0px; fill: rgb(200, 60, 0); fill-opacity: 0.9;\"/></g><g class=\"point\"><path d=\"M106.41,320V76.22H115.94V320Z\" style=\"vector-effect: none; opacity: 1; stroke-width: 0px; fill: rgb(200, 60, 0); fill-opacity: 0.9;\"/></g><g class=\"point\"><path d=\"M117,320V141.29H126.53V320Z\" style=\"vector-effect: none; opacity: 1; stroke-width: 0px; fill: rgb(200, 60, 0); fill-opacity: 0.9;\"/></g><g class=\"point\"><path d=\"M127.59,320V156.83H137.12V320Z\" style=\"vector-effect: none; opacity: 1; stroke-width: 0px; fill: rgb(200, 60, 0); fill-opacity: 0.9;\"/></g><g class=\"point\"><path d=\"M138.18,320V185.97H147.71V320Z\" style=\"vector-effect: none; opacity: 1; stroke-width: 0px; fill: rgb(200, 60, 0); fill-opacity: 0.9;\"/></g><g class=\"point\"><path d=\"M148.76,320V212.19H158.29V320Z\" style=\"vector-effect: none; opacity: 1; stroke-width: 0px; fill: rgb(200, 60, 0); fill-opacity: 0.9;\"/></g><g class=\"point\"><path d=\"M159.35,320V224.82H168.88V320Z\" style=\"vector-effect: none; opacity: 1; stroke-width: 0px; fill: rgb(200, 60, 0); fill-opacity: 0.9;\"/></g><g class=\"point\"><path d=\"M169.94,320V229.67H179.47V320Z\" style=\"vector-effect: none; opacity: 1; stroke-width: 0px; fill: rgb(200, 60, 0); fill-opacity: 0.9;\"/></g><g class=\"point\"><path d=\"M180.53,320V240.36H190.06V320Z\" style=\"vector-effect: none; opacity: 1; stroke-width: 0px; fill: rgb(200, 60, 0); fill-opacity: 0.9;\"/></g><g class=\"point\"><path d=\"M191.12,320V264.64H200.65V320Z\" style=\"vector-effect: none; opacity: 1; stroke-width: 0px; fill: rgb(200, 60, 0); fill-opacity: 0.9;\"/></g><g class=\"point\"><path d=\"M201.71,320V256.87H211.24V320Z\" style=\"vector-effect: none; opacity: 1; stroke-width: 0px; fill: rgb(200, 60, 0); fill-opacity: 0.9;\"/></g><g class=\"point\"><path d=\"M212.29,320V285.04H221.82V320Z\" style=\"vector-effect: none; opacity: 1; stroke-width: 0px; fill: rgb(200, 60, 0); fill-opacity: 0.9;\"/></g><g class=\"point\"><path d=\"M222.88,320V287.95H232.41V320Z\" style=\"vector-effect: none; opacity: 1; stroke-width: 0px; fill: rgb(200, 60, 0); fill-opacity: 0.9;\"/></g><g class=\"point\"><path d=\"M233.47,320V299.6H243V320Z\" style=\"vector-effect: none; opacity: 1; stroke-width: 0px; fill: rgb(200, 60, 0); fill-opacity: 0.9;\"/></g><g class=\"point\"><path d=\"M244.06,320V296.69H253.59V320Z\" style=\"vector-effect: none; opacity: 1; stroke-width: 0px; fill: rgb(200, 60, 0); fill-opacity: 0.9;\"/></g><g class=\"point\"><path d=\"M254.65,320V305.43H264.18V320Z\" style=\"vector-effect: none; opacity: 1; stroke-width: 0px; fill: rgb(200, 60, 0); fill-opacity: 0.9;\"/></g><g class=\"point\"><path d=\"M265.24,320V306.4H274.76V320Z\" style=\"vector-effect: none; opacity: 1; stroke-width: 0px; fill: rgb(200, 60, 0); fill-opacity: 0.9;\"/></g><g class=\"point\"><path d=\"M275.82,320V309.32H285.35V320Z\" style=\"vector-effect: none; opacity: 1; stroke-width: 0px; fill: rgb(200, 60, 0); fill-opacity: 0.9;\"/></g><g class=\"point\"><path d=\"M286.41,320V313.2H295.94V320Z\" style=\"vector-effect: none; opacity: 1; stroke-width: 0px; fill: rgb(200, 60, 0); fill-opacity: 0.9;\"/></g><g class=\"point\"><path d=\"M297,320V312.23H306.53V320Z\" style=\"vector-effect: none; opacity: 1; stroke-width: 0px; fill: rgb(200, 60, 0); fill-opacity: 0.9;\"/></g><g class=\"point\"><path d=\"M307.59,320V316.12H317.12V320Z\" style=\"vector-effect: none; opacity: 1; stroke-width: 0px; fill: rgb(200, 60, 0); fill-opacity: 0.9;\"/></g><g class=\"point\"><path d=\"M318.18,320V316.12H327.71V320Z\" style=\"vector-effect: none; opacity: 1; stroke-width: 0px; fill: rgb(200, 60, 0); fill-opacity: 0.9;\"/></g><g class=\"point\"><path d=\"M328.76,320V318.06H338.29V320Z\" style=\"vector-effect: none; opacity: 1; stroke-width: 0px; fill: rgb(200, 60, 0); fill-opacity: 0.9;\"/></g><g class=\"point\"><path d=\"M339.35,320V319.03H348.88V320Z\" style=\"vector-effect: none; opacity: 1; stroke-width: 0px; fill: rgb(200, 60, 0); fill-opacity: 0.9;\"/></g><g class=\"point\"><path d=\"M0,0Z\" style=\"vector-effect: none; opacity: 1; stroke-width: 0px; fill: rgb(200, 60, 0); fill-opacity: 0.9;\"/></g><g class=\"point\"><path d=\"M360.53,320V318.06H370.06V320Z\" style=\"vector-effect: none; opacity: 1; stroke-width: 0px; fill: rgb(200, 60, 0); fill-opacity: 0.9;\"/></g><g class=\"point\"><path d=\"M371.12,320V319.03H380.65V320Z\" style=\"vector-effect: none; opacity: 1; stroke-width: 0px; fill: rgb(200, 60, 0); fill-opacity: 0.9;\"/></g><g class=\"point\"><path d=\"M381.71,320V319.03H391.24V320Z\" style=\"vector-effect: none; opacity: 1; stroke-width: 0px; fill: rgb(200, 60, 0); fill-opacity: 0.9;\"/></g></g></g><g class=\"trace bars\" style=\"opacity: 1;\"><g class=\"points\"><g class=\"point\"><path d=\"M42.88,320V319.03H52.41V320Z\" style=\"vector-effect: none; opacity: 1; stroke-width: 0px; fill: rgb(128, 128, 128); fill-opacity: 1;\"/></g><g class=\"point\"><path d=\"M0,0Z\" style=\"vector-effect: none; opacity: 1; stroke-width: 0px; fill: rgb(128, 128, 128); fill-opacity: 1;\"/></g><g class=\"point\"><path d=\"M0,0Z\" style=\"vector-effect: none; opacity: 1; stroke-width: 0px; fill: rgb(128, 128, 128); fill-opacity: 1;\"/></g><g class=\"point\"><path d=\"M74.65,320V318.06H84.18V320Z\" style=\"vector-effect: none; opacity: 1; stroke-width: 0px; fill: rgb(128, 128, 128); fill-opacity: 1;\"/></g><g class=\"point\"><path d=\"M0,0Z\" style=\"vector-effect: none; opacity: 1; stroke-width: 0px; fill: rgb(128, 128, 128); fill-opacity: 1;\"/></g><g class=\"point\"><path d=\"M95.82,320V318.06H105.35V320Z\" style=\"vector-effect: none; opacity: 1; stroke-width: 0px; fill: rgb(128, 128, 128); fill-opacity: 1;\"/></g><g class=\"point\"><path d=\"M106.41,320V316.12H115.94V320Z\" style=\"vector-effect: none; opacity: 1; stroke-width: 0px; fill: rgb(128, 128, 128); fill-opacity: 1;\"/></g><g class=\"point\"><path d=\"M117,320V316.12H126.53V320Z\" style=\"vector-effect: none; opacity: 1; stroke-width: 0px; fill: rgb(128, 128, 128); fill-opacity: 1;\"/></g><g class=\"point\"><path d=\"M127.59,320V309.32H137.12V320Z\" style=\"vector-effect: none; opacity: 1; stroke-width: 0px; fill: rgb(128, 128, 128); fill-opacity: 1;\"/></g><g class=\"point\"><path d=\"M138.18,320V311.26H147.71V320Z\" style=\"vector-effect: none; opacity: 1; stroke-width: 0px; fill: rgb(128, 128, 128); fill-opacity: 1;\"/></g><g class=\"point\"><path d=\"M148.76,320V309.32H158.29V320Z\" style=\"vector-effect: none; opacity: 1; stroke-width: 0px; fill: rgb(128, 128, 128); fill-opacity: 1;\"/></g><g class=\"point\"><path d=\"M159.35,320V299.6H168.88V320Z\" style=\"vector-effect: none; opacity: 1; stroke-width: 0px; fill: rgb(128, 128, 128); fill-opacity: 1;\"/></g><g class=\"point\"><path d=\"M169.94,320V299.6H179.47V320Z\" style=\"vector-effect: none; opacity: 1; stroke-width: 0px; fill: rgb(128, 128, 128); fill-opacity: 1;\"/></g><g class=\"point\"><path d=\"M180.53,320V283.09H190.06V320Z\" style=\"vector-effect: none; opacity: 1; stroke-width: 0px; fill: rgb(128, 128, 128); fill-opacity: 1;\"/></g><g class=\"point\"><path d=\"M191.12,320V288.92H200.65V320Z\" style=\"vector-effect: none; opacity: 1; stroke-width: 0px; fill: rgb(128, 128, 128); fill-opacity: 1;\"/></g><g class=\"point\"><path d=\"M201.71,320V273.38H211.24V320Z\" style=\"vector-effect: none; opacity: 1; stroke-width: 0px; fill: rgb(128, 128, 128); fill-opacity: 1;\"/></g><g class=\"point\"><path d=\"M212.29,320V252.01H221.82V320Z\" style=\"vector-effect: none; opacity: 1; stroke-width: 0px; fill: rgb(128, 128, 128); fill-opacity: 1;\"/></g><g class=\"point\"><path d=\"M222.88,320V246.19H232.41V320Z\" style=\"vector-effect: none; opacity: 1; stroke-width: 0px; fill: rgb(128, 128, 128); fill-opacity: 1;\"/></g><g class=\"point\"><path d=\"M233.47,320V227.73H243V320Z\" style=\"vector-effect: none; opacity: 1; stroke-width: 0px; fill: rgb(128, 128, 128); fill-opacity: 1;\"/></g><g class=\"point\"><path d=\"M244.06,320V228.7H253.59V320Z\" style=\"vector-effect: none; opacity: 1; stroke-width: 0px; fill: rgb(128, 128, 128); fill-opacity: 1;\"/></g><g class=\"point\"><path d=\"M254.65,320V213.16H264.18V320Z\" style=\"vector-effect: none; opacity: 1; stroke-width: 0px; fill: rgb(128, 128, 128); fill-opacity: 1;\"/></g><g class=\"point\"><path d=\"M265.24,320V177.23H274.76V320Z\" style=\"vector-effect: none; opacity: 1; stroke-width: 0px; fill: rgb(128, 128, 128); fill-opacity: 1;\"/></g><g class=\"point\"><path d=\"M275.82,320V143.23H285.35V320Z\" style=\"vector-effect: none; opacity: 1; stroke-width: 0px; fill: rgb(128, 128, 128); fill-opacity: 1;\"/></g><g class=\"point\"><path d=\"M286.41,320V152.95H295.94V320Z\" style=\"vector-effect: none; opacity: 1; stroke-width: 0px; fill: rgb(128, 128, 128); fill-opacity: 1;\"/></g><g class=\"point\"><path d=\"M297,320V104.38H306.53V320Z\" style=\"vector-effect: none; opacity: 1; stroke-width: 0px; fill: rgb(128, 128, 128); fill-opacity: 1;\"/></g><g class=\"point\"><path d=\"M307.59,320V98.56H317.12V320Z\" style=\"vector-effect: none; opacity: 1; stroke-width: 0px; fill: rgb(128, 128, 128); fill-opacity: 1;\"/></g><g class=\"point\"><path d=\"M318.18,320V77.19H327.71V320Z\" style=\"vector-effect: none; opacity: 1; stroke-width: 0px; fill: rgb(128, 128, 128); fill-opacity: 1;\"/></g><g class=\"point\"><path d=\"M328.76,320V57.76H338.29V320Z\" style=\"vector-effect: none; opacity: 1; stroke-width: 0px; fill: rgb(128, 128, 128); fill-opacity: 1;\"/></g><g class=\"point\"><path d=\"M339.35,320V62.62H348.88V320Z\" style=\"vector-effect: none; opacity: 1; stroke-width: 0px; fill: rgb(128, 128, 128); fill-opacity: 1;\"/></g><g class=\"point\"><path d=\"M349.94,320V73.3H359.47V320Z\" style=\"vector-effect: none; opacity: 1; stroke-width: 0px; fill: rgb(128, 128, 128); fill-opacity: 1;\"/></g><g class=\"point\"><path d=\"M360.53,320V122.84H370.06V320Z\" style=\"vector-effect: none; opacity: 1; stroke-width: 0px; fill: rgb(128, 128, 128); fill-opacity: 1;\"/></g><g class=\"point\"><path d=\"M371.12,320V125.75H380.65V320Z\" style=\"vector-effect: none; opacity: 1; stroke-width: 0px; fill: rgb(128, 128, 128); fill-opacity: 1;\"/></g><g class=\"point\"><path d=\"M381.71,320V146.15H391.24V320Z\" style=\"vector-effect: none; opacity: 1; stroke-width: 0px; fill: rgb(128, 128, 128); fill-opacity: 1;\"/></g><g class=\"point\"><path d=\"M392.29,320V177.23H401.82V320Z\" style=\"vector-effect: none; opacity: 1; stroke-width: 0px; fill: rgb(128, 128, 128); fill-opacity: 1;\"/></g><g class=\"point\"><path d=\"M402.88,320V195.68H412.41V320Z\" style=\"vector-effect: none; opacity: 1; stroke-width: 0px; fill: rgb(128, 128, 128); fill-opacity: 1;\"/></g><g class=\"point\"><path d=\"M413.47,320V244.24H423V320Z\" style=\"vector-effect: none; opacity: 1; stroke-width: 0px; fill: rgb(128, 128, 128); fill-opacity: 1;\"/></g><g class=\"point\"><path d=\"M424.06,320V239.39H433.59V320Z\" style=\"vector-effect: none; opacity: 1; stroke-width: 0px; fill: rgb(128, 128, 128); fill-opacity: 1;\"/></g><g class=\"point\"><path d=\"M434.65,320V256.87H444.18V320Z\" style=\"vector-effect: none; opacity: 1; stroke-width: 0px; fill: rgb(128, 128, 128); fill-opacity: 1;\"/></g><g class=\"point\"><path d=\"M445.24,320V262.7H454.76V320Z\" style=\"vector-effect: none; opacity: 1; stroke-width: 0px; fill: rgb(128, 128, 128); fill-opacity: 1;\"/></g><g class=\"point\"><path d=\"M455.82,320V281.15H465.35V320Z\" style=\"vector-effect: none; opacity: 1; stroke-width: 0px; fill: rgb(128, 128, 128); fill-opacity: 1;\"/></g><g class=\"point\"><path d=\"M466.41,320V290.86H475.94V320Z\" style=\"vector-effect: none; opacity: 1; stroke-width: 0px; fill: rgb(128, 128, 128); fill-opacity: 1;\"/></g><g class=\"point\"><path d=\"M477,320V302.52H486.53V320Z\" style=\"vector-effect: none; opacity: 1; stroke-width: 0px; fill: rgb(128, 128, 128); fill-opacity: 1;\"/></g><g class=\"point\"><path d=\"M487.59,320V306.4H497.12V320Z\" style=\"vector-effect: none; opacity: 1; stroke-width: 0px; fill: rgb(128, 128, 128); fill-opacity: 1;\"/></g><g class=\"point\"><path d=\"M498.18,320V309.32H507.71V320Z\" style=\"vector-effect: none; opacity: 1; stroke-width: 0px; fill: rgb(128, 128, 128); fill-opacity: 1;\"/></g><g class=\"point\"><path d=\"M508.76,320V315.14H518.29V320Z\" style=\"vector-effect: none; opacity: 1; stroke-width: 0px; fill: rgb(128, 128, 128); fill-opacity: 1;\"/></g><g class=\"point\"><path d=\"M519.35,320V317.09H528.88V320Z\" style=\"vector-effect: none; opacity: 1; stroke-width: 0px; fill: rgb(128, 128, 128); fill-opacity: 1;\"/></g><g class=\"point\"><path d=\"M529.94,320V303.49H539.47V320Z\" style=\"vector-effect: none; opacity: 1; stroke-width: 0px; fill: rgb(128, 128, 128); fill-opacity: 1;\"/></g></g></g><g class=\"trace bars\" style=\"opacity: 1;\"><g class=\"points\"><g class=\"point\"><path d=\"M0.53,320V244.24H10.06V320Z\" style=\"vector-effect: none; opacity: 1; stroke-width: 0px; fill: rgb(0, 200, 60); fill-opacity: 0.9;\"/></g><g class=\"point\"><path d=\"M11.12,320V293.78H20.65V320Z\" style=\"vector-effect: none; opacity: 1; stroke-width: 0px; fill: rgb(0, 200, 60); fill-opacity: 0.9;\"/></g><g class=\"point\"><path d=\"M21.71,320V252.98H31.24V320Z\" style=\"vector-effect: none; opacity: 1; stroke-width: 0px; fill: rgb(0, 200, 60); fill-opacity: 0.9;\"/></g><g class=\"point\"><path d=\"M32.29,320V211.22H41.82V320Z\" style=\"vector-effect: none; opacity: 1; stroke-width: 0px; fill: rgb(0, 200, 60); fill-opacity: 0.9;\"/></g><g class=\"point\"><path d=\"M42.88,320V147.12H52.41V320Z\" style=\"vector-effect: none; opacity: 1; stroke-width: 0px; fill: rgb(0, 200, 60); fill-opacity: 0.9;\"/></g><g class=\"point\"><path d=\"M53.47,320V110.21H63V320Z\" style=\"vector-effect: none; opacity: 1; stroke-width: 0px; fill: rgb(0, 200, 60); fill-opacity: 0.9;\"/></g><g class=\"point\"><path d=\"M64.06,320V71.36H73.59V320Z\" style=\"vector-effect: none; opacity: 1; stroke-width: 0px; fill: rgb(0, 200, 60); fill-opacity: 0.9;\"/></g><g class=\"point\"><path d=\"M74.65,320V58.73H84.18V320Z\" style=\"vector-effect: none; opacity: 1; stroke-width: 0px; fill: rgb(0, 200, 60); fill-opacity: 0.9;\"/></g><g class=\"point\"><path d=\"M85.24,320V23.77H94.76V320Z\" style=\"vector-effect: none; opacity: 1; stroke-width: 0px; fill: rgb(0, 200, 60); fill-opacity: 0.9;\"/></g><g class=\"point\"><path d=\"M95.82,320V43.19H105.35V320Z\" style=\"vector-effect: none; opacity: 1; stroke-width: 0px; fill: rgb(0, 200, 60); fill-opacity: 0.9;\"/></g><g class=\"point\"><path d=\"M106.41,320V16H115.94V320Z\" style=\"vector-effect: none; opacity: 1; stroke-width: 0px; fill: rgb(0, 200, 60); fill-opacity: 0.9;\"/></g><g class=\"point\"><path d=\"M117,320V57.76H126.53V320Z\" style=\"vector-effect: none; opacity: 1; stroke-width: 0px; fill: rgb(0, 200, 60); fill-opacity: 0.9;\"/></g><g class=\"point\"><path d=\"M127.59,320V65.53H137.12V320Z\" style=\"vector-effect: none; opacity: 1; stroke-width: 0px; fill: rgb(0, 200, 60); fill-opacity: 0.9;\"/></g><g class=\"point\"><path d=\"M138.18,320V137.41H147.71V320Z\" style=\"vector-effect: none; opacity: 1; stroke-width: 0px; fill: rgb(0, 200, 60); fill-opacity: 0.9;\"/></g><g class=\"point\"><path d=\"M148.76,320V161.69H158.29V320Z\" style=\"vector-effect: none; opacity: 1; stroke-width: 0px; fill: rgb(0, 200, 60); fill-opacity: 0.9;\"/></g><g class=\"point\"><path d=\"M159.35,320V184.03H168.88V320Z\" style=\"vector-effect: none; opacity: 1; stroke-width: 0px; fill: rgb(0, 200, 60); fill-opacity: 0.9;\"/></g><g class=\"point\"><path d=\"M169.94,320V205.39H179.47V320Z\" style=\"vector-effect: none; opacity: 1; stroke-width: 0px; fill: rgb(0, 200, 60); fill-opacity: 0.9;\"/></g><g class=\"point\"><path d=\"M180.53,320V210.25H190.06V320Z\" style=\"vector-effect: none; opacity: 1; stroke-width: 0px; fill: rgb(0, 200, 60); fill-opacity: 0.9;\"/></g><g class=\"point\"><path d=\"M191.12,320V218.02H200.65V320Z\" style=\"vector-effect: none; opacity: 1; stroke-width: 0px; fill: rgb(0, 200, 60); fill-opacity: 0.9;\"/></g><g class=\"point\"><path d=\"M201.71,320V241.33H211.24V320Z\" style=\"vector-effect: none; opacity: 1; stroke-width: 0px; fill: rgb(0, 200, 60); fill-opacity: 0.9;\"/></g><g class=\"point\"><path d=\"M212.29,320V253.96H221.82V320Z\" style=\"vector-effect: none; opacity: 1; stroke-width: 0px; fill: rgb(0, 200, 60); fill-opacity: 0.9;\"/></g><g class=\"point\"><path d=\"M222.88,320V263.67H232.41V320Z\" style=\"vector-effect: none; opacity: 1; stroke-width: 0px; fill: rgb(0, 200, 60); fill-opacity: 0.9;\"/></g><g class=\"point\"><path d=\"M233.47,320V276.29H243V320Z\" style=\"vector-effect: none; opacity: 1; stroke-width: 0px; fill: rgb(0, 200, 60); fill-opacity: 0.9;\"/></g><g class=\"point\"><path d=\"M244.06,320V290.86H253.59V320Z\" style=\"vector-effect: none; opacity: 1; stroke-width: 0px; fill: rgb(0, 200, 60); fill-opacity: 0.9;\"/></g><g class=\"point\"><path d=\"M254.65,320V296.69H264.18V320Z\" style=\"vector-effect: none; opacity: 1; stroke-width: 0px; fill: rgb(0, 200, 60); fill-opacity: 0.9;\"/></g><g class=\"point\"><path d=\"M265.24,320V298.63H274.76V320Z\" style=\"vector-effect: none; opacity: 1; stroke-width: 0px; fill: rgb(0, 200, 60); fill-opacity: 0.9;\"/></g><g class=\"point\"><path d=\"M275.82,320V294.75H285.35V320Z\" style=\"vector-effect: none; opacity: 1; stroke-width: 0px; fill: rgb(0, 200, 60); fill-opacity: 0.9;\"/></g><g class=\"point\"><path d=\"M286.41,320V309.32H295.94V320Z\" style=\"vector-effect: none; opacity: 1; stroke-width: 0px; fill: rgb(0, 200, 60); fill-opacity: 0.9;\"/></g><g class=\"point\"><path d=\"M297,320V302.52H306.53V320Z\" style=\"vector-effect: none; opacity: 1; stroke-width: 0px; fill: rgb(0, 200, 60); fill-opacity: 0.9;\"/></g><g class=\"point\"><path d=\"M307.59,320V302.52H317.12V320Z\" style=\"vector-effect: none; opacity: 1; stroke-width: 0px; fill: rgb(0, 200, 60); fill-opacity: 0.9;\"/></g><g class=\"point\"><path d=\"M318.18,320V312.23H327.71V320Z\" style=\"vector-effect: none; opacity: 1; stroke-width: 0px; fill: rgb(0, 200, 60); fill-opacity: 0.9;\"/></g><g class=\"point\"><path d=\"M328.76,320V306.4H338.29V320Z\" style=\"vector-effect: none; opacity: 1; stroke-width: 0px; fill: rgb(0, 200, 60); fill-opacity: 0.9;\"/></g><g class=\"point\"><path d=\"M339.35,320V318.06H348.88V320Z\" style=\"vector-effect: none; opacity: 1; stroke-width: 0px; fill: rgb(0, 200, 60); fill-opacity: 0.9;\"/></g><g class=\"point\"><path d=\"M349.94,320V313.2H359.47V320Z\" style=\"vector-effect: none; opacity: 1; stroke-width: 0px; fill: rgb(0, 200, 60); fill-opacity: 0.9;\"/></g><g class=\"point\"><path d=\"M360.53,320V316.12H370.06V320Z\" style=\"vector-effect: none; opacity: 1; stroke-width: 0px; fill: rgb(0, 200, 60); fill-opacity: 0.9;\"/></g><g class=\"point\"><path d=\"M371.12,320V312.23H380.65V320Z\" style=\"vector-effect: none; opacity: 1; stroke-width: 0px; fill: rgb(0, 200, 60); fill-opacity: 0.9;\"/></g><g class=\"point\"><path d=\"M381.71,320V319.03H391.24V320Z\" style=\"vector-effect: none; opacity: 1; stroke-width: 0px; fill: rgb(0, 200, 60); fill-opacity: 0.9;\"/></g><g class=\"point\"><path d=\"M392.29,320V318.06H401.82V320Z\" style=\"vector-effect: none; opacity: 1; stroke-width: 0px; fill: rgb(0, 200, 60); fill-opacity: 0.9;\"/></g><g class=\"point\"><path d=\"M402.88,320V319.03H412.41V320Z\" style=\"vector-effect: none; opacity: 1; stroke-width: 0px; fill: rgb(0, 200, 60); fill-opacity: 0.9;\"/></g><g class=\"point\"><path d=\"M413.47,320V318.06H423V320Z\" style=\"vector-effect: none; opacity: 1; stroke-width: 0px; fill: rgb(0, 200, 60); fill-opacity: 0.9;\"/></g><g class=\"point\"><path d=\"M0,0Z\" style=\"vector-effect: none; opacity: 1; stroke-width: 0px; fill: rgb(0, 200, 60); fill-opacity: 0.9;\"/></g><g class=\"point\"><path d=\"M434.65,320V319.03H444.18V320Z\" style=\"vector-effect: none; opacity: 1; stroke-width: 0px; fill: rgb(0, 200, 60); fill-opacity: 0.9;\"/></g><g class=\"point\"><path d=\"M0,0Z\" style=\"vector-effect: none; opacity: 1; stroke-width: 0px; fill: rgb(0, 200, 60); fill-opacity: 0.9;\"/></g><g class=\"point\"><path d=\"M0,0Z\" style=\"vector-effect: none; opacity: 1; stroke-width: 0px; fill: rgb(0, 200, 60); fill-opacity: 0.9;\"/></g><g class=\"point\"><path d=\"M0,0Z\" style=\"vector-effect: none; opacity: 1; stroke-width: 0px; fill: rgb(0, 200, 60); fill-opacity: 0.9;\"/></g><g class=\"point\"><path d=\"M477,320V319.03H486.53V320Z\" style=\"vector-effect: none; opacity: 1; stroke-width: 0px; fill: rgb(0, 200, 60); fill-opacity: 0.9;\"/></g></g></g></g></g><g class=\"overplot\"/><path class=\"xlines-above crisp\" d=\"M0,0\" style=\"fill: none;\"/><path class=\"ylines-above crisp\" d=\"M0,0\" style=\"fill: none;\"/><g class=\"overlines-above\"/><g class=\"xaxislayer-above\"><g class=\"xtick\"><text text-anchor=\"middle\" x=\"0\" y=\"433\" transform=\"translate(85.29,0)\" style=\"font-family: 'Open Sans', verdana, arial, sans-serif; font-size: 12px; fill: rgb(42, 63, 95); fill-opacity: 1; white-space: pre; opacity: 1;\">0</text></g><g class=\"xtick\"><text text-anchor=\"middle\" x=\"0\" y=\"433\" style=\"font-family: 'Open Sans', verdana, arial, sans-serif; font-size: 12px; fill: rgb(42, 63, 95); fill-opacity: 1; white-space: pre; opacity: 1;\" transform=\"translate(191.18,0)\">0.2</text></g><g class=\"xtick\"><text text-anchor=\"middle\" x=\"0\" y=\"433\" style=\"font-family: 'Open Sans', verdana, arial, sans-serif; font-size: 12px; fill: rgb(42, 63, 95); fill-opacity: 1; white-space: pre; opacity: 1;\" transform=\"translate(297.06,0)\">0.4</text></g><g class=\"xtick\"><text text-anchor=\"middle\" x=\"0\" y=\"433\" style=\"font-family: 'Open Sans', verdana, arial, sans-serif; font-size: 12px; fill: rgb(42, 63, 95); fill-opacity: 1; white-space: pre; opacity: 1;\" transform=\"translate(402.94,0)\">0.6</text></g><g class=\"xtick\"><text text-anchor=\"middle\" x=\"0\" y=\"433\" style=\"font-family: 'Open Sans', verdana, arial, sans-serif; font-size: 12px; fill: rgb(42, 63, 95); fill-opacity: 1; white-space: pre; opacity: 1;\" transform=\"translate(508.82,0)\">0.8</text></g><g class=\"xtick\"><text text-anchor=\"middle\" x=\"0\" y=\"433\" style=\"font-family: 'Open Sans', verdana, arial, sans-serif; font-size: 12px; fill: rgb(42, 63, 95); fill-opacity: 1; white-space: pre; opacity: 1;\" transform=\"translate(614.71,0)\">1</text></g></g><g class=\"yaxislayer-above\"><g class=\"ytick\"><text text-anchor=\"end\" x=\"79\" y=\"4.199999999999999\" transform=\"translate(0,420)\" style=\"font-family: 'Open Sans', verdana, arial, sans-serif; font-size: 12px; fill: rgb(42, 63, 95); fill-opacity: 1; white-space: pre; opacity: 1;\">0</text></g><g class=\"ytick\"><text text-anchor=\"end\" x=\"79\" y=\"4.199999999999999\" style=\"font-family: 'Open Sans', verdana, arial, sans-serif; font-size: 12px; fill: rgb(42, 63, 95); fill-opacity: 1; white-space: pre; opacity: 1;\" transform=\"translate(0,381.94)\">0.5</text></g><g class=\"ytick\"><text text-anchor=\"end\" x=\"79\" y=\"4.199999999999999\" style=\"font-family: 'Open Sans', verdana, arial, sans-serif; font-size: 12px; fill: rgb(42, 63, 95); fill-opacity: 1; white-space: pre; opacity: 1;\" transform=\"translate(0,343.87)\">1</text></g><g class=\"ytick\"><text text-anchor=\"end\" x=\"79\" y=\"4.199999999999999\" style=\"font-family: 'Open Sans', verdana, arial, sans-serif; font-size: 12px; fill: rgb(42, 63, 95); fill-opacity: 1; white-space: pre; opacity: 1;\" transform=\"translate(0,305.81)\">1.5</text></g><g class=\"ytick\"><text text-anchor=\"end\" x=\"79\" y=\"4.199999999999999\" style=\"font-family: 'Open Sans', verdana, arial, sans-serif; font-size: 12px; fill: rgb(42, 63, 95); fill-opacity: 1; white-space: pre; opacity: 1;\" transform=\"translate(0,267.75)\">2</text></g><g class=\"ytick\"><text text-anchor=\"end\" x=\"79\" y=\"4.199999999999999\" style=\"font-family: 'Open Sans', verdana, arial, sans-serif; font-size: 12px; fill: rgb(42, 63, 95); fill-opacity: 1; white-space: pre; opacity: 1;\" transform=\"translate(0,229.68)\">2.5</text></g><g class=\"ytick\"><text text-anchor=\"end\" x=\"79\" y=\"4.199999999999999\" style=\"font-family: 'Open Sans', verdana, arial, sans-serif; font-size: 12px; fill: rgb(42, 63, 95); fill-opacity: 1; white-space: pre; opacity: 1;\" transform=\"translate(0,191.62)\">3</text></g><g class=\"ytick\"><text text-anchor=\"end\" x=\"79\" y=\"4.199999999999999\" style=\"font-family: 'Open Sans', verdana, arial, sans-serif; font-size: 12px; fill: rgb(42, 63, 95); fill-opacity: 1; white-space: pre; opacity: 1;\" transform=\"translate(0,153.56)\">3.5</text></g><g class=\"ytick\"><text text-anchor=\"end\" x=\"79\" y=\"4.199999999999999\" style=\"font-family: 'Open Sans', verdana, arial, sans-serif; font-size: 12px; fill: rgb(42, 63, 95); fill-opacity: 1; white-space: pre; opacity: 1;\" transform=\"translate(0,115.49)\">4</text></g></g><g class=\"overaxes-above\"/></g></g><g class=\"polarlayer\"/><g class=\"smithlayer\"/><g class=\"ternarylayer\"/><g class=\"geolayer\"/><g class=\"funnelarealayer\"/><g class=\"pielayer\"/><g class=\"iciclelayer\"/><g class=\"treemaplayer\"/><g class=\"sunburstlayer\"/><g class=\"glimages\"/><defs id=\"topdefs-050268\"><g class=\"clips\"/><clipPath id=\"legend050268\"><rect width=\"203\" height=\"67\" x=\"1\" y=\"1\"/></clipPath></defs><g class=\"layer-above\"><g class=\"imagelayer\"/><g class=\"shapelayer\"/></g><g class=\"infolayer\"><g class=\"legend\" pointer-events=\"all\" transform=\"translate(414.8,100)\"><rect class=\"bg\" shape-rendering=\"crispEdges\" style=\"stroke: rgb(0, 0, 0); stroke-opacity: 0.7; fill: rgb(255, 255, 255); fill-opacity: 0.7; stroke-width: 1px;\" width=\"204\" height=\"68\" x=\"0.5\" y=\"0.5\"/><g class=\"scrollbox\" transform=\"\" clip-path=\"url(#legend050268)\"><g class=\"groups\"><g class=\"traces\" transform=\"translate(1,15.5)\" style=\"opacity: 1;\"><text class=\"legendtext\" text-anchor=\"start\" x=\"40\" y=\"4.680000000000001\" style=\"font-family: 'Open Sans', verdana, arial, sans-serif; font-size: 12px; fill: rgb(42, 63, 95); fill-opacity: 1; white-space: pre;\">Negative Sentiment Score</text><g class=\"layers\" style=\"opacity: 1;\"><g class=\"legendfill\"/><g class=\"legendlines\"/><g class=\"legendsymbols\"><g class=\"legendpoints\"><path class=\"legendundefined\" d=\"M6,6H-6V-6H6Z\" transform=\"translate(20,0)\" style=\"stroke-width: 0px; fill: rgb(200, 60, 0); fill-opacity: 0.9;\"/></g></g></g><rect class=\"legendtoggle\" x=\"0\" y=\"-9.5\" width=\"197.125\" height=\"19\" style=\"fill: rgb(0, 0, 0); fill-opacity: 0;\"/></g><g class=\"traces\" transform=\"translate(1,34.5)\" style=\"opacity: 1;\"><text class=\"legendtext\" text-anchor=\"start\" x=\"40\" y=\"4.680000000000001\" style=\"font-family: 'Open Sans', verdana, arial, sans-serif; font-size: 12px; fill: rgb(42, 63, 95); fill-opacity: 1; white-space: pre;\">Neutral Sentiment Score</text><g class=\"layers\" style=\"opacity: 1;\"><g class=\"legendfill\"/><g class=\"legendlines\"/><g class=\"legendsymbols\"><g class=\"legendpoints\"><path class=\"legendundefined\" d=\"M6,6H-6V-6H6Z\" transform=\"translate(20,0)\" style=\"stroke-width: 0px; fill: rgb(128, 128, 128); fill-opacity: 1;\"/></g></g></g><rect class=\"legendtoggle\" x=\"0\" y=\"-9.5\" width=\"197.125\" height=\"19\" style=\"fill: rgb(0, 0, 0); fill-opacity: 0;\"/></g><g class=\"traces\" transform=\"translate(1,53.5)\" style=\"opacity: 1;\"><text class=\"legendtext\" text-anchor=\"start\" x=\"40\" y=\"4.680000000000001\" style=\"font-family: 'Open Sans', verdana, arial, sans-serif; font-size: 12px; fill: rgb(42, 63, 95); fill-opacity: 1; white-space: pre;\">Positive Sentiment Score</text><g class=\"layers\" style=\"opacity: 1;\"><g class=\"legendfill\"/><g class=\"legendlines\"/><g class=\"legendsymbols\"><g class=\"legendpoints\"><path class=\"legendundefined\" d=\"M6,6H-6V-6H6Z\" transform=\"translate(20,0)\" style=\"stroke-width: 0px; fill: rgb(0, 200, 60); fill-opacity: 0.9;\"/></g></g></g><rect class=\"legendtoggle\" x=\"0\" y=\"-9.5\" width=\"197.125\" height=\"19\" style=\"fill: rgb(0, 0, 0); fill-opacity: 0;\"/></g></g></g><rect class=\"scrollbar\" rx=\"20\" ry=\"3\" width=\"0\" height=\"0\" style=\"fill: rgb(128, 139, 164); fill-opacity: 1;\" x=\"0\" y=\"0\"/></g><g class=\"g-gtitle\"><text class=\"gtitle\" x=\"35\" y=\"50\" text-anchor=\"start\" dy=\"0em\" style=\"font-family: 'Open Sans', verdana, arial, sans-serif; font-size: 17px; fill: rgb(42, 63, 95); opacity: 1; white-space: pre;\">Sentiment Score Distribution</text></g><g class=\"g-xtitle\"><text class=\"xtitle\" x=\"350\" y=\"460.3\" text-anchor=\"middle\" style=\"font-family: 'Open Sans', verdana, arial, sans-serif; font-size: 14px; fill: rgb(42, 63, 95); opacity: 1; white-space: pre;\">Sentiment Score</text></g><g class=\"g-ytitle\"><text class=\"ytitle\" transform=\"rotate(-90,40.50625,260)\" x=\"40.50625\" y=\"260\" text-anchor=\"middle\" style=\"font-family: 'Open Sans', verdana, arial, sans-serif; font-size: 14px; fill: rgb(42, 63, 95); opacity: 1; white-space: pre;\">Density</text></g></g></svg>"
      ]
     },
     "metadata": {},
     "output_type": "display_data"
    }
   ],
   "source": [
    "# Create figure\n",
    "fig = go.Figure()\n",
    "\n",
    "# Add subplot for negative scores\n",
    "fig.add_trace(go.Histogram(x=df['neg'], nbinsx=50,histnorm='probability density', name='Negative Sentiment Score',marker_color='rgba(200, 60, 0, 0.9)'))\n",
    "\n",
    "# Add subplot for neutral scores\n",
    "fig.add_trace(go.Histogram(x=df['neu'], nbinsx=50,histnorm='probability density', name='Neutral Sentiment Score',opacity=1,marker_color='grey'))\n",
    "\n",
    "# Add subplot for positive scores\n",
    "fig.add_trace(go.Histogram(x=df['pos'], nbinsx=50,histnorm='probability density', name='Positive Sentiment Score',marker_color='rgba(0, 200, 60, 0.9)'))\n",
    "\n",
    "# Update layout\n",
    "fig.update_layout(\n",
    "    title='Sentiment Score Distribution',\n",
    "    xaxis_title='Sentiment Score',\n",
    "    yaxis_title='Density',\n",
    "    barmode='overlay',\n",
    "    bargap=0.1,\n",
    "    legend=dict(x=0.62, y=1, bgcolor='rgba(255,255,255,0.7)', bordercolor='rgba(0,0,0,0.7)', borderwidth=1),\n",
    ")\n",
    "\n",
    "# Show plot\n",
    "fig.show('svg')\n",
    "# Save plot\n",
    "pio.write_image(fig, './plots/sentiment_score_dist.pdf')"
   ]
  },
  {
   "cell_type": "code",
   "execution_count": 5,
   "metadata": {},
   "outputs": [
    {
     "data": {
      "image/svg+xml": [
       "<svg class=\"main-svg\" xmlns=\"http://www.w3.org/2000/svg\" xmlns:xlink=\"http://www.w3.org/1999/xlink\" width=\"700\" height=\"500\" style=\"\" viewBox=\"0 0 700 500\"><rect x=\"0\" y=\"0\" width=\"700\" height=\"500\" style=\"fill: rgb(255, 255, 255); fill-opacity: 1;\"/><defs id=\"defs-42ca54\"><g class=\"clips\"><clipPath id=\"clip42ca54xyplot\" class=\"plotclip\"><rect width=\"540\" height=\"320\"/></clipPath><clipPath class=\"axesclip\" id=\"clip42ca54x\"><rect x=\"80\" y=\"0\" width=\"540\" height=\"500\"/></clipPath><clipPath class=\"axesclip\" id=\"clip42ca54y\"><rect x=\"0\" y=\"100\" width=\"700\" height=\"320\"/></clipPath><clipPath class=\"axesclip\" id=\"clip42ca54xy\"><rect x=\"80\" y=\"100\" width=\"540\" height=\"320\"/></clipPath></g><g class=\"gradients\"/><g class=\"patterns\"/></defs><g class=\"bglayer\"><rect class=\"bg\" x=\"80\" y=\"100\" width=\"540\" height=\"320\" style=\"fill: rgb(229, 236, 246); fill-opacity: 1; stroke-width: 0;\"/></g><g class=\"layer-below\"><g class=\"imagelayer\"/><g class=\"shapelayer\"/></g><g class=\"cartesianlayer\"><g class=\"subplot xy\"><g class=\"layer-subplot\"><g class=\"shapelayer\"/><g class=\"imagelayer\"/></g><g class=\"minor-gridlayer\"><g class=\"x\"/><g class=\"y\"/></g><g class=\"gridlayer\"><g class=\"x\"/><g class=\"y\"><path class=\"ygrid crisp\" transform=\"translate(0,354.32)\" d=\"M80,0h540\" style=\"stroke: rgb(255, 255, 255); stroke-opacity: 1; stroke-width: 1px;\"/><path class=\"ygrid crisp\" transform=\"translate(0,288.65)\" d=\"M80,0h540\" style=\"stroke: rgb(255, 255, 255); stroke-opacity: 1; stroke-width: 1px;\"/><path class=\"ygrid crisp\" transform=\"translate(0,222.97)\" d=\"M80,0h540\" style=\"stroke: rgb(255, 255, 255); stroke-opacity: 1; stroke-width: 1px;\"/><path class=\"ygrid crisp\" transform=\"translate(0,157.29)\" d=\"M80,0h540\" style=\"stroke: rgb(255, 255, 255); stroke-opacity: 1; stroke-width: 1px;\"/></g></g><g class=\"zerolinelayer\"><path class=\"yzl zl crisp\" transform=\"translate(0,420)\" d=\"M80,0h540\" style=\"stroke: rgb(255, 255, 255); stroke-opacity: 1; stroke-width: 2px;\"/></g><g class=\"layer-between\"><g class=\"shapelayer\"/><g class=\"imagelayer\"/></g><path class=\"xlines-below\"/><path class=\"ylines-below\"/><g class=\"overlines-below\"/><g class=\"xaxislayer-below\"/><g class=\"yaxislayer-below\"/><g class=\"overaxes-below\"/><g class=\"plot\" transform=\"translate(80,100)\" clip-path=\"url(#clip42ca54xyplot)\"><g class=\"barlayer mlayer\"><g class=\"trace bars\" shape-rendering=\"crispEdges\" style=\"opacity: 1;\"><g class=\"points\"><g class=\"point\"><path d=\"M0,320V134.99H13.17V320Z\" style=\"vector-effect: none; opacity: 1; stroke-width: 0px; fill: rgb(100, 100, 255); fill-opacity: 0.9;\"/></g><g class=\"point\"><path d=\"M13.17,320V225.48H26.34V320Z\" style=\"vector-effect: none; opacity: 1; stroke-width: 0px; fill: rgb(100, 100, 255); fill-opacity: 0.9;\"/></g><g class=\"point\"><path d=\"M26.34,320V274.75H39.51V320Z\" style=\"vector-effect: none; opacity: 1; stroke-width: 0px; fill: rgb(100, 100, 255); fill-opacity: 0.9;\"/></g><g class=\"point\"><path d=\"M39.51,320V290.84H52.68V320Z\" style=\"vector-effect: none; opacity: 1; stroke-width: 0px; fill: rgb(100, 100, 255); fill-opacity: 0.9;\"/></g><g class=\"point\"><path d=\"M52.68,320V298.21H65.85V320Z\" style=\"vector-effect: none; opacity: 1; stroke-width: 0px; fill: rgb(100, 100, 255); fill-opacity: 0.9;\"/></g><g class=\"point\"><path d=\"M65.85,320V302.91H79.02V320Z\" style=\"vector-effect: none; opacity: 1; stroke-width: 0px; fill: rgb(100, 100, 255); fill-opacity: 0.9;\"/></g><g class=\"point\"><path d=\"M79.02,320V304.92H92.2V320Z\" style=\"vector-effect: none; opacity: 1; stroke-width: 0px; fill: rgb(100, 100, 255); fill-opacity: 0.9;\"/></g><g class=\"point\"><path d=\"M92.2,320V306.93H105.37V320Z\" style=\"vector-effect: none; opacity: 1; stroke-width: 0px; fill: rgb(100, 100, 255); fill-opacity: 0.9;\"/></g><g class=\"point\"><path d=\"M105.37,320V307.6H118.54V320Z\" style=\"vector-effect: none; opacity: 1; stroke-width: 0px; fill: rgb(100, 100, 255); fill-opacity: 0.9;\"/></g><g class=\"point\"><path d=\"M118.54,320V304.25H131.71V320Z\" style=\"vector-effect: none; opacity: 1; stroke-width: 0px; fill: rgb(100, 100, 255); fill-opacity: 0.9;\"/></g><g class=\"point\"><path d=\"M131.71,320V312.29H144.88V320Z\" style=\"vector-effect: none; opacity: 1; stroke-width: 0px; fill: rgb(100, 100, 255); fill-opacity: 0.9;\"/></g><g class=\"point\"><path d=\"M144.88,320V314.64H158.05V320Z\" style=\"vector-effect: none; opacity: 1; stroke-width: 0px; fill: rgb(100, 100, 255); fill-opacity: 0.9;\"/></g><g class=\"point\"><path d=\"M158.05,320V313.97H171.22V320Z\" style=\"vector-effect: none; opacity: 1; stroke-width: 0px; fill: rgb(100, 100, 255); fill-opacity: 0.9;\"/></g><g class=\"point\"><path d=\"M171.22,320V314.3H184.39V320Z\" style=\"vector-effect: none; opacity: 1; stroke-width: 0px; fill: rgb(100, 100, 255); fill-opacity: 0.9;\"/></g><g class=\"point\"><path d=\"M184.39,320V312.29H197.56V320Z\" style=\"vector-effect: none; opacity: 1; stroke-width: 0px; fill: rgb(100, 100, 255); fill-opacity: 0.9;\"/></g><g class=\"point\"><path d=\"M197.56,320V313.63H210.73V320Z\" style=\"vector-effect: none; opacity: 1; stroke-width: 0px; fill: rgb(100, 100, 255); fill-opacity: 0.9;\"/></g><g class=\"point\"><path d=\"M210.73,320V314.64H223.9V320Z\" style=\"vector-effect: none; opacity: 1; stroke-width: 0px; fill: rgb(100, 100, 255); fill-opacity: 0.9;\"/></g><g class=\"point\"><path d=\"M223.9,320V314.3H237.07V320Z\" style=\"vector-effect: none; opacity: 1; stroke-width: 0px; fill: rgb(100, 100, 255); fill-opacity: 0.9;\"/></g><g class=\"point\"><path d=\"M237.07,320V311.62H250.24V320Z\" style=\"vector-effect: none; opacity: 1; stroke-width: 0px; fill: rgb(100, 100, 255); fill-opacity: 0.9;\"/></g><g class=\"point\"><path d=\"M250.24,320V311.96H263.41V320Z\" style=\"vector-effect: none; opacity: 1; stroke-width: 0px; fill: rgb(100, 100, 255); fill-opacity: 0.9;\"/></g><g class=\"point\"><path d=\"M263.41,320V308.6H276.59V320Z\" style=\"vector-effect: none; opacity: 1; stroke-width: 0px; fill: rgb(100, 100, 255); fill-opacity: 0.9;\"/></g><g class=\"point\"><path d=\"M276.59,320V313.63H289.76V320Z\" style=\"vector-effect: none; opacity: 1; stroke-width: 0px; fill: rgb(100, 100, 255); fill-opacity: 0.9;\"/></g><g class=\"point\"><path d=\"M289.76,320V314.64H302.93V320Z\" style=\"vector-effect: none; opacity: 1; stroke-width: 0px; fill: rgb(100, 100, 255); fill-opacity: 0.9;\"/></g><g class=\"point\"><path d=\"M302.93,320V313.97H316.1V320Z\" style=\"vector-effect: none; opacity: 1; stroke-width: 0px; fill: rgb(100, 100, 255); fill-opacity: 0.9;\"/></g><g class=\"point\"><path d=\"M316.1,320V310.95H329.27V320Z\" style=\"vector-effect: none; opacity: 1; stroke-width: 0px; fill: rgb(100, 100, 255); fill-opacity: 0.9;\"/></g><g class=\"point\"><path d=\"M329.27,320V309.94H342.44V320Z\" style=\"vector-effect: none; opacity: 1; stroke-width: 0px; fill: rgb(100, 100, 255); fill-opacity: 0.9;\"/></g><g class=\"point\"><path d=\"M342.44,320V311.29H355.61V320Z\" style=\"vector-effect: none; opacity: 1; stroke-width: 0px; fill: rgb(100, 100, 255); fill-opacity: 0.9;\"/></g><g class=\"point\"><path d=\"M355.61,320V309.94H368.78V320Z\" style=\"vector-effect: none; opacity: 1; stroke-width: 0px; fill: rgb(100, 100, 255); fill-opacity: 0.9;\"/></g><g class=\"point\"><path d=\"M368.78,320V310.62H381.95V320Z\" style=\"vector-effect: none; opacity: 1; stroke-width: 0px; fill: rgb(100, 100, 255); fill-opacity: 0.9;\"/></g><g class=\"point\"><path d=\"M381.95,320V313.63H395.12V320Z\" style=\"vector-effect: none; opacity: 1; stroke-width: 0px; fill: rgb(100, 100, 255); fill-opacity: 0.9;\"/></g><g class=\"point\"><path d=\"M395.12,320V308.6H408.29V320Z\" style=\"vector-effect: none; opacity: 1; stroke-width: 0px; fill: rgb(100, 100, 255); fill-opacity: 0.9;\"/></g><g class=\"point\"><path d=\"M408.29,320V306.93H421.46V320Z\" style=\"vector-effect: none; opacity: 1; stroke-width: 0px; fill: rgb(100, 100, 255); fill-opacity: 0.9;\"/></g><g class=\"point\"><path d=\"M421.46,320V304.92H434.63V320Z\" style=\"vector-effect: none; opacity: 1; stroke-width: 0px; fill: rgb(100, 100, 255); fill-opacity: 0.9;\"/></g><g class=\"point\"><path d=\"M434.63,320V305.59H447.8V320Z\" style=\"vector-effect: none; opacity: 1; stroke-width: 0px; fill: rgb(100, 100, 255); fill-opacity: 0.9;\"/></g><g class=\"point\"><path d=\"M447.8,320V300.56H460.98V320Z\" style=\"vector-effect: none; opacity: 1; stroke-width: 0px; fill: rgb(100, 100, 255); fill-opacity: 0.9;\"/></g><g class=\"point\"><path d=\"M460.98,320V297.21H474.15V320Z\" style=\"vector-effect: none; opacity: 1; stroke-width: 0px; fill: rgb(100, 100, 255); fill-opacity: 0.9;\"/></g><g class=\"point\"><path d=\"M474.15,320V289.83H487.32V320Z\" style=\"vector-effect: none; opacity: 1; stroke-width: 0px; fill: rgb(100, 100, 255); fill-opacity: 0.9;\"/></g><g class=\"point\"><path d=\"M487.32,320V274.75H500.49V320Z\" style=\"vector-effect: none; opacity: 1; stroke-width: 0px; fill: rgb(100, 100, 255); fill-opacity: 0.9;\"/></g><g class=\"point\"><path d=\"M500.49,320V251.29H513.66V320Z\" style=\"vector-effect: none; opacity: 1; stroke-width: 0px; fill: rgb(100, 100, 255); fill-opacity: 0.9;\"/></g><g class=\"point\"><path d=\"M513.66,320V149.06H526.83V320Z\" style=\"vector-effect: none; opacity: 1; stroke-width: 0px; fill: rgb(100, 100, 255); fill-opacity: 0.9;\"/></g><g class=\"point\"><path d=\"M526.83,320V16H540V320Z\" style=\"vector-effect: none; opacity: 1; stroke-width: 0px; fill: rgb(100, 100, 255); fill-opacity: 0.9;\"/></g></g></g></g></g><g class=\"overplot\"/><path class=\"xlines-above crisp\" d=\"M0,0\" style=\"fill: none;\"/><path class=\"ylines-above crisp\" d=\"M0,0\" style=\"fill: none;\"/><g class=\"overlines-above\"/><g class=\"xaxislayer-above\"><g class=\"xtick\"><text text-anchor=\"middle\" x=\"0\" y=\"433\" transform=\"translate(86.59,0)\" style=\"font-family: 'Open Sans', verdana, arial, sans-serif; font-size: 12px; fill: rgb(42, 63, 95); fill-opacity: 1; white-space: pre; opacity: 1;\">−1</text></g><g class=\"xtick\"><text text-anchor=\"middle\" x=\"0\" y=\"433\" style=\"font-family: 'Open Sans', verdana, arial, sans-serif; font-size: 12px; fill: rgb(42, 63, 95); fill-opacity: 1; white-space: pre; opacity: 1;\" transform=\"translate(218.29,0)\">−0.5</text></g><g class=\"xtick\"><text text-anchor=\"middle\" x=\"0\" y=\"433\" style=\"font-family: 'Open Sans', verdana, arial, sans-serif; font-size: 12px; fill: rgb(42, 63, 95); fill-opacity: 1; white-space: pre; opacity: 1;\" transform=\"translate(350,0)\">0</text></g><g class=\"xtick\"><text text-anchor=\"middle\" x=\"0\" y=\"433\" style=\"font-family: 'Open Sans', verdana, arial, sans-serif; font-size: 12px; fill: rgb(42, 63, 95); fill-opacity: 1; white-space: pre; opacity: 1;\" transform=\"translate(481.71,0)\">0.5</text></g><g class=\"xtick\"><text text-anchor=\"middle\" x=\"0\" y=\"433\" style=\"font-family: 'Open Sans', verdana, arial, sans-serif; font-size: 12px; fill: rgb(42, 63, 95); fill-opacity: 1; white-space: pre; opacity: 1;\" transform=\"translate(613.41,0)\">1</text></g></g><g class=\"yaxislayer-above\"><g class=\"ytick\"><text text-anchor=\"end\" x=\"79\" y=\"4.199999999999999\" transform=\"translate(0,420)\" style=\"font-family: 'Open Sans', verdana, arial, sans-serif; font-size: 12px; fill: rgb(42, 63, 95); fill-opacity: 1; white-space: pre; opacity: 1;\">0</text></g><g class=\"ytick\"><text text-anchor=\"end\" x=\"79\" y=\"4.199999999999999\" style=\"font-family: 'Open Sans', verdana, arial, sans-serif; font-size: 12px; fill: rgb(42, 63, 95); fill-opacity: 1; white-space: pre; opacity: 1;\" transform=\"translate(0,354.32)\">1</text></g><g class=\"ytick\"><text text-anchor=\"end\" x=\"79\" y=\"4.199999999999999\" style=\"font-family: 'Open Sans', verdana, arial, sans-serif; font-size: 12px; fill: rgb(42, 63, 95); fill-opacity: 1; white-space: pre; opacity: 1;\" transform=\"translate(0,288.65)\">2</text></g><g class=\"ytick\"><text text-anchor=\"end\" x=\"79\" y=\"4.199999999999999\" style=\"font-family: 'Open Sans', verdana, arial, sans-serif; font-size: 12px; fill: rgb(42, 63, 95); fill-opacity: 1; white-space: pre; opacity: 1;\" transform=\"translate(0,222.97)\">3</text></g><g class=\"ytick\"><text text-anchor=\"end\" x=\"79\" y=\"4.199999999999999\" style=\"font-family: 'Open Sans', verdana, arial, sans-serif; font-size: 12px; fill: rgb(42, 63, 95); fill-opacity: 1; white-space: pre; opacity: 1;\" transform=\"translate(0,157.29)\">4</text></g></g><g class=\"overaxes-above\"/></g></g><g class=\"polarlayer\"/><g class=\"smithlayer\"/><g class=\"ternarylayer\"/><g class=\"geolayer\"/><g class=\"funnelarealayer\"/><g class=\"pielayer\"/><g class=\"iciclelayer\"/><g class=\"treemaplayer\"/><g class=\"sunburstlayer\"/><g class=\"glimages\"/><defs id=\"topdefs-42ca54\"><g class=\"clips\"/></defs><g class=\"layer-above\"><g class=\"imagelayer\"/><g class=\"shapelayer\"/></g><g class=\"infolayer\"><g class=\"g-gtitle\"><text class=\"gtitle\" x=\"35\" y=\"50\" text-anchor=\"start\" dy=\"0em\" style=\"font-family: 'Open Sans', verdana, arial, sans-serif; font-size: 17px; fill: rgb(42, 63, 95); opacity: 1; white-space: pre;\">Compound Sentiment Score Distribution</text></g><g class=\"g-xtitle\"><text class=\"xtitle\" x=\"350\" y=\"460.3\" text-anchor=\"middle\" style=\"font-family: 'Open Sans', verdana, arial, sans-serif; font-size: 14px; fill: rgb(42, 63, 95); opacity: 1; white-space: pre;\">Compound Sentiment Score</text></g><g class=\"g-ytitle\"><text class=\"ytitle\" transform=\"rotate(-90,51.959375,260)\" x=\"51.959375\" y=\"260\" text-anchor=\"middle\" style=\"font-family: 'Open Sans', verdana, arial, sans-serif; font-size: 14px; fill: rgb(42, 63, 95); opacity: 1; white-space: pre;\">Density</text></g></g></svg>"
      ]
     },
     "metadata": {},
     "output_type": "display_data"
    }
   ],
   "source": [
    "# Create histogram trace\n",
    "histogram_trace = go.Histogram(x=df['compound'], nbinsx=100, histnorm='probability density', name='Compound Sentiment Score', marker_color='rgba(100, 100, 255, 0.9)')\n",
    "\n",
    "# Create figure\n",
    "fig = go.Figure(histogram_trace)\n",
    "\n",
    "# Update layout\n",
    "fig.update_layout(\n",
    "    title='Compound Sentiment Score Distribution',\n",
    "    xaxis_title='Compound Sentiment Score',\n",
    "    yaxis_title='Density',\n",
    ")\n",
    "\n",
    "# Show plot\n",
    "fig.show('svg')\n",
    "# Save plot\n",
    "pio.write_image(fig, './plots/compound_sentiment_score_dist.pdf')"
   ]
  },
  {
   "cell_type": "code",
   "execution_count": 6,
   "metadata": {},
   "outputs": [
    {
     "data": {
      "image/svg+xml": [
       "<svg class=\"main-svg\" xmlns=\"http://www.w3.org/2000/svg\" xmlns:xlink=\"http://www.w3.org/1999/xlink\" width=\"700\" height=\"500\" style=\"\" viewBox=\"0 0 700 500\"><rect x=\"0\" y=\"0\" width=\"700\" height=\"500\" style=\"fill: rgb(255, 255, 255); fill-opacity: 1;\"/><defs id=\"defs-79421a\"><g class=\"clips\"><clipPath id=\"clip79421axyplot\" class=\"plotclip\"><rect width=\"540\" height=\"317\"/></clipPath><clipPath class=\"axesclip\" id=\"clip79421ax\"><rect x=\"80\" y=\"0\" width=\"540\" height=\"500\"/></clipPath><clipPath class=\"axesclip\" id=\"clip79421ay\"><rect x=\"0\" y=\"100\" width=\"700\" height=\"317\"/></clipPath><clipPath class=\"axesclip\" id=\"clip79421axy\"><rect x=\"80\" y=\"100\" width=\"540\" height=\"317\"/></clipPath></g><g class=\"gradients\"/><g class=\"patterns\"/></defs><g class=\"bglayer\"><rect class=\"bg\" x=\"80\" y=\"100\" width=\"540\" height=\"317\" style=\"fill: rgb(229, 236, 246); fill-opacity: 1; stroke-width: 0;\"/></g><g class=\"layer-below\"><g class=\"imagelayer\"/><g class=\"shapelayer\"/></g><g class=\"cartesianlayer\"><g class=\"subplot xy\"><g class=\"layer-subplot\"><g class=\"shapelayer\"/><g class=\"imagelayer\"/></g><g class=\"minor-gridlayer\"><g class=\"x\"/><g class=\"y\"/></g><g class=\"gridlayer\"><g class=\"x\"/><g class=\"y\"><path class=\"ygrid crisp\" transform=\"translate(0,403.64)\" d=\"M80,0h540\" style=\"stroke: rgb(255, 255, 255); stroke-opacity: 1; stroke-width: 1px;\"/><path class=\"ygrid crisp\" transform=\"translate(0,317.03999999999996)\" d=\"M80,0h540\" style=\"stroke: rgb(255, 255, 255); stroke-opacity: 1; stroke-width: 1px;\"/><path class=\"ygrid crisp\" transform=\"translate(0,273.74)\" d=\"M80,0h540\" style=\"stroke: rgb(255, 255, 255); stroke-opacity: 1; stroke-width: 1px;\"/><path class=\"ygrid crisp\" transform=\"translate(0,230.44)\" d=\"M80,0h540\" style=\"stroke: rgb(255, 255, 255); stroke-opacity: 1; stroke-width: 1px;\"/><path class=\"ygrid crisp\" transform=\"translate(0,187.13)\" d=\"M80,0h540\" style=\"stroke: rgb(255, 255, 255); stroke-opacity: 1; stroke-width: 1px;\"/><path class=\"ygrid crisp\" transform=\"translate(0,143.82999999999998)\" d=\"M80,0h540\" style=\"stroke: rgb(255, 255, 255); stroke-opacity: 1; stroke-width: 1px;\"/></g></g><g class=\"zerolinelayer\"><path class=\"yzl zl crisp\" transform=\"translate(0,360.34)\" d=\"M80,0h540\" style=\"stroke: rgb(255, 255, 255); stroke-opacity: 1; stroke-width: 2px;\"/></g><g class=\"layer-between\"><g class=\"shapelayer\"/><g class=\"imagelayer\"/></g><path class=\"xlines-below\"/><path class=\"ylines-below\"/><g class=\"overlines-below\"/><g class=\"xaxislayer-below\"/><g class=\"yaxislayer-below\"/><g class=\"overaxes-below\"/><g class=\"plot\" transform=\"translate(80,100)\" clip-path=\"url(#clip79421axyplot)\"><g class=\"barlayer mlayer\"><g class=\"trace bars\" style=\"opacity: 1;\"><g class=\"points\"><g class=\"point\"><path d=\"M9,260.34V15.85H81V260.34Z\" style=\"vector-effect: none; opacity: 1; stroke-width: 0.5px; fill: rgb(100, 100, 255); fill-opacity: 0.9; stroke: rgb(229, 236, 246); stroke-opacity: 1;\"/></g><g class=\"point\"><path d=\"M99,260.34V63.36H171V260.34Z\" style=\"vector-effect: none; opacity: 1; stroke-width: 0.5px; fill: rgb(100, 100, 255); fill-opacity: 0.9; stroke: rgb(229, 236, 246); stroke-opacity: 1;\"/></g><g class=\"point\"><path d=\"M189,260.34V151.02H261V260.34Z\" style=\"vector-effect: none; opacity: 1; stroke-width: 0.5px; fill: rgb(100, 100, 255); fill-opacity: 0.9; stroke: rgb(229, 236, 246); stroke-opacity: 1;\"/></g><g class=\"point\"><path d=\"M279,260.34V301.15H351V260.34Z\" style=\"vector-effect: none; opacity: 1; stroke-width: 0.5px; fill: rgb(100, 100, 255); fill-opacity: 0.9; stroke: rgb(229, 236, 246); stroke-opacity: 1;\"/></g><g class=\"point\"><path d=\"M369,260.34V49.43H441V260.34Z\" style=\"vector-effect: none; opacity: 1; stroke-width: 0.5px; fill: rgb(100, 100, 255); fill-opacity: 0.9; stroke: rgb(229, 236, 246); stroke-opacity: 1;\"/></g><g class=\"point\"><path d=\"M459,260.34V193.89H531V260.34Z\" style=\"vector-effect: none; opacity: 1; stroke-width: 0.5px; fill: rgb(100, 100, 255); fill-opacity: 0.9; stroke: rgb(229, 236, 246); stroke-opacity: 1;\"/></g></g></g></g></g><g class=\"overplot\"/><path class=\"xlines-above crisp\" d=\"M0,0\" style=\"fill: none;\"/><path class=\"ylines-above crisp\" d=\"M0,0\" style=\"fill: none;\"/><g class=\"overlines-above\"/><g class=\"xaxislayer-above\"><g class=\"xtick\"><text text-anchor=\"start\" x=\"0\" y=\"430\" transform=\"translate(125,0) rotate(45,0,424)\" style=\"font-family: 'Open Sans', verdana, arial, sans-serif; font-size: 12px; fill: rgb(42, 63, 95); fill-opacity: 1; white-space: pre; opacity: 1;\">country</text></g><g class=\"xtick\"><text text-anchor=\"start\" x=\"0\" y=\"430\" transform=\"translate(215,0) rotate(45,0,424)\" style=\"font-family: 'Open Sans', verdana, arial, sans-serif; font-size: 12px; fill: rgb(42, 63, 95); fill-opacity: 1; white-space: pre; opacity: 1;\">misc</text></g><g class=\"xtick\"><text text-anchor=\"start\" x=\"0\" y=\"430\" transform=\"translate(305,0) rotate(45,0,424)\" style=\"font-family: 'Open Sans', verdana, arial, sans-serif; font-size: 12px; fill: rgb(42, 63, 95); fill-opacity: 1; white-space: pre; opacity: 1;\">pop</text></g><g class=\"xtick\"><text text-anchor=\"start\" x=\"0\" y=\"430\" transform=\"translate(395,0) rotate(45,0,424)\" style=\"font-family: 'Open Sans', verdana, arial, sans-serif; font-size: 12px; fill: rgb(42, 63, 95); fill-opacity: 1; white-space: pre; opacity: 1;\">rap</text></g><g class=\"xtick\"><text text-anchor=\"start\" x=\"0\" y=\"430\" transform=\"translate(485,0) rotate(45,0,424)\" style=\"font-family: 'Open Sans', verdana, arial, sans-serif; font-size: 12px; fill: rgb(42, 63, 95); fill-opacity: 1; white-space: pre; opacity: 1;\">rb</text></g><g class=\"xtick\"><text text-anchor=\"start\" x=\"0\" y=\"430\" transform=\"translate(575,0) rotate(45,0,424)\" style=\"font-family: 'Open Sans', verdana, arial, sans-serif; font-size: 12px; fill: rgb(42, 63, 95); fill-opacity: 1; white-space: pre; opacity: 1;\">rock</text></g></g><g class=\"yaxislayer-above\"><g class=\"ytick\"><text text-anchor=\"end\" x=\"79\" y=\"4.199999999999999\" transform=\"translate(0,403.64)\" style=\"font-family: 'Open Sans', verdana, arial, sans-serif; font-size: 12px; fill: rgb(42, 63, 95); fill-opacity: 1; white-space: pre; opacity: 1;\">−0.1</text></g><g class=\"ytick\"><text text-anchor=\"end\" x=\"79\" y=\"4.199999999999999\" style=\"font-family: 'Open Sans', verdana, arial, sans-serif; font-size: 12px; fill: rgb(42, 63, 95); fill-opacity: 1; white-space: pre; opacity: 1;\" transform=\"translate(0,360.34)\">0</text></g><g class=\"ytick\"><text text-anchor=\"end\" x=\"79\" y=\"4.199999999999999\" style=\"font-family: 'Open Sans', verdana, arial, sans-serif; font-size: 12px; fill: rgb(42, 63, 95); fill-opacity: 1; white-space: pre; opacity: 1;\" transform=\"translate(0,317.03999999999996)\">0.1</text></g><g class=\"ytick\"><text text-anchor=\"end\" x=\"79\" y=\"4.199999999999999\" style=\"font-family: 'Open Sans', verdana, arial, sans-serif; font-size: 12px; fill: rgb(42, 63, 95); fill-opacity: 1; white-space: pre; opacity: 1;\" transform=\"translate(0,273.74)\">0.2</text></g><g class=\"ytick\"><text text-anchor=\"end\" x=\"79\" y=\"4.199999999999999\" style=\"font-family: 'Open Sans', verdana, arial, sans-serif; font-size: 12px; fill: rgb(42, 63, 95); fill-opacity: 1; white-space: pre; opacity: 1;\" transform=\"translate(0,230.44)\">0.3</text></g><g class=\"ytick\"><text text-anchor=\"end\" x=\"79\" y=\"4.199999999999999\" style=\"font-family: 'Open Sans', verdana, arial, sans-serif; font-size: 12px; fill: rgb(42, 63, 95); fill-opacity: 1; white-space: pre; opacity: 1;\" transform=\"translate(0,187.13)\">0.4</text></g><g class=\"ytick\"><text text-anchor=\"end\" x=\"79\" y=\"4.199999999999999\" style=\"font-family: 'Open Sans', verdana, arial, sans-serif; font-size: 12px; fill: rgb(42, 63, 95); fill-opacity: 1; white-space: pre; opacity: 1;\" transform=\"translate(0,143.82999999999998)\">0.5</text></g><g class=\"ytick\"><text text-anchor=\"end\" x=\"79\" y=\"4.199999999999999\" style=\"font-family: 'Open Sans', verdana, arial, sans-serif; font-size: 12px; fill: rgb(42, 63, 95); fill-opacity: 1; white-space: pre; opacity: 1;\" transform=\"translate(0,100.53)\">0.6</text></g></g><g class=\"overaxes-above\"/></g></g><g class=\"polarlayer\"/><g class=\"smithlayer\"/><g class=\"ternarylayer\"/><g class=\"geolayer\"/><g class=\"funnelarealayer\"/><g class=\"pielayer\"/><g class=\"iciclelayer\"/><g class=\"treemaplayer\"/><g class=\"sunburstlayer\"/><g class=\"glimages\"/><defs id=\"topdefs-79421a\"><g class=\"clips\"/></defs><g class=\"layer-above\"><g class=\"imagelayer\"/><g class=\"shapelayer\"/></g><g class=\"infolayer\"><g class=\"g-gtitle\"><text class=\"gtitle\" x=\"35\" y=\"50\" text-anchor=\"start\" dy=\"0em\" style=\"font-family: 'Open Sans', verdana, arial, sans-serif; font-size: 17px; fill: rgb(42, 63, 95); opacity: 1; white-space: pre;\">Average Compound Sentiment Score by Tag</text></g><g class=\"g-xtitle\"><text class=\"xtitle\" x=\"350\" y=\"487.1134765625\" text-anchor=\"middle\" style=\"font-family: 'Open Sans', verdana, arial, sans-serif; font-size: 14px; fill: rgb(42, 63, 95); opacity: 1; white-space: pre;\">Tag</text></g><g class=\"g-ytitle\"><text class=\"ytitle\" transform=\"rotate(-90,30.459375,258.5)\" x=\"30.459375\" y=\"258.5\" text-anchor=\"middle\" style=\"font-family: 'Open Sans', verdana, arial, sans-serif; font-size: 14px; fill: rgb(42, 63, 95); opacity: 1; white-space: pre;\">Average Compound Sentiment Score</text></g></g></svg>"
      ]
     },
     "metadata": {},
     "output_type": "display_data"
    }
   ],
   "source": [
    "# Group by tag and calculate average compound sentiment score\n",
    "average_compound_by_tag = df.groupby('tag')['compound'].mean()\n",
    "\n",
    "# Create bar plot trace\n",
    "barplot_trace = go.Bar(\n",
    "    x=average_compound_by_tag.index,\n",
    "    y=average_compound_by_tag.values,\n",
    "    marker_color='rgba(100, 100, 255, 0.9)',\n",
    "    name='Average Compound Sentiment Score'\n",
    ")\n",
    "\n",
    "# Create figure\n",
    "fig = go.Figure(barplot_trace)\n",
    "\n",
    "# Update layout\n",
    "fig.update_layout(\n",
    "    title='Average Compound Sentiment Score by Tag',\n",
    "    xaxis_title='Tag',\n",
    "    yaxis_title='Average Compound Sentiment Score',\n",
    "    xaxis=dict(tickangle=45),\n",
    ")\n",
    "\n",
    "# Show plot\n",
    "fig.show('svg')\n",
    "# Save plot\n",
    "pio.write_image(fig, './plots/avg_compound_sentiment_score_tag_dist.pdf')"
   ]
  },
  {
   "cell_type": "markdown",
   "metadata": {},
   "source": [
    "### Topic modeling with LDA"
   ]
  },
  {
   "cell_type": "code",
   "execution_count": 21,
   "metadata": {},
   "outputs": [],
   "source": [
    "# lyrics corpus\n",
    "lyrics_corpus = df['lyrics_proc'].apply(lambda x: x.split())\n",
    "\n",
    "# Create the dictionary\n",
    "dictionary = corpora.Dictionary(lyrics_corpus)\n",
    "\n",
    "# Create the corpus\n",
    "corpus = [dictionary.doc2bow(text) for text in lyrics_corpus]"
   ]
  },
  {
   "cell_type": "code",
   "execution_count": 22,
   "metadata": {},
   "outputs": [],
   "source": [
    "\n",
    "# Set parameters\n",
    "num_topics = 5\n",
    "passes = 15\n",
    "\n",
    "# Train the LDA model\n",
    "lda_model = LdaModel(\n",
    "    corpus=corpus,\n",
    "    id2word=dictionary,\n",
    "    alpha='auto',\n",
    "    eta='auto',\n",
    "    num_topics=num_topics,\n",
    "    passes=passes\n",
    ")\n",
    "\n",
    "# Save the trained model\n",
    "lda_model.save('./models/lda_model.gensim')\n",
    "\n",
    "# Load the trained LDA model\n",
    "lda_model = LdaModel.load('./models/lda_model.gensim')"
   ]
  },
  {
   "cell_type": "code",
   "execution_count": 23,
   "metadata": {},
   "outputs": [
    {
     "name": "stdout",
     "output_type": "stream",
     "text": [
      "(0, '0.010*\"god\" + 0.005*\"life\" + 0.005*\"one\"')\n",
      "(1, '0.006*\"one\" + 0.005*\"thing\" + 0.005*\"idea\"')\n",
      "(2, '0.018*\"know\" + 0.016*\"love\" + 0.013*\"like\"')\n",
      "(3, '0.020*\"like\" + 0.017*\"got\" + 0.015*\"get\"')\n",
      "(4, '0.011*\"said\" + 0.007*\"would\" + 0.007*\"one\"')\n"
     ]
    }
   ],
   "source": [
    "# Print the most relevant keywords for each topic\n",
    "topics = lda_model.print_topics(num_topics=num_topics, num_words=3)\n",
    "for topic in topics:\n",
    "    print(topic)"
   ]
  },
  {
   "cell_type": "code",
   "execution_count": 24,
   "metadata": {},
   "outputs": [
    {
     "name": "stdout",
     "output_type": "stream",
     "text": [
      "0.45270986554837833\n"
     ]
    }
   ],
   "source": [
    "# Measure coherence within a topic\n",
    "coherencemodel = CoherenceModel(model=lda_model, texts=lyrics_corpus, dictionary=dictionary, coherence='c_v')\n",
    "# Suppress warnings temporarily\n",
    "with warnings.catch_warnings():\n",
    "    warnings.simplefilter(\"ignore\")\n",
    "    #my_function_that_generates_warnings()\n",
    "    print(coherencemodel.get_coherence())"
   ]
  },
  {
   "cell_type": "code",
   "execution_count": 25,
   "metadata": {},
   "outputs": [
    {
     "name": "stdout",
     "output_type": "stream",
     "text": [
      "(2, 0.57645977)\n"
     ]
    },
    {
     "data": {
      "text/plain": [
       "['know', 'love', 'like', 'time', 'never']"
      ]
     },
     "execution_count": 25,
     "metadata": {},
     "output_type": "execute_result"
    }
   ],
   "source": [
    "test_lyric = df['lyrics_proc'][0]\n",
    "\n",
    "# Convert the preprocessed test lyric into a bag-of-words representation\n",
    "test_bow = dictionary.doc2bow(test_lyric.split())\n",
    "\n",
    "# Apply the trained LDA model to the test lyric\n",
    "topic_distribution = lda_model.get_document_topics(test_bow)\n",
    "\n",
    "# Get the topic with the highest score\n",
    "highest_topic = max(topic_distribution, key=lambda x: x[1])\n",
    "print(highest_topic)\n",
    "\n",
    "# Get the main keywords for the highest topic\n",
    "main_keywords = lda_model.show_topic(highest_topic[0], topn=5)\n",
    "\n",
    "# Return the representation through the main keywords\n",
    "representation = [keyword[0] for keyword in main_keywords]\n",
    "representation"
   ]
  },
  {
   "cell_type": "code",
   "execution_count": 26,
   "metadata": {},
   "outputs": [
    {
     "data": {
      "text/plain": [
       "0    [(2, 0.5764605), (3, 0.17442742), (4, 0.248524...\n",
       "1                    [(0, 0.16766569), (2, 0.8306347)]\n",
       "2    [(0, 0.24471664), (1, 0.4640226), (2, 0.064010...\n",
       "3                   [(2, 0.78893787), (3, 0.20987621)]\n",
       "4                     [(2, 0.9537869), (4, 0.0406149)]\n",
       "Name: lda, dtype: object"
      ]
     },
     "execution_count": 26,
     "metadata": {},
     "output_type": "execute_result"
    }
   ],
   "source": [
    "# Get topic distributions\n",
    "df['lda'] = [lda_model.get_document_topics(bow) for bow in corpus]\n",
    "df.head()['lda']"
   ]
  },
  {
   "cell_type": "code",
   "execution_count": 28,
   "metadata": {},
   "outputs": [
    {
     "data": {
      "text/html": [
       "\n",
       "<link rel=\"stylesheet\" type=\"text/css\" href=\"https://cdn.jsdelivr.net/gh/bmabey/pyLDAvis@3.4.0/pyLDAvis/js/ldavis.v1.0.0.css\">\n",
       "\n",
       "\n",
       "<div id=\"ldavis_el29260621400768842535206226187142\" style=\"background-color:white;\"></div>\n",
       "<script type=\"text/javascript\">\n",
       "\n",
       "var ldavis_el29260621400768842535206226187142_data = {\"mdsDat\": {\"x\": [-0.14961300407650302, -0.15726366502714115, 0.05873615061003694, 0.056378134584078345, 0.19176238390952885], \"y\": [0.02828169102118064, -0.0936175859028992, 0.03203253887231899, 0.138562166409198, -0.10525881039979844], \"topics\": [1, 2, 3, 4, 5], \"cluster\": [1, 1, 1, 1, 1], \"Freq\": [33.33911641887195, 25.74750264892527, 18.093828695677168, 11.705320102056142, 11.114232134469471]}, \"tinfo\": {\"Term\": [\"nigga\", \"got\", \"love\", \"shit\", \"get\", \"fuck\", \"bitch\", \"like\", \"god\", \"baby\", \"know\", \"said\", \"feel\", \"gon\", \"wan\", \"heart\", \"would\", \"idea\", \"thou\", \"'em\", \"shall\", \"may\", \"hit\", \"lord\", \"money\", \"thy\", \"law\", \"away\", \"death\", \"want\", \"goodbye\", \"solness\", \"hilda\", \"lardy\", \"heartbeat\", \"anymore\", \"bip\", \"cub\", \"ahh\", \"anytime\", \"i-n-i\", \"woohoo\", \"ohhh\", \"transplant\", \"tokin\", \"heartbreak\", \"tonight\", \"darlin\", \"ole\", \"ticking\", \"bop\", \"someday\", \"blockhead\", \"tigress\", \"hurting\", \"lonely\", \"marie\", \"s-so\", \"shangri-la\", \"ah-ah-ah-ah\", \"love\", \"no-one\", \"baby\", \"someone\", \"feel\", \"inside\", \"hurt\", \"tomorrow\", \"falling\", \"alright\", \"maybe\", \"hide\", \"dancing\", \"lover\", \"dream\", \"kiss\", \"heart\", \"know\", \"wrong\", \"waiting\", \"away\", \"never\", \"everything\", \"forever\", \"night\", \"want\", \"find\", \"gone\", \"time\", \"way\", \"'cause\", \"cry\", \"try\", \"see\", \"say\", \"take\", \"let\", \"come\", \"day\", \"need\", \"gon\", \"tell\", \"life\", \"girl\", \"around\", \"eye\", \"make\", \"one\", \"like\", \"thing\", \"back\", \"got\", \"get\", \"right\", \"could\", \"nigga\", \"bitch\", \"hoe\", \"fuckin\", \"fuck\", \"dick\", \"rapper\", \"rap\", \"gangsta\", \"dope\", \"swag\", \"werkin\", \"mic\", \"cop\", \"hater\", \"wiggle\", \"pimp\", \"boom\", \"funky\", \"stack\", \"shit\", \"pussy\", \"ratchet\", \"hustle\", \"mcnulty\", \"clip\", \"nut\", \"gat\", \"dough\", \"homie\", \"chick\", \"pop\", \"dude\", \"tryna\", \"lil\", \"dem\", \"gettin\", \"motherfucker\", \"'em\", \"huh\", \"bout\", \"rhyme\", \"hit\", \"money\", \"fucking\", \"wit\", \"got\", \"get\", \"like\", \"damn\", \"check\", \"cause\", \"big\", \"game\", \"shot\", \"wan\", \"man\", \"real\", \"back\", \"beat\", \"put\", \"know\", \"make\", \"boy\", \"gon\", \"see\", \"keep\", \"right\", \"let\", \"call\", \"want\", \"take\", \"one\", \"say\", \"come\", \"time\", \"lysander\", \"sebastian\", \"elizabeth\", \"bernard\", \"ursula\", \"avoc\", \"muslim\", \"gonzalo\", \"jellyby\", \"lenina\", \"islam\", \"henriet\", \"milady\", \"kramer\", \"catherine\", \"riderhood\", \"marguerite\", \"retz\", \"bilbo\", \"bradley\", \"sofya\", \"gandalf\", \"nekhludoff\", \"thorin\", \"winifred\", \"pontou\", \"felton\", \"inger\", \"fairfax\", \"ishmael\", \"jerry\", \"antonio\", \"captain\", \"england\", \"george\", \"earl\", \"catholic\", \"marriage\", \"replied\", \"sir\", \"muhammad\", \"seemed\", \"began\", \"caddy\", \"said\", \"asked\", \"fellow\", \"doo\", \"went\", \"looked\", \"sat\", \"poor\", \"would\", \"dear\", \"woman\", \"sister\", \"upon\", \"came\", \"quite\", \"great\", \"old\", \"could\", \"father\", \"took\", \"two\", \"made\", \"little\", \"one\", \"man\", \"year\", \"child\", \"hand\", \"first\", \"well\", \"time\", \"might\", \"much\", \"day\", \"good\", \"thought\", \"though\", \"say\", \"come\", \"men\", \"like\", \"away\", \"never\", \"back\", \"beep\", \"thy\", \"othello\", \"moses\", \"righteousness\", \"emilia\", \"thee\", \"apostle\", \"matthew\", \"gentile\", \"iago\", \"pitched\", \"thou\", \"desdemona\", \"tiamat\", \"roderigo\", \"calandrino\", \"dost\", \"helaman\", \"cassio\", \"lucius\", \"deedle\", \"pouss\\u00e9\", \"shalt\", \"unto\", \"kakadu\", \"doth\", \"aeneas\", \"brabantio\", \"claudio\", \"christ\", \"hast\", \"lustre\", \"thine\", \"arise\", \"gospel\", \"paul\", \"tame\", \"god\", \"faith\", \"sin\", \"flesh\", \"grace\", \"law\", \"thief\", \"holy\", \"shall\", \"death\", \"hath\", \"earth\", \"lord\", \"jesus\", \"heaven\", \"praise\", \"spirit\", \"land\", \"mercy\", \"blood\", \"glory\", \"king\", \"may\", \"life\", \"son\", \"men\", \"one\", \"hand\", \"soul\", \"man\", \"heart\", \"eye\", \"let\", \"come\", \"must\", \"day\", \"see\", \"time\", \"light\", \"economic\", \"united\", \"nicaragua\", \"election\", \"wherefor\", \"tlo\", \"germany\", \"rattner\", \"soviet\", \"leni\", \"development\", \"selfie\", \"proposition\", \"economy\", \"eod\", \"olympic\", \"maxim\", \"mozilla\", \"sandinistas\", \"external\", \"amendment\", \"businessman\", \"chim\", \"signification\", \"central\", \"annotation\", \"self-consciousness\", \"nicaraguan\", \"wagoner\", \"republic\", \"program\", \"national\", \"consciousness\", \"territory\", \"german\", \"property\", \"principle\", \"cosmic\", \"idea\", \"concept\", \"community\", \"government\", \"nbsp\", \"policy\", \"american\", \"university\", \"general\", \"state\", \"possession\", \"particular\", \"culture\", \"knowledge\", \"individual\", \"search\", \"system\", \"nation\", \"use\", \"public\", \"form\", \"also\", \"may\", \"force\", \"thing\", \"power\", \"therefore\", \"one\", \"school\", \"would\", \"must\", \"without\", \"first\", \"men\", \"word\", \"part\", \"people\", \"case\", \"new\", \"man\", \"even\", \"mind\", \"make\", \"world\", \"time\", \"right\", \"great\", \"another\", \"year\", \"two\"], \"Freq\": [2531.0, 5308.0, 4424.0, 1681.0, 4897.0, 1488.0, 1369.0, 7458.0, 1355.0, 1948.0, 6294.0, 2521.0, 2102.0, 1874.0, 1591.0, 1684.0, 2180.0, 482.0, 362.0, 685.0, 614.0, 964.0, 806.0, 622.0, 1131.0, 305.0, 496.0, 1934.0, 570.0, 2527.0, 241.36096847030782, 271.75782027476356, 182.95017606032377, 64.00024288801058, 51.5149609910739, 162.1821923712147, 46.696315194884505, 47.66050298135341, 52.20246723707588, 44.960746792536426, 43.47906283593592, 42.322233945748316, 38.144772338559896, 28.652298124384284, 28.651533156776296, 28.698733248191097, 540.9370389764621, 26.41080523281065, 26.791471134567523, 26.380826629254198, 60.71201284172131, 86.26104054741602, 25.217038830503395, 25.161646695674648, 31.915052805991838, 287.7948768089576, 23.307190313697156, 22.957905750556186, 22.95788808386778, 22.93473942204916, 3955.91356123198, 28.242821387174608, 1716.4603948349695, 353.0626904567611, 1802.0489140214897, 655.9298812794278, 346.1636649005871, 183.60397073150907, 234.52449712444243, 276.7164215765067, 420.9964215184084, 258.07815010808775, 141.55032698293763, 176.8602000330486, 796.0197667319046, 289.4862996903163, 1311.3899699807585, 4455.677435943333, 516.6967595478974, 367.58323845816835, 1466.268654431402, 2440.351171476138, 716.2957966285967, 344.8372782017523, 1248.13791134675, 1816.5709884247754, 933.969523684207, 782.6453204074847, 2712.2105822759127, 1854.9315028288138, 681.8122864620226, 475.70020563344764, 691.4914269058979, 2349.6326982436854, 1966.1605207669204, 1762.805573997768, 1758.4926406905433, 1920.2983629984976, 1627.0628810946735, 1272.8859738001604, 1234.7191428344565, 1243.8469129998502, 1739.7169930530779, 1150.8043515741874, 825.9589523731852, 1103.244495716684, 1711.7404210268664, 2188.442398559698, 3061.5865599293697, 1312.871145136733, 1514.708283104832, 2074.3640971154423, 1926.4648004531948, 1218.0791010249334, 1154.2189691093345, 2530.177649022561, 1368.8423286002296, 337.92827631699157, 260.99565275214053, 1484.317123620587, 225.87074672523914, 203.5194089884557, 386.9256353026565, 133.94898306869194, 136.13290119373286, 118.99562254654379, 115.62153709876009, 118.37404257489848, 136.30138607339848, 133.7841219892368, 101.04006361568207, 94.0480830053511, 92.37417109969181, 90.09571763241298, 89.38320974614899, 1666.3055926777415, 163.56141224167806, 76.77741139920934, 75.39737659254698, 72.29514710844501, 67.65501283471595, 65.21416509173976, 64.32213174173515, 75.09869140923463, 159.7493599762873, 121.71543741536173, 190.01333096302045, 180.06620677140776, 214.13742739674666, 166.2741759811708, 112.3054215392832, 230.0998743817223, 209.89216728029038, 637.1489961760997, 215.13281545817608, 197.00185149905406, 244.2904140445034, 667.8136808776736, 890.4910082427311, 319.9612784023329, 234.24192168254513, 3096.712444752609, 2807.4161785036763, 3831.7040029514415, 315.3541840178723, 242.09882263166736, 932.3460753147563, 515.1042077138974, 435.0308845328907, 267.8615971545486, 746.8160619458746, 1040.0133709515114, 551.4733651901769, 1084.6261063234688, 369.30047526447925, 570.9377566460253, 1420.6211070582906, 925.2379257115333, 472.2855590678324, 639.1827339785623, 838.3642576439769, 568.9871479471863, 594.0831868915825, 634.5105640011652, 433.1454605775968, 555.5869460122378, 568.0394150415368, 606.9678050110421, 560.3766930253797, 537.9363320521003, 550.6677027168757, 85.44565648903524, 65.6707834764354, 61.93396448477377, 54.549737242211, 51.27880293865833, 49.01926891298409, 43.88353790122108, 41.74023055159658, 38.556210253410654, 38.55284292057543, 37.483887330785485, 35.356227723721055, 35.35345485169386, 35.0268695894487, 34.9013693247935, 34.28675437774346, 32.15237544593265, 31.090158357044185, 29.945664057091705, 29.718961633906147, 31.239582792799805, 27.65472524221326, 27.883352951370668, 26.127402017112807, 26.86001168171264, 25.757561101812797, 25.75518901142716, 26.100509377203196, 25.727427691691602, 24.663538442078583, 152.19045038974446, 55.17295844766908, 207.86422864488028, 84.56360704775572, 169.93160010864355, 45.23085455841542, 40.78916996334991, 75.2799317847203, 67.69429738516192, 190.80656311645066, 48.53027312275085, 213.65061043435372, 189.43766177907784, 71.85883668105625, 1405.2029955656244, 202.63529001364734, 85.99491526427985, 69.90549982952685, 460.0786699366807, 220.73073837413938, 120.79460494428105, 186.40339574651523, 902.543749938175, 204.76625175461965, 360.38766913267267, 137.7071146490799, 382.3688508348564, 443.6711527706979, 171.28919518497048, 345.58303307810803, 421.9242883428892, 675.7348760804372, 213.98516530665768, 265.1002192217021, 398.6522599250441, 433.4421007317869, 482.40845879762423, 863.7158710954892, 602.5464568504214, 317.2585940424013, 251.57154918644264, 381.5930296223585, 318.638234026629, 386.0862328757106, 563.1974161349407, 283.59011342210056, 339.88835933277585, 393.0654942396801, 341.5221063834399, 299.84756566874745, 265.79853808575547, 346.7897194842747, 344.2439544971438, 252.35527097484103, 339.0645823916085, 283.18391643435, 284.44178016324264, 282.20909275470575, 183.51937929015938, 303.2628651370738, 77.59509702755199, 57.896801841698455, 52.33890358165972, 51.29481184711957, 221.24234830690875, 79.37882962104723, 45.121466692889946, 43.51751960112764, 43.06246096525177, 39.54028826720908, 354.9496858951094, 36.78685229324834, 35.44443800126616, 30.50219752895765, 27.884822623274516, 27.217381787785907, 25.64133715182786, 25.276531026385562, 25.275660160123135, 25.267167353239085, 25.265785380281326, 23.805005228521985, 214.14102195759548, 23.38376151085316, 52.96845305088097, 22.19044895118089, 22.129235240563535, 21.085386653868735, 273.5425764945549, 58.23650915485941, 33.28994960341891, 38.051342662996426, 38.39943361462107, 98.40034510927032, 149.8821475738667, 59.02290387093486, 880.8663279215464, 196.10784787651423, 197.2915709828979, 138.11379185887628, 132.4627481252644, 333.35581506910006, 86.6217672603733, 108.11056844398544, 364.8887758609119, 338.9085179047698, 111.81299557174853, 207.0206407567282, 338.1595034482663, 149.2160911924363, 225.93984558626866, 86.9988548331063, 159.5037063024444, 173.21683787976727, 81.11990217318568, 181.2600296623538, 94.58239794396086, 189.53612730758107, 258.66472704039313, 432.2523604221198, 171.813924434101, 198.40725239019068, 385.25968249561845, 253.10660548131276, 190.1321273363448, 300.02971335083816, 244.45173311503783, 234.30313902615939, 244.10737621960965, 246.3815727525844, 201.375482193414, 233.21417410864964, 219.6787389464701, 209.7946897133336, 196.52677672745128, 103.13402113220387, 143.0043857117691, 59.667821423505565, 56.38525267058818, 53.05690107899783, 51.460975495160795, 84.3550663640335, 45.30253113389062, 43.772817985154035, 41.27618089535499, 41.7487990660297, 36.79031786494148, 84.09391995914645, 33.02534961243253, 32.33671295997558, 32.3493990043439, 77.22122656392027, 30.939460018610855, 28.88930337204613, 66.62258186452834, 57.16299082167067, 59.426826629301246, 28.077577929951246, 27.572155085585017, 53.71623143768656, 53.3198284773004, 25.863626428634348, 25.81144285039802, 25.809294350404723, 25.22206831111825, 38.31739957234855, 69.95696904491565, 116.78371486374421, 40.76671312282155, 114.24210533439248, 171.93631277940594, 108.74673236030813, 59.90654992714678, 389.0090295846681, 65.24476672299333, 79.0661943936909, 183.98591114093804, 85.5358649985077, 66.52858970144437, 137.8906353373714, 66.34254656386688, 189.59843390413062, 278.41184506565907, 113.65236093272351, 93.43726584447202, 85.63723085126166, 128.23259074250126, 84.87904593476729, 136.36466321713192, 102.1121926507425, 126.90170807560052, 228.7895426722184, 118.53642911924125, 140.79002665508065, 194.24763711769683, 296.0426621685516, 133.5022392918512, 404.2734812563464, 196.10910505048616, 129.24984894985406, 487.58405623328747, 143.60007618140196, 318.11309065671685, 223.6590566136624, 217.0171950422775, 219.05235223768287, 187.36244849882544, 207.48064435273008, 164.78028123594086, 190.0414960650291, 137.98179581515717, 179.85858611434023, 208.1309048375436, 183.84230087822817, 186.23343059883882, 205.48796714842024, 178.91024952519345, 202.9794991737897, 176.21951713446484, 157.36625065161402, 161.34090967649513, 158.7884351449843, 161.21041657163906], \"Total\": [2531.0, 5308.0, 4424.0, 1681.0, 4897.0, 1488.0, 1369.0, 7458.0, 1355.0, 1948.0, 6294.0, 2521.0, 2102.0, 1874.0, 1591.0, 1684.0, 2180.0, 482.0, 362.0, 685.0, 614.0, 964.0, 806.0, 622.0, 1131.0, 305.0, 496.0, 1934.0, 570.0, 2527.0, 242.1607862901675, 272.7049212185316, 183.73658165185094, 64.72755507597219, 52.27735624452131, 164.6614779934651, 47.422981851532555, 48.40403168745668, 53.0544037370745, 45.69565068071066, 44.20615391843683, 43.052028753041526, 38.87331872480265, 29.380048729192826, 29.37940890229553, 29.427844037691116, 554.8821110572112, 27.13861759694871, 27.546010733501834, 27.12566997704378, 62.43670024012461, 88.7177057733134, 25.948127838122456, 25.924018405296977, 32.88337963628666, 296.6202744234594, 24.040370803613012, 23.68457056262941, 23.684575809378995, 23.66659607527886, 4424.21230012953, 29.2075355820379, 1948.58223194815, 387.08348263862865, 2102.7247102219167, 742.6605414788572, 390.80198338794764, 202.70991746472373, 262.3603847815867, 313.70193577649417, 489.4946828816322, 294.3543681487329, 156.52089628130003, 198.0715214668047, 970.0945746790416, 334.23205549297353, 1684.2930836055511, 6294.644954213056, 623.2353223264618, 435.70252533704013, 1934.7642487429405, 3380.0714383043314, 896.7464637481092, 406.9208295021944, 1667.92117705979, 2527.8516994375677, 1237.5075280881033, 1019.0809099112689, 4238.8498900148525, 2763.2235278037733, 885.2718630911364, 587.917866118581, 904.6892815790112, 3771.779511441433, 3141.4817591958, 2764.554572066493, 2785.7781101359906, 3143.008500293896, 2593.0904109873063, 1939.747683585786, 1874.4652698479283, 1896.5373431685457, 2909.354475481782, 1738.3305891757398, 1150.424668607243, 1710.9561728300305, 3177.861242102852, 4531.969813395135, 7458.779175076796, 2284.867180747962, 2943.8663861712084, 5308.360390569978, 4897.589363619674, 2155.483524843926, 2326.243055160096, 2531.067821910232, 1369.690971840579, 338.67528701870106, 261.765121106364, 1488.8821280801872, 226.60956678881422, 204.28794412970285, 388.9324177280489, 134.6946428126127, 136.9492935417316, 119.72848149021782, 116.3541291840902, 119.18983440800785, 137.25096166941796, 134.7470828216885, 101.77240681267688, 94.787970283468, 93.11991476908918, 90.83228567758967, 90.11978260147583, 1681.9192702604196, 165.12268888530502, 77.51083357904025, 76.13436363370654, 73.04985792986406, 68.39222062513284, 65.94978288147699, 65.05580782287079, 75.96915881387571, 161.6198613544779, 123.14641419239086, 193.97184580472114, 183.80128423268977, 219.48466810145925, 170.0400804893668, 114.23020344150636, 237.62813762369603, 216.65046969403753, 685.0128867667862, 223.69510806694115, 205.65755350376847, 263.1633720340992, 806.0208872136636, 1131.0227435809945, 361.175118305298, 256.98353319161913, 5308.360390569978, 4897.589363619674, 7458.779175076796, 375.88684813818975, 278.4412148648527, 1554.0589260195952, 784.3611307949996, 664.3935449211831, 334.9082540384338, 1591.7163986855137, 2663.4001115283622, 1006.792581314794, 2943.8663861712084, 555.1137091676295, 1234.8583214553955, 6294.644954213056, 3177.861242102852, 946.865733194087, 1874.4652698479283, 3771.779511441433, 1636.3274793524615, 2155.483524843926, 2785.7781101359906, 974.0596007509703, 2527.8516994375677, 2764.554572066493, 4531.969813395135, 3141.4817591958, 3143.008500293896, 4238.8498900148525, 86.21939571958949, 66.41363098656939, 62.775081987264386, 55.292466416392344, 52.06495098208406, 49.77465631069304, 44.62401412254116, 42.48763374874185, 39.29572026815576, 39.294609396963466, 38.22451091603203, 36.09617700315576, 36.09508199524207, 35.77274595626968, 35.64708274266003, 35.028397734143695, 32.89329007566196, 31.830056010738105, 30.685682549835576, 30.45981970374656, 32.03865624234116, 28.394688955431764, 28.629633429297385, 26.867356571791788, 27.62835729112985, 26.497395152411446, 26.496305302997648, 26.864869037271667, 26.49442343152744, 25.424028531892045, 157.21709074354325, 57.617830959895194, 224.6764011973587, 89.4387909340081, 187.9909181649638, 47.43122031692011, 42.64548526038159, 81.05531192985364, 73.01495497343792, 228.21937918182607, 52.029717920937266, 265.6679268638377, 243.04216809661798, 82.0156613654938, 2521.143211239155, 273.0055822141543, 100.85720112670539, 81.01167067402594, 765.1787582133356, 338.7930830396243, 161.11537206429912, 275.46301396327766, 2180.071902260077, 330.89967907952837, 689.842964867438, 200.07910633868144, 759.2420376831573, 958.4596261504547, 283.0224349512885, 762.8394721230105, 1143.7516437420843, 2326.243055160096, 423.3242033928999, 588.7914000687778, 1140.967743133058, 1379.2765844433343, 1648.2317885023017, 4531.969813395135, 2663.4001115283622, 883.3988902081803, 638.7186682715801, 1454.2098102097411, 1069.0761175820462, 1696.5400153485616, 4238.8498900148525, 847.5219343623996, 1434.1079645392338, 2593.0904109873063, 1788.390412189729, 1173.9003598299862, 791.7928472703425, 3141.4817591958, 3143.008500293896, 709.9686158772934, 7458.779175076796, 1934.7642487429405, 3380.0714383043314, 2943.8663861712084, 184.3017604601264, 305.96046235511693, 78.33798729965754, 58.679467270531724, 53.0824874229376, 52.03786762382919, 224.46032322292845, 80.56283155570928, 45.86433729024748, 44.26063827705486, 43.806079417510865, 40.31925048631425, 362.0188154012408, 37.529713780280765, 36.18754986799635, 31.247582023253837, 28.62867926525622, 27.963449832509415, 26.384256554422112, 26.019449014899333, 26.018841663922068, 26.01209963289286, 26.01086451256681, 24.54861591441266, 220.94241502534697, 24.131352538942185, 54.723659724444055, 22.933881064392995, 22.875773507957593, 21.829544789230347, 290.23592809967715, 61.10606366787677, 34.76923383619984, 39.96763718877358, 40.512522167609845, 112.99275965589901, 179.21038618160335, 65.63634183692625, 1355.34296992946, 254.73432222450904, 257.10110924810596, 174.0589091197983, 167.31495660554475, 496.8588560010626, 106.88842661554483, 140.36843788992633, 614.3783591985552, 570.8713865484734, 147.46669039056277, 326.0392055095745, 622.9904703507523, 218.72683220561174, 395.4572748676485, 110.86276035498422, 290.13580646256224, 339.10854611719975, 105.50789726291704, 407.1569831651278, 138.39511183163378, 502.78498560403614, 964.6059860781775, 2909.354475481782, 478.58756893149723, 709.9686158772934, 4531.969813395135, 1454.2098102097411, 676.2800323069569, 2663.4001115283622, 1684.2930836055511, 1710.9561728300305, 2785.7781101359906, 3143.008500293896, 1029.1541289121737, 2593.0904109873063, 3771.779511441433, 4238.8498900148525, 1202.166907111121, 103.91992795592336, 144.77940066158405, 60.414847113232724, 57.17713829651651, 53.803470861713926, 52.20722263896677, 85.66366321753152, 46.049458457357105, 44.51970425450719, 42.02911864540711, 42.56485475088035, 37.53942691949493, 85.97748560318666, 33.7780371047358, 33.083071003976514, 33.10811844678168, 79.03376878759563, 31.687036666159344, 29.635893613026365, 68.3455966560859, 58.673707686877236, 61.00157338240647, 28.824314879662353, 28.318600991264635, 55.18216612375163, 54.79791236797731, 26.610567072154062, 26.557989682327417, 26.556093061781578, 25.97019866145721, 39.47312752044834, 73.13749751336931, 123.57456760201715, 42.28366050473012, 121.53043831368882, 190.6795835714386, 120.0641606325037, 63.9453570269318, 482.02631076212674, 70.69202086810894, 87.72511776744464, 223.0417911994187, 96.25970543153845, 73.44643029831269, 170.16054375006235, 74.61642900591342, 269.0630357241997, 448.84060881957544, 147.22816278547407, 115.78956514948909, 103.43347824726632, 178.99362891798927, 102.59395578767946, 198.11393265513453, 133.11248644736213, 196.8226850849171, 498.08653540333387, 181.58037773789738, 251.39954948210917, 438.3991352428858, 964.6059860781775, 251.166850188347, 2284.867180747962, 555.4375550122943, 250.62115832205637, 4531.969813395135, 321.0850243925653, 2180.071902260077, 1029.1541289121737, 1001.2663080684039, 1069.0761175820462, 709.9686158772934, 1213.4613336260063, 577.2621106295959, 1256.6634217436142, 329.7376592538965, 1078.9270835334544, 2663.4001115283622, 1407.67725662295, 1527.611518503775, 3177.861242102852, 1628.173765623814, 4238.8498900148525, 2155.483524843926, 762.8394721230105, 1074.7886496565866, 883.3988902081803, 1140.967743133058], \"Category\": [\"Default\", \"Default\", \"Default\", \"Default\", \"Default\", \"Default\", \"Default\", \"Default\", \"Default\", \"Default\", \"Default\", \"Default\", \"Default\", \"Default\", \"Default\", \"Default\", \"Default\", \"Default\", \"Default\", \"Default\", \"Default\", \"Default\", \"Default\", \"Default\", \"Default\", \"Default\", \"Default\", \"Default\", \"Default\", \"Default\", \"Topic1\", \"Topic1\", \"Topic1\", \"Topic1\", \"Topic1\", \"Topic1\", \"Topic1\", \"Topic1\", \"Topic1\", \"Topic1\", \"Topic1\", \"Topic1\", \"Topic1\", \"Topic1\", \"Topic1\", \"Topic1\", \"Topic1\", \"Topic1\", \"Topic1\", \"Topic1\", \"Topic1\", \"Topic1\", \"Topic1\", \"Topic1\", \"Topic1\", \"Topic1\", \"Topic1\", \"Topic1\", \"Topic1\", \"Topic1\", \"Topic1\", \"Topic1\", \"Topic1\", \"Topic1\", \"Topic1\", \"Topic1\", \"Topic1\", \"Topic1\", \"Topic1\", \"Topic1\", \"Topic1\", \"Topic1\", \"Topic1\", \"Topic1\", \"Topic1\", \"Topic1\", \"Topic1\", \"Topic1\", \"Topic1\", \"Topic1\", \"Topic1\", \"Topic1\", \"Topic1\", \"Topic1\", \"Topic1\", \"Topic1\", \"Topic1\", \"Topic1\", \"Topic1\", \"Topic1\", \"Topic1\", \"Topic1\", \"Topic1\", \"Topic1\", \"Topic1\", \"Topic1\", \"Topic1\", \"Topic1\", \"Topic1\", \"Topic1\", \"Topic1\", \"Topic1\", \"Topic1\", \"Topic1\", \"Topic1\", \"Topic1\", \"Topic1\", \"Topic1\", \"Topic1\", \"Topic1\", \"Topic1\", \"Topic1\", \"Topic1\", \"Topic1\", \"Topic1\", \"Topic2\", \"Topic2\", \"Topic2\", \"Topic2\", \"Topic2\", \"Topic2\", \"Topic2\", \"Topic2\", \"Topic2\", \"Topic2\", \"Topic2\", \"Topic2\", \"Topic2\", \"Topic2\", \"Topic2\", \"Topic2\", \"Topic2\", \"Topic2\", \"Topic2\", \"Topic2\", \"Topic2\", \"Topic2\", \"Topic2\", \"Topic2\", \"Topic2\", \"Topic2\", \"Topic2\", \"Topic2\", \"Topic2\", \"Topic2\", \"Topic2\", \"Topic2\", \"Topic2\", \"Topic2\", \"Topic2\", \"Topic2\", \"Topic2\", \"Topic2\", \"Topic2\", \"Topic2\", \"Topic2\", \"Topic2\", \"Topic2\", \"Topic2\", \"Topic2\", \"Topic2\", \"Topic2\", \"Topic2\", \"Topic2\", \"Topic2\", \"Topic2\", \"Topic2\", \"Topic2\", \"Topic2\", \"Topic2\", \"Topic2\", \"Topic2\", \"Topic2\", \"Topic2\", \"Topic2\", \"Topic2\", \"Topic2\", \"Topic2\", \"Topic2\", \"Topic2\", \"Topic2\", \"Topic2\", \"Topic2\", \"Topic2\", \"Topic2\", \"Topic2\", \"Topic2\", \"Topic2\", \"Topic2\", \"Topic2\", \"Topic2\", \"Topic3\", \"Topic3\", \"Topic3\", \"Topic3\", \"Topic3\", \"Topic3\", \"Topic3\", \"Topic3\", \"Topic3\", \"Topic3\", \"Topic3\", \"Topic3\", \"Topic3\", \"Topic3\", \"Topic3\", \"Topic3\", \"Topic3\", \"Topic3\", \"Topic3\", \"Topic3\", \"Topic3\", \"Topic3\", \"Topic3\", \"Topic3\", \"Topic3\", \"Topic3\", \"Topic3\", \"Topic3\", \"Topic3\", \"Topic3\", \"Topic3\", \"Topic3\", \"Topic3\", \"Topic3\", \"Topic3\", \"Topic3\", \"Topic3\", \"Topic3\", \"Topic3\", \"Topic3\", \"Topic3\", \"Topic3\", \"Topic3\", \"Topic3\", \"Topic3\", \"Topic3\", \"Topic3\", \"Topic3\", \"Topic3\", \"Topic3\", \"Topic3\", \"Topic3\", \"Topic3\", \"Topic3\", \"Topic3\", \"Topic3\", \"Topic3\", \"Topic3\", \"Topic3\", \"Topic3\", \"Topic3\", \"Topic3\", \"Topic3\", \"Topic3\", \"Topic3\", \"Topic3\", \"Topic3\", \"Topic3\", \"Topic3\", \"Topic3\", \"Topic3\", \"Topic3\", \"Topic3\", \"Topic3\", \"Topic3\", \"Topic3\", \"Topic3\", \"Topic3\", \"Topic3\", \"Topic3\", \"Topic3\", \"Topic3\", \"Topic3\", \"Topic3\", \"Topic3\", \"Topic3\", \"Topic3\", \"Topic3\", \"Topic4\", \"Topic4\", \"Topic4\", \"Topic4\", \"Topic4\", \"Topic4\", \"Topic4\", \"Topic4\", \"Topic4\", \"Topic4\", \"Topic4\", \"Topic4\", \"Topic4\", \"Topic4\", \"Topic4\", \"Topic4\", \"Topic4\", \"Topic4\", \"Topic4\", \"Topic4\", \"Topic4\", \"Topic4\", \"Topic4\", \"Topic4\", \"Topic4\", \"Topic4\", \"Topic4\", \"Topic4\", \"Topic4\", \"Topic4\", \"Topic4\", \"Topic4\", \"Topic4\", \"Topic4\", \"Topic4\", \"Topic4\", \"Topic4\", \"Topic4\", \"Topic4\", \"Topic4\", \"Topic4\", \"Topic4\", \"Topic4\", \"Topic4\", \"Topic4\", \"Topic4\", \"Topic4\", \"Topic4\", \"Topic4\", \"Topic4\", \"Topic4\", \"Topic4\", \"Topic4\", \"Topic4\", \"Topic4\", \"Topic4\", \"Topic4\", \"Topic4\", \"Topic4\", \"Topic4\", \"Topic4\", \"Topic4\", \"Topic4\", \"Topic4\", \"Topic4\", \"Topic4\", \"Topic4\", \"Topic4\", \"Topic4\", \"Topic4\", \"Topic4\", \"Topic4\", \"Topic4\", \"Topic4\", \"Topic4\", \"Topic4\", \"Topic4\", \"Topic5\", \"Topic5\", \"Topic5\", \"Topic5\", \"Topic5\", \"Topic5\", \"Topic5\", \"Topic5\", \"Topic5\", \"Topic5\", \"Topic5\", \"Topic5\", \"Topic5\", \"Topic5\", \"Topic5\", \"Topic5\", \"Topic5\", \"Topic5\", \"Topic5\", \"Topic5\", \"Topic5\", \"Topic5\", \"Topic5\", \"Topic5\", \"Topic5\", \"Topic5\", \"Topic5\", \"Topic5\", \"Topic5\", \"Topic5\", \"Topic5\", \"Topic5\", \"Topic5\", \"Topic5\", \"Topic5\", \"Topic5\", \"Topic5\", \"Topic5\", \"Topic5\", \"Topic5\", \"Topic5\", \"Topic5\", \"Topic5\", \"Topic5\", \"Topic5\", \"Topic5\", \"Topic5\", \"Topic5\", \"Topic5\", \"Topic5\", \"Topic5\", \"Topic5\", \"Topic5\", \"Topic5\", \"Topic5\", \"Topic5\", \"Topic5\", \"Topic5\", \"Topic5\", \"Topic5\", \"Topic5\", \"Topic5\", \"Topic5\", \"Topic5\", \"Topic5\", \"Topic5\", \"Topic5\", \"Topic5\", \"Topic5\", \"Topic5\", \"Topic5\", \"Topic5\", \"Topic5\", \"Topic5\", \"Topic5\", \"Topic5\", \"Topic5\", \"Topic5\", \"Topic5\", \"Topic5\", \"Topic5\", \"Topic5\", \"Topic5\", \"Topic5\", \"Topic5\", \"Topic5\", \"Topic5\", \"Topic5\"], \"logprob\": [30.0, 29.0, 28.0, 27.0, 26.0, 25.0, 24.0, 23.0, 22.0, 21.0, 20.0, 19.0, 18.0, 17.0, 16.0, 15.0, 14.0, 13.0, 12.0, 11.0, 10.0, 9.0, 8.0, 7.0, 6.0, 5.0, 4.0, 3.0, 2.0, 1.0, -6.9137, -6.7951, -7.1908, -8.2411, -8.4582, -7.3113, -8.5564, -8.5359, -8.4449, -8.5942, -8.6278, -8.6547, -8.7586, -9.0448, -9.0448, -9.0432, -6.1067, -9.1263, -9.1119, -9.1274, -8.2939, -7.9427, -9.1725, -9.1747, -8.937, -6.7378, -9.2513, -9.2664, -9.2664, -9.2674, -4.1171, -9.0592, -4.952, -6.5334, -4.9034, -5.914, -6.5531, -7.1872, -6.9425, -6.777, -6.3574, -6.8468, -7.4474, -7.2247, -5.7204, -6.7319, -5.2212, -3.9981, -6.1526, -6.4931, -5.1096, -4.6001, -5.8259, -6.557, -5.2706, -4.8953, -5.5606, -5.7374, -4.4945, -4.8744, -5.8753, -6.2352, -5.8612, -4.638, -4.8162, -4.9254, -4.9278, -4.8398, -5.0055, -5.251, -5.2814, -5.2741, -4.9386, -5.3518, -5.6835, -5.394, -4.9548, -4.7091, -4.3733, -5.2201, -5.0771, -4.7626, -4.8366, -5.295, -5.3489, -4.3056, -4.9199, -6.3188, -6.5771, -4.8389, -6.7217, -6.8259, -6.1834, -7.2442, -7.228, -7.3626, -7.3913, -7.3678, -7.2268, -7.2454, -7.5261, -7.5978, -7.6158, -7.6408, -7.6487, -4.7233, -7.0444, -7.8007, -7.8189, -7.8609, -7.9272, -7.964, -7.9777, -7.8228, -7.068, -7.34, -6.8945, -6.9483, -6.775, -7.028, -7.4204, -6.7031, -6.795, -5.6846, -6.7704, -6.8584, -6.6433, -5.6376, -5.3499, -6.3734, -6.6853, -4.1035, -4.2016, -3.8906, -6.3879, -6.6523, -5.3039, -5.8973, -6.0662, -6.5512, -5.5258, -5.1946, -5.829, -5.1526, -6.23, -5.7944, -4.8828, -5.3116, -5.9841, -5.6814, -5.4102, -5.7978, -5.7546, -5.6888, -6.0706, -5.8216, -5.7994, -5.7332, -5.813, -5.8539, -5.8305, -7.341, -7.6042, -7.6628, -7.7898, -7.8516, -7.8967, -8.0073, -8.0574, -8.1368, -8.1368, -8.165, -8.2234, -8.2235, -8.2328, -8.2363, -8.2541, -8.3184, -8.352, -8.3895, -8.3971, -8.3472, -8.4691, -8.4608, -8.5259, -8.4982, -8.5401, -8.5402, -8.5269, -8.5413, -8.5835, -6.7637, -7.7784, -6.452, -7.3514, -6.6535, -7.9771, -8.0805, -7.4677, -7.5739, -6.5376, -7.9067, -6.4245, -6.5448, -7.5142, -4.5409, -6.4775, -7.3346, -7.5417, -5.6575, -6.3919, -6.9948, -6.561, -4.9837, -6.467, -5.9017, -6.8637, -5.8425, -5.6938, -6.6455, -5.9436, -5.744, -5.2731, -6.423, -6.2088, -5.8008, -5.7171, -5.6101, -5.0276, -5.3877, -6.0292, -6.2611, -5.8445, -6.0248, -5.8328, -5.4552, -6.1413, -5.9603, -5.8149, -5.9555, -6.0856, -6.2061, -5.9402, -5.9475, -6.258, -5.9627, -6.1428, -6.1383, -6.1462, -6.141, -5.6387, -7.0018, -7.2947, -7.3956, -7.4158, -5.9541, -6.9791, -7.544, -7.5802, -7.5907, -7.676, -5.4814, -7.7482, -7.7854, -7.9355, -8.0253, -8.0495, -8.1091, -8.1235, -8.1235, -8.1238, -8.1239, -8.1834, -5.9867, -8.2013, -7.3836, -8.2537, -8.2564, -8.3048, -5.7419, -7.2888, -7.8481, -7.7144, -7.7053, -6.7643, -6.3435, -7.2754, -4.5724, -6.0747, -6.0687, -6.4253, -6.467, -5.5441, -6.8918, -6.6702, -5.4538, -5.5276, -6.6365, -6.0205, -5.5298, -6.3479, -5.9331, -6.8874, -6.2813, -6.1988, -6.9574, -6.1534, -6.8039, -6.1088, -5.7978, -5.2843, -6.2069, -6.063, -5.3994, -5.8195, -6.1056, -5.6495, -5.8543, -5.8967, -5.8557, -5.8465, -6.0482, -5.9014, -5.9612, -6.0072, -6.0725, -6.6655, -6.3387, -7.2127, -7.2693, -7.3302, -7.3607, -6.8665, -7.4882, -7.5225, -7.5812, -7.5699, -7.6963, -6.8696, -7.8043, -7.8253, -7.8249, -6.9549, -7.8695, -7.9381, -7.1025, -7.2556, -7.2168, -7.9666, -7.9847, -7.3178, -7.3252, -8.0487, -8.0507, -8.0508, -8.0738, -7.6556, -7.0536, -6.5412, -7.5937, -6.5632, -6.1544, -6.6125, -7.2087, -5.3379, -7.1234, -6.9312, -6.0867, -6.8526, -7.1039, -6.3751, -7.1067, -6.0566, -5.6724, -6.5684, -6.7642, -6.8514, -6.4477, -6.8603, -6.3862, -6.6755, -6.4581, -5.8687, -6.5263, -6.3543, -6.0324, -5.611, -6.4074, -5.2994, -6.0229, -6.4398, -5.1121, -6.3345, -5.5391, -5.8914, -5.9215, -5.9122, -6.0685, -5.9665, -6.1969, -6.0543, -6.3744, -6.1094, -5.9634, -6.0874, -6.0745, -5.9761, -6.1146, -5.9884, -6.1298, -6.243, -6.218, -6.234, -6.2188], \"loglift\": [30.0, 29.0, 28.0, 27.0, 26.0, 25.0, 24.0, 23.0, 22.0, 21.0, 20.0, 19.0, 18.0, 17.0, 16.0, 15.0, 14.0, 13.0, 12.0, 11.0, 10.0, 9.0, 8.0, 7.0, 6.0, 5.0, 4.0, 3.0, 2.0, 1.0, 1.0951, 1.095, 1.0941, 1.0871, 1.0837, 1.0833, 1.083, 1.083, 1.0823, 1.0822, 1.0819, 1.0813, 1.0795, 1.0734, 1.0734, 1.0734, 1.073, 1.0713, 1.0707, 1.0706, 1.0704, 1.0704, 1.0699, 1.0686, 1.0685, 1.0682, 1.0675, 1.0673, 1.0673, 1.067, 0.9866, 1.0649, 0.9716, 1.0064, 0.9441, 0.9743, 0.9771, 0.9994, 0.9863, 0.973, 0.9477, 0.9669, 0.9979, 0.9852, 0.9007, 0.9547, 0.8482, 0.7529, 0.911, 0.9284, 0.8212, 0.7727, 0.8738, 0.9329, 0.8085, 0.768, 0.817, 0.8345, 0.6519, 0.6999, 0.8373, 0.8866, 0.8297, 0.6252, 0.6298, 0.6485, 0.6384, 0.6057, 0.6324, 0.6772, 0.681, 0.6766, 0.5842, 0.686, 0.7671, 0.6596, 0.4797, 0.3705, 0.208, 0.5443, 0.4339, 0.1588, 0.1654, 0.5277, 0.3976, 1.3565, 1.3562, 1.3546, 1.3539, 1.3538, 1.3536, 1.3531, 1.3517, 1.3513, 1.3509, 1.3507, 1.3505, 1.35, 1.3499, 1.3497, 1.3496, 1.349, 1.3488, 1.3487, 1.3486, 1.3475, 1.3473, 1.3473, 1.3471, 1.3464, 1.346, 1.3456, 1.3455, 1.3453, 1.3452, 1.3451, 1.3362, 1.3363, 1.3322, 1.3344, 1.3398, 1.3246, 1.3251, 1.2844, 1.3178, 1.3138, 1.2824, 1.1687, 1.1177, 1.2357, 1.2642, 0.8179, 0.8004, 0.6908, 1.1812, 1.217, 0.8459, 0.9363, 0.9334, 1.1334, 0.6001, 0.4165, 0.7549, 0.3583, 0.9493, 0.5854, -0.1318, 0.1229, 0.6613, 0.2809, -0.147, 0.3005, 0.0681, -0.1226, 0.5464, -0.1583, -0.2256, -0.6536, -0.367, -0.4084, -0.6841, 1.7006, 1.6984, 1.6961, 1.6961, 1.6944, 1.6943, 1.6929, 1.6919, 1.6906, 1.6905, 1.69, 1.6889, 1.6888, 1.6885, 1.6885, 1.6882, 1.6868, 1.6861, 1.6852, 1.685, 1.6843, 1.6832, 1.6832, 1.6817, 1.6814, 1.6813, 1.6812, 1.6807, 1.6802, 1.6792, 1.6771, 1.6662, 1.6318, 1.6535, 1.6086, 1.6621, 1.6651, 1.6357, 1.6339, 1.5306, 1.64, 1.4917, 1.4604, 1.5774, 1.1251, 1.4115, 1.5502, 1.5622, 1.2009, 1.2812, 1.4216, 1.3191, 0.8277, 1.2297, 1.0603, 1.336, 1.0237, 0.9394, 1.2074, 0.9178, 0.7124, 0.4734, 1.0274, 0.9116, 0.6581, 0.552, 0.4809, 0.0519, 0.2234, 0.6855, 0.7779, 0.3717, 0.4991, 0.2293, -0.3088, 0.6148, 0.2699, -0.177, 0.0539, 0.3448, 0.618, -0.4941, -0.502, 0.6752, -1.3814, -0.212, -0.7655, -0.6352, 2.1409, 2.1363, 2.1356, 2.1317, 2.131, 2.1307, 2.1307, 2.1303, 2.1288, 2.1282, 2.128, 2.1256, 2.1254, 2.1251, 2.1244, 2.121, 2.1188, 2.1181, 2.1166, 2.1162, 2.1161, 2.1161, 2.1161, 2.1144, 2.1139, 2.1137, 2.1125, 2.1122, 2.1119, 2.1104, 2.0859, 2.097, 2.1016, 2.096, 2.0916, 2.0068, 1.9664, 2.0389, 1.7142, 1.8836, 1.8803, 1.9138, 1.9116, 1.746, 1.9349, 1.884, 1.6241, 1.6237, 1.8684, 1.6909, 1.5341, 1.7627, 1.5854, 1.9027, 1.5468, 1.4734, 1.8823, 1.3359, 1.7645, 1.1695, 0.8289, 0.2384, 1.1207, 0.8702, -0.3199, 0.3967, 0.8762, -0.0384, 0.215, 0.1569, -0.2895, -0.4009, 0.5138, -0.2635, -0.698, -0.8608, 0.334, 2.1894, 2.1846, 2.1845, 2.183, 2.183, 2.1825, 2.1815, 2.1806, 2.18, 2.1789, 2.1776, 2.1768, 2.1748, 2.1744, 2.1741, 2.1738, 2.1737, 2.1731, 2.1714, 2.1714, 2.1709, 2.1708, 2.1707, 2.1702, 2.17, 2.1696, 2.1685, 2.1684, 2.1684, 2.1677, 2.1672, 2.1525, 2.1404, 2.1604, 2.1351, 2.0935, 2.0979, 2.1317, 1.9825, 2.1168, 2.093, 2.0044, 2.0788, 2.098, 1.9867, 2.0794, 1.8469, 1.7194, 1.9381, 1.9825, 2.0081, 1.8634, 2.0074, 1.8234, 1.9318, 1.7581, 1.419, 1.7705, 1.6172, 1.3829, 1.0157, 1.5649, 0.465, 1.1559, 1.5347, -0.0325, 1.3923, 0.2722, 0.6706, 0.6679, 0.6117, 0.8648, 0.4307, 0.9433, 0.308, 1.3258, 0.4054, -0.3522, 0.1613, 0.0925, -0.5416, -0.0114, -0.842, -0.3071, 0.6185, 0.3006, 0.4807, 0.24]}, \"token.table\": {\"Topic\": [1, 2, 1, 2, 3, 5, 4, 1, 1, 1, 2, 2, 3, 4, 5, 3, 5, 1, 2, 3, 4, 5, 4, 5, 1, 2, 3, 4, 5, 2, 3, 1, 2, 1, 3, 4, 4, 5, 1, 2, 3, 4, 5, 1, 2, 3, 4, 5, 3, 1, 2, 3, 4, 5, 1, 2, 1, 2, 3, 4, 5, 1, 2, 3, 4, 4, 1, 3, 4, 5, 3, 1, 2, 3, 4, 5, 3, 1, 2, 1, 1, 2, 3, 4, 5, 2, 1, 5, 1, 2, 3, 1, 2, 3, 4, 4, 3, 2, 5, 2, 3, 4, 1, 2, 3, 4, 5, 1, 2, 3, 4, 5, 2, 3, 4, 5, 1, 2, 3, 4, 5, 4, 3, 2, 3, 1, 2, 3, 4, 5, 2, 3, 5, 1, 2, 3, 5, 1, 2, 1, 2, 3, 4, 5, 5, 2, 3, 4, 4, 2, 1, 2, 3, 4, 5, 2, 3, 5, 2, 4, 5, 2, 3, 4, 5, 2, 4, 5, 1, 2, 3, 4, 5, 1, 2, 3, 4, 5, 1, 2, 3, 4, 5, 1, 2, 1, 2, 3, 4, 1, 1, 2, 3, 4, 5, 1, 3, 4, 1, 2, 3, 4, 5, 4, 2, 3, 4, 5, 2, 2, 3, 2, 4, 4, 5, 2, 1, 2, 3, 4, 5, 1, 2, 3, 5, 1, 2, 3, 4, 5, 5, 5, 5, 3, 4, 3, 5, 5, 1, 2, 3, 4, 5, 1, 2, 3, 4, 5, 3, 5, 1, 2, 3, 4, 5, 3, 1, 2, 3, 4, 5, 1, 2, 3, 4, 1, 2, 3, 4, 5, 1, 2, 3, 4, 5, 2, 3, 4, 5, 3, 1, 2, 3, 4, 5, 1, 2, 3, 4, 5, 1, 2, 3, 4, 5, 1, 2, 3, 4, 5, 1, 2, 3, 4, 5, 2, 3, 4, 5, 1, 2, 5, 2, 1, 2, 4, 2, 1, 2, 3, 4, 5, 3, 2, 2, 2, 3, 4, 5, 4, 2, 3, 5, 2, 3, 4, 5, 3, 5, 1, 2, 3, 4, 5, 1, 2, 1, 2, 3, 5, 1, 2, 3, 4, 5, 1, 2, 3, 4, 5, 1, 2, 1, 2, 3, 4, 5, 3, 1, 2, 3, 4, 5, 1, 3, 4, 1, 2, 3, 4, 5, 1, 2, 3, 4, 5, 1, 2, 3, 4, 5, 1, 2, 3, 4, 5, 1, 2, 3, 4, 5, 4, 5, 2, 4, 5, 1, 2, 3, 4, 5, 1, 1, 1, 2, 3, 4, 5, 4, 3, 1, 2, 3, 4, 5, 1, 1, 2, 3, 4, 5, 2, 1, 2, 3, 4, 5, 1, 2, 1, 2, 1, 2, 3, 4, 1, 2, 1, 4, 1, 2, 3, 4, 5, 1, 2, 3, 4, 5, 3, 1, 2, 3, 4, 5, 3, 3, 3, 1, 2, 3, 1, 2, 4, 4, 1, 2, 3, 4, 5, 1, 2, 3, 4, 5, 1, 2, 3, 4, 1, 2, 3, 4, 5, 2, 3, 4, 5, 3, 1, 2, 3, 4, 5, 1, 1, 2, 3, 4, 5, 5, 3, 1, 2, 3, 4, 5, 1, 2, 3, 4, 5, 1, 2, 3, 4, 5, 1, 2, 3, 4, 5, 1, 2, 1, 2, 3, 4, 5, 1, 2, 3, 4, 1, 2, 3, 4, 5, 1, 2, 3, 4, 1, 2, 3, 4, 5, 1, 2, 3, 4, 4, 4, 5, 3, 1, 2, 3, 4, 5, 1, 2, 3, 4, 5, 1, 2, 3, 4, 5, 3, 1, 2, 3, 4, 4, 3, 5, 1, 2, 3, 4, 5, 1, 2, 3, 5, 2, 1, 2, 3, 4, 5, 1, 2, 3, 4, 5, 2, 1, 2, 3, 4, 5, 3, 1, 2, 3, 4, 5, 1, 2, 3, 4, 5, 4, 1, 2, 5, 1, 2, 3, 4, 5, 2, 3, 3, 1, 2, 3, 4, 5, 1, 2, 3, 4, 5, 1, 5, 3, 5, 1, 2, 3, 4, 5, 3, 1, 2, 3, 4, 5, 1, 2, 3, 4, 5, 5, 5, 2, 1, 2, 3, 4, 1, 2, 1, 1, 2, 3, 4, 5, 1, 5, 1, 2, 3, 4, 5, 4, 1, 2, 3, 4, 5, 3, 5, 2, 3, 4, 1, 2, 3, 4, 5, 2, 4, 3, 5, 3, 1, 2, 3, 4, 5, 1, 2, 3, 4, 5, 4, 1, 2, 3, 4, 5, 1, 2, 3, 4, 5, 2, 3, 5, 3, 5, 1, 2, 3, 5, 1, 5, 1, 2, 3, 4, 5, 2, 3, 1, 2, 3, 4, 5, 1, 2, 3, 4, 5, 2, 5, 2, 2, 5, 1, 2, 3, 4, 5, 3, 4, 5, 5, 3, 1, 2, 4, 3, 1, 2, 3, 4, 5, 4, 4, 1, 1, 2, 3, 4, 5, 5, 1, 2, 3, 4, 1, 2, 3, 4, 5, 1, 2, 3, 5, 1, 2, 3, 4, 5, 3, 1, 2, 3, 4, 5, 1, 3, 4, 5, 5, 5, 1, 2, 3, 4, 5, 4, 1, 1, 2, 1, 2, 3, 4, 5, 5, 1, 2, 3, 4, 5, 1, 2, 3, 4, 5, 1, 2, 3, 4, 5, 3, 1, 1, 4, 1, 2, 3, 4, 5, 1, 2, 3, 4, 1, 2, 3, 4, 5, 5, 1, 2, 3, 4, 5, 2, 1, 2, 3, 4, 5, 2, 1, 2, 3, 4, 5, 1, 2, 3, 4, 5, 1, 2, 3, 4, 1, 2, 3, 4, 5, 4, 5, 3, 4, 2, 3, 4, 5, 1, 2, 3, 4, 3, 4, 1, 2, 3, 4, 5, 3, 2, 3, 4, 1, 2, 3, 4, 5, 1, 2, 3, 4, 5, 3, 4, 4, 1, 1, 1, 2, 3, 4, 5, 5, 1, 1, 2, 4, 1, 2, 4, 5, 1, 2, 3, 4, 5, 1, 1, 2, 3, 4, 5, 1, 2, 1, 2, 3, 4, 5, 4, 5, 2, 3, 4, 5, 3, 4, 1, 2, 3, 4, 5, 3, 1, 2, 3, 4, 5, 5, 1, 2, 3, 4, 5, 1, 2, 1, 2, 3, 4, 5, 1, 2, 3, 4, 5, 1, 2, 3, 4, 5, 1, 2, 3, 4, 5, 2, 5, 2, 3, 2, 3, 4, 5, 1, 2, 3, 4, 5, 1, 2, 3, 4, 5, 1, 1, 2, 3, 4, 5, 1, 2, 3, 4, 5, 1, 2, 3, 4, 5, 1, 2, 3, 4, 5, 1, 2, 3, 4, 5], \"Freq\": [0.7703848144666379, 0.22930808993655058, 0.042334969984109364, 0.9299095130992298, 0.026276877921171327, 0.001459826551176185, 0.9592794145146705, 0.9718338846381395, 0.9801259902514429, 0.883003795671049, 0.11475861604389084, 0.011405131986015109, 0.3809314083329046, 0.16423390059861756, 0.4425191210573862, 0.017043409039985667, 0.971474315279183, 0.011753606070615694, 0.11165925767084908, 0.05876803035307847, 0.005876803035307847, 0.8109988188724828, 0.018248870381864728, 0.9671901302388306, 0.44380818512775483, 0.16933561780555845, 0.16840520232311032, 0.06885074570116112, 0.14979689267414786, 0.034711476754341844, 0.9545656107444008, 0.9838366688681689, 0.012146131714421839, 0.9847764356049685, 0.01241267195665161, 0.9806010845754772, 0.9379815910444936, 0.049367452160236504, 0.7179957302202096, 0.21731105636204892, 0.029554303665238653, 0.028685059439790456, 0.006953953803585565, 0.1208766492331785, 0.0402922164110595, 0.7435745392222798, 0.01831464382320886, 0.080584432822119, 0.9844367321020232, 0.7577150554402134, 0.026359800700853264, 0.14627105094787202, 0.0635736369844108, 0.005685447209987959, 0.8806402787961279, 0.1185477298379403, 0.5146293347811918, 0.36856292292910436, 0.09579239102857827, 0.0180035344840945, 0.003057203968997179, 0.290030668205642, 0.6647286743346702, 0.027021490826612607, 0.016212894495967564, 0.9983626827037734, 0.053488660432094375, 0.7776428324358335, 0.09874829618232807, 0.06994670979581571, 0.9947105557891041, 0.22948612945360847, 0.656585314825602, 0.10071891237130594, 0.007649537648453616, 0.005099691765635744, 0.9776546423980635, 0.9910806567824691, 0.9994955271993575, 0.9634606456374287, 0.179292024988784, 0.2308691828622698, 0.1326269773889635, 0.444545979766711, 0.00982422054733063, 0.9879734128637655, 0.976989491203103, 0.016016221167263985, 0.03889961668659745, 0.9579030609074622, 0.004862452085824681, 0.3685844653208741, 0.49848672673768646, 0.12462168168442161, 0.008448927571825193, 0.9617161138768512, 0.9849040569439088, 0.016393019795263364, 0.9671881679205385, 0.12192793222060476, 0.8778811119883543, 0.9780402281421628, 0.3736937654732494, 0.44453131991735434, 0.0503049299675528, 0.09445007259213994, 0.03695872405779389, 0.16797786323732633, 0.19510472313900634, 0.46324329985945895, 0.15858779634828324, 0.015650111481738477, 0.053410148711875806, 0.9257759110058473, 0.013352537177968951, 0.008901691451979301, 0.06671970696274064, 0.2547479720395552, 0.24564983018099965, 0.015163569764259237, 0.41851452549355495, 0.9608197308745634, 0.9818475260000548, 0.023449141073064953, 0.961414783995663, 0.3133729306181144, 0.5997198590063298, 0.017373858576363633, 0.02766947847346801, 0.041182479588417496, 0.018121796773207455, 0.018121796773207455, 0.9785770257532026, 0.08619413620806425, 0.8691242067646479, 0.014365689368010708, 0.028731378736021416, 0.008120415089291243, 0.9906906408935315, 0.2536327933523283, 0.05479720844031784, 0.39453990077028844, 0.20666375754634156, 0.09080680255824099, 0.9714020998208021, 0.0447911465858746, 0.010336418442894138, 0.9440595511176646, 0.9619989881951361, 0.9942651280869699, 0.6108796714423347, 0.17117357460207086, 0.10944927446675162, 0.07826895790354912, 0.029907650581030967, 0.01139924374511477, 0.0797947062158034, 0.9005402558640669, 0.056583472234622546, 0.014145868058655637, 0.9194814238126164, 0.008092279984507723, 0.03236911993803089, 0.008092279984507723, 0.9467967581874036, 0.9908855890392154, 0.04691505590838273, 0.9383011181676546, 0.49607885875905594, 0.13627122896587585, 0.2905973210754955, 0.029231683185109016, 0.048146301716650144, 0.8096369024172375, 0.03742019296886392, 0.05613028945329587, 0.0935504824221598, 0.005102753586663261, 0.99165293316752, 0.11601659543260262, 0.048340248096917754, 0.009668049619383551, 0.8314522672669854, 0.15962250421153817, 0.8380181471105753, 0.9072271075217777, 0.044722463046848196, 0.019166769877220657, 0.03194461646203443, 0.9580443774307529, 0.6274366651876699, 0.11453515031391394, 0.1515566130416437, 0.0898541751620941, 0.016582530180128955, 0.32638290946798804, 0.6195231151938662, 0.05439715157799801, 0.07182002981072276, 0.17692251246056095, 0.14188835157728155, 0.5938290269715858, 0.01576537239747573, 0.9610911980510394, 0.9804762368067709, 0.008754252114346169, 0.9858854830766364, 0.9867295506072726, 0.9973100571284252, 0.13578290520956796, 0.8640730331517961, 0.9930682844928854, 0.9655461025631631, 0.9685024771164176, 0.018273631643705993, 0.987242733380132, 0.8205385544634747, 0.08143535904851067, 0.0123699279567358, 0.08040453171878269, 0.005154136648639916, 0.016321975183818865, 0.9793185110291319, 0.9487421934186917, 0.04216631970749741, 0.17789271664231424, 0.05214096867102314, 0.11655040055875761, 0.6348929714648112, 0.01840269482506699, 0.9911477233094933, 0.9769661836084987, 0.9794124307094217, 0.9876530310637964, 0.980055531265583, 0.9503706290340705, 0.04472332371925038, 0.9672620778208186, 0.33530413152538874, 0.29197033486638724, 0.18043908772764564, 0.06180393949726445, 0.1307117800861685, 0.7984419553854188, 0.0880962492673856, 0.05129655020632579, 0.02676341749895259, 0.035684556665270116, 0.014631520521094961, 0.9803118749133624, 0.6446687633006798, 0.0865013390466914, 0.12624519752760366, 0.13676563065490396, 0.0052602165636501524, 0.9813385849741084, 0.16095200537548615, 0.007851317335389569, 0.035330928009253054, 0.7694290988681777, 0.023553952006168704, 0.8957144966670024, 0.015246204198587276, 0.049550163645408644, 0.04573861259576183, 0.05433188042558722, 0.09685248249778591, 0.5055227135250289, 0.3330780495655564, 0.00944902268271082, 0.8569833184724505, 0.11841778374008889, 0.007133601430125837, 0.012840482574226505, 0.0047557342867505575, 0.019830016871947794, 0.8526907254937551, 0.029745025307921693, 0.09915008435973897, 0.9812688864608796, 0.754742883417437, 0.07595913387712963, 0.05979761603093184, 0.0549491606770725, 0.0549491606770725, 0.20578516008530712, 0.15995119261176144, 0.29838848212369534, 0.13095419278155906, 0.20484977299401028, 0.0287259067937665, 0.0631969949462863, 0.1091584458163127, 0.7928350275079554, 0.0057451813587533, 0.019907085653423452, 0.09555401113643257, 0.11147967965917133, 0.2428664449717661, 0.5335098955117484, 0.8478307694940436, 0.014744882947722497, 0.009829921965148331, 0.11795906358177997, 0.009829921965148331, 0.09944329674218101, 0.13922061543905342, 0.19888659348436202, 0.5608601936259009, 0.0020149345226329616, 0.9967209438624384, 0.0006716448408776539, 0.997077070072857, 0.0830622002444844, 0.8859968026078334, 0.027687400081494794, 0.990837116215, 0.2528621797791997, 0.6547324297854278, 0.010535924157466655, 0.006020528089980945, 0.07676173314725705, 0.9860999021313012, 0.9948428326612879, 0.9837707368764759, 0.048315815530028866, 0.18583005973088024, 0.05946561911388168, 0.706154226977345, 0.9941112851689268, 0.047874653136713845, 0.9042990036934837, 0.047874653136713845, 0.024685173867772425, 0.024685173867772425, 0.01645678257851495, 0.9380366069753522, 0.011673561022724798, 0.9805791259088831, 0.39325469266711777, 0.5731391081602283, 0.028381309595394276, 0.0036752775015618487, 0.0014292745839407188, 0.029457790941765843, 0.9678988452294491, 0.6621295207983235, 0.27440120019183345, 0.06040277991644133, 0.002876322853163873, 0.20954497320165683, 0.021677066193274842, 0.021677066193274842, 0.6864404294537034, 0.057805509848732915, 0.10034360528470387, 0.14903976667286897, 0.09665450214923682, 0.6500199724692949, 0.004426923762560465, 0.6588545650142631, 0.3408972202786349, 0.7683393854057924, 0.12952847876572746, 0.07948338469715094, 0.020606803440002094, 0.002943829062857442, 0.9885229252439531, 0.47472855715015444, 0.18899676362397197, 0.1912334117141965, 0.09785335394732277, 0.047528771917271055, 0.995206547236857, 0.12390174417046466, 0.8673122091932527, 0.3907044449514678, 0.5834193182327366, 0.025431581518056003, 0.00018838208531893336, 0.00018838208531893336, 0.004483464711354982, 0.04931811182490481, 0.12105354720658452, 0.004483464711354982, 0.8249575068893168, 0.077697775881736, 0.077697775881736, 0.04183726393631938, 0.7889312627991655, 0.005976751990902769, 0.07865350731395397, 0.06947726479399267, 0.45356855884380126, 0.19270109291918724, 0.20581001080484623, 0.3452046578668015, 0.17122701157138162, 0.2626856161456537, 0.17397764629541987, 0.04744844898965996, 0.9491693052794429, 0.03272997604411872, 0.9944556660816388, 0.7594935487015413, 0.23734173396923167, 0.7783680956485044, 0.021967673180011183, 0.04987255532759296, 0.1448678988087224, 0.0041560462772994135, 0.9946945242750225, 0.9854612510130496, 0.290802590592089, 0.05310308176029452, 0.07839026355091096, 0.5714903084679315, 0.005057436358123287, 0.985436142434807, 0.9696317700608592, 0.876494551864902, 0.03057539134412449, 0.016986328524513605, 0.06794531409805442, 0.006794531409805442, 0.9959910996208331, 0.15632349235460863, 0.8287626420069727, 0.003721987913204967, 0.007443975826409934, 0.003721987913204967, 0.9980060930201152, 0.021372325895316513, 0.08548930358126605, 0.10686162947658256, 0.7694037322313945, 0.014248217263544341, 0.006187358358182959, 0.9899773373092736, 0.03576296356738381, 0.9611296458734399, 0.8853588638431426, 0.07420637876141946, 0.02047072517556399, 0.02047072517556399, 0.9731359840120614, 0.985100504167026, 0.972715248635693, 0.9815989143920365, 0.014522028867951987, 0.024894906630774833, 0.15144401533721358, 0.004149151105129139, 0.8070098899476176, 0.009747162903724299, 0.029241488711172894, 0.04873581451862149, 0.07797730322979439, 0.8285088468165653, 0.9678066907353329, 0.8833106962889258, 0.05655342872581537, 0.01077208166206007, 0.04712785727151281, 0.0013465102077575087, 0.9833217410309251, 0.9679652953906481, 0.992474491722311, 0.006360631628982544, 0.019081894886947632, 0.9668160076053467, 0.06857869173499215, 0.24688329024597172, 0.6812150045675887, 0.9531169031194395, 0.5824017576097467, 0.34772990564527373, 0.03972309994190297, 0.022611610736160154, 0.007944619988380594, 0.027844904682626254, 0.1770140369109812, 0.41369572671330435, 0.3778951349784992, 0.005966765289134197, 0.8646687092108541, 0.08676606424607188, 0.017951599499187284, 0.029919332498645472, 0.7079033102601862, 0.22574744252237983, 0.03193190425545274, 0.02033474499849727, 0.014139002381767631, 0.111735820547912, 0.0614547013013516, 0.1061490295205164, 0.7151092515066367, 0.9783984724791794, 0.0884672484474386, 0.1533432306422269, 0.16513886376855205, 0.5101611327135626, 0.08256943188427603, 0.9887597318465337, 0.004025288018607286, 0.09660691244657486, 0.038240236176769214, 0.6702104550981132, 0.19120118088384608, 0.9755141511748172, 0.9925025492940456, 0.6310624645959981, 0.22794349545987416, 0.04415283455364492, 0.08758773683812487, 0.009333119499144454, 0.598070814217941, 0.15467348643567438, 0.053276423105621175, 0.1484865469782474, 0.04537088935446448, 0.6671286617989294, 0.10564256863898258, 0.04075973120716651, 0.1638707560777919, 0.02329127497552372, 0.410522945930823, 0.5137569983040214, 0.04544979708378478, 0.01997645948520334, 0.010323405237319847, 0.01764289919980131, 0.9762404223890059, 0.45139282301796296, 0.1716991517662413, 0.29243459770787383, 0.03761606858483024, 0.04611001955559837, 0.9709383505891004, 0.010113941151969796, 0.003371313717323265, 0.016856568586616327, 0.2331806756242434, 0.038371503583736255, 0.6523155609235164, 0.03246819534008453, 0.047226465949213856, 0.199039962730387, 0.09630965938567113, 0.16051609897611854, 0.5425444145392807, 0.8941704718564654, 0.05718532087454139, 0.009267186386783387, 0.03887697703723762, 0.0006780868087890283, 0.8936166021709682, 0.01009736273639512, 0.04038945094558048, 0.05553549505017316, 0.9608421590368182, 0.9491149605270333, 0.0287610594099101, 0.9858570602425084, 0.3429333937332803, 0.13122821197827428, 0.31393268390382745, 0.11890291030075681, 0.0920772537085129, 0.5387271090751391, 0.29107627096641564, 0.06387944108776474, 0.041852047609225174, 0.06450879518715158, 0.19261094034633072, 0.39047831961049506, 0.22640233338954666, 0.11263797681071973, 0.078095663922099, 0.9728427872794971, 0.9567240117836845, 0.024674508707471596, 0.9252940765301848, 0.03701176306120739, 0.9811544799006336, 0.012652819362410948, 0.9742670909056429, 0.2021550797054623, 0.017623776179450556, 0.20526515785477709, 0.26850341355751145, 0.30686104406572734, 0.8600706294123417, 0.13687584838628716, 0.002042923110243092, 0.002042923110243092, 0.9856282002509568, 0.023944720400060862, 0.07746821305902044, 0.35494526710678453, 0.2788855670124736, 0.2633919244006695, 0.10425759858135454, 0.018955927014791735, 0.10425759858135454, 0.7677150440990652, 0.009477963507395867, 0.9900173163767068, 0.2819986012277103, 0.21002406283904784, 0.3350945721701662, 0.08377364304254155, 0.09085310583486901, 0.9696611855491444, 0.5786811563622126, 0.14074258893424854, 0.0877186368241363, 0.07135321950620042, 0.12175870484544292, 0.05923841972254912, 0.7868984112398316, 0.1007937290801582, 0.005304933109482011, 0.04686024246709109, 0.9884206980373704, 0.02769437799268767, 0.9693032297440685, 0.9783180524768643, 0.5459839979701744, 0.06554597165925466, 0.2370811740866658, 0.052994615384078236, 0.09901625505972513, 0.05765935545833069, 0.9417694724860679, 0.986016181313775, 0.2730397635357299, 0.05732863362493973, 0.2565213436776964, 0.19530602302733704, 0.2176544734235, 0.030484290961742353, 0.09145287288522706, 0.11177573352638863, 0.1270178790072598, 0.6452508253568798, 0.027345753792497565, 0.9571013827374147, 0.10388562852098245, 0.8934164052804491, 0.6562709216111824, 0.255187828906155, 0.008248495479794908, 0.016496990959589817, 0.06392583996841054, 0.9780076321671284, 0.721878233799717, 0.1520677918742027, 0.08402189278652444, 0.026034952694416025, 0.01568014196368238, 0.3522017435650157, 0.30956679565977696, 0.11585583669901833, 0.05653764830912095, 0.1668324048465864, 0.9931333582214452, 0.9789897620640043, 0.9995781140667238, 0.748236797496614, 0.07554313820879276, 0.09592779455084795, 0.08033952793633516, 0.9586567110858709, 0.9855983925954098, 0.9775342380467906, 0.3392344851462298, 0.1565025073226163, 0.36896121838069323, 0.11540967020438746, 0.019234945034064574, 0.9801782283908803, 0.9665303104263421, 0.4827922713723583, 0.13393734402331878, 0.19064557699530052, 0.08495202215647073, 0.10767944626586419, 0.9956855248480577, 0.27717045178228417, 0.07448955891648887, 0.2615796138695307, 0.10220660409471728, 0.28583202840048055, 0.18999984991391144, 0.8031811837269893, 0.04464026985519231, 0.1171807083698798, 0.8370050597848557, 0.4074281077502857, 0.17188373295715179, 0.17824979714075, 0.09071641461627455, 0.1511940243604576, 0.991687022297117, 0.9920819340026518, 0.0816921935569936, 0.9122294947197619, 0.9812285264438085, 0.1452100571488427, 0.04719326857337387, 0.6752267657421185, 0.11616804571907415, 0.014521005714884268, 0.015466162048177932, 0.9795235963846024, 0.14942793269828522, 0.07471396634914261, 0.7743083785274779, 0.9611368352605727, 0.1170248561938907, 0.11882523859687365, 0.10982332658195898, 0.3024642437011329, 0.35287495098465504, 0.027060484425915025, 0.07216129180244006, 0.1082419377036601, 0.7847540483515357, 0.018040322950610015, 0.008328880114864856, 0.08328880114864856, 0.9078479325202694, 0.025333690609693094, 0.9626802431683376, 0.005244399957614484, 0.0314663997456869, 0.05768839953375932, 0.9020367927096912, 0.011630951905424599, 0.9769999600556664, 0.06608643593263931, 0.10463685689334556, 0.14318727785405183, 0.027536014971933045, 0.6553571563320064, 0.9932008805520067, 0.006056102930195163, 0.254280183033404, 0.46240122456074423, 0.17167961402255302, 0.04372971300574464, 0.06721418850882972, 0.19433088408509433, 0.010599866404641509, 0.6041923850645661, 0.02473302161083019, 0.1625312848711698, 0.995031481974845, 0.0025711407802967573, 0.9985904986663333, 0.9934095202508777, 0.9772101889465448, 0.34267237006202056, 0.5472825388526763, 0.017878558438018465, 0.0019865064931131626, 0.0903860454366489, 0.9313160574397079, 0.041087473122340054, 0.027391648748226704, 0.9626418467527128, 0.9739222573011471, 0.04179913000421154, 0.9271807019116014, 0.026599446366316434, 0.9706410284036123, 0.5650704289601067, 0.2755762190495102, 0.05428016435823685, 0.023196651435143954, 0.08165221305170672, 0.9796074472864691, 0.9920767621933245, 0.9710963489576815, 0.2673390377013631, 0.12216680061130539, 0.5572868664249483, 0.027368536500584646, 0.025781954674463797, 0.9785431267459113, 0.11792791560830918, 0.018620197201311976, 0.7510146204529163, 0.11792791560830918, 0.6258193268972805, 0.17825982861774012, 0.11045742951849254, 0.055387875320512106, 0.030240506640509483, 0.12146315473224245, 0.36750390406165667, 0.06228879729858587, 0.4484793405498183, 0.1867612212029908, 0.005047600573053805, 0.04038080458443044, 0.08076160916886088, 0.6864736779353174, 0.9937718962143023, 0.6230480845636488, 0.2221762956869522, 0.06416069636783107, 0.05832790578893734, 0.0323454750284107, 0.12421522006649087, 0.8055168816433044, 0.04516917093326941, 0.026348683044407153, 0.9770554655788236, 0.9856303901321735, 0.01302129197785522, 0.00651064598892761, 0.27995777752388723, 0.5940964464896444, 0.10742565881730556, 0.9776518596272238, 0.9710961338345817, 0.008918382864878812, 0.9905350568592066, 0.11943569475421059, 0.8002191548532109, 0.05374606263939477, 0.02388713895084212, 0.002985892368855265, 0.988749409218241, 0.062232325822288805, 0.12446465164457761, 0.011668561091679151, 0.7662355116869309, 0.035005683275037454, 0.01752699536007911, 0.061344483760276874, 0.8369140284437774, 0.0744897302803362, 0.008763497680039554, 0.10495848559245616, 0.11495453183935675, 0.6897271910361404, 0.07996836997520469, 0.01499406937035088, 0.9675811546375497, 0.9974150770166458, 0.9693668163572948, 0.022543414333890576, 0.9119479797838645, 0.01550053223428665, 0.005166844078095549, 0.007750266117143325, 0.0620021289371466, 0.052237044217039376, 0.32178019237696254, 0.26536418462256, 0.3593908642132309, 0.5648547668883619, 0.09759270841526672, 0.028094870604394966, 0.28094870604394967, 0.028094870604394966, 0.9883264216775525, 0.05859325054452939, 0.05859325054452939, 0.2102463696009584, 0.5514658874779237, 0.12407982468253284, 0.9875745084025813, 0.0445592479980785, 0.10471423279548446, 0.14036163119394726, 0.09134645839606091, 0.6193735471732911, 0.9939155539170741, 0.03756221623864862, 0.17278619469778364, 0.007512443247729724, 0.02253732974318917, 0.7662692112684318, 0.6377157527703151, 0.2054580530763125, 0.07017405333944476, 0.04232146515832494, 0.044853518629335835, 0.015235462123780512, 0.045706386371341536, 0.045706386371341536, 0.8988922653030501, 0.6559322464600927, 0.22356533159089978, 0.07750967864118459, 0.03796392423241694, 0.0052727672545023535, 0.023649797299080424, 0.9696416892622973, 0.013365391071902155, 0.9845838089634588, 0.003990086099254906, 0.23541507985603943, 0.24339525205454923, 0.5147211068038828, 0.05613329889849288, 0.08419994834773932, 0.0467777490820774, 0.8139328340281468, 0.02502024313513554, 0.9507692391351504, 0.5746504703044417, 0.08140516944145175, 0.1089778881232338, 0.057771410571352856, 0.17681552932444358, 0.9677170856212021, 0.011049149463589706, 0.005524574731794853, 0.9806120148935863, 0.2892170607368626, 0.16671027081775486, 0.33594645482971813, 0.09093287499150265, 0.11745496353069092, 0.48215335761714284, 0.10137146564742049, 0.2555583167582029, 0.06644516235713276, 0.09455657720053508, 0.006536792318213568, 0.9903240362093556, 0.967183468559539, 0.9585016710003319, 0.9643566675948596, 0.6397961877320684, 0.1299880897641481, 0.13281904634703337, 0.04954174020049202, 0.04789034886047562, 0.9768763290222278, 0.9870858905447248, 0.9077010256886928, 0.08386368172123793, 0.004933157748308113, 0.9749818731211901, 0.023428399908642275, 0.001802184608357098, 0.001802184608357098, 0.26494952198992267, 0.18512498651859982, 0.4500745085085225, 0.06963416924094122, 0.030571098691144924, 0.9870643941847789, 0.7637981504478025, 0.20449009816619895, 0.018790981993650712, 0.0022107037639589075, 0.009948166937815084, 0.02278063448918762, 0.9750111561372301, 0.2673169349752873, 0.18230138516347463, 0.34970313788570373, 0.05959852976498209, 0.14110828370826642, 0.006907059950727792, 0.9877095729540742, 0.026803748539634593, 0.053607497079269185, 0.013401874269817296, 0.8845237018079416, 0.027156397287101564, 0.9685781699066224, 0.05663543095060356, 0.021073648725805975, 0.5031333633286177, 0.2436640633921316, 0.17517470503326218, 0.979545721987705, 0.2469450411872682, 0.15258392788806815, 0.10640721286931068, 0.034130615448646824, 0.4597594669258896, 0.9790596809369566, 0.8446129609079762, 0.06885431746532415, 0.061968885718791736, 0.02295143915510805, 0.002295143915510805, 0.5302452124618431, 0.46930470818601516, 0.7187921666465924, 0.2199496118082033, 0.036394540083371764, 0.010285413501822455, 0.01463693459874734, 0.6713173875854934, 0.15272018197362705, 0.09879765326729903, 0.041618059068642445, 0.035465824249799646, 0.5540688645689698, 0.10138281351687531, 0.22752189545066204, 0.04243931728613385, 0.07485824021304166, 0.1581329835691343, 0.1346090686580234, 0.6011667143950561, 0.09148189132098679, 0.015682609940740593, 0.996956453659415, 0.985066560784173, 0.9924104495818933, 0.9772567987119675, 0.9105641793224101, 0.02723909938143962, 0.04669559893961077, 0.015565199646536925, 0.41747135265780194, 0.06491779407358164, 0.2097344116223407, 0.09188364699645402, 0.2167255586764187, 0.28122342312685544, 0.10002276389563415, 0.5218578985859174, 0.09567394807408484, 0.002899210547699541, 0.975563782160505, 0.3988590213696671, 0.14421555524729698, 0.1376228441502777, 0.14833599968293404, 0.17058639963537417, 0.5945311369325025, 0.12590793705698658, 0.05343410011686748, 0.11608097611595349, 0.1099391255278078, 0.31787942373899136, 0.044035244846959844, 0.414206521841716, 0.07843777988364722, 0.14586674855555448, 0.8295421993575425, 0.06578574501674903, 0.030486076958981253, 0.028881546592719083, 0.04653138062160297, 0.2535660871695373, 0.1233870692030338, 0.35884129300331846, 0.08376736808279359, 0.17998664223194838], \"Term\": [\"'cause\", \"'cause\", \"'em\", \"'em\", \"'em\", \"'em\", \"aeneas\", \"ah-ah-ah-ah\", \"ahh\", \"alright\", \"alright\", \"also\", \"also\", \"also\", \"also\", \"amendment\", \"amendment\", \"american\", \"american\", \"american\", \"american\", \"american\", \"annotation\", \"annotation\", \"another\", \"another\", \"another\", \"another\", \"another\", \"antonio\", \"antonio\", \"anymore\", \"anymore\", \"anytime\", \"apostle\", \"apostle\", \"arise\", \"arise\", \"around\", \"around\", \"around\", \"around\", \"around\", \"asked\", \"asked\", \"asked\", \"asked\", \"asked\", \"avoc\", \"away\", \"away\", \"away\", \"away\", \"away\", \"baby\", \"baby\", \"back\", \"back\", \"back\", \"back\", \"back\", \"beat\", \"beat\", \"beat\", \"beat\", \"beep\", \"began\", \"began\", \"began\", \"began\", \"bernard\", \"big\", \"big\", \"big\", \"big\", \"big\", \"bilbo\", \"bip\", \"bitch\", \"blockhead\", \"blood\", \"blood\", \"blood\", \"blood\", \"blood\", \"boom\", \"bop\", \"bop\", \"bout\", \"bout\", \"bout\", \"boy\", \"boy\", \"boy\", \"boy\", \"brabantio\", \"bradley\", \"businessman\", \"businessman\", \"caddy\", \"caddy\", \"calandrino\", \"call\", \"call\", \"call\", \"call\", \"call\", \"came\", \"came\", \"came\", \"came\", \"came\", \"captain\", \"captain\", \"captain\", \"captain\", \"case\", \"case\", \"case\", \"case\", \"case\", \"cassio\", \"catherine\", \"catholic\", \"catholic\", \"cause\", \"cause\", \"cause\", \"cause\", \"cause\", \"central\", \"central\", \"central\", \"check\", \"check\", \"check\", \"check\", \"chick\", \"chick\", \"child\", \"child\", \"child\", \"child\", \"child\", \"chim\", \"christ\", \"christ\", \"christ\", \"claudio\", \"clip\", \"come\", \"come\", \"come\", \"come\", \"come\", \"community\", \"community\", \"community\", \"concept\", \"concept\", \"concept\", \"consciousness\", \"consciousness\", \"consciousness\", \"consciousness\", \"cop\", \"cosmic\", \"cosmic\", \"could\", \"could\", \"could\", \"could\", \"could\", \"cry\", \"cry\", \"cry\", \"cry\", \"cry\", \"cub\", \"culture\", \"culture\", \"culture\", \"culture\", \"damn\", \"damn\", \"dancing\", \"dancing\", \"dancing\", \"dancing\", \"darlin\", \"day\", \"day\", \"day\", \"day\", \"day\", \"dear\", \"dear\", \"dear\", \"death\", \"death\", \"death\", \"death\", \"death\", \"deedle\", \"dem\", \"dem\", \"desdemona\", \"development\", \"dick\", \"doo\", \"doo\", \"dope\", \"dost\", \"doth\", \"doth\", \"dough\", \"dream\", \"dream\", \"dream\", \"dream\", \"dream\", \"dude\", \"dude\", \"earl\", \"earl\", \"earth\", \"earth\", \"earth\", \"earth\", \"earth\", \"economic\", \"economy\", \"election\", \"elizabeth\", \"emilia\", \"england\", \"england\", \"eod\", \"even\", \"even\", \"even\", \"even\", \"even\", \"everything\", \"everything\", \"everything\", \"everything\", \"everything\", \"external\", \"external\", \"eye\", \"eye\", \"eye\", \"eye\", \"eye\", \"fairfax\", \"faith\", \"faith\", \"faith\", \"faith\", \"faith\", \"falling\", \"falling\", \"falling\", \"falling\", \"father\", \"father\", \"father\", \"father\", \"father\", \"feel\", \"feel\", \"feel\", \"feel\", \"feel\", \"fellow\", \"fellow\", \"fellow\", \"fellow\", \"felton\", \"find\", \"find\", \"find\", \"find\", \"find\", \"first\", \"first\", \"first\", \"first\", \"first\", \"flesh\", \"flesh\", \"flesh\", \"flesh\", \"flesh\", \"force\", \"force\", \"force\", \"force\", \"force\", \"forever\", \"forever\", \"forever\", \"forever\", \"forever\", \"form\", \"form\", \"form\", \"form\", \"fuck\", \"fuck\", \"fuck\", \"fuckin\", \"fucking\", \"fucking\", \"fucking\", \"funky\", \"game\", \"game\", \"game\", \"game\", \"game\", \"gandalf\", \"gangsta\", \"gat\", \"general\", \"general\", \"general\", \"general\", \"gentile\", \"george\", \"george\", \"george\", \"german\", \"german\", \"german\", \"german\", \"germany\", \"germany\", \"get\", \"get\", \"get\", \"get\", \"get\", \"gettin\", \"gettin\", \"girl\", \"girl\", \"girl\", \"girl\", \"glory\", \"glory\", \"glory\", \"glory\", \"glory\", \"god\", \"god\", \"god\", \"god\", \"god\", \"gon\", \"gon\", \"gone\", \"gone\", \"gone\", \"gone\", \"gone\", \"gonzalo\", \"good\", \"good\", \"good\", \"good\", \"good\", \"goodbye\", \"gospel\", \"gospel\", \"got\", \"got\", \"got\", \"got\", \"got\", \"government\", \"government\", \"government\", \"government\", \"government\", \"grace\", \"grace\", \"grace\", \"grace\", \"grace\", \"great\", \"great\", \"great\", \"great\", \"great\", \"hand\", \"hand\", \"hand\", \"hand\", \"hand\", \"hast\", \"hast\", \"hater\", \"hath\", \"hath\", \"heart\", \"heart\", \"heart\", \"heart\", \"heart\", \"heartbeat\", \"heartbreak\", \"heaven\", \"heaven\", \"heaven\", \"heaven\", \"heaven\", \"helaman\", \"henriet\", \"hide\", \"hide\", \"hide\", \"hide\", \"hide\", \"hilda\", \"hit\", \"hit\", \"hit\", \"hit\", \"hit\", \"hoe\", \"holy\", \"holy\", \"holy\", \"holy\", \"holy\", \"homie\", \"homie\", \"huh\", \"huh\", \"hurt\", \"hurt\", \"hurt\", \"hurt\", \"hurting\", \"hustle\", \"i-n-i\", \"iago\", \"idea\", \"idea\", \"idea\", \"idea\", \"idea\", \"individual\", \"individual\", \"individual\", \"individual\", \"individual\", \"inger\", \"inside\", \"inside\", \"inside\", \"inside\", \"inside\", \"ishmael\", \"islam\", \"jellyby\", \"jerry\", \"jerry\", \"jerry\", \"jesus\", \"jesus\", \"jesus\", \"kakadu\", \"keep\", \"keep\", \"keep\", \"keep\", \"keep\", \"king\", \"king\", \"king\", \"king\", \"king\", \"kiss\", \"kiss\", \"kiss\", \"kiss\", \"know\", \"know\", \"know\", \"know\", \"know\", \"knowledge\", \"knowledge\", \"knowledge\", \"knowledge\", \"kramer\", \"land\", \"land\", \"land\", \"land\", \"land\", \"lardy\", \"law\", \"law\", \"law\", \"law\", \"law\", \"leni\", \"lenina\", \"let\", \"let\", \"let\", \"let\", \"let\", \"life\", \"life\", \"life\", \"life\", \"life\", \"light\", \"light\", \"light\", \"light\", \"light\", \"like\", \"like\", \"like\", \"like\", \"like\", \"lil\", \"lil\", \"little\", \"little\", \"little\", \"little\", \"little\", \"lonely\", \"lonely\", \"lonely\", \"lonely\", \"looked\", \"looked\", \"looked\", \"looked\", \"looked\", \"lord\", \"lord\", \"lord\", \"lord\", \"love\", \"love\", \"love\", \"love\", \"love\", \"lover\", \"lover\", \"lover\", \"lover\", \"lucius\", \"lustre\", \"lustre\", \"lysander\", \"made\", \"made\", \"made\", \"made\", \"made\", \"make\", \"make\", \"make\", \"make\", \"make\", \"man\", \"man\", \"man\", \"man\", \"man\", \"marguerite\", \"marie\", \"marriage\", \"marriage\", \"marriage\", \"matthew\", \"maxim\", \"maxim\", \"may\", \"may\", \"may\", \"may\", \"may\", \"maybe\", \"maybe\", \"maybe\", \"maybe\", \"mcnulty\", \"men\", \"men\", \"men\", \"men\", \"men\", \"mercy\", \"mercy\", \"mercy\", \"mercy\", \"mercy\", \"mic\", \"might\", \"might\", \"might\", \"might\", \"might\", \"milady\", \"mind\", \"mind\", \"mind\", \"mind\", \"mind\", \"money\", \"money\", \"money\", \"money\", \"money\", \"moses\", \"motherfucker\", \"motherfucker\", \"mozilla\", \"much\", \"much\", \"much\", \"much\", \"much\", \"muhammad\", \"muhammad\", \"muslim\", \"must\", \"must\", \"must\", \"must\", \"must\", \"nation\", \"nation\", \"nation\", \"nation\", \"nation\", \"national\", \"national\", \"nbsp\", \"nbsp\", \"need\", \"need\", \"need\", \"need\", \"need\", \"nekhludoff\", \"never\", \"never\", \"never\", \"never\", \"never\", \"new\", \"new\", \"new\", \"new\", \"new\", \"nicaragua\", \"nicaraguan\", \"nigga\", \"night\", \"night\", \"night\", \"night\", \"no-one\", \"nut\", \"ohhh\", \"old\", \"old\", \"old\", \"old\", \"old\", \"ole\", \"olympic\", \"one\", \"one\", \"one\", \"one\", \"one\", \"othello\", \"part\", \"part\", \"part\", \"part\", \"part\", \"particular\", \"particular\", \"paul\", \"paul\", \"paul\", \"people\", \"people\", \"people\", \"people\", \"people\", \"pimp\", \"pitched\", \"policy\", \"policy\", \"pontou\", \"poor\", \"poor\", \"poor\", \"poor\", \"poor\", \"pop\", \"pop\", \"possession\", \"possession\", \"possession\", \"pouss\\u00e9\", \"power\", \"power\", \"power\", \"power\", \"power\", \"praise\", \"praise\", \"praise\", \"praise\", \"praise\", \"principle\", \"principle\", \"principle\", \"program\", \"program\", \"property\", \"property\", \"property\", \"property\", \"proposition\", \"proposition\", \"public\", \"public\", \"public\", \"public\", \"public\", \"pussy\", \"pussy\", \"put\", \"put\", \"put\", \"put\", \"put\", \"quite\", \"quite\", \"quite\", \"quite\", \"quite\", \"rap\", \"rap\", \"rapper\", \"ratchet\", \"rattner\", \"real\", \"real\", \"real\", \"real\", \"real\", \"replied\", \"replied\", \"replied\", \"republic\", \"retz\", \"rhyme\", \"rhyme\", \"rhyme\", \"riderhood\", \"right\", \"right\", \"right\", \"right\", \"right\", \"righteousness\", \"roderigo\", \"s-so\", \"said\", \"said\", \"said\", \"said\", \"said\", \"sandinistas\", \"sat\", \"sat\", \"sat\", \"sat\", \"say\", \"say\", \"say\", \"say\", \"say\", \"school\", \"school\", \"school\", \"school\", \"search\", \"search\", \"search\", \"search\", \"search\", \"sebastian\", \"see\", \"see\", \"see\", \"see\", \"see\", \"seemed\", \"seemed\", \"seemed\", \"seemed\", \"self-consciousness\", \"selfie\", \"shall\", \"shall\", \"shall\", \"shall\", \"shall\", \"shalt\", \"shangri-la\", \"shit\", \"shit\", \"shot\", \"shot\", \"shot\", \"shot\", \"shot\", \"signification\", \"sin\", \"sin\", \"sin\", \"sin\", \"sin\", \"sir\", \"sir\", \"sir\", \"sir\", \"sir\", \"sister\", \"sister\", \"sister\", \"sister\", \"sister\", \"sofya\", \"solness\", \"someday\", \"someday\", \"someone\", \"someone\", \"someone\", \"someone\", \"someone\", \"son\", \"son\", \"son\", \"son\", \"soul\", \"soul\", \"soul\", \"soul\", \"soul\", \"soviet\", \"spirit\", \"spirit\", \"spirit\", \"spirit\", \"spirit\", \"stack\", \"state\", \"state\", \"state\", \"state\", \"state\", \"swag\", \"system\", \"system\", \"system\", \"system\", \"system\", \"take\", \"take\", \"take\", \"take\", \"take\", \"tame\", \"tame\", \"tame\", \"tame\", \"tell\", \"tell\", \"tell\", \"tell\", \"tell\", \"territory\", \"territory\", \"thee\", \"thee\", \"therefore\", \"therefore\", \"therefore\", \"therefore\", \"thief\", \"thief\", \"thief\", \"thief\", \"thine\", \"thine\", \"thing\", \"thing\", \"thing\", \"thing\", \"thing\", \"thorin\", \"thou\", \"thou\", \"thou\", \"though\", \"though\", \"though\", \"though\", \"though\", \"thought\", \"thought\", \"thought\", \"thought\", \"thought\", \"thy\", \"thy\", \"tiamat\", \"ticking\", \"tigress\", \"time\", \"time\", \"time\", \"time\", \"time\", \"tlo\", \"tokin\", \"tomorrow\", \"tomorrow\", \"tomorrow\", \"tonight\", \"tonight\", \"tonight\", \"tonight\", \"took\", \"took\", \"took\", \"took\", \"took\", \"transplant\", \"try\", \"try\", \"try\", \"try\", \"try\", \"tryna\", \"tryna\", \"two\", \"two\", \"two\", \"two\", \"two\", \"united\", \"united\", \"university\", \"university\", \"university\", \"university\", \"unto\", \"unto\", \"upon\", \"upon\", \"upon\", \"upon\", \"upon\", \"ursula\", \"use\", \"use\", \"use\", \"use\", \"use\", \"wagoner\", \"waiting\", \"waiting\", \"waiting\", \"waiting\", \"waiting\", \"wan\", \"wan\", \"want\", \"want\", \"want\", \"want\", \"want\", \"way\", \"way\", \"way\", \"way\", \"way\", \"well\", \"well\", \"well\", \"well\", \"well\", \"went\", \"went\", \"went\", \"went\", \"went\", \"werkin\", \"wherefor\", \"wiggle\", \"winifred\", \"wit\", \"wit\", \"wit\", \"wit\", \"without\", \"without\", \"without\", \"without\", \"without\", \"woman\", \"woman\", \"woman\", \"woman\", \"woman\", \"woohoo\", \"word\", \"word\", \"word\", \"word\", \"word\", \"world\", \"world\", \"world\", \"world\", \"world\", \"would\", \"would\", \"would\", \"would\", \"would\", \"wrong\", \"wrong\", \"wrong\", \"wrong\", \"wrong\", \"year\", \"year\", \"year\", \"year\", \"year\"]}, \"R\": 30, \"lambda.step\": 0.01, \"plot.opts\": {\"xlab\": \"PC1\", \"ylab\": \"PC2\"}, \"topic.order\": [3, 4, 5, 1, 2]};\n",
       "\n",
       "function LDAvis_load_lib(url, callback){\n",
       "  var s = document.createElement('script');\n",
       "  s.src = url;\n",
       "  s.async = true;\n",
       "  s.onreadystatechange = s.onload = callback;\n",
       "  s.onerror = function(){console.warn(\"failed to load library \" + url);};\n",
       "  document.getElementsByTagName(\"head\")[0].appendChild(s);\n",
       "}\n",
       "\n",
       "if(typeof(LDAvis) !== \"undefined\"){\n",
       "   // already loaded: just create the visualization\n",
       "   !function(LDAvis){\n",
       "       new LDAvis(\"#\" + \"ldavis_el29260621400768842535206226187142\", ldavis_el29260621400768842535206226187142_data);\n",
       "   }(LDAvis);\n",
       "}else if(typeof define === \"function\" && define.amd){\n",
       "   // require.js is available: use it to load d3/LDAvis\n",
       "   require.config({paths: {d3: \"https://d3js.org/d3.v5\"}});\n",
       "   require([\"d3\"], function(d3){\n",
       "      window.d3 = d3;\n",
       "      LDAvis_load_lib(\"https://cdn.jsdelivr.net/gh/bmabey/pyLDAvis@3.4.0/pyLDAvis/js/ldavis.v3.0.0.js\", function(){\n",
       "        new LDAvis(\"#\" + \"ldavis_el29260621400768842535206226187142\", ldavis_el29260621400768842535206226187142_data);\n",
       "      });\n",
       "    });\n",
       "}else{\n",
       "    // require.js not available: dynamically load d3 & LDAvis\n",
       "    LDAvis_load_lib(\"https://d3js.org/d3.v5.js\", function(){\n",
       "         LDAvis_load_lib(\"https://cdn.jsdelivr.net/gh/bmabey/pyLDAvis@3.4.0/pyLDAvis/js/ldavis.v3.0.0.js\", function(){\n",
       "                 new LDAvis(\"#\" + \"ldavis_el29260621400768842535206226187142\", ldavis_el29260621400768842535206226187142_data);\n",
       "            })\n",
       "         });\n",
       "}\n",
       "</script>"
      ],
      "text/plain": [
       "<IPython.core.display.HTML object>"
      ]
     },
     "execution_count": 28,
     "metadata": {},
     "output_type": "execute_result"
    }
   ],
   "source": [
    "#with warnings.catch_warnings():\n",
    "#warnings.simplefilter(\"ignore\")\n",
    "pyLDAvis.enable_notebook()\n",
    "\n",
    "# Convert the corpus to a gensim-specific format\n",
    "gensim_corpus = gensimvis.prepare(lda_model, corpus, dictionary)\n",
    "\n",
    "# Display the visualization\n",
    "pyLDAvis.display(gensim_corpus)"
   ]
  },
  {
   "cell_type": "markdown",
   "metadata": {},
   "source": [
    "### TF-IDF"
   ]
  },
  {
   "cell_type": "code",
   "execution_count": 29,
   "metadata": {},
   "outputs": [
    {
     "name": "stdout",
     "output_type": "stream",
     "text": [
      "Corpus:  3919 \n",
      "\n",
      "Number of features: 40130 \n",
      "\n",
      "Last 10 features:  ['родной' 'свободно' 'так' 'тебя' 'тобою' 'туда' 'улетай' 'ґtill' 'ḳôrî'\n",
      " 'どういたしまして'] \n",
      "\n",
      "Dimensions of the TF-IDF matrix:  (3919, 40130) \n",
      "\n"
     ]
    }
   ],
   "source": [
    "\n",
    "# Initialize TfidfVectorizer\n",
    "vectorizer = TfidfVectorizer()\n",
    "\n",
    "# the corpus is the whole list of lyrics processed\n",
    "corpus = df['lyrics_proc'].values\n",
    "\n",
    "print(\"Corpus: \", len(corpus), \"\\n\")\n",
    "\n",
    "tfidf_matrix = vectorizer.fit_transform(corpus)\n",
    "feature_names = vectorizer.get_feature_names_out()\n",
    "\n",
    "# Convert TF-IDF matrix to a list of lists\n",
    "tfidf_list = tfidf_matrix.toarray().tolist()\n",
    "\n",
    "# Add TF-IDF vector list as a column named 'tf-idf'\n",
    "df['tf-idf'] = tfidf_list\n",
    "\n",
    "print(\"Number of features: %d\" % len(feature_names), \"\\n\")\n",
    "print(\"Last 10 features: \", feature_names[-10:], \"\\n\")\n",
    "print (\"Dimensions of the TF-IDF matrix: \", tfidf_matrix.shape, \"\\n\")"
   ]
  },
  {
   "cell_type": "markdown",
   "metadata": {},
   "source": [
    "### Combine the three features into a single fixed-size vector"
   ]
  },
  {
   "cell_type": "code",
   "execution_count": 30,
   "metadata": {},
   "outputs": [
    {
     "data": {
      "text/html": [
       "<div>\n",
       "<style scoped>\n",
       "    .dataframe tbody tr th:only-of-type {\n",
       "        vertical-align: middle;\n",
       "    }\n",
       "\n",
       "    .dataframe tbody tr th {\n",
       "        vertical-align: top;\n",
       "    }\n",
       "\n",
       "    .dataframe thead th {\n",
       "        text-align: right;\n",
       "    }\n",
       "</style>\n",
       "<table border=\"1\" class=\"dataframe\">\n",
       "  <thead>\n",
       "    <tr style=\"text-align: right;\">\n",
       "      <th></th>\n",
       "      <th>title</th>\n",
       "      <th>tag</th>\n",
       "      <th>artist</th>\n",
       "      <th>year</th>\n",
       "      <th>lyrics</th>\n",
       "      <th>id</th>\n",
       "      <th>lyrics_proc</th>\n",
       "      <th>neg</th>\n",
       "      <th>neu</th>\n",
       "      <th>pos</th>\n",
       "      <th>compound</th>\n",
       "      <th>lda</th>\n",
       "      <th>tf-idf</th>\n",
       "      <th>feature_vector</th>\n",
       "    </tr>\n",
       "  </thead>\n",
       "  <tbody>\n",
       "    <tr>\n",
       "      <th>0</th>\n",
       "      <td>Toothpick</td>\n",
       "      <td>pop</td>\n",
       "      <td>Biting Elbows</td>\n",
       "      <td>2012</td>\n",
       "      <td>Some folks got the patience of the angels\\nNot...</td>\n",
       "      <td>1166787</td>\n",
       "      <td>folk got patience angel heart well yearns veng...</td>\n",
       "      <td>0.191</td>\n",
       "      <td>0.640</td>\n",
       "      <td>0.169</td>\n",
       "      <td>0.0258</td>\n",
       "      <td>[(2, 0.5764605), (3, 0.17442742), (4, 0.248524...</td>\n",
       "      <td>[0.0, 0.0, 0.0, 0.0, 0.0, 0.0, 0.0, 0.0, 0.0, ...</td>\n",
       "      <td>[0.191, 0.64, 0.169, 0.0258, 0.0, 0.0, 0.57646...</td>\n",
       "    </tr>\n",
       "    <tr>\n",
       "      <th>1</th>\n",
       "      <td>6 Feet Under</td>\n",
       "      <td>pop</td>\n",
       "      <td>Ana Johnsson</td>\n",
       "      <td>2004</td>\n",
       "      <td>You just left me 6 feet under ground I'm burni...</td>\n",
       "      <td>803057</td>\n",
       "      <td>left foot ground burning sight light foot buri...</td>\n",
       "      <td>0.145</td>\n",
       "      <td>0.855</td>\n",
       "      <td>0.000</td>\n",
       "      <td>-0.9325</td>\n",
       "      <td>[(0, 0.16766569), (2, 0.8306347)]</td>\n",
       "      <td>[0.0, 0.0, 0.0, 0.0, 0.0, 0.0, 0.0, 0.0, 0.0, ...</td>\n",
       "      <td>[0.145, 0.855, 0.0, -0.9325, 0.167665690183639...</td>\n",
       "    </tr>\n",
       "    <tr>\n",
       "      <th>2</th>\n",
       "      <td>The Poetaster Act 4. Scene 2</td>\n",
       "      <td>misc</td>\n",
       "      <td>Ben Jonson</td>\n",
       "      <td>1601</td>\n",
       "      <td>A Room in Lupus's House.\\n\\nEnter Lupus, HISTR...</td>\n",
       "      <td>674438</td>\n",
       "      <td>room house enter lupus histrio lictors tuc sta...</td>\n",
       "      <td>0.107</td>\n",
       "      <td>0.726</td>\n",
       "      <td>0.167</td>\n",
       "      <td>0.9042</td>\n",
       "      <td>[(0, 0.24471664), (1, 0.4640226), (2, 0.064010...</td>\n",
       "      <td>[0.0, 0.0, 0.0, 0.0, 0.0, 0.0, 0.0, 0.0, 0.0, ...</td>\n",
       "      <td>[0.107, 0.726, 0.167, 0.9042, 0.24471664428710...</td>\n",
       "    </tr>\n",
       "    <tr>\n",
       "      <th>3</th>\n",
       "      <td>Hes Gone</td>\n",
       "      <td>pop</td>\n",
       "      <td>Phil Lesh &amp; Friends</td>\n",
       "      <td>2015</td>\n",
       "      <td>Rat in a drain ditch, caught on a limb, you kn...</td>\n",
       "      <td>961823</td>\n",
       "      <td>rat drain ditch caught limb know better know l...</td>\n",
       "      <td>0.074</td>\n",
       "      <td>0.727</td>\n",
       "      <td>0.198</td>\n",
       "      <td>0.9393</td>\n",
       "      <td>[(2, 0.78893787), (3, 0.20987621)]</td>\n",
       "      <td>[0.0, 0.0, 0.0, 0.0, 0.0, 0.0, 0.0, 0.0, 0.0, ...</td>\n",
       "      <td>[0.074, 0.727, 0.198, 0.9393, 0.0, 0.0, 0.7889...</td>\n",
       "    </tr>\n",
       "    <tr>\n",
       "      <th>4</th>\n",
       "      <td>Ill Never Say</td>\n",
       "      <td>pop</td>\n",
       "      <td>Helen Ward</td>\n",
       "      <td>2015</td>\n",
       "      <td>I'll never say \"never again\" again\\nCause here...</td>\n",
       "      <td>1163619</td>\n",
       "      <td>never say never cause love head heel love neve...</td>\n",
       "      <td>0.421</td>\n",
       "      <td>0.485</td>\n",
       "      <td>0.093</td>\n",
       "      <td>-0.9558</td>\n",
       "      <td>[(2, 0.9537869), (4, 0.0406149)]</td>\n",
       "      <td>[0.0, 0.0, 0.0, 0.0, 0.0, 0.0, 0.0, 0.0, 0.0, ...</td>\n",
       "      <td>[0.421, 0.485, 0.093, -0.9558, 0.0, 0.0, 0.953...</td>\n",
       "    </tr>\n",
       "  </tbody>\n",
       "</table>\n",
       "</div>"
      ],
      "text/plain": [
       "                          title   tag               artist  year  \\\n",
       "0                     Toothpick   pop        Biting Elbows  2012   \n",
       "1                  6 Feet Under   pop         Ana Johnsson  2004   \n",
       "2  The Poetaster Act 4. Scene 2  misc           Ben Jonson  1601   \n",
       "3                      Hes Gone   pop  Phil Lesh & Friends  2015   \n",
       "4                 Ill Never Say   pop           Helen Ward  2015   \n",
       "\n",
       "                                              lyrics       id  \\\n",
       "0  Some folks got the patience of the angels\\nNot...  1166787   \n",
       "1  You just left me 6 feet under ground I'm burni...   803057   \n",
       "2  A Room in Lupus's House.\\n\\nEnter Lupus, HISTR...   674438   \n",
       "3  Rat in a drain ditch, caught on a limb, you kn...   961823   \n",
       "4  I'll never say \"never again\" again\\nCause here...  1163619   \n",
       "\n",
       "                                         lyrics_proc    neg    neu    pos  \\\n",
       "0  folk got patience angel heart well yearns veng...  0.191  0.640  0.169   \n",
       "1  left foot ground burning sight light foot buri...  0.145  0.855  0.000   \n",
       "2  room house enter lupus histrio lictors tuc sta...  0.107  0.726  0.167   \n",
       "3  rat drain ditch caught limb know better know l...  0.074  0.727  0.198   \n",
       "4  never say never cause love head heel love neve...  0.421  0.485  0.093   \n",
       "\n",
       "   compound                                                lda  \\\n",
       "0    0.0258  [(2, 0.5764605), (3, 0.17442742), (4, 0.248524...   \n",
       "1   -0.9325                  [(0, 0.16766569), (2, 0.8306347)]   \n",
       "2    0.9042  [(0, 0.24471664), (1, 0.4640226), (2, 0.064010...   \n",
       "3    0.9393                 [(2, 0.78893787), (3, 0.20987621)]   \n",
       "4   -0.9558                   [(2, 0.9537869), (4, 0.0406149)]   \n",
       "\n",
       "                                              tf-idf  \\\n",
       "0  [0.0, 0.0, 0.0, 0.0, 0.0, 0.0, 0.0, 0.0, 0.0, ...   \n",
       "1  [0.0, 0.0, 0.0, 0.0, 0.0, 0.0, 0.0, 0.0, 0.0, ...   \n",
       "2  [0.0, 0.0, 0.0, 0.0, 0.0, 0.0, 0.0, 0.0, 0.0, ...   \n",
       "3  [0.0, 0.0, 0.0, 0.0, 0.0, 0.0, 0.0, 0.0, 0.0, ...   \n",
       "4  [0.0, 0.0, 0.0, 0.0, 0.0, 0.0, 0.0, 0.0, 0.0, ...   \n",
       "\n",
       "                                      feature_vector  \n",
       "0  [0.191, 0.64, 0.169, 0.0258, 0.0, 0.0, 0.57646...  \n",
       "1  [0.145, 0.855, 0.0, -0.9325, 0.167665690183639...  \n",
       "2  [0.107, 0.726, 0.167, 0.9042, 0.24471664428710...  \n",
       "3  [0.074, 0.727, 0.198, 0.9393, 0.0, 0.0, 0.7889...  \n",
       "4  [0.421, 0.485, 0.093, -0.9558, 0.0, 0.0, 0.953...  "
      ]
     },
     "execution_count": 30,
     "metadata": {},
     "output_type": "execute_result"
    }
   ],
   "source": [
    "# Convert LDA topic distributions to a fixed-size vector\n",
    "def lda_to_vec(lda_dist, num_topics):\n",
    "    vec = np.zeros(num_topics)\n",
    "    for topic, prob in lda_dist:\n",
    "        vec[topic] = prob\n",
    "    return vec\n",
    "\n",
    "# Combine features\n",
    "features = []\n",
    "for i in range(len(df)):\n",
    "    sentiment_scores = df[['neg', 'neu', 'pos', 'compound']].iloc[i].values\n",
    "    lda_vector = lda_to_vec(df['lda'].iloc[i], num_topics)\n",
    "    tfidf_vector = tfidf_matrix[i].toarray()[0]\n",
    "    \n",
    "    combined_vector = np.concatenate([sentiment_scores, lda_vector, tfidf_vector])\n",
    "    features.append(combined_vector.tolist())\n",
    "\n",
    "# Convert to numpy array\n",
    "df['feature_vector'] = features\n",
    "df.head()"
   ]
  },
  {
   "cell_type": "markdown",
   "metadata": {},
   "source": [
    "### Here we directly apply cosine similarity and retrieve the most similar songs"
   ]
  },
  {
   "cell_type": "code",
   "execution_count": 31,
   "metadata": {},
   "outputs": [
    {
     "data": {
      "text/html": [
       "<div>\n",
       "<style scoped>\n",
       "    .dataframe tbody tr th:only-of-type {\n",
       "        vertical-align: middle;\n",
       "    }\n",
       "\n",
       "    .dataframe tbody tr th {\n",
       "        vertical-align: top;\n",
       "    }\n",
       "\n",
       "    .dataframe thead th {\n",
       "        text-align: right;\n",
       "    }\n",
       "</style>\n",
       "<table border=\"1\" class=\"dataframe\">\n",
       "  <thead>\n",
       "    <tr style=\"text-align: right;\">\n",
       "      <th></th>\n",
       "      <th>id</th>\n",
       "      <th>similarity</th>\n",
       "    </tr>\n",
       "  </thead>\n",
       "  <tbody>\n",
       "    <tr>\n",
       "      <th>0</th>\n",
       "      <td>1166787</td>\n",
       "      <td>1.000000</td>\n",
       "    </tr>\n",
       "    <tr>\n",
       "      <th>1</th>\n",
       "      <td>1189435</td>\n",
       "      <td>0.562219</td>\n",
       "    </tr>\n",
       "    <tr>\n",
       "      <th>2</th>\n",
       "      <td>1129566</td>\n",
       "      <td>0.546935</td>\n",
       "    </tr>\n",
       "    <tr>\n",
       "      <th>3</th>\n",
       "      <td>194699</td>\n",
       "      <td>0.545490</td>\n",
       "    </tr>\n",
       "    <tr>\n",
       "      <th>4</th>\n",
       "      <td>114671</td>\n",
       "      <td>0.545239</td>\n",
       "    </tr>\n",
       "    <tr>\n",
       "      <th>5</th>\n",
       "      <td>621753</td>\n",
       "      <td>0.543224</td>\n",
       "    </tr>\n",
       "    <tr>\n",
       "      <th>6</th>\n",
       "      <td>961078</td>\n",
       "      <td>0.542304</td>\n",
       "    </tr>\n",
       "    <tr>\n",
       "      <th>7</th>\n",
       "      <td>1247365</td>\n",
       "      <td>0.533244</td>\n",
       "    </tr>\n",
       "    <tr>\n",
       "      <th>8</th>\n",
       "      <td>1220153</td>\n",
       "      <td>0.531490</td>\n",
       "    </tr>\n",
       "    <tr>\n",
       "      <th>9</th>\n",
       "      <td>666583</td>\n",
       "      <td>0.530525</td>\n",
       "    </tr>\n",
       "    <tr>\n",
       "      <th>10</th>\n",
       "      <td>1118613</td>\n",
       "      <td>0.529587</td>\n",
       "    </tr>\n",
       "  </tbody>\n",
       "</table>\n",
       "</div>"
      ],
      "text/plain": [
       "         id  similarity\n",
       "0   1166787    1.000000\n",
       "1   1189435    0.562219\n",
       "2   1129566    0.546935\n",
       "3    194699    0.545490\n",
       "4    114671    0.545239\n",
       "5    621753    0.543224\n",
       "6    961078    0.542304\n",
       "7   1247365    0.533244\n",
       "8   1220153    0.531490\n",
       "9    666583    0.530525\n",
       "10  1118613    0.529587"
      ]
     },
     "execution_count": 31,
     "metadata": {},
     "output_type": "execute_result"
    }
   ],
   "source": [
    "def top_n_similar_embeddings(df, target_index, n=10):\n",
    "    \n",
    "    # Extract the target embedding and its cluster\n",
    "    target_embedding = df.at[target_index, 'feature_vector']\n",
    "    \n",
    "    # Get all the embeddings    \n",
    "    all_embeddings = np.stack(df['feature_vector'].values)\n",
    "\n",
    "    # Calculate cosine similarities\n",
    "    similarities = cosine_similarity([target_embedding], all_embeddings)[0]\n",
    "\n",
    "    # Get the top n similar embeddings\n",
    "    top_n_indices = np.argsort(similarities)[-n-1:][::-1]\n",
    "    top_n_similar_ids = df.iloc[top_n_indices]['id'].values\n",
    "    top_n_similarities = similarities[top_n_indices]\n",
    "\n",
    "    return pd.DataFrame({\n",
    "        'id': top_n_similar_ids, \n",
    "        'similarity': top_n_similarities\n",
    "    })\n",
    "\n",
    "# Show top 10 similar song to the first song (the first row is the song itself)\n",
    "top_n_similar_embeddings(df,target_index=0,n=10)"
   ]
  },
  {
   "cell_type": "code",
   "execution_count": 32,
   "metadata": {},
   "outputs": [
    {
     "ename": "",
     "evalue": "",
     "output_type": "error",
     "traceback": [
      "\u001b[1;31mThe Kernel crashed while executing code in the current cell or a previous cell. \n",
      "\u001b[1;31mPlease review the code in the cell(s) to identify a possible cause of the failure. \n",
      "\u001b[1;31mClick <a href='https://aka.ms/vscodeJupyterKernelCrash'>here</a> for more info. \n",
      "\u001b[1;31mView Jupyter <a href='command:jupyter.viewOutput'>log</a> for further details."
     ]
    }
   ],
   "source": [
    "# Save this dataframe with the USE embeddings\n",
    "directory = \"./data/simple_features\"\n",
    "file_path = \"./data/simple_features/song_lyrics_simple_features.csv\"\n",
    "features_path = \"./data/simple_features/simple_features.npy\"\n",
    "\n",
    "# Create the directory if it doesn't exist\n",
    "if not os.path.exists(directory):\n",
    "    os.makedirs(directory)\n",
    "\n",
    "df.to_csv(file_path, header='true', index=False)\n",
    "# Save the features as a NumPy file\n",
    "feature_vector = df['feature_vector'].values\n",
    "np.save(features_path, feature_vector)"
   ]
  }
 ],
 "metadata": {
  "kernelspec": {
   "display_name": "Python 3",
   "language": "python",
   "name": "python3"
  },
  "language_info": {
   "codemirror_mode": {
    "name": "ipython",
    "version": 3
   },
   "file_extension": ".py",
   "mimetype": "text/x-python",
   "name": "python",
   "nbconvert_exporter": "python",
   "pygments_lexer": "ipython3",
   "version": "3.12.3"
  }
 },
 "nbformat": 4,
 "nbformat_minor": 2
}
